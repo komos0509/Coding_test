{
 "cells": [
  {
   "cell_type": "code",
   "execution_count": 9,
   "id": "f2fbda92",
   "metadata": {},
   "outputs": [
    {
     "name": "stdout",
     "output_type": "stream",
     "text": [
      "[('A', 'B', 'C'), ('A', 'C', 'B'), ('B', 'A', 'C'), ('B', 'C', 'A'), ('C', 'A', 'B'), ('C', 'B', 'A')]\n"
     ]
    }
   ],
   "source": [
    "# 순열\n",
    "from itertools import permutations\n",
    "\n",
    "data = ['A', 'B', 'C']\n",
    "print(list(permutations(data, 3)))"
   ]
  },
  {
   "cell_type": "code",
   "execution_count": 4,
   "id": "60f38f31",
   "metadata": {},
   "outputs": [
    {
     "name": "stdout",
     "output_type": "stream",
     "text": [
      "[('A', 'B'), ('A', 'C'), ('B', 'C')]\n"
     ]
    }
   ],
   "source": [
    "# 조합\n",
    "from itertools import combinations\n",
    "\n",
    "data = ['A', 'B', 'C']\n",
    "print(list(combinations(data, 2)))"
   ]
  },
  {
   "cell_type": "code",
   "execution_count": 7,
   "id": "dc72880e",
   "metadata": {},
   "outputs": [
    {
     "name": "stdout",
     "output_type": "stream",
     "text": [
      "[('A', 'A'), ('A', 'B'), ('A', 'C'), ('B', 'A'), ('B', 'B'), ('B', 'C'), ('C', 'A'), ('C', 'B'), ('C', 'C')]\n"
     ]
    }
   ],
   "source": [
    "# 중복 순열\n",
    "from itertools import product\n",
    "\n",
    "data = ['A', 'B', 'C']\n",
    "print(list(product(data, repeat = 2))) # 2개를 뽑는 모든 순열 구하기 (중복 포함)"
   ]
  },
  {
   "cell_type": "code",
   "execution_count": 9,
   "id": "7827d546",
   "metadata": {},
   "outputs": [
    {
     "name": "stdout",
     "output_type": "stream",
     "text": [
      "[('A', 'A'), ('A', 'B'), ('A', 'C'), ('B', 'B'), ('B', 'C'), ('C', 'C')]\n"
     ]
    }
   ],
   "source": [
    "# 중복 조합\n",
    "from itertools import combinations_with_replacement\n",
    "\n",
    "data = ['A', 'B', 'C']\n",
    "print(list(combinations_with_replacement(data, 2))) # 2개를 뽑는 모든 조합 구하기 (중복 포함)"
   ]
  },
  {
   "cell_type": "code",
   "execution_count": 11,
   "id": "9003997d",
   "metadata": {},
   "outputs": [
    {
     "name": "stdout",
     "output_type": "stream",
     "text": [
      "3\n",
      "2\n",
      "{'red': 2, 'blue': 3, 'green': 1}\n"
     ]
    }
   ],
   "source": [
    "# 카운트 \n",
    "from collections import Counter\n",
    "\n",
    "counter = Counter(['red', 'blue', 'red', 'green', 'blue', 'blue'])\n",
    "\n",
    "print(counter['blue'])\n",
    "print(counter['red'])\n",
    "print(dict(counter))"
   ]
  },
  {
   "cell_type": "code",
   "execution_count": null,
   "id": "4f7fdff8",
   "metadata": {},
   "outputs": [],
   "source": [
    "# 최대공약수\n",
    "import math\n",
    "\n",
    "def lcm(a, b):\n",
    "    result = a * b // math.gcd(a, b)\n",
    "    return result\n",
    "\n",
    "print(lcm())"
   ]
  },
  {
   "cell_type": "markdown",
   "id": "bc63a55d",
   "metadata": {},
   "source": [
    "## 그리디 알고리즘\n",
    "\n",
    "### 문제 1 \n",
    "당신은 음식점의 계산을 도와주는 점원입니다. 카운터에는 거스름돈으로 사용할 500원, 100원, 50원, 10원짜리 동전이 무한히 존재한다고 가정합니다. 손님에게 거슬러 주어야 할 돈이 N원일 때 거슬러 주어야 할 동전의 최소 개수를 구하세요. 단, 거슬러 줘야 할 돈 N은 항상 10의 배수입니다.\n",
    "\n",
    "* 아이디어 : 가지고 있는 동전 중에서 큰 단위가 항상 작은 단위의 배수이면, 가장 큰 단위부터 차례대로 준다. (500은 100, 50, 10의 배수이다.)\n",
    "\n",
    "* 시간 복잡도 : 화폐의 종류가 K라고 할 때, 시간 복잡도는 O(K)입니다."
   ]
  },
  {
   "cell_type": "code",
   "execution_count": 3,
   "id": "b063e57a",
   "metadata": {},
   "outputs": [
    {
     "name": "stdout",
     "output_type": "stream",
     "text": [
      "6\n"
     ]
    }
   ],
   "source": [
    "n = 1260\n",
    "count = 0\n",
    "\n",
    "array = [500, 100, 50, 10]\n",
    "\n",
    "for coin in array: # O(4)\n",
    "    count += n // coin\n",
    "    n %= coin\n",
    "\n",
    "print(count)"
   ]
  },
  {
   "cell_type": "markdown",
   "id": "11406946",
   "metadata": {},
   "source": [
    "### 문제 2\n",
    "\n",
    "- 어떠한 수 **N이 1이 될 때까지** 다음의 두 과정 중 하나를 반복적으로 선택하여 수행하려고 합니다. 단, 두번째 연산은 N이 K로 나누어 떨어질 때만 선택할 수 있습니다.\n",
    "    - 1. N에서 1을 뺍니다.\n",
    "    - 2. N을 K로 나눕니다.\n",
    "\n",
    "- 예를 들어 N이 17, K가 4라고 가정합시다. 이때 1번의 과정을 한 번 수행하면 N은 16이 됩니다. 이후에 2번의 과정을 두 번 수행하면 N은 1이 됩니다. 결과적으로 이 경우 전체 과정을 실행한 횟수는 3이 됩니다. 이는 N을 1로 만드는 최소 횟수입니다.\n",
    "\n",
    "- N과 K가 주어질 때 N이 1이 될 때까지 1번 혹은 2번의 **과정을 수행해야 하는 최소 횟수**를 구하는 프로그램을 작성하세요\n",
    "\n",
    "* 아이디어 : 주어진 N에 대하여 **최대한 많이 나누기**를 수행하면 됩니다."
   ]
  },
  {
   "cell_type": "code",
   "execution_count": 32,
   "id": "57369c2c",
   "metadata": {},
   "outputs": [
    {
     "name": "stdout",
     "output_type": "stream",
     "text": [
      "1000000000 3\n",
      "31\n",
      "time :  3.977053642272949\n"
     ]
    }
   ],
   "source": [
    "# 내가 한 코드\n",
    "\n",
    "import time\n",
    "\n",
    "start = time.time()\n",
    "\n",
    "a, b = map(int, input().split())\n",
    "\n",
    "count = 0\n",
    "while a != 1:\n",
    "    if a % b == 0:\n",
    "        count += 1\n",
    "        a /= b\n",
    "    else:\n",
    "        count += 1\n",
    "        a -= 1\n",
    "print(count)\n",
    "\n",
    "print('time : ', time.time() - start)\n",
    "\n"
   ]
  },
  {
   "cell_type": "code",
   "execution_count": 33,
   "id": "ff76e87f",
   "metadata": {},
   "outputs": [
    {
     "name": "stdout",
     "output_type": "stream",
     "text": [
      "1000000000 3\n",
      "31\n",
      "time :  2.5034573078155518\n"
     ]
    }
   ],
   "source": [
    "# 다른 예시 \n",
    "import time\n",
    "start = time.time()\n",
    "\n",
    "n, k = map(int, input().split())\n",
    "\n",
    "result = 0\n",
    "while True:\n",
    "    # N이 K로 나누어 떨어지는 수가 될 때까지 빼기\n",
    "    target = (n // k) * k\n",
    "    result += (n - target)\n",
    "    n = target\n",
    "    # N이 K보다 작을 때 (더 이상 나눌 수 없을 때) 반복문 탈출\n",
    "    if n < k:\n",
    "        break\n",
    "    # K로 나누기\n",
    "    result += 1\n",
    "    n //= k\n",
    "\n",
    "# 마지막으로 남은 수에 대하여 1씩 빼기\n",
    "result += (n - 1)\n",
    "print(result)\n",
    "\n",
    "print('time : ', time.time() - start)"
   ]
  },
  {
   "cell_type": "markdown",
   "id": "ac28a4fb",
   "metadata": {},
   "source": [
    "### 문제 3\n",
    "\n",
    "* 각 자리가 숫자(0부터 9)로만 이루어진 문자열 S가 주어졌을 때, 왼쪽부터 오른쪽으로 하나씩 모든 숫자를 확인하며 숫자 사이에 'x' 혹은 '+' 연산자를 넣어 결과적으로 **만들어질 수 있는 가장 큰 수를 구하는 프로그램**을 작성하세요. 단, +보다 x를 먼저 계산하는 일반적인 방식과는 달리, **모든 연산은 왼쪽부터 순서대로** 이루어진다고 가정합니다.\n",
    "\n",
    "* 예를 들어 02984라는 문자열로 만들 수 있는 가장 큰 수는 ((((0 + 2) x 9) x 8) x 4) = 576입니다. 또한 만들어질 수 있는 가장 큰 수는 항상 20억 이하의 정수가 되도록 입력이 주어집니다.\n",
    "\n",
    "\n",
    "* 아이디어 : 수가 0 또는 1일 경우는 + 연산을, 그 외에는 x 연산을 적용하자!"
   ]
  },
  {
   "cell_type": "code",
   "execution_count": 2,
   "id": "4812752d",
   "metadata": {},
   "outputs": [
    {
     "name": "stdout",
     "output_type": "stream",
     "text": [
      "02984\n",
      "576\n",
      "time :  3.5932295322418213\n"
     ]
    }
   ],
   "source": [
    "import time\n",
    "start = time.time()\n",
    "\n",
    "data = input()\n",
    "\n",
    "result = int(data[0])\n",
    "\n",
    "for i in range(1, len(data)):\n",
    "    num = int(data[i])\n",
    "    if result <= 1 or num <= 1: # 수가 1이하일 경우 +연산을 적용\n",
    "        result += num\n",
    "    else:\n",
    "        result *= num\n",
    "\n",
    "print(result)\n",
    "print('time : ', time.time() - start)"
   ]
  },
  {
   "cell_type": "markdown",
   "id": "80a25434",
   "metadata": {},
   "source": [
    "### 문제 4\n",
    "\n",
    "* 한 마을에 모험가가 N명 있습니다. 모험가 길드에서는 N명의 모험가를 대상으로 '공포도'를 측정했는데, '공포도'가 높은 모험가는 쉽게 공포를 느껴 위험 상황에서 제대로 대처할 능력이 떨어집니다.\n",
    "\n",
    "* 모험가 길드장인 동빈이는 모험가 그룹을 안전하게 구성하고자 `공포도가 X인 모험가는 반드시 X명 이상으로 구성한 모험가 그룹에 참가`해야 여행을 떠날 수 있도록 규정했습니다.\n",
    "\n",
    "* 동빈이는 최대 몇 개의 모험가 그룹을 만들 수 있는지 궁금합니다. N명의 모험가에 대한 정보가 주어졌을 때, **여행을 떠날 수 있는 그룹 수의 최댓값**을 구하는 프로그램을 작성하세요.\n",
    "\n",
    "* 예를 들어 N = 5이고, 각 모험가의 공포도가 다음과 같다고 가정합시다.  \n",
    "\n",
    "     - `2 3 1 2 2`\n",
    "\n",
    "* 이 경우 그룹 1에 공포도가 1, 2, 3인 모험가를 한 명씩 넣고, 그룹 2에 공포도가 2인 남은 두 명을 넣게 되면 총 2개의 그룹을 만들 수 있습니다.\n",
    "\n",
    "* 또한 몇 명의 모험가는 마을에 그대로 남아 있어도 되기 때문에, 모든 모험가를 특정한 그룹에 넣을 필요는 없습니다.\n",
    "\n",
    "\n",
    "* 아이디어 : 최대의 그룹을 만들어야 하기 때문에 공포도를 오름차순으로 합니다. "
   ]
  },
  {
   "cell_type": "code",
   "execution_count": 9,
   "id": "3c548c98",
   "metadata": {},
   "outputs": [
    {
     "name": "stdout",
     "output_type": "stream",
     "text": [
      "5\n",
      "2 3 1 2 2\n",
      "2\n"
     ]
    }
   ],
   "source": [
    "n = int(input())\n",
    "data = list(map(int, input().split()))\n",
    "data.sort()\n",
    "\n",
    "result = 0 # 총 그룹의 수\n",
    "count = 0 # 현재 그룹에 포함된 모험가의 수\n",
    "\n",
    "for i in data:\n",
    "    count += 1\n",
    "    if count >= i: # 그룹에 포함된 모험가의 수가 공포도 이상이라면 그룹 결성\n",
    "        result += 1\n",
    "        count = 0\n",
    "\n",
    "print(result)"
   ]
  },
  {
   "cell_type": "markdown",
   "id": "837d1d36",
   "metadata": {},
   "source": [
    "## 구현, 완전탐색 알고리즘\n",
    "\n",
    "구현이란, **머릿속에 있는 알고리즘을 소스코드로 바꾸는 과정**입니다.  \n",
    "흔히 알고리즘 대회에서 **풀이를 떠올리는 것은 쉽지만 소스코드로 옮기기 어려운 문제**를 지칭합니다.\n",
    "\n",
    "구현 유형의 예시는 다음과 같습니다.\n",
    "\n",
    "* 알고리즘은 간단한데 코드가 지나칠 만큼 길어지는 문제\n",
    "* 실수 연산을 다루고, 특정 소수점 자리까지 출력해야 하는 문제\n",
    "* 문자열을 특정한 기준에 따라서 끊어 처리해야 하는 문제\n",
    "* 적절한 라이브러리를 찾아서 사용해야 하는 문제\n",
    "\n",
    "일반적으로 알고리즘 문제에서의 2차원 공간은 **행렬**의 의미로 사용됩니다.\n",
    "\n",
    "시뮬레이션 및 완전 탐색 문제에서는 2차원 공간에서의 **방향 벡터**가 자주 활용됩니다."
   ]
  },
  {
   "cell_type": "code",
   "execution_count": 11,
   "id": "f86ef637",
   "metadata": {},
   "outputs": [
    {
     "name": "stdout",
     "output_type": "stream",
     "text": [
      "2 3\n",
      "1 2\n",
      "2 1\n",
      "3 2\n"
     ]
    }
   ],
   "source": [
    "# 동, 북, 서, 남\n",
    "dx = [0, -1, 0, 1]\n",
    "dy = [1, 0, -1, 0]\n",
    "\n",
    "# 현재 위치\n",
    "x, y = 2, 2\n",
    "\n",
    "for i in range(4): # 상하좌우 1칸씩 다음 위치\n",
    "    nx = x + dx[i]\n",
    "    ny = y + dy[i]\n",
    "    print(nx, ny)"
   ]
  },
  {
   "cell_type": "markdown",
   "id": "8b8ea27f",
   "metadata": {},
   "source": [
    "### 문제 1\n",
    "\n",
    "여행가 A는 **N x N**크기의 정사각형 공간 위에 서 있습니다. 이 공간은 1 x 1 크기의 정사각형으로 나누어져 있습니다. 가장 왼쪽 위 좌표는 (1, 1)이며, 가장 오른쪽 아래 좌표는 (N, N)에 해당합니다. 여행가 A는 **상, 하, 좌, 우 방향으로 이동**할 수 있으며, 시작 좌표는 항상 **(1, 1)**입니다. 우리 앞에는 여행가 A가 이동할 계획이 적힌 계획서가 놓여 있습니다. \n",
    "\n",
    "계획서에는 하나의 줄에 띄어쓰기를 기준으로 하여 L, R, U, D 중 하나의 문자가 반복적으로 적혀 있습니다. 각 문자의 의미는 다음과 같습니다.\n",
    "\n",
    "* L : 왼쪽으로 한 칸 이동\n",
    "* R : 오른쪽으로 한 칸 이동\n",
    "* U : 위로 한 칸 이동\n",
    "* D : 아래로 한 칸 이동\n",
    "\n",
    "이때 여행가 A가 N x N 크기의 정사각형 공간을 벗어나는 움직임은 무시됩니다. 예를 들어 (1, 1)의 위치에서 L혹은 U를 만나면 무시합니다.\n",
    "\n",
    "입력으로 여행 계획서가 주어지면, 도착 지점의 좌표를 출력하는 프로그램을 만드세요."
   ]
  },
  {
   "cell_type": "code",
   "execution_count": 18,
   "id": "cdf6e227",
   "metadata": {},
   "outputs": [
    {
     "name": "stdout",
     "output_type": "stream",
     "text": [
      "5\n",
      "R R R U D D\n",
      "3 4\n"
     ]
    }
   ],
   "source": [
    "n = int(input())\n",
    "move_data = input().split()\n",
    "\n",
    "x, y = 1, 1\n",
    "\n",
    "# L, R, U, D에 따른 이동 방향\n",
    "dx = [0, 1, 0, -1]\n",
    "dy = [1, 0, -1, 0]\n",
    "move_type = ['R', 'D', 'L', 'U']\n",
    "\n",
    "# 이동 계획을 하나씩 확인하기\n",
    "for move in move_data:\n",
    "    # 이동 후 좌표 구하기\n",
    "    for i in range(len(move_type)):\n",
    "        if move == move_type[i]:\n",
    "            nx = x + dx[i]\n",
    "            ny = y + dy[i]\n",
    "        # 공간을 벗어나는 경우 무시\n",
    "        if nx < 1 or nx > n or ny < 1 or ny > n:\n",
    "            continue\n",
    "        \n",
    "        # 이동 수행\n",
    "        x, y = nx, ny\n",
    "\n",
    "print(x, y)"
   ]
  },
  {
   "cell_type": "markdown",
   "id": "63b8544e",
   "metadata": {},
   "source": [
    "### 문제 2\n",
    "\n",
    "정수 N이 입력되면 00시 00분 00초부터 N시 59분 59초까지의 **모든 시각 중에서 3이 하나라도 포함되는 모든 경우의 수를 구하는 프로그램을 작성**하세요. 예를 들어 1을 입력했을 때 다음은 3이 하나라도 포함되어 있으므로 세어야 하는 시각입니다.\n",
    "\n",
    "* 00시 00분 03초\n",
    "* 00시 13분 30초\n",
    "\n",
    "반면에 다음은 3이 하나도 포함되어 있지 않으므로 세면 안 되는 시각입니다.\n",
    "\n",
    "* 00시 02분 55초\n",
    "* 01시 27분 45초"
   ]
  },
  {
   "cell_type": "code",
   "execution_count": 27,
   "id": "e83777b8",
   "metadata": {},
   "outputs": [
    {
     "name": "stdout",
     "output_type": "stream",
     "text": [
      "5\n",
      "11475\n"
     ]
    }
   ],
   "source": [
    "n = int(input())\n",
    "\n",
    "count = 0\n",
    "for i in range(n + 1):\n",
    "    for j in range(60):\n",
    "        for k in range(60):\n",
    "            # 매 시각 안에 '3'이 포함되어 있다면 카운트 증가\n",
    "            if '3' in str(i) + str(j) + str(k):\n",
    "                count += 1\n",
    "print(count)"
   ]
  },
  {
   "cell_type": "markdown",
   "id": "c97cbbfa",
   "metadata": {},
   "source": [
    "### 문제 3\n",
    "\n",
    "행복 왕국의 왕실 정원은 체스판과 같은 **8 x 8 좌표 평면**입니다. 왕실 정원의 특정한 한 칸에 나이트가 서있습니다. 나이트는 매우 충성스러운 신하로서 매일 무술을 연마합니다. \n",
    "\n",
    "나이트는 말을 타고 있기 때문에 이동을 할 때는 L자 형태로만 이동할 수 있으며 정원 밖으로는 나갈 수 없습니다.\n",
    "\n",
    "나이트는 특정 위치에서 다음과 같은 2가지 경우로 이동할 수 있습니다.\n",
    "\n",
    "* 수평으로 두 칸 이동한 뒤에 수직으로 한 칸 이동하기\n",
    "* 수직으로 두 칸 이동한 뒤에 수평으로 한 칸 이동하기\n",
    "\n",
    "나이트의 위치가 주어졌을 때 나이트가 이동할 수 있는 경우의 수를 출력하는 프로그램을 작성하세요. 왕실의 정원에서 행 위치를 표현할 때는 1부터 8로 표현하며, 열 위치를 표현할 때는 a부터 h로 표현합니다."
   ]
  },
  {
   "cell_type": "code",
   "execution_count": 31,
   "id": "97c7e5e1",
   "metadata": {},
   "outputs": [
    {
     "name": "stdout",
     "output_type": "stream",
     "text": [
      "a1\n",
      "2\n"
     ]
    }
   ],
   "source": [
    "# 현재 나이트의 위치 입력받기\n",
    "start_idx = input() \n",
    "row = int(start_idx[1])\n",
    "column = int(ord(start_idx[0])) - int(ord('a')) + 1\n",
    "\n",
    "# 나이트가 이동할 수 있는 8가지 방향 정의\n",
    "steps = [(-2, -1), (-1, -2), (1, -2), (-1, 2), (2, 1), (2, -1), (-2, 1), (1, 2)]\n",
    "\n",
    "result = 0\n",
    "for step in steps:\n",
    "    # 이동하고자 하는 위치 확인\n",
    "    next_row = row + step[0]\n",
    "    next_column = column + step[1]\n",
    "    # 해당 위치로 이동이 가능하다면 카운트 증가\n",
    "    if next_row >= 1 and next_row <= 8 and next_column >= 1 and next_column <= 8:\n",
    "        result += 1\n",
    "        \n",
    "print(result)"
   ]
  },
  {
   "cell_type": "markdown",
   "id": "6a128dbe",
   "metadata": {},
   "source": [
    "### 문제 4\n",
    "\n",
    "알파벳 대문자와 숫자(0 ~ 9)로만 구성된 문자열이 입력으로 주어집니다. 이때 모든 알파벳을 오름차순으로 정렬하여 이어서 출력한 뒤에, 그 뒤에 모든 숫자를 더한 값을 이어서 출력합니다.\n",
    "\n",
    "예를 들어 K1KA5CB7이라는 값이 들어오면 ABCKK13을 출력합니다."
   ]
  },
  {
   "cell_type": "code",
   "execution_count": 36,
   "id": "efccc0f0",
   "metadata": {},
   "outputs": [
    {
     "name": "stdout",
     "output_type": "stream",
     "text": [
      "K1KA5CB7\n",
      "ABCKK13\n"
     ]
    }
   ],
   "source": [
    "# 내 풀이\n",
    "data = input()\n",
    "\n",
    "string = []\n",
    "number = 0\n",
    "\n",
    "# 문자를 하나씩 확인하며\n",
    "for i in data:\n",
    "    # 문자가 알파벳이면 리스트에 삽입\n",
    "    if i.isalpha():\n",
    "        string.append(i)\n",
    "    else:\n",
    "        # 문자가 숫자면 따로 더하기\n",
    "        number += int(i)\n",
    "\n",
    "# 알파벳을 오름차순으로 정렬\n",
    "string.sort()\n",
    "\n",
    "# 알파벳을 문자열로 합치기\n",
    "full_string = string[0]\n",
    "for j in range(1, len(string)):\n",
    "    full_string += string[j]\n",
    "\n",
    "print(full_string + str(number))"
   ]
  },
  {
   "cell_type": "code",
   "execution_count": 38,
   "id": "b3763aea",
   "metadata": {},
   "outputs": [
    {
     "name": "stdout",
     "output_type": "stream",
     "text": [
      "K1KA5CB7\n",
      "ABCKK13\n"
     ]
    }
   ],
   "source": [
    "# 다른 예시\n",
    "data = input()\n",
    "\n",
    "string = []\n",
    "number = 0\n",
    "\n",
    "for i in data:\n",
    "    if i.isalpha():\n",
    "        string.append(i)\n",
    "    else:\n",
    "        number += int(i)\n",
    "\n",
    "string.sort()\n",
    "\n",
    "# 숫자가 하나라도 존재하는 경우 가장 뒤에 삽입\n",
    "if number != 0:\n",
    "    string.append(str(number))\n",
    "\n",
    "# 최종 결과 출력\n",
    "print(''.join(string))"
   ]
  },
  {
   "cell_type": "code",
   "execution_count": 15,
   "id": "b002d931",
   "metadata": {},
   "outputs": [
    {
     "name": "stdout",
     "output_type": "stream",
     "text": [
      "120\n",
      "210\n"
     ]
    }
   ],
   "source": [
    "from itertools import permutations\n",
    "\n",
    "number = input()\n",
    "\n",
    "list_number = []\n",
    "result_number = []\n",
    "last_true = []\n",
    "\n",
    "\n",
    "for i in number:\n",
    "    list_number.append(i)\n",
    "\n",
    "permutation_list = list(permutations(list_number, len(list_number)))\n",
    "for data in permutation_list:\n",
    "    result = data[0]\n",
    "    for n in range(1, len(data)):\n",
    "        result += str(data[n])\n",
    "    result_number.append(result)\n",
    "    \n",
    "for i in result_number:\n",
    "    if int(i) % 30 == 0:\n",
    "        last_true.append(i)\n",
    "\n",
    "if len(last_true) == 0:\n",
    "    print(-1)\n",
    "else:\n",
    "    print(max(last_true))"
   ]
  },
  {
   "cell_type": "code",
   "execution_count": null,
   "id": "d363bf98",
   "metadata": {},
   "outputs": [],
   "source": [
    "n = int(input())\n",
    "\n",
    "for step in range(n):\n",
    "    m = int(input())\n",
    "\n",
    "    count = 0\n",
    "    score_list = []\n",
    "\n",
    "    for i in range(m):\n",
    "        score_list.append(list(map(int, input().split())))\n",
    "\n",
    "    sorted(score_list, reverse = True, key = lambda x: x[0])\n",
    "\n",
    "    for i in range(m - 1):\n",
    "        for j in range(i + 1, m):\n",
    "            if score_list[i][0] < score_list[j][0] and score_list[i][1] < score_list[j][1]:\n",
    "                count += 1\n",
    "                break\n",
    "\n",
    "    print(m - count)        "
   ]
  },
  {
   "cell_type": "code",
   "execution_count": null,
   "id": "60c8bf66",
   "metadata": {},
   "outputs": [],
   "source": [
    "import sys\n",
    "\n",
    "input = sys.stdin.readline\n",
    "n = int(input())\n",
    "\n",
    "for step in range(n):\n",
    "    m = int(input())\n",
    "\n",
    "    count = 0\n",
    "    score_list = []\n",
    "\n",
    "    for i in range(m):\n",
    "        score_list.append(list(map(int, input().split())))\n",
    "\n",
    "    sorted(score_list, reverse = True, key = lambda x: x[0])\n",
    "\n",
    "    for i in range(m - 1):\n",
    "        for j in range(i + 1, m):\n",
    "            if score_list[i][0] < score_list[j][0] and score_list[i][1] < score_list[j][1]:\n",
    "                count += 1\n",
    "                break\n",
    "\n",
    "    print(m - count)        "
   ]
  },
  {
   "cell_type": "code",
   "execution_count": null,
   "id": "37850893",
   "metadata": {},
   "outputs": [],
   "source": [
    "2\n",
    "5\n",
    "3 2\n",
    "1 4\n",
    "4 1\n",
    "2 3\n",
    "5 5\n",
    "7\n",
    "3 6\n",
    "7 3\n",
    "4 2\n",
    "1 4\n",
    "5 7\n",
    "2 5\n",
    "6 1"
   ]
  }
 ],
 "metadata": {
  "kernelspec": {
   "display_name": "Python 3 (ipykernel)",
   "language": "python",
   "name": "python3"
  },
  "language_info": {
   "codemirror_mode": {
    "name": "ipython",
    "version": 3
   },
   "file_extension": ".py",
   "mimetype": "text/x-python",
   "name": "python",
   "nbconvert_exporter": "python",
   "pygments_lexer": "ipython3",
   "version": "3.9.12"
  }
 },
 "nbformat": 4,
 "nbformat_minor": 5
}
