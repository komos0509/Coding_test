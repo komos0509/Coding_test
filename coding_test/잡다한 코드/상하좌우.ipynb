{
 "cells": [
  {
   "cell_type": "markdown",
   "id": "8c192c07",
   "metadata": {},
   "source": [
    "### 문제\n",
    "여행가 A는 N x N 크기의 정사각형 공간 위에 서 있다. 이 공간은 1 x 1 크기의 정사각형으로 낱누어져 있따. 가장 왼쪽 위 좌표는 (1,1)이며, 가장 오른쪽 아래 좌표는 (N,N)에 해당한다. 여행가 A는 상, 하, 좌, 우 방향으로 이동할 수 있으며, 시작 좌표는 항상 (1,1)이다. 우리 앞에는 여행가 A가 이동할 계획이 적힌 계획서가 놓여 있다.\n",
    "\n",
    "계획서에는 하나의 줄에 띄어쓰기를 기준으로 하여 L, R, U, D 중 하나의 문자가 반복적으로 적혀있다. 각 문자의 의미는 다음과 같다.\n",
    "- L : 왼쪽으로 한 칸 이동\n",
    "- R : 오른쪽으로 한 칸 이동\n",
    "- U : 위로 한 칸 이동\n",
    "- D : 아래로 한 칸 이동\n",
    "\n",
    "아때 여행가 A가 N x N 크기의 정사각형 공간을 벗어나는 움직임은 무시된다. 예를 들어 (1,1)의 위치에서 L혹은 U를 만나면 무시된다. 다음은 N=5인 지도와 계획서이다.  \n",
    "R R R U D D  \n",
    "\n",
    "이 경우 6개의 ㅁ여령에 따라서 여행가가 움직이게 되는 위치는 순서대로 (1,2), (1,3), (1,4), (1,4), (2,4), (3,4)이므로, 최종적으로 여행가 A가 도착하게 되는 곳의 좌표는 (3,4)이다. 다시 말해 3행 4열의 위치에 해당하므로 (3,4)라고 적는다. 계획서가 주어졌을 때 여행가 A가 최종적으로 도착할 지점의 좌표를 출력하는 프로그램을 작성하시오\n",
    "\n",
    "### 입력\n",
    "- 첫째 줄에 공간의 크기를 나타내는 N이 주어진다.(1 $\\le$ N $\\le$ 100)\n",
    "- 둘째 줄에 여행가 A가 이동할 계획서 내용이 주어진다. (1 $\\le$ 이동 횟수 $\\le$ 100)\n",
    "\n",
    "### 출력\n",
    "- 첫째 줄에 여행가 A가 최종적으로 도착할 지점의 좌표 (X,Y)를 공백으로 구분하여 출력한다."
   ]
  },
  {
   "cell_type": "markdown",
   "id": "6542cd79",
   "metadata": {},
   "source": [
    "## 생각\n",
    "1. col, row = 0으로 초깃값을 주고, list의 원소들을 돌아다니며 각각에 맞게 +-=1, 만약 col, row가 0 < x or x > N이면 continue"
   ]
  },
  {
   "cell_type": "code",
   "execution_count": 5,
   "id": "6b798d80",
   "metadata": {},
   "outputs": [
    {
     "name": "stdout",
     "output_type": "stream",
     "text": [
      "5\n",
      "L R R R U D D\n",
      "3 4\n"
     ]
    }
   ],
   "source": [
    "N = int(input())\n",
    "way_list = list(input().split(' '))\n",
    "\n",
    "row = 1\n",
    "col = 1\n",
    "\n",
    "for way in way_list:\n",
    "    if way == 'U':\n",
    "        if row == 1:\n",
    "            continue\n",
    "        row -= 1\n",
    "    elif way == 'D':\n",
    "        if row == N:\n",
    "            continue\n",
    "        row += 1\n",
    "    elif way == 'L':\n",
    "        if col == 1:\n",
    "            continue\n",
    "        col -= 1\n",
    "    elif way == 'R':\n",
    "        if col == N:\n",
    "            continue\n",
    "        col += 1\n",
    "    \n",
    "print(row, col, sep=' ')"
   ]
  },
  {
   "cell_type": "markdown",
   "id": "e61ef927",
   "metadata": {},
   "source": [
    "## 책 풀이"
   ]
  },
  {
   "cell_type": "code",
   "execution_count": 9,
   "id": "e2190980",
   "metadata": {},
   "outputs": [
    {
     "name": "stdout",
     "output_type": "stream",
     "text": [
      "5\n",
      "L R R R U D D\n",
      "3 4\n"
     ]
    }
   ],
   "source": [
    "n = int(input())\n",
    "x, y = 1, 1\n",
    "plans = input().split()\n",
    "\n",
    "dx = [0, 0, -1, 1]\n",
    "dy = [-1, 1, 0, 0]\n",
    "move_types = ['L', 'R', 'U', 'D']\n",
    "\n",
    "for plan in plans:\n",
    "    for i in range(len(move_types)):\n",
    "        if plan == move_types[i]:\n",
    "            nx = x + dx[i]\n",
    "            ny = y + dy[i]\n",
    "    if nx < 1 or ny < 1 or nx > N or ny > N:\n",
    "        continue\n",
    "        \n",
    "    x, y = nx, ny\n",
    "\n",
    "print(x, y)"
   ]
  },
  {
   "cell_type": "markdown",
   "id": "5084792a",
   "metadata": {},
   "source": [
    "x, y라고 하여 헷갈리기 쉬움, (1,1)에서 오른쪽으로 가면 (1,2)이므로 y+1이 R, 반대로 y-1이 L, (1,1)에서 아래로 가면 (2,1)이므로 x+1이 D, 반대로 x-1이 U"
   ]
  }
 ],
 "metadata": {
  "kernelspec": {
   "display_name": "Python 3 (ipykernel)",
   "language": "python",
   "name": "python3"
  },
  "language_info": {
   "codemirror_mode": {
    "name": "ipython",
    "version": 3
   },
   "file_extension": ".py",
   "mimetype": "text/x-python",
   "name": "python",
   "nbconvert_exporter": "python",
   "pygments_lexer": "ipython3",
   "version": "3.9.12"
  }
 },
 "nbformat": 4,
 "nbformat_minor": 5
}
