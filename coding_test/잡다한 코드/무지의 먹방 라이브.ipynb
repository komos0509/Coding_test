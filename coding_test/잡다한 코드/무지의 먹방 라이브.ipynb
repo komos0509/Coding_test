{
 "cells": [
  {
   "cell_type": "markdown",
   "id": "de13a945",
   "metadata": {},
   "source": [
    "### 문제 \n",
    "평소 식욕이 왕성한 무지는 자신의 재능을 뽐내고 싶어졌고 고민 끝에 카카오 TV 라이브 방송을 하기로 마음먹었습니다. 그냥 먹방을 하면 다른 방송과 차별성이 없기 때문에 무지는 다음과 같이 독특한 방식을 생각해냈습니다.\n",
    "\n",
    "회전판에 먹어야 할 N개의 음식이 있습니다. 각 음식에는 1부터 N까지 번호가 붙어있으며, 각 음식을 섭퓌하는데 일정 시간이 소요됩니다. 무지는 다음과 같은 방법으로 음식을 섭취합니다. \n",
    "1. 무지는 1번 음식부터 먹기 시작하며, 회전판은 번호가 증가하는 순서대로 음식을 무지 앞으로 가져다 놓습니다. \n",
    "2. 마지막 번호의 음식을 섭취한 후에는 회전판에 의해 다시 1번 음식이 무지 앞으로 옵니다.\n",
    "3. 무지는 음식 하나를 1초 동안 섭취한 후 남은 음식은 그대로 두고, 다음 음식을 섭취합니다.\n",
    "4. 회전판이 다음 음식을 무지 앞으로 가져오는 데 걸리는 시간은 없다고 가정합니다.\n",
    "\n",
    "무지가 먹방을 시작한 지 K초 후에 네트워크 장애로 인해 방송이 잠시 중단되었습니다. 무지는 네트워크 정상화 후 다시 방송을 이어갈 때, 몇 번 음식부터 섭취해야 하는지를 알고자 합니다. 각 음식을 모두 먹는 데 필요한 시간이 담겨 있는 배열 food_times. 네트워크 장애가 발생한 시간 K초가 매개변수로 주어질 때 몇 번 음식부터 다시 섭취하면 되는지 return 하도록 solution 함수를 완성하세요.\n",
    "\n",
    "### 제안사항\n",
    "- food_times는 각 음식을 모두 먹는 데 필요한 시간이 음식의 번호 순서대로 들어 있는 배열입니다.\n",
    "- k는 방송이 중단된 시간을 나타냅니다.\n",
    "- 만약 더 섭취해야 할 음식이 없다면 -1을 반환하면 됩니다.\n",
    "\n",
    "### 정확성 테스트 제한사항\n",
    "- food_times의 길이는 1 이상 2.000 이하입니다.\n",
    "- food_times의 원소는 1이상 1.000 이하의 자연수입니다.\n",
    "- k는 1 이상 2.000.000 이하의 자연수입니다.\n",
    "\n",
    "### 효율성 테스트 제한사항\n",
    "- food_times의 길이는 1 이상 200,000 이하입니다.\n",
    "- food_times의 원소는 1 이상 100,000,000 이하의 자연수입니다.\n",
    "- k는 1 이상 2 x 10$^{13}$ 이하의 자연수입니다."
   ]
  },
  {
   "cell_type": "markdown",
   "id": "cf6eb478",
   "metadata": {},
   "source": [
    "## 생각\n",
    "1. while문으로 k > 0 일때라고 하고, list를 돌아다니며 각 원소를 -= 1, k -= 1한다. 만약 원소가 0이면 continue, 순서는 (result+1) % len(food_times)"
   ]
  },
  {
   "cell_type": "code",
   "execution_count": 31,
   "id": "210272af",
   "metadata": {},
   "outputs": [
    {
     "data": {
      "text/plain": [
       "1"
      ]
     },
     "execution_count": 31,
     "metadata": {},
     "output_type": "execute_result"
    }
   ],
   "source": [
    "def solution(food_times, k):\n",
    "    result = 0\n",
    "    count = 0\n",
    "    while k > 0:\n",
    "        if food_times[result] == 0:\n",
    "            result = (result + 1) % len(food_times)\n",
    "        food_times[result] -= 1\n",
    "        k -= 1\n",
    "        result = (result + 1) % len(food_times)\n",
    "    for _ in range(len(food_times)):\n",
    "        if food_times[result] != 0:\n",
    "            break\n",
    "        else:\n",
    "            result = (result + 1) % len(food_times)\n",
    "            count += 1\n",
    "    if count == len(food_times):\n",
    "        result =  -2\n",
    "    return result + 1\n",
    "\n",
    "food_times = [3, 1, 2]\n",
    "k = 5\n",
    "solution(food_times, k)"
   ]
  },
  {
   "cell_type": "code",
   "execution_count": 32,
   "id": "e2e0de2a",
   "metadata": {},
   "outputs": [
    {
     "data": {
      "text/plain": [
       "-1"
      ]
     },
     "execution_count": 32,
     "metadata": {},
     "output_type": "execute_result"
    }
   ],
   "source": [
    "food_times = [3, 1, 2]\n",
    "k = 6\n",
    "solution(food_times, k)"
   ]
  }
 ],
 "metadata": {
  "kernelspec": {
   "display_name": "Python 3 (ipykernel)",
   "language": "python",
   "name": "python3"
  },
  "language_info": {
   "codemirror_mode": {
    "name": "ipython",
    "version": 3
   },
   "file_extension": ".py",
   "mimetype": "text/x-python",
   "name": "python",
   "nbconvert_exporter": "python",
   "pygments_lexer": "ipython3",
   "version": "3.9.12"
  }
 },
 "nbformat": 4,
 "nbformat_minor": 5
}
