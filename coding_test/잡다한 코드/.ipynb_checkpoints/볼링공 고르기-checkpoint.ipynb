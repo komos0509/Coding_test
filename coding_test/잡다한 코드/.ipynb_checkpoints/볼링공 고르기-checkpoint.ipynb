{
 "cells": [
  {
   "cell_type": "markdown",
   "id": "1e0e5782",
   "metadata": {},
   "source": [
    "### 문제\n",
    "A, B 두 사람이 볼링을 치고 있습니다. 두 사람은 서로 무게가 다른 볼링공을 고르려고 합니다. 볼링공은 총 N개가 있으며 각 볼링공마다 무게가 적혀 있고, 공의 번호는 1번부터 순서대로 부여됩니다. 또한 같은 무게의 공이 여러 개 있을 수 있지만, 서로 다른 공으로 간주합니다. 볼링공의 무게는 1부터 M까지의 자연수 형태로 존재합니다.\n",
    "\n",
    "예를 들어 N이 5이고, M이 3이며 각각의 무게가 차례대로 1, 3, 2, 3, 2일 때 각 공의 번호가 차례대로 1번부터 5번까지 부여됩니다. 이때 두 사람이 고를 수 있는 볼링공 번호의 조합을 구하면 다음과 같습니다.\n",
    "\n",
    "(1, 2), (1, 3), (1, 4), (1, 5), (2, 3), (2, 5), (3, 4), (4, 5)\n",
    "\n",
    "결과적으로 두 사람이 공을 고르는 경우의 수는 8가지입니다. N개의 공의 무게가 각각 주어질 때, 두 사람이 볼링공을 고르는 경우의 수를 구하는 프로그램을 작성하세요.\n",
    "\n",
    "### 입력\n",
    "- 첫째 줄에 볼링공의 개수 N, 공의 최대 무게 M이 공백으로 구분되어 각각 자연수 형태로 주어집니다.(1 $\\le$ N $\\le$ 1,000, 1 $\\le$ M $\\le$ 10)\n",
    "- 둘째 줄에 각 볼링공의 무게 K가 공백으로 구분되어 순서대로 자연수 형태로 주어집니다.(1 $\\le$ K $\\le$ M)\n",
    "\n",
    "### 출력\n",
    "- 첫째 줄에 두 사람이 볼링공을 고르는 경우의 수를 출력합니다."
   ]
  },
  {
   "cell_type": "markdown",
   "id": "840f406d",
   "metadata": {},
   "source": [
    "## 생각\n",
    "1. for문 2개 i는 range(N-1), j는 range(1+i, N)해서 i와 j를 비교하고 같다면 continue, 다르면 count += 1"
   ]
  },
  {
   "cell_type": "code",
   "execution_count": 10,
   "id": "419ec8c4",
   "metadata": {},
   "outputs": [
    {
     "name": "stdout",
     "output_type": "stream",
     "text": [
      "8 5\n",
      "1 5 4 3 2 4 5 2\n",
      "25\n"
     ]
    }
   ],
   "source": [
    "N, M = map(int, input().split(' '))\n",
    "weight_list = list(map(int, input().split(' ')))\n",
    "\n",
    "count = 0\n",
    "\n",
    "for i in range(N-1):\n",
    "    for j in range(1+i, N):\n",
    "        if weight_list[i] == weight_list[j]:\n",
    "            continue\n",
    "        count += 1\n",
    "\n",
    "print(count)"
   ]
  }
 ],
 "metadata": {
  "kernelspec": {
   "display_name": "Python 3 (ipykernel)",
   "language": "python",
   "name": "python3"
  },
  "language_info": {
   "codemirror_mode": {
    "name": "ipython",
    "version": 3
   },
   "file_extension": ".py",
   "mimetype": "text/x-python",
   "name": "python",
   "nbconvert_exporter": "python",
   "pygments_lexer": "ipython3",
   "version": "3.9.12"
  }
 },
 "nbformat": 4,
 "nbformat_minor": 5
}
