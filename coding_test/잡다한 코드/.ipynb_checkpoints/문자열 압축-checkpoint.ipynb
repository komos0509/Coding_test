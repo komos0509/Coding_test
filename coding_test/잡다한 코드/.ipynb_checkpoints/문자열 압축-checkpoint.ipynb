{
 "cells": [
  {
   "cell_type": "markdown",
   "id": "2be0d9f4",
   "metadata": {},
   "source": [
    "### 문제\n",
    "데이터 처리 전문가가 되고 싶은 \"어피치\"는 문자열을 압축하는 방법에 대해 공부를 하고 있습니다. 최근에 대량의 데이터 처리를 위한 간단한 비손실 압축 방법에 대해 공부를 하고 잇는데, 문자열에서 같은 값이 연속해서 나타나는 것을 그 문자의 개수와 반복되는 값으로 표현하여 더 짧은 문자열로 줄여서 표현하는 알고리즘을 공부하고 있습니다. \n",
    "\n",
    "간단한 예로 \"aabbaccc\"의 경우 \"2a2ba3c\"(문자가 반복되지 않아 한 번만 나타난 경우 1은 생략함)와 같이 표현할 수 있는데, 이러한 방식은 반복되는 문자가 적은 경우 압축률이 낮다는 단점이 있습니다. 예를 들면, \"abcabcdede\"와 같은 문자열은 전혀 압축되지 않습니다. 어피치는 이러한 단점을 해결하기 위해 문자열을 1개 이상의 단위로 잘라서 압축하여 더 짧은 문자열로 표현할 수 있는지 방법을 찾아보려고 합니다. \n",
    "\n",
    "예를 들어, \"ababcdcdababcdcd\"의 경우 문자를 1개 단위로 자르면 전혀 압축되지 않지만, 2개 단위로 잘라서 압축한다면 \"2ab2cd2ab2cd\"로 표현할 수 있습니다. 다른 방법으로 8개 단위로 잘라서 압축한다면 \"2ababcdcd\"로 표현할 수 있으며, 이때가 가장 짧게 압축하여 표현할 수 있는 방법입니다.\n",
    "\n",
    "다른 예로, \"abcabcdede\"와 같은 경우, 문자를 2개 단위로 잘라서 압축하면 \"abcabc2de\"가 되지만, 3개 단위로 자른다면 \"2abcdede\"가 되어 3대 단위가 가장 짧은 압축 방법이 됩니다. 이때 3개 단위로 자르고 마지막에 남은 문자열은 그대로 붙여주면 됩니다.\n",
    "\n",
    "압축할 문자열 s가 매개변수로 주어질 때, 위에 설명한 방법으로 1개 이상 단위로 문자열을 잘라 압축하여 표현한 문자열 중 가장 짧은 것의 길이를 return 하도록 solution 함수를 완성해주세요.\n",
    "\n",
    "### 입력\n",
    "- s의 길이는 1 이상 1,000 이하입니다.\n",
    "- s는 알파벳 소문자로만 이루어져 있습니다.\n",
    "\n"
   ]
  },
  {
   "cell_type": "markdown",
   "id": "bf85df0f",
   "metadata": {},
   "source": [
    "## 책풀이\n",
    "1. 1개부터 len(s)//2 + 1까지 자르는 단위를 정한 뒤, 이전 문자열 prev를 정의한다. 그 다음 단위를 기준으로 하여 prev와 같다면 count += 1, 다르면 문자열에 추가하고 count = 1, prev를 초기화 한다. 그 후 마지막에 단위를 돌아다니며 가장 길이가 짧은 answer를 return 한다."
   ]
  },
  {
   "cell_type": "code",
   "execution_count": 12,
   "id": "3866afb4",
   "metadata": {},
   "outputs": [
    {
     "name": "stdout",
     "output_type": "stream",
     "text": [
      "aabbaccc\n"
     ]
    },
    {
     "data": {
      "text/plain": [
       "7"
      ]
     },
     "execution_count": 12,
     "metadata": {},
     "output_type": "execute_result"
    }
   ],
   "source": [
    "def solution(s):\n",
    "    answer = len(s)\n",
    "    \n",
    "    for step in range(1, len(s) // 2 + 1):\n",
    "        prev = s[0:step]\n",
    "        count = 1\n",
    "        compressed = \"\"\n",
    "        for j in range(step, len(s), step):\n",
    "            if prev == s[j:j+step]:\n",
    "                count += 1\n",
    "            else:\n",
    "                compressed += str(count) + prev if count >= 2 else prev\n",
    "                prev = s[j:j+step]\n",
    "                count = 1\n",
    "        compressed += str(count) + prev if count >= 2 else prev\n",
    "        \n",
    "        answer = min(answer, len(compressed))\n",
    "    return answer\n",
    "\n",
    "string = input()\n",
    "solution(string)"
   ]
  }
 ],
 "metadata": {
  "kernelspec": {
   "display_name": "Python 3 (ipykernel)",
   "language": "python",
   "name": "python3"
  },
  "language_info": {
   "codemirror_mode": {
    "name": "ipython",
    "version": 3
   },
   "file_extension": ".py",
   "mimetype": "text/x-python",
   "name": "python",
   "nbconvert_exporter": "python",
   "pygments_lexer": "ipython3",
   "version": "3.9.12"
  }
 },
 "nbformat": 4,
 "nbformat_minor": 5
}
