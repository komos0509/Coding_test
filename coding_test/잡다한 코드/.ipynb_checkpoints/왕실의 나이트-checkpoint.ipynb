{
 "cells": [
  {
   "cell_type": "markdown",
   "id": "1a795bc0",
   "metadata": {},
   "source": [
    "### 문제\n",
    "행복 왕국의 왕실 정원은 체스판과 같은 8 x 8 좌표 평면이다. 왕실 정원의 특정한 한 칸에 나이트가 서 있다. 나이트는 매우 충성스러운 신하로서 매일 무술을 연마한다.\n",
    "\n",
    "나이트는 말을 타고 있기 때문에 이동을 할 때는 L자 형태로만 이동할 수 있으며 정원 밖으로는 나갈 수 없다. 나이트는 특정한 위치에서 다음과 같은 2가지 경우로 이동할 수 있다.\n",
    "1. 수평으로 두 칸 이동한 뒤에 수직으로 한 칸 이동하기\n",
    "2. 수직으로 두 칸 이동한 뒤에 수평으로 한 칸 이동하기\n",
    "\n",
    "이처럼 8 x 8 좌표 평면상에서 나이트의 위치가 주어졌을 때 나이트가 이동할 수 있는 경우의 수를 출력하는 프로그램을 작성하시오. 이때 왕실의 정원에서 행 위치를 표현할 때는 1부터 8로 표현하며, 열 위치를 표현할 때는 a부터 h로 표현한다.\n",
    "\n",
    "예를 들어 만약 나이트가 a1에 있을 때 이동할 수 있는 경우의 수는 다음 2가지이다. a1의 위치는 촤표 평면에서 구석의 위치에 해당하며 나이트는 정원의 밖으로는 나갈 수 없기 때문이다.\n",
    "1. 오른쪽으로 두 칸 이동 후 아래로 한 칸 이동하기 (c2)\n",
    "2. 아래로 두 칸 이동 후 오른쪽으로 한 칸 이동하기 (b3)\n",
    "\n",
    "또 다른 예로 나이트가 c2에 위치해 있다면 나이트가 이동할 수 있는 경우의 수는 6가지이다. 이건 직접 계산해보시오\n",
    "\n",
    "### 입력\n",
    "- 첫째 줄에 8 x 8 좌표 평면상에서 현재 나이트가 위치한 곳의 좌표를 나타내는 두 문자로 구성된 문자열이 입력된다. 입력 문자는 a1처럼 열과 행으로 이뤄진다.\n",
    "\n",
    "### 출력\n",
    "- 첫째 줄에 나이트가 이동할 수 있는 경우의 수를 출력하시오."
   ]
  },
  {
   "cell_type": "markdown",
   "id": "dd68d9f9",
   "metadata": {},
   "source": [
    "## 생각\n",
    "1. 알파벳 list를 만들고, dx, dy를 만들어 갈 수 있는 경우의 수를 구하고 count += 1, 만약 x,y < 1 or x,y > 8 이면 continue"
   ]
  },
  {
   "cell_type": "code",
   "execution_count": 6,
   "id": "f4b23901",
   "metadata": {},
   "outputs": [
    {
     "name": "stdout",
     "output_type": "stream",
     "text": [
      "c2\n",
      "6\n"
     ]
    }
   ],
   "source": [
    "start_point = input()\n",
    "\n",
    "alpha_list = ['a', 'b', 'c', 'd', 'e', 'f', 'g', 'h']\n",
    "x = alpha_list.index(start_point[0]) + 1\n",
    "y = int(start_point[1])\n",
    "count = 0\n",
    "\n",
    "dx = [2, 2, -2, -2, 1, 1, -1, -1]\n",
    "dy = [-1, 1, -1, 1, 2, -2, 2, -2]\n",
    "\n",
    "for i in range(len(dx)):\n",
    "    nx = x + dx[i]\n",
    "    ny = y + dy[i]\n",
    "    if nx < 1 or ny < 1 or nx > 8 or ny > 8:\n",
    "        continue\n",
    "    count += 1\n",
    "    \n",
    "print(count)"
   ]
  },
  {
   "cell_type": "markdown",
   "id": "cc28cf14",
   "metadata": {},
   "source": [
    "## 책 풀이"
   ]
  },
  {
   "cell_type": "code",
   "execution_count": 8,
   "id": "2308e6eb",
   "metadata": {},
   "outputs": [
    {
     "name": "stdout",
     "output_type": "stream",
     "text": [
      "c2\n",
      "6\n"
     ]
    }
   ],
   "source": [
    "input_data = input()\n",
    "row = int(input_data[1])\n",
    "column = int(ord(input_data[0])) - int(ord('a')) + 1\n",
    "\n",
    "steps = [(-2, -1), (-1, -2), (1, -2), (2, -1), (2, 1), (1, 2), (-1, 2), (-2, 1)]\n",
    "\n",
    "result = 0\n",
    "for step in steps:\n",
    "    next_row = row + step[0]\n",
    "    next_column = column + step[1]\n",
    "    \n",
    "    if next_row >= 1 and next_row <= 8 and next_column >= 1 and next_column <= 8:\n",
    "        result += 1\n",
    "        \n",
    "print(result)"
   ]
  },
  {
   "cell_type": "markdown",
   "id": "3fcc69be",
   "metadata": {},
   "source": [
    "알파벳 리스트를 따로 만들지 않고 ord()함수를 사용하여 숫자를 얻을 수 있다. int(ord(input_data[0])) - int(ord('a')) + 1\n",
    "\n",
    "또한 경우의 수를 dx dy로 하지 말고 모든 경우의 수를 하나의 리스트에 묶어 for로 불러올 수도 있다."
   ]
  },
  {
   "cell_type": "code",
   "execution_count": null,
   "id": "79d65ee0",
   "metadata": {},
   "outputs": [],
   "source": []
  }
 ],
 "metadata": {
  "kernelspec": {
   "display_name": "Python 3 (ipykernel)",
   "language": "python",
   "name": "python3"
  },
  "language_info": {
   "codemirror_mode": {
    "name": "ipython",
    "version": 3
   },
   "file_extension": ".py",
   "mimetype": "text/x-python",
   "name": "python",
   "nbconvert_exporter": "python",
   "pygments_lexer": "ipython3",
   "version": "3.9.12"
  }
 },
 "nbformat": 4,
 "nbformat_minor": 5
}
