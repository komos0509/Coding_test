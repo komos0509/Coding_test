{
 "cells": [
  {
   "cell_type": "markdown",
   "id": "cae12820",
   "metadata": {},
   "source": [
    "### 문제\n",
    "N x M 크기의 얼음 틀이 있다. 구멍이 뚫려 있는 부분은 0, 칸막이가 존재하는 부분은 1로 표시된다. 구멍이 뚫려 있는 부분끼리 상, 하, 좌, 우로 붙어 있는 경우 서로 연결되어 있는 것으로 간주한다. 이때 얼음 틀의 모양이 주어졌을 때 생성되는 총 아이스크림의 개수를 구하는 프로그램을 작성하시오. 다음의 4 x 5 얼음 틀 예시에서는 아이스크림이 총 3개 생성된다.\n",
    "\n",
    "![백준 4](https://user-images.githubusercontent.com/60602671/227099250-22077d32-b59e-4d55-8c3c-0acc3accdf75.png)\n",
    "\n",
    "### 입력 조건\n",
    "- 첫 번째 줄에 얼음 틀의 세로 길이 N과 가로 길이 M이 주어진다. (1 $\\le$ N, M $\\le$ 1,000)\n",
    "- 두 번째 줄부터 N + 1번째 줄까지 얼음 틀의 형태가 주어진다.\n",
    "- 이때 구멍이 뚫려있는 부분은 0, 그렇지 않은 부분은 1이다.\n",
    "\n",
    "### 출력 조건\n",
    "- 한 번에 만들 수 있는 아이스크림의 개수를 출력한다."
   ]
  },
  {
   "cell_type": "markdown",
   "id": "64d2873e",
   "metadata": {},
   "source": [
    "## 생각\n",
    "1. N x M 틀과 덩어리의 개수를 구하는 문제이니 DFS 알고리즘을 사용. 모든 좌표를 돌아다니며 0이면 1로 바꾸고 상, 하, 좌, 우를 돌아다니며 재귀함수를 사용. 후 0일 때의 덩어리 당 result += 1"
   ]
  },
  {
   "cell_type": "code",
   "execution_count": 20,
   "id": "4d489512",
   "metadata": {},
   "outputs": [
    {
     "name": "stdout",
     "output_type": "stream",
     "text": [
      "4 5\n",
      "00110\n",
      "00011\n",
      "11111\n",
      "00000\n",
      "3\n"
     ]
    }
   ],
   "source": [
    "N, M = map(int, input().split())\n",
    "graph = []\n",
    "for _ in range(N):\n",
    "    graph.append(list(map(int, input())))\n",
    "\n",
    "def dfs(x, y):\n",
    "    # x, y가 범위를 벗어나면 False 반환\n",
    "    if x <= -1 or x >= N or y <= -1 or y >= M:\n",
    "        return False\n",
    "    # 좌표값이 0이면 1로 바꾸고 상, 하, 좌, 우 값들도 확인 (재귀함수 사용)\n",
    "    if graph[x][y] == 0:\n",
    "        graph[x][y] = 1\n",
    "        dfs(x-1, y)\n",
    "        dfs(x, y-1)\n",
    "        dfs(x+1, y)\n",
    "        dfs(x, y+1)\n",
    "        return True\n",
    "    # 만약 좌표값이 1이면 False 반환\n",
    "    return False\n",
    "\n",
    "result = 0\n",
    "\n",
    "for i in range(N):\n",
    "    for j in range(M):\n",
    "        # graph[i][j] 가 0이면 result += 1\n",
    "        if dfs(i,j):\n",
    "            result += 1\n",
    "            \n",
    "print(result)"
   ]
  },
  {
   "cell_type": "markdown",
   "id": "9bdbba2a",
   "metadata": {},
   "source": [
    "위 코드를 bfs로 구현한다면 graph[x][y]가 0일 때 주위 상, 하, 좌, 우의 값들을 모두 큐에 append 해야하는데 일단 각각 마다 x, y의 범위를 줘야하고, 각각 마다 1일때는 append 하지 않는걸로 해야한다. 그 후, popleft 하면서 1로 바꿔주고 return True 해야한다. 만약 1이라면 return False를 줘서 마무리로 모든 좌표를 돌아다니며 bfs(x, y)가 True이면 result += 1 해야한다.\n",
    "\n",
    "하지만 위 내용을 코드로 적으면 상, 하, 좌, 우를 확인할 때, 너무 많은 코드와 메모리가 낭비된다. 즉 시간도 많이 발생할 우려가 있어, dfs로 마무리하는 것이 좋을 듯 하다."
   ]
  }
 ],
 "metadata": {
  "kernelspec": {
   "display_name": "Python 3 (ipykernel)",
   "language": "python",
   "name": "python3"
  },
  "language_info": {
   "codemirror_mode": {
    "name": "ipython",
    "version": 3
   },
   "file_extension": ".py",
   "mimetype": "text/x-python",
   "name": "python",
   "nbconvert_exporter": "python",
   "pygments_lexer": "ipython3",
   "version": "3.9.12"
  }
 },
 "nbformat": 4,
 "nbformat_minor": 5
}
