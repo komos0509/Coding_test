{
 "cells": [
  {
   "cell_type": "markdown",
   "id": "1ddacfdb",
   "metadata": {},
   "source": [
    "### 문제\n",
    "게임의 아웃복서 캐릭터는 필살기인 '럭키 스트레이트' 기술이 있습니다. 이 기술은 매우 강력한 대신에 게임 내에서 점수가 특정 조건을 만족할 때만 사용할 수 있습니다.\n",
    "\n",
    "특정 조건이란 현재 캐릭터의 점수를 N이라고 할 때 자릿수를 기준으로 점수 N을 반으로 나누어 왼쪽 부분의 각 자릿수의 함과 오른쪽 부분의 각 자릿수의 함을 더한 값이 동일한 상황을 의미합니다. 예를 들어 현재 점수가 123,402라면 왼쪽 부분의 각 자릿수의 합은 1 + 2 + 3, 오른쪽 부분의 각 자릿수의 합은 4 + 0 + 2이므로 두 합이 6으로 동일하여 럭키 스트레이트를 사용할 수 있습니다. \n",
    "\n",
    "현재 점수 N이 주어지면 럭키 스트레이트를 사용할 수 있는 상태인지 아닌지를 알려주는 프로그램을 작성하세요.\n",
    "\n",
    "### 입력\n",
    "- 첫째 줄에 점수 N이 정수로 주어집니다.(10 $\\le$ N $\\le$ 99,999,999) 단, 점수 N의 자릿수는 항상 짝수 형태로만 주어집니다. 예를 들어 자릿수가 5인 12,345와 같은 수는 입력으로 들어오지 않습니다.\n",
    "\n",
    "### 출력\n",
    "- 첫째 줄에 럭키 스트레이트를 사용할 수 있다면 \"LUCKY\"를, 사용할 수 없다면 \"READY\"를 출력합니다."
   ]
  },
  {
   "cell_type": "markdown",
   "id": "528a5f43",
   "metadata": {},
   "source": [
    "## 생각\n",
    "1. len(string) // 2을 기준으로 두 파트를 리스트로 만들고, len(string) // 2를 for문해서 각 자리수의 원소를 int() 후 더하기, 그 후 리스트에 넣고 리스트의 두 결과가 같다면 LUCKY 아니면 READY"
   ]
  },
  {
   "cell_type": "code",
   "execution_count": 4,
   "id": "77e486a8",
   "metadata": {},
   "outputs": [
    {
     "name": "stdout",
     "output_type": "stream",
     "text": [
      "123402\n",
      "LUCKY\n"
     ]
    }
   ],
   "source": [
    "number = input()\n",
    "\n",
    "standard = len(number) // 2\n",
    "list1 = [number[:standard], number[standard:]]\n",
    "result_list = []\n",
    "\n",
    "for list_ in list1:\n",
    "    result = 0\n",
    "    for i in range(standard):\n",
    "        result += int(list_[i])\n",
    "    result_list.append(result)\n",
    "\n",
    "if result_list[0] == result_list[1]:\n",
    "    print('LUCKY')\n",
    "else:\n",
    "    print('READY')"
   ]
  }
 ],
 "metadata": {
  "kernelspec": {
   "display_name": "Python 3 (ipykernel)",
   "language": "python",
   "name": "python3"
  },
  "language_info": {
   "codemirror_mode": {
    "name": "ipython",
    "version": 3
   },
   "file_extension": ".py",
   "mimetype": "text/x-python",
   "name": "python",
   "nbconvert_exporter": "python",
   "pygments_lexer": "ipython3",
   "version": "3.9.12"
  }
 },
 "nbformat": 4,
 "nbformat_minor": 5
}
