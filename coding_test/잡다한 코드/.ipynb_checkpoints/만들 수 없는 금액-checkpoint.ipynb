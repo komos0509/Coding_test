{
 "cells": [
  {
   "cell_type": "markdown",
   "id": "8e5fdd7e",
   "metadata": {},
   "source": [
    "### 문제\n",
    "동네 편의점의 주인인 동빈이는 N개의 동전을 가지고 있습니다. 이때 N개의 동전을 이용하여 만들 수 없는 양의 정수 금액 중 최솟값을 구하는 프로그램을 작성하세요.\n",
    "\n",
    "예를 들어, N=5이고, 각 동전이 각각 3원, 2원, 1원, 1원, 9원짜리(화폐 단위) 동전이라고 가정합시다. 이때 동빈이가 만들 수 없는 양의 정수 금액 중 최솟값은 8원입니다.\n",
    "\n",
    "또 다른 예시로, N=3이고, 각 동전이 각각 3원, 5원, 7원짜리(화폐 단위) 동전이라고 가정합시다. 이때 동빈이가 만들 수 없는 양의 정수 금액 중 최솟값은 1원입니다.\n",
    "\n",
    "### 입력\n",
    "- 첫째 줄에는 동전의 개수를 나타내는 양의 정수 N이 주어집니다. (1 $\\le$ N $\\le$ 1,000)\n",
    "- 둘째 줄에는 각 동전의 화폐 단위를 나타내는 N개의 자연수가 주어지며, 각 자연수는 공백으로 구분합니다. 이때, 각 화폐 단위는 1,000,000 이하의 자연수입니다.\n",
    "\n",
    "### 출력\n",
    "- 첫째 줄에 주어진 동전들로 만들 수 없는 양의 정수 금액 중 최솟값을 출력합니다."
   ]
  },
  {
   "cell_type": "markdown",
   "id": "adf93cc5",
   "metadata": {},
   "source": [
    "## 생각\n",
    "1. list의 sum을 구하고 while i+=1에서 i를 뺀다. list는 reverse sort에서 처음부터 비교를 하여 작거나 list에 없으면 그때 i가 최솟값, 크거나 있다면 처음 구한 sum - i에서 원소를 빼고 다시 비교한다."
   ]
  },
  {
   "cell_type": "code",
   "execution_count": 11,
   "id": "59229aea",
   "metadata": {},
   "outputs": [
    {
     "name": "stdout",
     "output_type": "stream",
     "text": [
      "5\n",
      "3 2 1 1 9\n",
      "8\n"
     ]
    }
   ],
   "source": [
    "num_coin = int(input())\n",
    "coin_list = list(map(int, input().split(' ')))\n",
    "\n",
    "coin_list.sort(reverse=True)\n",
    "sum_coin = sum(coin_list)\n",
    "count = 0\n",
    "is_True = True\n",
    "\n",
    "while is_True:\n",
    "    count += 1\n",
    "    part1 = sum_coin - count\n",
    "    for coin in coin_list:\n",
    "        if (0 < part1 < coin) and (part1 not in coin_list):\n",
    "            is_True = False\n",
    "            break\n",
    "        part1 -= coin\n",
    "\n",
    "print(count)"
   ]
  }
 ],
 "metadata": {
  "kernelspec": {
   "display_name": "Python 3 (ipykernel)",
   "language": "python",
   "name": "python3"
  },
  "language_info": {
   "codemirror_mode": {
    "name": "ipython",
    "version": 3
   },
   "file_extension": ".py",
   "mimetype": "text/x-python",
   "name": "python",
   "nbconvert_exporter": "python",
   "pygments_lexer": "ipython3",
   "version": "3.9.12"
  }
 },
 "nbformat": 4,
 "nbformat_minor": 5
}
