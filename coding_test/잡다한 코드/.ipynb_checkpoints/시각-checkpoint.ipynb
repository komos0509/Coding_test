{
 "cells": [
  {
   "cell_type": "markdown",
   "id": "e8795253",
   "metadata": {},
   "source": [
    "### 문제\n",
    "정수 N이 입력되면 00 시 00분 00초부터 N시 59분 59초까지의 모든 시각 중에서 3이 하나라도 포함되는 모든 경우의 수를 구하는 프로그램을 작성하시오. 예를 들어 1을 입력했을 때 다음은 3이 하나라도 포함되어 있으므로 세어야 하는 시각이다.\n",
    "- 00시 00분 03초\n",
    "- 00시 13분 30초\n",
    "\n",
    "반면에 다음은 3이 하나도 포함되어 있지 않으므로 세면 안 되는 시각이다.\n",
    "- 00시 02분 55초\n",
    "- 01시 27분 45초\n",
    "\n",
    "### 입력\n",
    "- 첫째 줄에 정수 N이 입력된다.(0 $\\le$ N $\\le$ 23)\n",
    "\n",
    "### 출력\n",
    "- 00시 00분 00초부터 N시 59분 59초까지의 모든 시각 중에서 3이 하나라도 포함되는 모든 경우의 수를 출력한다."
   ]
  },
  {
   "cell_type": "markdown",
   "id": "8eb50160",
   "metadata": {},
   "source": [
    "## 생각\n",
    "1. hour, minute, second = 0 초깃값 설정 후 while문으로 hour < N+1까지, 만약 '3'이 str(hour), str(minute), str(second)에 있다면 count += 1, 만약 second == 60이면 second = 0, minute += 1, 만약 minute == 60이면 minute = 0, hour += 1"
   ]
  },
  {
   "cell_type": "code",
   "execution_count": 14,
   "id": "c6da37e8",
   "metadata": {},
   "outputs": [
    {
     "name": "stdout",
     "output_type": "stream",
     "text": [
      "5\n",
      "11475\n"
     ]
    }
   ],
   "source": [
    "N = int(input())\n",
    "\n",
    "hour = 0\n",
    "minute = 0\n",
    "second = 0\n",
    "count = 0\n",
    "\n",
    "while hour < N+1:\n",
    "    second += 1\n",
    "    if second == 60:\n",
    "        minute += 1\n",
    "        second = 0\n",
    "    if minute == 60:\n",
    "        hour += 1\n",
    "        minute = 0\n",
    "    if '3' in str(hour) or '3' in str(minute) or '3' in str(second):\n",
    "        count += 1\n",
    "\n",
    "print(count)"
   ]
  },
  {
   "cell_type": "markdown",
   "id": "45348815",
   "metadata": {},
   "source": [
    "## 책 풀이"
   ]
  },
  {
   "cell_type": "code",
   "execution_count": 16,
   "id": "4dc0260f",
   "metadata": {},
   "outputs": [
    {
     "name": "stdout",
     "output_type": "stream",
     "text": [
      "5\n",
      "11475\n"
     ]
    }
   ],
   "source": [
    "h = int(input())\n",
    "\n",
    "count = 0\n",
    "for i in range(h + 1):\n",
    "    for j in range(60):\n",
    "        for k in range(60):\n",
    "            if '3' in str(i) + str(j) + str(k):\n",
    "                count += 1\n",
    "\n",
    "print(count)"
   ]
  },
  {
   "cell_type": "markdown",
   "id": "7c3f47a3",
   "metadata": {},
   "source": [
    "str()들을 더하면 더 쉽게 if문을 만들 수 있다."
   ]
  }
 ],
 "metadata": {
  "kernelspec": {
   "display_name": "Python 3 (ipykernel)",
   "language": "python",
   "name": "python3"
  },
  "language_info": {
   "codemirror_mode": {
    "name": "ipython",
    "version": 3
   },
   "file_extension": ".py",
   "mimetype": "text/x-python",
   "name": "python",
   "nbconvert_exporter": "python",
   "pygments_lexer": "ipython3",
   "version": "3.9.12"
  }
 },
 "nbformat": 4,
 "nbformat_minor": 5
}
