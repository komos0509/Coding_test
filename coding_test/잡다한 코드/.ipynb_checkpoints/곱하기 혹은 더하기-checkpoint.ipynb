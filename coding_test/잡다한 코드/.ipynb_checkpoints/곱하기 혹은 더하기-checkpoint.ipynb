{
 "cells": [
  {
   "cell_type": "markdown",
   "id": "b656048d",
   "metadata": {},
   "source": [
    "### 문제\n",
    "각 자리가 숫자(0부터 9)로만 이루어진 문자열 S가 주어졌을 대, 왼쪽부터 오른쪽으로 하나씩 모든 숫자를 확인하며 숫자 사이에 'x'혹은 '+'연산자를 넣어 결과적으로 만들어질 수 있는 가장 큰 수를 구하는 프로그램을 작성하세요. 단, +보다 x를 먼저 계산하는 일반적인 방식과는 달리, 모든 연산은 왼쪽에서부터 순서대로 이루어진다고 가정합니다. \n",
    "\n",
    "예를 들어 02984라는 문자열이 주어지면, 만들어질 수 잇는 가장 큰 수는 ((((0+2)x9)x8)x4) = 576입니다. 또한 만들어질 수 있는 가장 큰 수는 항상 20억 이하의 정수가 되도록 입력이 주어집니다.\n",
    "\n",
    "### 입력\n",
    "첫째 줄에 여러 개의 숫자로 구성된 하나의 문자열 S가 주어집니다. (1 $\\le$ S의 길이 $\\le$ 20)\n",
    "\n",
    "### 출력\n",
    "첫째 줄에 만들어질 수 있는 가장 큰 수를 출력합니다."
   ]
  },
  {
   "cell_type": "markdown",
   "id": "8c3fb0b5",
   "metadata": {},
   "source": [
    "## 생각\n",
    "1. string의 원소들을 하나씩 돌아다니며 0이면 패스하고, 1이면 더하기, 나머지는 곱하기 연산을 적용"
   ]
  },
  {
   "cell_type": "code",
   "execution_count": 7,
   "id": "25e814ad",
   "metadata": {},
   "outputs": [
    {
     "name": "stdout",
     "output_type": "stream",
     "text": [
      "567\n",
      "210\n"
     ]
    }
   ],
   "source": [
    "number = input()\n",
    "\n",
    "result = 0\n",
    "\n",
    "for i in range(len(number)):\n",
    "    if int(number[i]) == 0:\n",
    "        continue\n",
    "    elif int(number[i]) == 1:    \n",
    "        result += int(number[i])\n",
    "    else:\n",
    "        if result == 0:\n",
    "            result += int(number[i])\n",
    "        else:\n",
    "            result *= int(number[i])\n",
    "        \n",
    "print(result)"
   ]
  }
 ],
 "metadata": {
  "kernelspec": {
   "display_name": "Python 3 (ipykernel)",
   "language": "python",
   "name": "python3"
  },
  "language_info": {
   "codemirror_mode": {
    "name": "ipython",
    "version": 3
   },
   "file_extension": ".py",
   "mimetype": "text/x-python",
   "name": "python",
   "nbconvert_exporter": "python",
   "pygments_lexer": "ipython3",
   "version": "3.9.12"
  }
 },
 "nbformat": 4,
 "nbformat_minor": 5
}
