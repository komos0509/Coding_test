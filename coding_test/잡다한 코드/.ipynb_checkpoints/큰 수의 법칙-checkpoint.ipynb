{
 "cells": [
  {
   "cell_type": "markdown",
   "id": "4cb90201",
   "metadata": {},
   "source": [
    "### 문제 \n",
    "'큰 수의 법칙'은 일반적으로 통계 분야에서 다루어지는 내용이지만 동빈이는 본인만의 방식으로 다르게 사용하고 있다. 동빈이의 큰 수의 법칙은 다양한 수로 이루어진 배열이 있을 때 주어진 수들을 M번 더하여 가장 큰 수를 만드는 법칙이다. 단, 배열의 특정한 인덱스(번호)에 해당하는 수가 연속해서 K번을 초과하여 더해질 수 없는 것이 이 법칙의 특징이다.\n",
    "\n",
    "예를 들어 순서대로 2, 4, 5, 4, 6으로 이루어진 배열이 있을 때 M이 8이고, K가 3이라고 가정하자. 이경우 특정한 인덱스의 수가 연속해서 세 번까지만 더해질 수 있으므로 큰 수의 법칙에 따른 결과는 6 + 6 + 6 + 5 + 6 + 6 + 6 + 5인 46이 된다.\n",
    "\n",
    "단, 서로 다른 인덱스의 해당하는 수가 같은 경우에도 서로 다른 것으로 간주한다. 예를 들어 순서대로 3, 4, 3, 4, 3으로 이루어진 배열이 있을 때 M이 7이고, K가 2라고 가정하자. 이 경우 두 번째 원소에 해당하는 4와 네 번째 원소에 해당하는 4를 번갈아 두 번씩 더하는 것이 가능하다. 결과적으로 4 + 4 + 4 + 4 + 4 + 4 + 4인 28이 도출된다.\n",
    "\n",
    "배열의 크기 N, 숫자가 더해지는 횟수 M, 그리고 K가 주어질 때 동빈이의 큰 수의 법칙에 따른 결과를 출력하시오.\n",
    "\n",
    "### 입력\n",
    "- 첫째 줄에 N(2$\\le$N$\\le$1,000), M(1$\\le$M$\\le$10,000), K(1$\\le$K$\\le$10,000)의 자연수가 주어지며, 각 자연수는 공백으로 구분한다.\n",
    "- 둘째 줄에 N개의 자연수가 주어진다. 각 자연수는 공백으로 구분한다. 단, 각각의 자연수는 1 이상 10,000 이하의 수로 주어진다.\n",
    "- 입력으로 주어지는 K는 항상 M보다 작거나 같다.\n",
    "\n",
    "### 출력\n",
    "첫째 줄에 동빈이의 큰 수의 법칙에 따라 더해진 답을 출력한다."
   ]
  },
  {
   "cell_type": "markdown",
   "id": "466f57b1",
   "metadata": {},
   "source": [
    "## 생각\n",
    "1. 배열을 정렬(sort)한 뒤, M // K를 K 곱하고 배열의 [0]을 곱한다. 그리고 M % K와 배열의 [1]을 곱하고 둘을 더한다."
   ]
  },
  {
   "cell_type": "code",
   "execution_count": 10,
   "id": "5d44d7b2",
   "metadata": {},
   "outputs": [
    {
     "name": "stdout",
     "output_type": "stream",
     "text": [
      "5 9 3\n",
      "2 4 5 4 6\n",
      "54\n"
     ]
    }
   ],
   "source": [
    "# 틀렸습니다. 반례 (5 9 3 / 2 4 5 4 6), output : 54, true : 52\n",
    "# K번 후 두 번째 원소가 나와야하는데 몫과 나머지는 에러\n",
    "N, M, K = map(int, input().split(' '))\n",
    "num_list = list(map(int, input().split(' ')))\n",
    "                \n",
    "num_list.sort(reverse=True)\n",
    "print((M//K)*K*num_list[0] + (M%K)*num_list[1])"
   ]
  },
  {
   "cell_type": "markdown",
   "id": "d7a29559",
   "metadata": {},
   "source": [
    "## 생각\n",
    "2. K번 첫 번째 원소 더하고, 두 번째 원소 한 번 더하기"
   ]
  },
  {
   "cell_type": "code",
   "execution_count": 12,
   "id": "62f2499a",
   "metadata": {},
   "outputs": [
    {
     "name": "stdout",
     "output_type": "stream",
     "text": [
      "5 9 3\n",
      "2 4 5 4 6\n",
      "52\n"
     ]
    }
   ],
   "source": [
    "N, M, K = map(int, input().split(' '))\n",
    "num_list = list(map(int, input().split(' ')))\n",
    "num_list.sort(reverse=True)\n",
    "result = 0\n",
    "\n",
    "while True:\n",
    "    for i in range(K):\n",
    "        if M == 0:\n",
    "            break\n",
    "        result += num_list[0]\n",
    "        M -= 1\n",
    "    if M == 0:\n",
    "        break\n",
    "    result += num_list[1]\n",
    "    M -= 1\n",
    "    \n",
    "print(result)"
   ]
  }
 ],
 "metadata": {
  "kernelspec": {
   "display_name": "Python 3 (ipykernel)",
   "language": "python",
   "name": "python3"
  },
  "language_info": {
   "codemirror_mode": {
    "name": "ipython",
    "version": 3
   },
   "file_extension": ".py",
   "mimetype": "text/x-python",
   "name": "python",
   "nbconvert_exporter": "python",
   "pygments_lexer": "ipython3",
   "version": "3.9.12"
  }
 },
 "nbformat": 4,
 "nbformat_minor": 5
}
