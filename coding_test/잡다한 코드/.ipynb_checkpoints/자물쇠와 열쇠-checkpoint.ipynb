{
 "cells": [
  {
   "cell_type": "markdown",
   "id": "2504c0d3",
   "metadata": {},
   "source": [
    "### 문제\n",
    "고고학자인 튜브는 고대 유적지에서 보물과 유적이 가득할 것으로 추정되는 비밀의 문을 발견하였습니다. 그런데 문을 열ㄹ고 살펴보니 특이한 형태의 자물쇠로 잠겨 있었고 문 앞에는 특이한 형태의 열쇠와 함께 자물쇠를 푸는 방법에 대해 다음과 같이 설명해주는 종이가 발견되었습니다.\n",
    "\n",
    "잠겨있는 자물쇠는 격자 한 칸의 크기가 1 x 1인 N x N 크기의 정사각 격자 형태이고 특이한 모양의 열쇠는 M x M 크기인 정사각 격자 형태로 되어 있습니다.\n",
    "\n",
    "자물쇠에는 홈이 파여 있고 열쇠 또한 홈과 돌기 부분이 있습니다. 열쇠는 회전과 이동이 가능하며 열쇠의 돌기 부분을 자물쇠의 홈 부분에 딱 맞게 채우면 자물쇠가 열리게 되는 구조입니다. 자물쇠 영역을 벗어난 부분에 있는 열쇠의 홈과 돌기는 자물쇠를 여는 데 영향을 주지 않지만, 자물쇠 영역 내에서는 열쇠의 돌기 부분과 자물쇠의 홈 부분이 정확히 일치해야 하며 열쇠의 돌기와 자물쇠의 돌기가 만나서는 안 됩니다. 또한 자물쇠의 모든 홈을 채워 비어있는 곳이 없어야 자물쇠를 열 수 있습니다.\n",
    "\n",
    "열쇠를 나타내는 2차원 배열 key와 자물쇠를 나타내는 2차원 배열 lock이 매개변수로 주어질 때, 열쇠로 자물쇠를 열 수 있으면 true를, 열 수 없으면 false를 return 하도록 solution 함수를 완성해주세요.\n",
    "\n",
    "### 제한사항\n",
    "- key는 M x M(3 $\\le$ M $\\le$ 20, M은 자연수) 크기 2차원 배열입니다.\n",
    "- lock은 N x N(3 $\\le$ N $\\le$ 20, N은 자연수) 크기 2차원 배열입니다.\n",
    "- M은 항상 N 이하입니다.\n",
    "- key와 lock의 원소는 0 또는 1로 이루어져 있습니다. 이때 0은 홈 부분, 1은 돌기 부분을 나타냅니다."
   ]
  },
  {
   "cell_type": "code",
   "execution_count": 2,
   "id": "54c4eab4",
   "metadata": {},
   "outputs": [],
   "source": [
    "# key를 90도 회전\n",
    "def turn_90(x):\n",
    "    n = len(x)\n",
    "    m = len(x[0])\n",
    "    # 초기화 리스트 생성\n",
    "    result = [[0] * n for _ in range(m)]\n",
    "    for i in range(n):\n",
    "        for j in range(m):\n",
    "            # 90도 회전 팁\n",
    "            result[j][n-i-1] = x[i][j]\n",
    "    return result\n",
    "\n",
    "# 정답인지 아닌지 판단\n",
    "def check(new_lock):\n",
    "    # 중간부터 시작\n",
    "    lock_length = len(new_lock) // 3\n",
    "    for i in range(lock_length, lock_length * 2):\n",
    "        for j in range(lock_length, lock_length * 2):\n",
    "            if new_lock[i][j] != 1:\n",
    "                return False\n",
    "    return True\n",
    "\n",
    "def solution(key, lock):\n",
    "    n = len(lock)\n",
    "    m = len(key)\n",
    "    \n",
    "    # 새로운 초기화 리스트 생성\n",
    "    new_lock = [[0] * (n * 3) for _ in range(n * 3)]\n",
    "    \n",
    "    for i in range(n):\n",
    "        for j in range(n):\n",
    "            # 정중앙에 lock을 추가\n",
    "            new_lock[i+n][j+n] = lock[i][j]\n",
    "            \n",
    "    for rotation in range(4):\n",
    "        key = turn_90(key)\n",
    "        for i in range(n*2):\n",
    "            for j in range(n*2):\n",
    "                \n",
    "                # 키 추가하기\n",
    "                for x in range(m):\n",
    "                    for y in range(m):\n",
    "                        new_lock[x+i][y+j] += key[x][y]\n",
    "                \n",
    "                # 정답인지 아닌지 판단\n",
    "                if check(new_lock) == True:\n",
    "                    return True\n",
    "                \n",
    "                # 키 제거하기\n",
    "                for x in range(m):\n",
    "                    for y in range(m):\n",
    "                        new_lock[x+i][y+j] -= key[x][y]\n",
    "                        \n",
    "    return False"
   ]
  },
  {
   "cell_type": "markdown",
   "id": "ca71f014",
   "metadata": {},
   "source": [
    "key와 lock은 최대가 20이므로 20 x 20 = 400, python은 1초에 2000만에서 1억 정도의 연산을 할 수 있으므로 완전탐색을 해도 됩니다.\n",
    "\n",
    "여기서 키포인트는 lock 주변으로 같은 크기의 배열을 양 옆, 위 아래로 추가하여 크기를 3배로 하는 것입니다. 이유는 key를 충분히 회전, 이동시키기 위해서는 똑같은 크기가 3개 필요하기 때문입니다. 이렇게 3배의 배열을 만들고 중간을 lock으로 채운 뒤, key를 맞대어 보아서 lock의 배열이 모두 1이 될 때, true를 return 시킨다.\n",
    "\n",
    "또 다른 키포인트는 배열을 시계방향으로 90도 회전 시키는 코드입니다. 앞으로의 문제에서도 종종 나타날 수 있으니 코드를 잘 기억해야합니다."
   ]
  }
 ],
 "metadata": {
  "kernelspec": {
   "display_name": "Python 3 (ipykernel)",
   "language": "python",
   "name": "python3"
  },
  "language_info": {
   "codemirror_mode": {
    "name": "ipython",
    "version": 3
   },
   "file_extension": ".py",
   "mimetype": "text/x-python",
   "name": "python",
   "nbconvert_exporter": "python",
   "pygments_lexer": "ipython3",
   "version": "3.9.12"
  }
 },
 "nbformat": 4,
 "nbformat_minor": 5
}
