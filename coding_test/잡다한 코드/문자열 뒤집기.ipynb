{
 "cells": [
  {
   "cell_type": "markdown",
   "id": "3a137acf",
   "metadata": {},
   "source": [
    "### 문제\n",
    "다솜이는 0과 1로만 이루어진 문자열 S를 가지고 있습니다. 다솜이는 이 문자열 S에 있는 모든 숫자를 전부 같게 만들려고 합니다. 다솜이가 할 수 있는 행동은 S에서 연속된 하나 이상의 숫자를 잡고 모두 뒤집는 것입니다. 뒤집는 것은 1을 0으로, 0을 1로 바꾸는 것을 의미합니다.\n",
    "\n",
    "예를 들어 S = 0001100일 때는 다음과 같습니다. \n",
    "1. 전체를 뒤집으면 1110011이 됩니다.\n",
    "2. 4번째 문자부터 5번째 문자까지 뒤집으면 1111111이 되어서 두 번 만에 모두 같은 숫자로 만들 수 있습니다.\n",
    "\n",
    "하지만, 처음부터 4번재 문자부터 5번째 문자까지 문자를 뒤집으면 한 번에 0000000이 되어서 1번 만에 모두 같은 숫자로 만들 수 있습니다.  \n",
    "문자열 S가 주어졌을 때, 다솜이가 해야 하는 행동의 최소 횟수를 출력하세요.\n",
    "\n",
    "### 입력\n",
    "첫째 줄에 0과 1로만 이루어진 문자열 S가 주어집니다. S의 길이는 100만보다 작습니다.\n",
    "\n",
    "### 출력\n",
    "첫째 줄에 다솜이가 해야 하는 행동의 최소 횟수를 출력합니다."
   ]
  },
  {
   "cell_type": "markdown",
   "id": "aff1ad69",
   "metadata": {},
   "source": [
    "## 생각\n",
    "1. string의 원소들을 하나씩 돌아다니며 초기값과 다르면 count += 1, 그 원소를 초기값으로 바꾼다. 마지막에 result = count // 2+ count % 2로 한다."
   ]
  },
  {
   "cell_type": "code",
   "execution_count": 2,
   "id": "acee55d8",
   "metadata": {},
   "outputs": [
    {
     "name": "stdout",
     "output_type": "stream",
     "text": [
      "10010010\n",
      "3\n"
     ]
    }
   ],
   "source": [
    "number = input()\n",
    "\n",
    "start_num = number[0]\n",
    "count = 0\n",
    "\n",
    "for i in range(1, len(number)):\n",
    "    if start_num != number[i]:\n",
    "        count += 1\n",
    "\n",
    "result = (count // 2) + (count % 2)\n",
    "print(result)"
   ]
  }
 ],
 "metadata": {
  "kernelspec": {
   "display_name": "Python 3 (ipykernel)",
   "language": "python",
   "name": "python3"
  },
  "language_info": {
   "codemirror_mode": {
    "name": "ipython",
    "version": 3
   },
   "file_extension": ".py",
   "mimetype": "text/x-python",
   "name": "python",
   "nbconvert_exporter": "python",
   "pygments_lexer": "ipython3",
   "version": "3.9.12"
  }
 },
 "nbformat": 4,
 "nbformat_minor": 5
}
