{
 "cells": [
  {
   "cell_type": "markdown",
   "id": "2a27ab93",
   "metadata": {},
   "source": [
    "### 문제\n",
    "알파벳 대문자와 숫자(0 ~ 9)로만 구성된 문자열이 입력으로 주어집니다. 이때 모든 알파벳을 오름차순으로 정렬하여 이어서 출력한 뒤에, 그 뒤에 모든 숫자를 더한 값을 이어서 출력합니다.\n",
    "\n",
    "예를 들어 K1KA5CB7이라는 값이 들어오면 ABCKK13을 출력합니다.\n",
    "\n",
    "### 입력\n",
    "- 철째 줄에 하나의 문자열 S가 주어집니다. (1 $\\le$ S의 길이 $\\le$ 10,000)\n",
    "\n",
    "### 출력\n",
    "- 첫째 줄에 문제에서 요구하는 정답을 출력합니다."
   ]
  },
  {
   "cell_type": "markdown",
   "id": "57314086",
   "metadata": {},
   "source": [
    "## 생각\n",
    "1. for문으로 string의 원소를 돌아가며 각 원소가 isalpha()이면 alpha_list에, 아니면 result에 += 하고 alpha_list를 sort하고 result를 append 한다."
   ]
  },
  {
   "cell_type": "code",
   "execution_count": 3,
   "id": "921fdb92",
   "metadata": {},
   "outputs": [
    {
     "name": "stdout",
     "output_type": "stream",
     "text": [
      "AJKDSLI412K4JSJ9D\n",
      "A D D I J J J K K L S S 20\n"
     ]
    }
   ],
   "source": [
    "string = input()\n",
    "\n",
    "alpha_list = []\n",
    "number_list = []\n",
    "result = 0\n",
    "\n",
    "for s in string:\n",
    "    if s.isalpha():\n",
    "        alpha_list.append(s)\n",
    "    else:\n",
    "        result += int(s)\n",
    "        \n",
    "alpha_list.sort()\n",
    "alpha_list.append(result)\n",
    "\n",
    "print(*alpha_list)"
   ]
  }
 ],
 "metadata": {
  "kernelspec": {
   "display_name": "Python 3 (ipykernel)",
   "language": "python",
   "name": "python3"
  },
  "language_info": {
   "codemirror_mode": {
    "name": "ipython",
    "version": 3
   },
   "file_extension": ".py",
   "mimetype": "text/x-python",
   "name": "python",
   "nbconvert_exporter": "python",
   "pygments_lexer": "ipython3",
   "version": "3.9.12"
  }
 },
 "nbformat": 4,
 "nbformat_minor": 5
}
