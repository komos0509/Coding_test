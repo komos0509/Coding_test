{
 "cells": [
  {
   "cell_type": "markdown",
   "id": "65bbf291",
   "metadata": {},
   "source": [
    "### 문제\n",
    "길이가 N인 수열이 주어졌을 때, 그 수열의 합을 구하려고 한다. 하지만, 그냥 그 수열의 합을 모두 더해서 구하는 것이 아니라, 수열의 두 수를 묶으려고 한다. 어떤 수를 묶으려고 할 때, 위치에 상관없이 묶을 수 있다. 하지만, 같은 위치에 있는 수(자기 자신)를 묶는 것은 불가능하다. 그리고 어떤 수를 묶게 되면, 수열의 합을 구할 때 묶은 수는 서로 곱한 후에 더한다.\n",
    "\n",
    "예를 들면, 어떤 수열이 {0, 1, 2, 4, 3, 5}일 때, 그냥 이 수열의 합을 구하면 0+1+2+4+3+5 = 15이다. 하지만, 2와 3을 묶고, 4와 5를 묶게 되면, 0+1+(2*3)+(4*5) = 27이 되어 최대가 된다.\n",
    "\n",
    "수열의 모든 수는 단 한번만 묶거나, 아니면 묶지 않아야한다.\n",
    "\n",
    "수열이 주어졌을 때, 수열의 각 수를 적절히 묶었을 때, 그 합이 최대가 되게 하는 프로그램을 작성하시오.\n",
    "\n",
    "### 입력\n",
    "첫째 줄에 수열의 크기 N이 주어진다. N은 50보다 작은 자연수이다. 둘째 줄부터 N개의 줄에 수열의 각 수가 주어진다. 수열의 수는 -1,000보다 크거나 같고, 1,000보다 작거나 같은 정수이다.\n",
    "\n",
    "### 출력\n",
    "수를 합이 최대가 나오게 묶었을 때 합을 출력한다. 정답은 항상 231보다 작다."
   ]
  },
  {
   "cell_type": "markdown",
   "id": "73f587d0",
   "metadata": {},
   "source": [
    "## 생각\n",
    "1. 양수, 음수, 1, 0의 리스트를 만들고 양수, 음수가 짝수, 홀수일 때, 음수에서 0이 있을때, 없을 때, 음수의 크기가 1일때 아닐때, 등등 모든 조건을 걸어 계산"
   ]
  },
  {
   "cell_type": "code",
   "execution_count": 8,
   "id": "b379af24",
   "metadata": {},
   "outputs": [
    {
     "name": "stdout",
     "output_type": "stream",
     "text": [
      "3\n",
      "4\n",
      "2\n",
      "11\n",
      "46\n"
     ]
    }
   ],
   "source": [
    "# 맞았습니다.\n",
    "N = int(input())\n",
    "\n",
    "plus = []\n",
    "minus = []\n",
    "one = []\n",
    "zero = []\n",
    "\n",
    "for _ in range(N):\n",
    "    number = int(input())\n",
    "    if number == 1:\n",
    "        one.append(number)\n",
    "    elif number > 0:\n",
    "        plus.append(number)\n",
    "    elif number < 0:\n",
    "        minus.append(number)\n",
    "    else:\n",
    "        zero.append(number)\n",
    "        \n",
    "plus.sort()\n",
    "minus.sort(reverse=True)\n",
    "result = 0\n",
    "\n",
    "if len(minus) % 2 == 0:\n",
    "    for _ in range(len(minus) // 2):\n",
    "        a = minus.pop()\n",
    "        b = minus.pop()\n",
    "        result += a * b\n",
    "else:\n",
    "    if len(zero) == 0:\n",
    "        if len(minus) == 1:\n",
    "            result += minus[0]\n",
    "        else:\n",
    "            for _ in range(len(minus) // 2):\n",
    "                a = minus.pop()\n",
    "                b = minus.pop()\n",
    "                result += a * b\n",
    "            result += minus[0]\n",
    "    else:\n",
    "        if len(minus) > 1:\n",
    "            for i in range(len(minus) // 2):\n",
    "                a = minus.pop()\n",
    "                b = minus.pop()\n",
    "                result += a * b\n",
    "                \n",
    "if len(plus) % 2 == 0:\n",
    "    for _ in range(len(plus) // 2):\n",
    "        a = plus.pop()\n",
    "        b = plus.pop()\n",
    "        result += a * b\n",
    "else:\n",
    "    if len(plus) == 1:\n",
    "        result += plus[0]\n",
    "    else:\n",
    "        for _ in range(len(plus) // 2):\n",
    "            a = plus.pop()\n",
    "            b = plus.pop()\n",
    "            result += a * b\n",
    "        result += plus[0]\n",
    "        \n",
    "result += sum(one)\n",
    "\n",
    "print(result)"
   ]
  }
 ],
 "metadata": {
  "kernelspec": {
   "display_name": "Python 3 (ipykernel)",
   "language": "python",
   "name": "python3"
  },
  "language_info": {
   "codemirror_mode": {
    "name": "ipython",
    "version": 3
   },
   "file_extension": ".py",
   "mimetype": "text/x-python",
   "name": "python",
   "nbconvert_exporter": "python",
   "pygments_lexer": "ipython3",
   "version": "3.9.12"
  }
 },
 "nbformat": 4,
 "nbformat_minor": 5
}
