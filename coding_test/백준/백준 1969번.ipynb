{
 "cells": [
  {
   "cell_type": "markdown",
   "id": "ea9d5b75",
   "metadata": {},
   "source": [
    "### 문제\n",
    "DNA란 어떤 유전물질을 구성하는 분자이다. 이 DNA는 서로 다른 4가지의 뉴클레오티드로 이루어져 있다(Adenine, Thymine, Guanine, Cytosine). 우리는 어떤 DNA의 물질을 표현할 때, 이 DNA를 이루는 뉴클레오티드의 첫글자를 따서 표현한다. 만약에 Thymine-Adenine-Cytosine-Thymine-Guanine-Cytosine-Guanine-Adenine-Thymine로 이루어진 DNA가 있다고 하면, TAACTGCCGAT\"로 표현할 수 있다. 그리고 Hamming Distance란 길이가 같은 두 DNA가 있을 때, 각 위치의 뉴클레오티드 문자가 다른 것의 개수이다. 만약에 \"AGCAT\"와 \"GGAAT\"는 첫 번째 글자와 세 번째 글자가 다르므로 Hamming Distance는 2이다. \n",
    "\n",
    "우리가 할 일은 다음과 같다. N개의 길이 M인 DNA $s_{1}, s_{2}, ..., S_{n}$가 주어져 있을 때 Hamming Distance의 합이 가장 작은 DNA s를 구하는 것이다. 즉 s와 $s_{1}$의 Hamming Distance + s와 $s_{2}$의 Hamming Distance + s와 $s_{3}$의 Hamming Distance ... 의 합이 최소가 된다는 의미이다. \n",
    "\n",
    "### 입력\n",
    "첫 줄에 DNA의 수 N과 물자열의 길이 M이 주어진다. 그리고 둘째 줄부터 N+1번째 줄까지 N개의 DNA가 주어진다. N은 1,000보다 작거나 같은 자연수이고, M은 50보다 작거나 같은 자연수이다.\n",
    "\n",
    "### 출력\n",
    "첫째 줄에 Hamming Distance의 합이 가장 작은 DNA를 출력하고, 둘째 줄에는 그 Hamming Distance의 합을 출력하시오. 그러한 DNA가 여러 개 있을 때에는 사전순으로 가장 앞서는 것을 출력한다."
   ]
  },
  {
   "cell_type": "markdown",
   "id": "170eb94b",
   "metadata": {},
   "source": [
    "## 생각\n",
    "1. for문 2개를 이용하여 첫번째는 M까지, 두번째는 각 string을 돌아다니며 string[i]를 따로 리스트에 append, max(list, key=list.count)를 문자열에 추가 후 result += N - max 한다."
   ]
  },
  {
   "cell_type": "code",
   "execution_count": 5,
   "id": "f378b40c",
   "metadata": {},
   "outputs": [
    {
     "name": "stdout",
     "output_type": "stream",
     "text": [
      "4 10\n",
      "ACGTACGTAC\n",
      "CCGTACGTAG\n",
      "GCGTACGTAT\n",
      "TCGTACGTAA\n",
      "ACGTACGTAC\n",
      "6\n"
     ]
    }
   ],
   "source": [
    "# 틀렸습니다. - 맨 마지막이 C가 아닌 A여야함. ACGTACGTAA\n",
    "# DNA를 출력할 때 여러개 있을 경우 사전순으로 정렬해야 하므로 수정\n",
    "N, M = map(int, input().split())\n",
    "string_list = [list(input()) for _ in range(N)]\n",
    "\n",
    "result = ''\n",
    "count = 0\n",
    "\n",
    "for i in range(M):\n",
    "    result_list = []\n",
    "    for string in string_list:\n",
    "        result_list.append(string[i])\n",
    "    max_freq = max(result_list, key=result_list.count)\n",
    "    result += max_freq\n",
    "    count += N - result_list.count(max_freq)\n",
    "    \n",
    "print(result, count, sep='\\n')"
   ]
  },
  {
   "cell_type": "code",
   "execution_count": 6,
   "id": "20f931a6",
   "metadata": {},
   "outputs": [
    {
     "name": "stdout",
     "output_type": "stream",
     "text": [
      "4 10\n",
      "ACGTACGTAC\n",
      "CCGTACGTAG\n",
      "GCGTACGTAT\n",
      "TCGTACGTAA\n",
      "ACGTACGTAA\n",
      "6\n"
     ]
    }
   ],
   "source": [
    "# 맞았습니다.\n",
    "N, M = map(int, input().split())\n",
    "string_list = [list(input()) for _ in range(N)]\n",
    "\n",
    "result = ''\n",
    "count = 0\n",
    "\n",
    "for i in range(M):\n",
    "    result_list = []\n",
    "    for string in string_list:\n",
    "        result_list.append(string[i])\n",
    "    result_list.sort()\n",
    "    max_freq = max(result_list, key=result_list.count)\n",
    "    result += max_freq\n",
    "    count += N - result_list.count(max_freq)\n",
    "    \n",
    "print(result, count, sep='\\n')"
   ]
  }
 ],
 "metadata": {
  "kernelspec": {
   "display_name": "Python 3 (ipykernel)",
   "language": "python",
   "name": "python3"
  },
  "language_info": {
   "codemirror_mode": {
    "name": "ipython",
    "version": 3
   },
   "file_extension": ".py",
   "mimetype": "text/x-python",
   "name": "python",
   "nbconvert_exporter": "python",
   "pygments_lexer": "ipython3",
   "version": "3.9.12"
  }
 },
 "nbformat": 4,
 "nbformat_minor": 5
}
