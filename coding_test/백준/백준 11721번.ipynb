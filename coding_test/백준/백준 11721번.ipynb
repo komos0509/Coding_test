{
 "cells": [
  {
   "cell_type": "markdown",
   "id": "469eb383",
   "metadata": {},
   "source": [
    "### 문제\n",
    "알파벳 소문자와 대문자로만 이루어진 길이가 N인 단어가 주어진다.\n",
    "\n",
    "한 줄에 10글자씩 끊어서 출력하는 프로그램을 작성하시오.\n",
    "\n",
    "### 입력\n",
    "첫째 줄에 단어가 주어진다. 단어는 알파벳 소문자와 대문자로만 이루어져 있으며, 길이는 100을 넘지 않는다. 길이가 0인 단어는 주어지지 않는다.\n",
    "\n",
    "### 출력\n",
    "입력으로 주어진 단어를 열 개씩 끊어서 한 줄에 하나씩 출력한다. 단어의 길이가 10의 배수가 아닌 경우에는 마지막 줄에는 10개 미만의 글자만 출력할 수도 있다."
   ]
  },
  {
   "cell_type": "markdown",
   "id": "225c11fe",
   "metadata": {},
   "source": [
    "## 생각\n",
    "1. for문으로 문자열을 돌아다니며 count += 1. count가 10이면 print(), ten += 10. 마지막에 count가 0이 아니면 나머지 출력."
   ]
  },
  {
   "cell_type": "code",
   "execution_count": 9,
   "id": "8c5d6fa4",
   "metadata": {},
   "outputs": [
    {
     "name": "stdout",
     "output_type": "stream",
     "text": [
      "OneTwoThreeFourFiveSixSevenEightNineTen\n",
      "OneTwoThre\n",
      "eFourFiveS\n",
      "ixSevenEig\n",
      "htNineTen\n"
     ]
    }
   ],
   "source": [
    "# 맞았습니다.\n",
    "word = input()\n",
    "\n",
    "count = 0\n",
    "ten = 0\n",
    "for w in word:\n",
    "    if count == 10:\n",
    "        print(word[ten:ten+10])\n",
    "        ten += 10\n",
    "        count = 1\n",
    "        continue\n",
    "    count += 1\n",
    "\n",
    "if count != 0:\n",
    "    print(word[ten:])"
   ]
  }
 ],
 "metadata": {
  "kernelspec": {
   "display_name": "Python 3 (ipykernel)",
   "language": "python",
   "name": "python3"
  },
  "language_info": {
   "codemirror_mode": {
    "name": "ipython",
    "version": 3
   },
   "file_extension": ".py",
   "mimetype": "text/x-python",
   "name": "python",
   "nbconvert_exporter": "python",
   "pygments_lexer": "ipython3",
   "version": "3.9.12"
  }
 },
 "nbformat": 4,
 "nbformat_minor": 5
}
