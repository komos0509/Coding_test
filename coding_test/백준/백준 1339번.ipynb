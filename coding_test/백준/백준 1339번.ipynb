{
 "cells": [
  {
   "cell_type": "markdown",
   "id": "b30d2a8e",
   "metadata": {},
   "source": [
    "### 문제\n",
    "민식이는 수학학원에서 단어 수학 문제를 푸는 숙제를 받았다.\n",
    "\n",
    "단어 수학 문제는 N개의 단어로 이루어져 있으며, 각 단어는 알파벳 대문자로만 이루어져 있다. 이때, 각 알파벳 대문자를 0부터 9까지의 숫자 중 하나로 바꿔서 N개의 수를 합하는 문제이다. 같은 알파벳은 같은 숫자로 바꿔야 하며, 두 개 이상의 알파벳이 같은 숫자로 바뀌어지면 안 된다.\n",
    "\n",
    "예를 들어, GCF + ACDEB를 계산한다고 할 때, A = 9, B = 4, C = 8, D = 6, E = 5, F = 3, G = 7로 결정한다면, 두 수의 합은 99437이 되어서 최대가 될 것이다.\n",
    "\n",
    "N개의 단어가 주어졌을 때, 그 수의 합을 최대로 만드는 프로그램을 작성하시오.\n",
    "\n",
    "### 입력\n",
    "첫째 줄에 단어의 개수 N(1 ≤ N ≤ 10)이 주어진다. 둘째 줄부터 N개의 줄에 단어가 한 줄에 하나씩 주어진다. 단어는 알파벳 대문자로만 이루어져있다. 모든 단어에 포함되어 있는 알파벳은 최대 10개이고, 수의 최대 길이는 8이다. 서로 다른 문자는 서로 다른 숫자를 나타낸다.\n",
    "\n",
    "### 출력\n",
    "첫째 줄에 주어진 단어의 합의 최댓값을 출력한다."
   ]
  },
  {
   "cell_type": "markdown",
   "id": "f912af0f",
   "metadata": {},
   "source": [
    "## 생각\n",
    "1. 리스트를 크기 순으로 정렬한 다음 크기 리스트를 따로 만든다. for문으로 최대 크기를 기준으로 크기 리스트와 같은 입력값들을 이용해서 각 알파벳의 순서를 나타낸다. 그리고 0부터 9까지의 내림차순의 숫자 리스트를 만들고 알파벳 순서의 값을 result에 더한다. 자릿값은 10 ** 크기 - 1이런식으로."
   ]
  },
  {
   "cell_type": "code",
   "execution_count": 64,
   "id": "aa27092d",
   "metadata": {},
   "outputs": [
    {
     "name": "stdout",
     "output_type": "stream",
     "text": [
      "10\n",
      "ABB\n",
      "BC\n",
      "BC\n",
      "BC\n",
      "BC\n",
      "BC\n",
      "BC\n",
      "BC\n",
      "BC\n",
      "BC\n",
      "1771\n"
     ]
    }
   ],
   "source": [
    "# 틀렸습니다.\n",
    "N = int(input())\n",
    "\n",
    "word = []\n",
    "word_length = []\n",
    "make_word = []\n",
    "visited = []\n",
    "# 0부터 9까지 내림차순 리스트\n",
    "number = list(range(9, -1, -1))\n",
    "for _ in range(N):\n",
    "    w = input()\n",
    "    word.append(w)\n",
    "    word_length.append(len(w))\n",
    "\n",
    "word.sort(reverse=True, key=lambda x: len(x))\n",
    "word_length.sort(reverse=True)\n",
    "\n",
    "# 최댓값을 기준으로 1씩 빼면서 살펴본다.\n",
    "for i in range(word_length[0], -1, -1):\n",
    "    for j in range(len(word_length)):\n",
    "        # 만약 make_word에 word가 다 들어가면 break\n",
    "        if len(word) == len(make_word):\n",
    "            break\n",
    "        # make_word에 길이가 최대인 word 넣기\n",
    "        if i == word_length[j] and word[j] not in make_word:\n",
    "            make_word.append(word[j])\n",
    "\n",
    "            \n",
    "    count = 0\n",
    "    for k in range(len(make_word)):\n",
    "        # 만약 make_word의 원소가 1개라도 있으면 돌리기\n",
    "        if len(make_word[k]) > 0:\n",
    "            # make_word의 원소를 돌아다니며 원소의 각 알파벳이 visited에 없다면 visited에 넣기\n",
    "            if make_word[k][count] not in visited:\n",
    "                visited.append(make_word[k][count])\n",
    "                # 알파벳을 넣은 뒤, 그 원소에 알파벳을 없앤다.\n",
    "                make_word[k] = make_word[k][count+1:]\n",
    "            else:\n",
    "                make_word[k] = make_word[k][count+1:]\n",
    "\n",
    "result = 0\n",
    "for w in word:\n",
    "    for j in range(len(w)):\n",
    "        # visited의 각 알파벳에 대응하는 숫자 리스트 * 자릿값을 다 더한다.\n",
    "        result += number[visited.index(w[j])] * (10 ** (len(w) - (j+1)))\n",
    "print(result)"
   ]
  },
  {
   "cell_type": "markdown",
   "id": "ca56f806",
   "metadata": {},
   "source": [
    "알파벳의 순서대로 높은 숫자를 부여하면 되는 줄 알았지만 위 예제 처럼 알될 수도 있다. 위 예제를 보면 A에 9, B에 8, C에 7을 넣어 1771 값이 나왔다. 하지만 B에 9, A에 8, C에 7을 넣는다면 1772로 최댓값이 나타난다. \n",
    "\n",
    "그 이유는 위 알파벳들을 숫자로 나타내어 다 더한다면 A * 100 + B * 101 + C * 9이다. 여기서 B가 * 101이므로 9를, 그 다음 A에 8, 마지막으로 C에 7을 넣어 최댓값이 되는 것이다."
   ]
  },
  {
   "cell_type": "code",
   "execution_count": 88,
   "id": "a0cf995a",
   "metadata": {},
   "outputs": [
    {
     "name": "stdout",
     "output_type": "stream",
     "text": [
      "10\n",
      "ABB\n",
      "BC\n",
      "BC\n",
      "BC\n",
      "BC\n",
      "BC\n",
      "BC\n",
      "BC\n",
      "BC\n",
      "BC\n",
      "1772\n"
     ]
    }
   ],
   "source": [
    "# 맞았습니다.\n",
    "from collections import defaultdict\n",
    "\n",
    "word = defaultdict(int)\n",
    "N = int(input())\n",
    "for _ in range(N):\n",
    "    w = input()\n",
    "    for i in range(len(w)):\n",
    "        # 알파벳의 자릿값을 딕셔너리에 넣는다.\n",
    "        word[w[i]] += 10 ** (len(w) - (i+1))\n",
    "\n",
    "# 정렬을 위해 알파벳의 자릿값을 리스트화한다.\n",
    "weight = list(word.values())\n",
    "\n",
    "# 내림차순으로 정렬\n",
    "weight.sort(reverse=True)\n",
    "\n",
    "result = 0\n",
    "count = 9\n",
    "for w in weight:\n",
    "    # 각 자릿값에 9부터 1씩 감소하는 값들을 곱하고 최종값에 더한다.\n",
    "    result += w * count\n",
    "    count -= 1\n",
    "    \n",
    "print(result)"
   ]
  },
  {
   "cell_type": "markdown",
   "id": "575e3c24",
   "metadata": {},
   "source": [
    "여기서 키 포인트는 defaultdict를 이용하는 것이다. 기존의 딕셔너리는 각 키의 초깃값을 넣어 그 후, 더하거나 빼거나 할 수 있지만 defaultdict는 키를 넣어주면 바로 초깃값을 넣어주어 편리하다. 이렇게 각 자릿값을 넣어, 자릿값이 가장 큰것에 9, 그 다음은 순차적으로 곱해 결과를 얻어낸다."
   ]
  }
 ],
 "metadata": {
  "kernelspec": {
   "display_name": "LSJ_test",
   "language": "python",
   "name": "lsj"
  },
  "language_info": {
   "codemirror_mode": {
    "name": "ipython",
    "version": 3
   },
   "file_extension": ".py",
   "mimetype": "text/x-python",
   "name": "python",
   "nbconvert_exporter": "python",
   "pygments_lexer": "ipython3",
   "version": "3.9.12"
  }
 },
 "nbformat": 4,
 "nbformat_minor": 5
}
