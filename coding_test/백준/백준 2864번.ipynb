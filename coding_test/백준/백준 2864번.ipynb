{
 "cells": [
  {
   "cell_type": "markdown",
   "id": "ff9d1bab",
   "metadata": {},
   "source": [
    "### 문제\n",
    "상근이는 2863번에서 표를 너무 열심히 돌린 나머지 5와 6을 헷갈리기 시작했다.\n",
    "상근이가 숫자 5를 볼 때, 5로 볼 때도 있지만, 6으로 잘못 볼 수 도 있고, 6을 볼 때는, 6으로 볼 때도 있지만, 5로 잘못 볼 수 있다.\n",
    "두 수 A와 B가 주어졌을 때, 상근이는 이 두 수를 더하려고 한다. 이 때, 상근이가 구할 수 있는 두 수의 가능한 합 중, 최솟값과 최댓값을 구해 출력하는 프로그램을 작성하시오.\n",
    "\n",
    "### 입력\n",
    "첫째 줄에 두 정수 A와 B가 주어진다. (1$\\le$A, B$\\le$1,000,000)\n",
    "\n",
    "### 출력\n",
    "첫째 줄에 상근이가 구할 수 잇는 두 수의 합 중 최솟값과 최댓값을 출력한다."
   ]
  },
  {
   "cell_type": "markdown",
   "id": "eb6e33ec",
   "metadata": {},
   "source": [
    "## 생각\n",
    "1. 정수를 문자열로 변환 후 5, 6을 6, 5로 변경하고 다시 정수로 변환"
   ]
  },
  {
   "cell_type": "code",
   "execution_count": 14,
   "id": "47080424",
   "metadata": {},
   "outputs": [
    {
     "name": "stdout",
     "output_type": "stream",
     "text": [
      "1430 4862\n",
      "6282 6292\n"
     ]
    }
   ],
   "source": [
    "# 맞았습니다.\n",
    "a, b = map(int, input().split(' '))\n",
    "result_list = []\n",
    "\n",
    "result_list.append(a + b)\n",
    "\n",
    "a = str(a).replace('5', '6')\n",
    "b = str(b).replace('5', '6')\n",
    "result_list.append(int(a) + int(b))\n",
    "\n",
    "a = str(a).replace('6', '5')\n",
    "b = str(b).replace('6', '5')\n",
    "\n",
    "result_list.append(int(a) + int(b))\n",
    "\n",
    "print(min(result_list), max(result_list), sep=' ')"
   ]
  }
 ],
 "metadata": {
  "kernelspec": {
   "display_name": "Python 3 (ipykernel)",
   "language": "python",
   "name": "python3"
  },
  "language_info": {
   "codemirror_mode": {
    "name": "ipython",
    "version": 3
   },
   "file_extension": ".py",
   "mimetype": "text/x-python",
   "name": "python",
   "nbconvert_exporter": "python",
   "pygments_lexer": "ipython3",
   "version": "3.9.12"
  }
 },
 "nbformat": 4,
 "nbformat_minor": 5
}
