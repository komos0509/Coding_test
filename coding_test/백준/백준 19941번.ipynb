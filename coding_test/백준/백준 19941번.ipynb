{
 "cells": [
  {
   "cell_type": "markdown",
   "id": "a1d778e6",
   "metadata": {},
   "source": [
    "### 문제\n",
    "기다란 벤치 모양의 식탁에 사람들과 햄버거가 아래와 같이 단위 간격으로 놓여 있다. 사람들은 자신의 위치에서 거리가 \n",
    "$K$ 이하인 햄버거를 먹을 수 있다.\n",
    "\n",
    "![백준 2](https://user-images.githubusercontent.com/60602671/226222707-ca5c0cde-d512-4921-ab33-2e6a611deda3.png)\n",
    "\n",
    "위의 상태에서 \n",
    "$K = 1$인 경우를 생각해보자. 이 경우 모든 사람은 자신과 인접한 햄버거만 먹을 수 있다. 10번의 위치에 있는 사람은 11번 위치에 있는 햄버거를 먹을 수 있다. 이 경우 다음과 같이 최대 5명의 사람이 햄버거를 먹을 수 있다.\n",
    "\n",
    "- 2번 위치에 있는 사람: 1번 위치에 있는 햄버거\n",
    "- 4번 위치에 있는 사람: 5번 위치에 있는 햄버거\n",
    "- 6번 위치에 있는 사람: 7번 위치에 있는 햄버거\n",
    "- 9번 위치에 있는 사람: 8번 위치에 있는 햄버거\n",
    "- 10번 위치에 있는 사람: 11번 위치에 있는 햄버거\n",
    "- 12번 위치에 있는 사람: 먹을 수 있는 햄버거가 없음\n",
    "\n",
    "\n",
    "$K = 2$인 경우에는 6명 모두가 햄버거를 먹을 수 있다.\n",
    "\n",
    "- 2번 위치에 있는 사람: 1번 위치에 있는 햄버거\n",
    "- 4번 위치에 있는 사람: 3번 위치에 있는 햄버거\n",
    "- 6번 위치에 있는 사람: 5번 위치에 있는 햄버거\n",
    "- 9번 위치에 있는 사람: 7번 위치에 있는 햄버거\n",
    "- 10번 위치에 있는 사람: 8번 위치에 있는 햄버거\n",
    "- 12번 위치에 있는 사람: 11번 위치에 있는 햄버거  \n",
    "\n",
    "식탁의 길이 \n",
    "$N$, 햄버거를 선택할 수 있는 거리 \n",
    "$K$, 사람과 햄버거의 위치가 주어졌을 때, 햄버거를 먹을 수 있는 사람의 최대 수를 구하는 프로그램을 작성하시오.\n",
    "\n",
    "### 입력\n",
    "첫 줄에 두 정수 \n",
    "$N$과 \n",
    "$K$가 있다. 그리고 다음 줄에 사람과 햄버거의 위치가 문자 P(사람)와 H(햄버거)로 이루어지는 길이 \n",
    "$N$인 문자열로 주어진다.\n",
    "\n",
    "### 출력\n",
    "첫 줄에 햄버거를 먹을 수 있는 최대 사람 수를 나타낸다.\n",
    "\n",
    "### 제한\n",
    "\n",
    "$1 \\le N \\le 20,000$  \n",
    " \n",
    " \n",
    "$1 \\le K \\le 10$ \n"
   ]
  },
  {
   "cell_type": "markdown",
   "id": "a7b4c72e",
   "metadata": {},
   "source": [
    "## 생각\n",
    "1. for문으로 list를 돌아다니며 만약 원소가 P이면 이전과 이후에 H를 찾는다. 있으면 count += 1, 그 원소를 M으로 변경. 아니면 넘어가기"
   ]
  },
  {
   "cell_type": "code",
   "execution_count": 42,
   "id": "80a4abad",
   "metadata": {},
   "outputs": [
    {
     "name": "stdout",
     "output_type": "stream",
     "text": [
      "4 2\n",
      "MHPH\n",
      "1\n"
     ]
    }
   ],
   "source": [
    "# 틀렸습니다.\n",
    "# 원소의 이전과 이후를 같이 적용하다보니 오류가 발생하는거 같다.\n",
    "# range로 이전과 이후 같이 돌아갈 수 있게 변경\n",
    "N, K = map(int, input().split())\n",
    "hamberger_people = list(input())\n",
    "\n",
    "count = 0\n",
    "\n",
    "for i in range(len(hamberger_people)):\n",
    "    if hamberger_people[i] == 'P':\n",
    "        is_True = True\n",
    "        for j in range(K):\n",
    "            if i != 0 and i-(K-j) >= 0 and hamberger_people[i-(K-j)] == 'H':\n",
    "                count += 1\n",
    "                hamberger_people[i-(K-j)] = 'M'\n",
    "                is_True = False\n",
    "                break\n",
    "            elif i != (N-1) and hamberger_people[i+(j+1)] == 'H' and is_True:\n",
    "                count += 1\n",
    "                hamberger_people[i+(j+1)] = 'M'\n",
    "                break\n",
    "\n",
    "print(count)"
   ]
  },
  {
   "cell_type": "code",
   "execution_count": 43,
   "id": "e04e1750",
   "metadata": {},
   "outputs": [
    {
     "data": {
      "text/plain": [
       "['M', 'H', 'P', 'M']"
      ]
     },
     "execution_count": 43,
     "metadata": {},
     "output_type": "execute_result"
    }
   ],
   "source": [
    "hamberger_people"
   ]
  },
  {
   "cell_type": "markdown",
   "id": "d350fd70",
   "metadata": {},
   "source": [
    "이렇게 왼쪽의 H가 아닌 오른쪽의 H가 변경됨"
   ]
  },
  {
   "cell_type": "code",
   "execution_count": 44,
   "id": "cdcaa4af",
   "metadata": {},
   "outputs": [
    {
     "name": "stdout",
     "output_type": "stream",
     "text": [
      "4 2\n",
      "MHPH\n",
      "1\n"
     ]
    }
   ],
   "source": [
    "#맞았습니다.\n",
    "N, K = map(int, input().split())\n",
    "hamberger_people = list(input())\n",
    "\n",
    "count = 0\n",
    "\n",
    "for i in range(len(hamberger_people)):\n",
    "    if hamberger_people[i] == 'P':\n",
    "        for j in range(max(i-K, 0), min(i+K+1, N)):\n",
    "            if hamberger_people[j] == 'H':\n",
    "                count += 1\n",
    "                hamberger_people[j] = 'M'\n",
    "                break\n",
    "\n",
    "print(count)"
   ]
  },
  {
   "cell_type": "code",
   "execution_count": 45,
   "id": "6a3aaa09",
   "metadata": {},
   "outputs": [
    {
     "data": {
      "text/plain": [
       "['M', 'M', 'P', 'H']"
      ]
     },
     "execution_count": 45,
     "metadata": {},
     "output_type": "execute_result"
    }
   ],
   "source": [
    "hamberger_people"
   ]
  }
 ],
 "metadata": {
  "kernelspec": {
   "display_name": "Python 3 (ipykernel)",
   "language": "python",
   "name": "python3"
  },
  "language_info": {
   "codemirror_mode": {
    "name": "ipython",
    "version": 3
   },
   "file_extension": ".py",
   "mimetype": "text/x-python",
   "name": "python",
   "nbconvert_exporter": "python",
   "pygments_lexer": "ipython3",
   "version": "3.9.12"
  }
 },
 "nbformat": 4,
 "nbformat_minor": 5
}
