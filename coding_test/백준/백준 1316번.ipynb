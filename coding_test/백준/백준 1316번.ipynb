{
 "cells": [
  {
   "cell_type": "markdown",
   "id": "cd9c1396",
   "metadata": {},
   "source": [
    "### 문제\n",
    "그룹 단어란 단어에 존재하는 모든 문자에 대해서, 각 문자가 연속해서 나타나는 경우만을 말한다. 예를 들면, ccazzzzbb는 c, a, z, b가 모두 연속해서 나타나고, kin도 k, i, n이 연소갷서 나타나기 때문에 그룹 단어이지만, aabbbccb는 b가 떨어져서 나타나기 때문에 그룹 단어가 아니다.\n",
    "\n",
    "단어 N개를 입력으로 받아 그룹 단어의 개수를 출력하는 프로그램을 작성하시오.\n",
    "\n",
    "### 입력\n",
    "첫째 줄에 단어의 개수 N이 들어온다. N은 100보다 작거나 같은 자연수이다. 둘째 줄부터 N개의 줄에 단어가 들어온다. 단어는 알파벳 소문자로만 되어있고 중복되지 않으며, 길이는 최대 100이다.\n",
    "\n",
    "### 출력\n",
    "첫째 줄에 그룹 단어의 개수를 출력한다."
   ]
  },
  {
   "cell_type": "markdown",
   "id": "dd5d4589",
   "metadata": {},
   "source": [
    "## 생각\n",
    "1. list[0]을 일단 result_list에 append 하고 list를 len(list)-1까지 돌아다니며 i, i+1이 다르면 i+1번째 원소를 result_list에 append. 후, len(result_list) == len(set(list))이면 count += 1"
   ]
  },
  {
   "cell_type": "code",
   "execution_count": 6,
   "id": "713b2779",
   "metadata": {},
   "outputs": [
    {
     "name": "stdout",
     "output_type": "stream",
     "text": [
      "4\n",
      "aba\n",
      "abab\n",
      "abcabc\n",
      "a\n",
      "1\n"
     ]
    }
   ],
   "source": [
    "# 맞았습니다.\n",
    "N = int(input())\n",
    "\n",
    "count = 0\n",
    "\n",
    "for _ in range(N):\n",
    "    result_list = []\n",
    "    string = input()\n",
    "    result_list.append(string[0])\n",
    "    \n",
    "    for i in range(len(string)-1):\n",
    "        if string[i] != string[i+1]:\n",
    "            result_list.append(string[i+1])\n",
    "    if len(result_list) == len(set(string)):\n",
    "        count += 1\n",
    "        \n",
    "print(count)"
   ]
  }
 ],
 "metadata": {
  "kernelspec": {
   "display_name": "Python 3 (ipykernel)",
   "language": "python",
   "name": "python3"
  },
  "language_info": {
   "codemirror_mode": {
    "name": "ipython",
    "version": 3
   },
   "file_extension": ".py",
   "mimetype": "text/x-python",
   "name": "python",
   "nbconvert_exporter": "python",
   "pygments_lexer": "ipython3",
   "version": "3.9.12"
  }
 },
 "nbformat": 4,
 "nbformat_minor": 5
}
