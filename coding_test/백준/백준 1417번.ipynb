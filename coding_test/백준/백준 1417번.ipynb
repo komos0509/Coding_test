{
 "cells": [
  {
   "cell_type": "markdown",
   "id": "bb5c3c30",
   "metadata": {},
   "source": [
    "### 문제\n",
    "다솜이는 사람의 마음을 읽을 수 있는 기계를 가지고 있다. 다솜이는 이 기계를 이용해서 2008년 4월 9일 국회의원 선거를 조작하려고 한다.\n",
    "\n",
    "다솜이의 기계는 각 사람들이 누구를 찍을 지 미리 읽을 수 있다. 어떤 사람이 누구를 찍을 지 정했으면, 반드시 선거때 그 사람을 찍는다.\n",
    "\n",
    "현재 형택구에 나온 국회의원 후보는 N명이다. 다솜이는 이 기계를 이용해서 그 마을의 주민 M명의 마음을 모두 읽었다.\n",
    "\n",
    "다솜이는 기호 1번이다. 다솜이는 사람들의 마을을 읽어서 자신을 찍지 않으려는 사람을 돈으로 매수해서 국회의원에 당선이 되게 하려고 한다. 다른 모든 사람의 득표수 보다 많은 득표수를 가질 때, 그 사람이 국회의원에 당선된다. \n",
    "\n",
    "예를 들어서, 마음을 읽은 결과 기호 1번이 5표, 기호 2번이 7표, 기호 3번이 7표 라고 한다면, 다솜이는 2번 후보를 찍으려고 하던 사람 1명과, 3번 후보를 찍으려고 하던 사람 1명을 돈으로 매수하면, 국회의원에 당선이 된다.\n",
    "\n",
    "돈으로 매수한 사람은 반드시 다솜이를 찍는다고 가정한다.\n",
    "\n",
    "다솜이가 매수해야하는 사람의 최솟값을 출력하는 프로그램을 작성하시오.\n",
    "\n",
    "### 입력\n",
    "첫째 줄에 후보의 수 N이 주어진다. 둘째 줄부터 차례대로 기호 1번을 찍으려고 하는 사람의 수, 기호 2번을 찍으려고 하는 수, 이렇게 총 N개의 줄에 걸쳐 입력이 들어온다. N은 50보다 작거나 같은 자연수이고, 득표수는 100보다 작거나 같은 자연수이다.\n",
    "\n",
    "### 출력\n",
    "첫째 줄에 다솜이가 매수해야 하는 사람의 최솟값을 출력한다."
   ]
  },
  {
   "cell_type": "markdown",
   "id": "4237cd54",
   "metadata": {},
   "source": [
    "## 생각\n",
    "1. while True문을 사용하여 만약 list[0] < list[i] 이면 list[0] += 1, list[i] -= 1, count + 1. 만약 i == N이면 False. while문이 다 끝나고 count가 0이면 count = 1로 변경. 만약 len(list) == 1이면 False."
   ]
  },
  {
   "cell_type": "code",
   "execution_count": 11,
   "id": "572c18d4",
   "metadata": {},
   "outputs": [
    {
     "name": "stdout",
     "output_type": "stream",
     "text": [
      "5\n",
      "5\n",
      "10\n",
      "7\n",
      "3\n",
      "8\n",
      "3\n"
     ]
    }
   ],
   "source": [
    "# 틀렸습니다. \n",
    "# list[0] 과 list[i]가 같다면 아무런 조치를 취하지 않아 틀림\n",
    "N = int(input())\n",
    "\n",
    "number_list = []\n",
    "is_True = True\n",
    "\n",
    "for _ in range(N):\n",
    "    number = int(input())\n",
    "    number_list.append(number)\n",
    "\n",
    "if len(number_list) == 1:\n",
    "    is_True = False\n",
    "    \n",
    "me = number_list[0]\n",
    "i = 1\n",
    "count = 0\n",
    "\n",
    "while is_True:\n",
    "    if len(set(number_list)) == 1:\n",
    "        count += 1\n",
    "        break\n",
    "    if me < number_list[i]:\n",
    "        me += 1\n",
    "        number_list[i] -= 1\n",
    "        count += 1\n",
    "        continue\n",
    "    i += 1\n",
    "    if i == N:\n",
    "        is_True = False\n",
    "\n",
    "print(count)       "
   ]
  },
  {
   "cell_type": "markdown",
   "id": "6d60b4d7",
   "metadata": {},
   "source": [
    "## 생각\n",
    "2. 만약 len(list) == 1이면 count. elif len(set(list)) == 1이면 count = 1. for문 i부터해서 list[0] < list[i]이면 list[0] += round((list[i]-list[0])/2+0.1). 똑같이 list[i] -= count +=. 만약 같다면 list[0) += 1, list[i] -= 1, count += 1"
   ]
  },
  {
   "cell_type": "code",
   "execution_count": 58,
   "id": "05853f26",
   "metadata": {},
   "outputs": [
    {
     "name": "stdout",
     "output_type": "stream",
     "text": [
      "4\n",
      "10\n",
      "10\n",
      "11\n",
      "10\n",
      "2\n"
     ]
    }
   ],
   "source": [
    "# 틀렸습니다.\n",
    "# 동일한게 먼저 나오면 연산을 적용해 틀림\n",
    "N = int(input())\n",
    "\n",
    "number_list = []\n",
    "count = 0\n",
    "\n",
    "for _ in range(N):\n",
    "    number = int(input())\n",
    "    number_list.append(number)\n",
    "    \n",
    "if len(number_list) == 1:\n",
    "    print(count)\n",
    "\n",
    "else:\n",
    "    for i in range(1, N):\n",
    "        if number_list[0] < number_list[i]:\n",
    "            diff = round((number_list[i] - number_list[0]) / 2 + 0.1)\n",
    "            number_list[0] += diff\n",
    "            number_list[i] -= diff\n",
    "            count += diff\n",
    "        elif number_list[0] == number_list[i]:\n",
    "            number_list[0] += 1\n",
    "            number_list[i] -= 1\n",
    "            count += 1\n",
    "    print(count)"
   ]
  },
  {
   "cell_type": "markdown",
   "id": "dce97e43",
   "metadata": {},
   "source": [
    "## 생각\n",
    "3. list[0] < list[i] 연산을 먼저 적용한 후, 뒤에 list[0] == list[i] 연산을 실행"
   ]
  },
  {
   "cell_type": "code",
   "execution_count": 50,
   "id": "df69144b",
   "metadata": {},
   "outputs": [
    {
     "name": "stdout",
     "output_type": "stream",
     "text": [
      "4\n",
      "2\n",
      "100\n",
      "100\n",
      "100\n",
      "86\n"
     ]
    }
   ],
   "source": [
    "# 틀렸습니다.\n",
    "# 원소를 한번에 변화하는게 아닌 차근차근 하나씩 나아가는 알고리즘\n",
    "N = int(input())\n",
    "\n",
    "number_list = []\n",
    "count = 0\n",
    "is_True = False\n",
    "\n",
    "for _ in range(N):\n",
    "    number = int(input())\n",
    "    number_list.append(number)\n",
    "    \n",
    "if len(number_list) == 1:\n",
    "    print(count)\n",
    "\n",
    "elif len(set(number_list)) == 1:\n",
    "    count += 1\n",
    "    print(count)\n",
    "else:\n",
    "    for i in range(1, N):\n",
    "        if number_list[0] < number_list[i]:\n",
    "            diff = round((number_list[i] - number_list[0]) / 2 + 0.1)\n",
    "            number_list[0] += diff\n",
    "            number_list[i] -= diff\n",
    "            count += diff\n",
    "            is_True = True\n",
    "            \n",
    "        elif number_list[0] == number_list[i] and is_True:\n",
    "            number_list[0] += 1\n",
    "            number_list[i] -= 1\n",
    "            count += 1\n",
    "    print(count)"
   ]
  },
  {
   "cell_type": "code",
   "execution_count": 54,
   "id": "6491966c",
   "metadata": {},
   "outputs": [
    {
     "name": "stdout",
     "output_type": "stream",
     "text": [
      "4\n",
      "2\n",
      "100\n",
      "100\n",
      "100\n",
      "75\n"
     ]
    }
   ],
   "source": [
    "N = int(input())\n",
    "number_list = []\n",
    "count = 0\n",
    "for _ in range(N):\n",
    "    number = int(input())\n",
    "    number_list.append(number)\n",
    "\n",
    "if N == 1:\n",
    "    print(0)\n",
    "else:\n",
    "    while True:\n",
    "        if number_list[0] <= max(number_list[1:]):\n",
    "            i = number_list[1:].index(max(number_list[1:]))\n",
    "            number_list[0] += 1\n",
    "            number_list[i+1] -= 1\n",
    "            count += 1\n",
    "        if number_list[0] > max(number_list[1:]):\n",
    "            break\n",
    "    print(count)"
   ]
  },
  {
   "cell_type": "markdown",
   "id": "209fa53e",
   "metadata": {},
   "source": [
    "키포인트는 i = number_list[1:].index(max(number_list[1:]))으로 가장 높은 원소의 index를 가져온다."
   ]
  }
 ],
 "metadata": {
  "kernelspec": {
   "display_name": "Python 3 (ipykernel)",
   "language": "python",
   "name": "python3"
  },
  "language_info": {
   "codemirror_mode": {
    "name": "ipython",
    "version": 3
   },
   "file_extension": ".py",
   "mimetype": "text/x-python",
   "name": "python",
   "nbconvert_exporter": "python",
   "pygments_lexer": "ipython3",
   "version": "3.9.12"
  }
 },
 "nbformat": 4,
 "nbformat_minor": 5
}
