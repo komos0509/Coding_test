{
 "cells": [
  {
   "cell_type": "markdown",
   "id": "72e6867b",
   "metadata": {},
   "source": [
    "### 문제\n",
    "스네이크버드는 뱀과 새의 모습을 닮은 귀여운 생물체입니다.  \n",
    "스네이크버드의 주요 먹이는 과일이며 과일 하나를 먹으면 길이가 1만큼 늘어납니다.  \n",
    "과일들은 지상으로부터 일정 높이를 두고 떨어져 있으며 i(1 $\\le$ i $\\le$ N)번째 과일의 높이는 h$_{i}$입니다.  \n",
    "스네이크버드는 자신의 길이보다 작거나 같은 높이에 있는 과일들을 먹을 수 있습니다.  \n",
    "스네이크버드의 처음 길이가 L일때 과일들을 먹어 늘릴 수 있는 최대 길이를 구하세요.\n",
    "\n",
    "### 입력\n",
    "첫 번째 줄에 과일의 개수 N(1 $\\le$ N $\\le$ 1,000)과 스네이크버드의 초기 길이 정수 L(1 $\\le$ L $\\le$ 10,000)이 주어집니다.  \n",
    "두 번째 줄에는 정수 h$_{1}$, h$_{2}$, ..., h$_{N}$(1 $\\le$ h$_{i}$ $\\le$ 10,000)이 주어집니다.\n",
    "\n",
    "### 출력\n",
    "첫 번째 줄에 스네이크버드의 최대 길이를 출력합니다."
   ]
  },
  {
   "cell_type": "markdown",
   "id": "f358d927",
   "metadata": {},
   "source": [
    "## 생각\n",
    "1. list를 sort하고 원소를 보며 길이가 원소보다 크거나 같으면 길이 += 1"
   ]
  },
  {
   "cell_type": "code",
   "execution_count": 5,
   "id": "1c9007fc",
   "metadata": {},
   "outputs": [
    {
     "name": "stdout",
     "output_type": "stream",
     "text": [
      "9 1\n",
      "9 5 8 1 3 2 7 6 4\n",
      "10\n"
     ]
    }
   ],
   "source": [
    "# 맞았습니다.\n",
    "N, L = map(int, input().split())\n",
    "length_list = list(map(int, input().split()))\n",
    "\n",
    "length_list.sort()\n",
    "\n",
    "for length in length_list:\n",
    "    if L >= length:\n",
    "        L += 1\n",
    "\n",
    "print(L)"
   ]
  }
 ],
 "metadata": {
  "kernelspec": {
   "display_name": "Python 3 (ipykernel)",
   "language": "python",
   "name": "python3"
  },
  "language_info": {
   "codemirror_mode": {
    "name": "ipython",
    "version": 3
   },
   "file_extension": ".py",
   "mimetype": "text/x-python",
   "name": "python",
   "nbconvert_exporter": "python",
   "pygments_lexer": "ipython3",
   "version": "3.9.12"
  }
 },
 "nbformat": 4,
 "nbformat_minor": 5
}
