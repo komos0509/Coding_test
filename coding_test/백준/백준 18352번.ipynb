{
 "cells": [
  {
   "cell_type": "markdown",
   "id": "a157a8c5",
   "metadata": {},
   "source": [
    "### 문제\n",
    "어떤 나라에는 1번부터 N번까지의 도시와 M개의 단방향 도로가 존재한다. 모든 도로의 거리는 1이다.\n",
    "\n",
    "이 때 특정한 도시 X로부터 출발하여 도달할 수 있는 모든 도시 중에서, 최단 거리가 정확히 K인 모든 도시들의 번호를 출력하는 프로그램을 작성하시오. 또한 출발 도시 X에서 출발 도시 X로 가는 최단 거리는 항상 0이라고 가정한다.\n",
    "\n",
    "예를 들어 N=4, K=2, X=1일 때 다음과 같이 그래프가 구성되어 있다고 가정하자.\n",
    "\n",
    "![백준 15](https://user-images.githubusercontent.com/60602671/231091428-9dd8323b-98e1-4233-a02d-23afc44edb6f.png)\n",
    "\n",
    "이 때 1번 도시에서 출발하여 도달할 수 있는 도시 중에서, 최단 거리가 2인 도시는 4번 도시 뿐이다.  2번과 3번 도시의 경우, 최단 거리가 1이기 때문에 출력하지 않는다.\n",
    "\n",
    "### 입력\n",
    "첫째 줄에 도시의 개수 N, 도로의 개수 M, 거리 정보 K, 출발 도시의 번호 X가 주어진다. (2 ≤ N ≤ 300,000, 1 ≤ M ≤ 1,000,000, 1 ≤ K ≤ 300,000, 1 ≤ X ≤ N) 둘째 줄부터 M개의 줄에 걸쳐서 두 개의 자연수 A, B가 공백을 기준으로 구분되어 주어진다. 이는 A번 도시에서 B번 도시로 이동하는 단방향 도로가 존재한다는 의미다. (1 ≤ A, B ≤ N) 단, A와 B는 서로 다른 자연수이다.\n",
    "\n",
    "### 출력\n",
    "X로부터 출발하여 도달할 수 있는 도시 중에서, 최단 거리가 K인 모든 도시의 번호를 한 줄에 하나씩 오름차순으로 출력한다.\n",
    "\n",
    "이 때 도달할 수 있는 도시 중에서, 최단 거리가 K인 도시가 하나도 존재하지 않으면 -1을 출력한다."
   ]
  },
  {
   "cell_type": "markdown",
   "id": "8fa4e630",
   "metadata": {},
   "source": [
    "## 생각\n",
    "1. 단방향이므로 graph[a].append(b) 후, visited을 이전 visited + 1로 해서 최단거리를 구한다."
   ]
  },
  {
   "cell_type": "code",
   "execution_count": 36,
   "id": "1ad17fd2",
   "metadata": {},
   "outputs": [
    {
     "name": "stdout",
     "output_type": "stream",
     "text": [
      "4 4 2 1\n",
      "1 2\n",
      "1 3\n",
      "2 3\n",
      "2 4\n",
      "4\n"
     ]
    }
   ],
   "source": [
    "# 맞았습니다.\n",
    "# 시간초과를 방지하기 위해 pypy3에서 제출\n",
    "from collections import deque\n",
    "\n",
    "def bfs(graph, x, visited):\n",
    "    queue = deque([x])\n",
    "    visited[x] = 1\n",
    "    while queue:\n",
    "        v = queue.popleft()\n",
    "        for i in graph[v]:\n",
    "            if visited[i] == 0:\n",
    "                visited[i] = visited[v] + 1\n",
    "                queue.append(i)\n",
    "\n",
    "N, M, K, X = map(int, input().split())\n",
    "graph = [[] for _ in range(N+1)]\n",
    "visited = [0] * (N+1)\n",
    "for _ in range(M):\n",
    "    a, b = map(int, input().split())\n",
    "    graph[a].append(b)\n",
    "    \n",
    "bfs(graph, X, visited)\n",
    "\n",
    "ans = [i for i in range(1, len(visited)) if visited[i]-1 == K]\n",
    "if K == 0:\n",
    "    print(X)\n",
    "elif len(ans) == 0:\n",
    "    print(-1)\n",
    "else:\n",
    "    ans.sort()\n",
    "    print(*ans, sep='\\n')"
   ]
  },
  {
   "cell_type": "markdown",
   "id": "7ff0d302",
   "metadata": {},
   "source": [
    "N의 범위가 300000이고 M의 범위가 1000000 이므로 DFS 알고리즘을 이용한다면 무조건 recursion 런타임에러가 발생할 것이기 때문에 BFS 알고리즘을 이용하겠습니다."
   ]
  }
 ],
 "metadata": {
  "kernelspec": {
   "display_name": "Python 3 (ipykernel)",
   "language": "python",
   "name": "python3"
  },
  "language_info": {
   "codemirror_mode": {
    "name": "ipython",
    "version": 3
   },
   "file_extension": ".py",
   "mimetype": "text/x-python",
   "name": "python",
   "nbconvert_exporter": "python",
   "pygments_lexer": "ipython3",
   "version": "3.9.12"
  }
 },
 "nbformat": 4,
 "nbformat_minor": 5
}
