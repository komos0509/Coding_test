{
 "cells": [
  {
   "cell_type": "code",
   "execution_count": null,
   "id": "4dd07e35",
   "metadata": {},
   "outputs": [],
   "source": []
  },
  {
   "cell_type": "code",
   "execution_count": 4,
   "id": "8f2e39d9",
   "metadata": {},
   "outputs": [
    {
     "name": "stdout",
     "output_type": "stream",
     "text": [
      "5\n",
      "20\n",
      "20\n",
      "20\n",
      "10\n",
      "10\n",
      "200\n"
     ]
    }
   ],
   "source": [
    "N = int(input())\n",
    "\n",
    "result = 0\n",
    "number_list = []\n",
    "\n",
    "for _ in range(N):\n",
    "    number = int(input())\n",
    "    number_list.append(number)\n",
    "\n",
    "# 리스트를 오름차순으로 변환\n",
    "number_list.sort()\n",
    "\n",
    "# 처음 원소부터 2원소 씩 더하고 i+1번재 원소를 바꾼다.\n",
    "for i in range(N-1):\n",
    "    result += number_list[i] + number_list[i+1]\n",
    "    number_list[i+1] = number_list[i] + number_list[i+1]\n",
    "    \n",
    "print(result)"
   ]
  },
  {
   "cell_type": "code",
   "execution_count": 12,
   "id": "2b1e5491",
   "metadata": {},
   "outputs": [
    {
     "name": "stdout",
     "output_type": "stream",
     "text": [
      "10\n",
      "123\n",
      "456\n",
      "234\n",
      "998\n",
      "12\n",
      "7\n",
      "876\n",
      "887\n",
      "455\n",
      "234\n",
      "12108\n"
     ]
    }
   ],
   "source": [
    "N = int(input())\n",
    "\n",
    "result = 0\n",
    "number_list = []\n",
    "\n",
    "for _ in range(N):\n",
    "    number = int(input())\n",
    "    number_list.append(number)\n",
    "\n",
    "while len(number_list) >= 2:\n",
    "    number_list.sort()\n",
    "    number_list.append(number_list[0] + number_list[1])\n",
    "    result += number_list[0] + number_list[1]\n",
    "    del number_list[0]\n",
    "    del number_list[0]\n",
    "    \n",
    "print(result)"
   ]
  },
  {
   "cell_type": "code",
   "execution_count": 11,
   "id": "71a6bbba",
   "metadata": {},
   "outputs": [
    {
     "data": {
      "text/plain": [
       "180"
      ]
     },
     "execution_count": 11,
     "metadata": {},
     "output_type": "execute_result"
    }
   ],
   "source": [
    "result"
   ]
  },
  {
   "cell_type": "code",
   "execution_count": null,
   "id": "8bd8a175",
   "metadata": {},
   "outputs": [],
   "source": []
  }
 ],
 "metadata": {
  "kernelspec": {
   "display_name": "Python 3 (ipykernel)",
   "language": "python",
   "name": "python3"
  },
  "language_info": {
   "codemirror_mode": {
    "name": "ipython",
    "version": 3
   },
   "file_extension": ".py",
   "mimetype": "text/x-python",
   "name": "python",
   "nbconvert_exporter": "python",
   "pygments_lexer": "ipython3",
   "version": "3.9.12"
  }
 },
 "nbformat": 4,
 "nbformat_minor": 5
}
