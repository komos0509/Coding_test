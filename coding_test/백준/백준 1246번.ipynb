{
 "cells": [
  {
   "cell_type": "markdown",
   "id": "85328cd2",
   "metadata": {},
   "source": [
    "### 문제\n",
    "경래는 닭을 기르는데 올 겨울 달걀 풍년으로 함박 웃음을 짓고 있다. 그리고 이 달걀을 영양란으로 둔갑하여 옥션에 판매하려한다.\n",
    "\n",
    "경래는 총 N개의 달걀이 있고, 그의 잠재적인 고객은 총 M명이다. 그리고 각각의 i번째 고객은 각자 달걀 하나를 Pi 가격 이하로 살 수 있다고 밝혔다.\n",
    "\n",
    "경래는 영양란이라 속인 죄책감에 한 고객에게 두 개 이상의 달걀은 팔지 않기로 하였다. 하지만 위의 규칙 하에 수익은 최대로 올리고 싶기에 얼마로 팔지 고민하고 있다. 즉, A가격에 달걀을 판다고 하면 Pi가 A가격보다 크거나 같은 모든 고객은 달걀을 산다는 뜻이다. (물론 달걀 총 수량을 초과하여 팔 수 는 없다)\n",
    "\n",
    "문제는 이러한 경래를 도와 최대 수익을 올릴 수 있는 달걀의 가장 낮은 가격을 책정하는 것이다.\n",
    "\n",
    "### 입력\n",
    "첫째 줄에 정수 N(1 ≤ N ≤ 1,000)과 M(1 ≤ M ≤ 1,000)이 입력된다. 둘째 줄부터 M+1번째 줄까지 i+1번째 줄에는 Pi(1 ≤ Pi ≤ 1,000,000)가 입력된다.\n",
    "\n",
    "### 출력\n",
    "첫째 줄에 경래가 책정한 가격과 이 가격으로 올릴 수 있는 수익을 출력한다."
   ]
  },
  {
   "cell_type": "markdown",
   "id": "d79c5067",
   "metadata": {},
   "source": [
    "## 생각\n",
    "1. list를 sort 하고 for 문으로 list[i] * len(list[i:])이 max가 되는 list[i]와 list[i] * len(list[i:]) 출력"
   ]
  },
  {
   "cell_type": "code",
   "execution_count": 25,
   "id": "b4b415d9",
   "metadata": {},
   "outputs": [
    {
     "name": "stdout",
     "output_type": "stream",
     "text": [
      "5 4\n",
      "2\n",
      "8\n",
      "10\n",
      "7\n",
      "7 21\n"
     ]
    }
   ],
   "source": [
    "# 맞았습니다.\n",
    "N, M = map(int, input().split())\n",
    "cost_list = [int(input()) for _ in range(M)]\n",
    "\n",
    "cost_list.sort()\n",
    "max_result = 0\n",
    "\n",
    "if N >= M:\n",
    "    for i in range(len(cost_list)-1):\n",
    "        if max_result < cost_list[i] * len(cost_list[i:]):\n",
    "            max_result = cost_list[i] * len(cost_list[i:])\n",
    "            cost = cost_list[i]\n",
    "    if max_result < cost_list[-1]:\n",
    "        max_result = cost_list[-1]\n",
    "        cost = cost_list[-1]\n",
    "else:\n",
    "    for i in range(len(cost_list)-1):\n",
    "        if N <= len(cost_list[i:]):\n",
    "            if max_result < cost_list[i] * N:\n",
    "                max_result = cost_list[i] * N\n",
    "                cost = cost_list[i]\n",
    "        else:\n",
    "            if max_result < cost_list[i] * len(cost_list[i:]):\n",
    "                max_result = cost_list[i] * len(cost_list[i:])\n",
    "                cost = cost_list[i]\n",
    "    if max_result < cost_list[-1]:\n",
    "        max_result = cost_list[-1]\n",
    "        cost = cost_list[-1]\n",
    "        \n",
    "print(cost, max_result)\n",
    "    \n"
   ]
  }
 ],
 "metadata": {
  "kernelspec": {
   "display_name": "Python 3 (ipykernel)",
   "language": "python",
   "name": "python3"
  },
  "language_info": {
   "codemirror_mode": {
    "name": "ipython",
    "version": 3
   },
   "file_extension": ".py",
   "mimetype": "text/x-python",
   "name": "python",
   "nbconvert_exporter": "python",
   "pygments_lexer": "ipython3",
   "version": "3.9.12"
  }
 },
 "nbformat": 4,
 "nbformat_minor": 5
}
