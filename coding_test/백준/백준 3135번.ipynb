{
 "cells": [
  {
   "cell_type": "markdown",
   "id": "00096fb1",
   "metadata": {},
   "source": [
    "### 문제\n",
    "준하는 라디오 수집광으로 신제품의 라디오가 나올때마다 흥분을 금치 못한다고 한다.\n",
    "\n",
    "최근 준하가 구입한 라디오는 매우 하이테크 한데, 그 라디오에는 다음과 같은 버튼이 있다.\n",
    "\n",
    "첫 번째 버튼은 주파수를 1MHz 증가시킨다.\n",
    "두 번째 버튼은 주파수를 1MHz 감소시킨다.\n",
    "나머지 N개의 버튼은 즐겨찾기 기능으로, 미리 지정된 주파수로 이동한다.\n",
    "준하는 몸이 안좋아 하루에 손가락을 몇 번 움직이지 못하기 때문에 우리의 도움이 필요하다.\n",
    "\n",
    "현재 주파수 A와 듣고싶은 주파수 B가 주어질 때, \n",
    "\n",
    "주파수 A에서 B로 갈 때 눌러야 하는 가장 적은 버튼수를 구해주자.\n",
    "\n",
    "### 입력\n",
    "첫 줄엔 정수 A와 B가 주어진다 (1 ≤ A, B < 1000, A ≠ B).\n",
    "\n",
    "다음 줄엔 정수 N이 주어진다 (1 ≤ N ≤ 5).\n",
    "\n",
    "다음 N개의 줄엔 미리 지정되어 있는 주파수가 주어진다 (주파수는 1000 보다 작다).\n",
    "\n",
    "### 출력\n",
    "주파수 A에서 B로 갈 때 눌러야 하는 버튼수의 최솟값을 출력한다."
   ]
  },
  {
   "cell_type": "markdown",
   "id": "8e5e8a6d",
   "metadata": {},
   "source": [
    "## 생각\n",
    "1. A와 B의 차이, 즐겨찾는 주파수와 B의 차이 + 1를 리스트에 넣고 최솟값 출력"
   ]
  },
  {
   "cell_type": "code",
   "execution_count": 3,
   "id": "be40ad2b",
   "metadata": {},
   "outputs": [
    {
     "name": "stdout",
     "output_type": "stream",
     "text": [
      "88 17\n",
      "3\n",
      "18\n",
      "1\n",
      "42\n",
      "2\n"
     ]
    }
   ],
   "source": [
    "A, B = map(int, input().split())\n",
    "N = int(input())\n",
    "\n",
    "count = []\n",
    "count.append(abs(B - A))\n",
    "for _ in range(N):\n",
    "    C = int(input())\n",
    "    # +1을 하는 이유는 즐겨찾는 주파수를 누르는 것도 포함시키기 때문\n",
    "    count.append(abs(B - C) + 1)\n",
    "\n",
    "print(min(count))"
   ]
  }
 ],
 "metadata": {
  "kernelspec": {
   "display_name": "Python 3 (ipykernel)",
   "language": "python",
   "name": "python3"
  },
  "language_info": {
   "codemirror_mode": {
    "name": "ipython",
    "version": 3
   },
   "file_extension": ".py",
   "mimetype": "text/x-python",
   "name": "python",
   "nbconvert_exporter": "python",
   "pygments_lexer": "ipython3",
   "version": "3.9.12"
  }
 },
 "nbformat": 4,
 "nbformat_minor": 5
}
