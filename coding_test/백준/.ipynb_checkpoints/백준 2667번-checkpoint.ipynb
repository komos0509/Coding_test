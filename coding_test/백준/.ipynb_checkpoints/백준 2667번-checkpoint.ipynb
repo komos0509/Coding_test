{
 "cells": [
  {
   "cell_type": "markdown",
   "id": "a7707f02",
   "metadata": {},
   "source": [
    "### 문제\n",
    "<그림 1>과 같이 정사각형 모양의 지도가 있다. 1은 집이 있는 곳을, 0은 집이 없는 곳을 나타낸다. 철수는 이 지도를 가지고 연결된 집의 모임인 단지를 정의하고, 단지에 번호를 붙이려 한다. 여기서 연결되었다는 것은 어떤 집이 좌우, 혹은 아래위로 다른 집이 있는 경우를 말한다. 대각선상에 집이 있는 경우는 연결된 것이 아니다. <그림 2>는 <그림 1>을 단지별로 번호를 붙인 것이다. 지도를 입력하여 단지수를 출력하고, 각 단지에 속하는 집의 수를 오름차순으로 정렬하여 출력하는 프로그램을 작성하시오.\n",
    "\n",
    "![백준 7](https://user-images.githubusercontent.com/60602671/227856896-7005f9da-0698-44e0-8249-946a3b602f5d.png)\n",
    "\n",
    "### 입력\n",
    "첫 번째 줄에는 지도의 크기 N(정사각형이므로 가로와 세로의 크기는 같으며 5≤N≤25)이 입력되고, 그 다음 N줄에는 각각 N개의 자료(0혹은 1)가 입력된다.\n",
    "\n",
    "### 출력\n",
    "첫 번째 줄에는 총 단지수를 출력하시오. 그리고 각 단지내 집의 수를 오름차순으로 정렬하여 한 줄에 하나씩 출력하시오."
   ]
  },
  {
   "cell_type": "markdown",
   "id": "277c2fbe",
   "metadata": {},
   "source": [
    "## 생각\n",
    "1. 기본 DFS함수에서 1이면 count += 1를 추가한다."
   ]
  },
  {
   "cell_type": "code",
   "execution_count": 28,
   "id": "207f0337",
   "metadata": {},
   "outputs": [
    {
     "name": "stdout",
     "output_type": "stream",
     "text": [
      "7\n",
      "0110100\n",
      "0110101\n",
      "1110101\n",
      "0000111\n",
      "0100000\n",
      "0111110\n",
      "0111000\n",
      "3\n",
      "7\n",
      "8\n",
      "9\n"
     ]
    }
   ],
   "source": [
    "# 맞았습니다.\n",
    "def dfs(x, y):\n",
    "    global count_house\n",
    "    if x < 0 or x >= N or y < 0 or y >= N:\n",
    "        return False\n",
    "    if house_list[x][y] == 1:\n",
    "        house_list[x][y] = 0\n",
    "        count_house += 1\n",
    "        dfs(x+1, y)\n",
    "        dfs(x-1, y)\n",
    "        dfs(x, y+1)\n",
    "        dfs(x, y-1)\n",
    "        return True, count_house\n",
    "    return False, count_house\n",
    "\n",
    "N = int(input())\n",
    "\n",
    "house_list = []\n",
    "for _ in range(N):\n",
    "    house = list(map(int, input()))\n",
    "    house_list.append(house)\n",
    "    \n",
    "count = 0\n",
    "count_house_list = []\n",
    "for i in range(N):\n",
    "    for j in range(N):\n",
    "        count_house = 0\n",
    "        if dfs(i, j)[0]:\n",
    "            count_house_list.append(dfs(i, j)[1])\n",
    "            count += 1\n",
    "\n",
    "count_house_list.sort()\n",
    "print(count)\n",
    "for count in count_house_list:\n",
    "    print(count)"
   ]
  },
  {
   "cell_type": "markdown",
   "id": "8d0fbb49",
   "metadata": {},
   "source": [
    "여기서는 중요한 키포인트가 3개 존재한다.\n",
    "1. 문제의 입력값이 저렇게 0, 1로 주어진 지도모양이면 DFS를 사용할 때, (x, y)를 입력받고, dfs(x+1, y)이런식으로 재귀함수를 사용한다.\n",
    "2. 덩어리에서 1의 개수를 구해야하는데 count_house를 함수안에 넣으면 재귀함수를 불러올 때, 0으로 초기화되는 현상이 나타난다. 그래서 for문 2개로 불러올 때, count_house를 0으로 초기화하고, 함수안에 global함수를 이용하여 count_house를 불러온다.\n",
    "3. 함수에 return 값을 보면 범위가 넘어가면 False는 그대로 남기되, 나머지는 count_house를 붙였다. 그 이유는 입력값의 0, 1을 돌아다니며 0일때와 1일때의 return 값이 달라지면 if dfs(i, j)에서 문제가 생긴다. 그리하여 0일때와 1일때의 return 값을 비슷하게 조정하였다."
   ]
  }
 ],
 "metadata": {
  "kernelspec": {
   "display_name": "Python 3 (ipykernel)",
   "language": "python",
   "name": "python3"
  },
  "language_info": {
   "codemirror_mode": {
    "name": "ipython",
    "version": 3
   },
   "file_extension": ".py",
   "mimetype": "text/x-python",
   "name": "python",
   "nbconvert_exporter": "python",
   "pygments_lexer": "ipython3",
   "version": "3.9.12"
  }
 },
 "nbformat": 4,
 "nbformat_minor": 5
}
