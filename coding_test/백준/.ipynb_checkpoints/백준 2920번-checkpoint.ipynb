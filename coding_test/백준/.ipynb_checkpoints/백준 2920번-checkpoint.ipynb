{
 "cells": [
  {
   "cell_type": "markdown",
   "id": "0b391a51",
   "metadata": {},
   "source": [
    "### 문제\n",
    "다장조는 c d e f g a b C, 총 8개 음으로 이루어져있다. 이 문제에서 8개 음은 다음과 같이 숫자로 바꾸어 표현한다. c는 1로, d는 2로, ..., C를 8로 바꾼다.\n",
    "\n",
    "1부터 8까지 차례대로 연주한다면 ascending, 8부터 1까지 차례대로 연주한다면 descending, 둘 다 아니라면 mixed 이다.\n",
    "\n",
    "연주한 순서가 주어졌을 때, 이것이 ascending인지, descending인지, 아니면 mixed인지 판별하는 프로그램을 작성하시오.\n",
    "\n",
    "### 입력\n",
    "첫째 줄에 8개 숫자가 주어진다. 이 숫자는 문제 설명에서 설명한 음이며, 1부터 8까지 숫자가 한 번씩 등장한다.\n",
    "\n",
    "### 출력\n",
    "첫째 줄에 ascending, descending, mixed 중 하나를 출력한다."
   ]
  },
  {
   "cell_type": "markdown",
   "id": "eb0a2079",
   "metadata": {},
   "source": [
    "## 생각\n",
    "1. result = list[0], for문으로 해서 1부터 len(list)까지 만약 result와 list[i]의 차이의 절댓값이 1이면 result = list[i], 아니면 mixed 출력 후, list[0]이 1이고 result가 list[-1] 이면 ascending 출력, 아니면 descending 출력"
   ]
  },
  {
   "cell_type": "code",
   "execution_count": 8,
   "id": "361e047f",
   "metadata": {},
   "outputs": [
    {
     "name": "stdout",
     "output_type": "stream",
     "text": [
      "1 2 3 4 4 3 2 1\n",
      "mixed\n"
     ]
    }
   ],
   "source": [
    "# 맞았습니다.\n",
    "# mixed 출력한 후 멈추기 위해서 함수로 만듬\n",
    "def solution():\n",
    "    sound_list = list(map(int, input().split()))\n",
    "    \n",
    "    result = sound_list[0]\n",
    "    is_True = True\n",
    "\n",
    "    for i in range(1, len(sound_list)):\n",
    "        if abs(result - sound_list[i]) == 1:\n",
    "            result = sound_list[i]\n",
    "        else:\n",
    "            is_True = False\n",
    "            return print('mixed')\n",
    "\n",
    "\n",
    "    if sound_list[0] == 1 and result == sound_list[-1]:\n",
    "        return print('ascending')\n",
    "    else:\n",
    "        return print('descending')\n",
    "    \n",
    "solution()"
   ]
  }
 ],
 "metadata": {
  "kernelspec": {
   "display_name": "Python 3 (ipykernel)",
   "language": "python",
   "name": "python3"
  },
  "language_info": {
   "codemirror_mode": {
    "name": "ipython",
    "version": 3
   },
   "file_extension": ".py",
   "mimetype": "text/x-python",
   "name": "python",
   "nbconvert_exporter": "python",
   "pygments_lexer": "ipython3",
   "version": "3.9.12"
  }
 },
 "nbformat": 4,
 "nbformat_minor": 5
}
