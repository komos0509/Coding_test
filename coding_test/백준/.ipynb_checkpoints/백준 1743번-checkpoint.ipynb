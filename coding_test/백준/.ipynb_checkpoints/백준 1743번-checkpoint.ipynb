{
 "cells": [
  {
   "cell_type": "markdown",
   "id": "7b4ac7c1",
   "metadata": {},
   "source": [
    "### 문제\n",
    "코레스코 콘도미니엄 8층은 학생들이 3끼의 식사를 해결하는 공간이다. 그러나 몇몇 비양심적인 학생들의 만행으로 음식물이 통로 중간 중간에 떨어져 있다. 이러한 음식물들은 근처에 있는 것끼리 뭉치게 돼서 큰 음식물 쓰레기가 된다. \n",
    "\n",
    "이 문제를 출제한 선생님은 개인적으로 이러한 음식물을 실내화에 묻히는 것을 정말 진정으로 싫어한다. 참고로 우리가 구해야 할 답은 이 문제를 낸 조교를 맞추는 것이 아니다. \n",
    "\n",
    "통로에 떨어진 음식물을 피해가기란 쉬운 일이 아니다. 따라서 선생님은 떨어진 음식물 중에 제일 큰 음식물만은 피해 가려고 한다. \n",
    "\n",
    "선생님을 도와 제일 큰 음식물의 크기를 구해서 “10ra\"를 외치지 않게 도와주자.\n",
    "\n",
    "### 입력\n",
    "첫째 줄에 통로의 세로 길이 N(1 ≤ N ≤ 100)과 가로 길이 M(1 ≤ M ≤ 100) 그리고 음식물 쓰레기의 개수 K(1 ≤ K ≤ N×M)이 주어진다.  그리고 다음 K개의 줄에 음식물이 떨어진 좌표 (r, c)가 주어진다.\n",
    "\n",
    "좌표 (r, c)의 r은 위에서부터, c는 왼쪽에서부터가 기준이다. 입력으로 주어지는 좌표는 중복되지 않는다.\n",
    "\n",
    "### 출력\n",
    "첫째 줄에 음식물 중 가장 큰 음식물의 크기를 출력하라."
   ]
  },
  {
   "cell_type": "markdown",
   "id": "481fad1f",
   "metadata": {},
   "source": [
    "## 생각\n",
    "1. BFS 알고리즘에 queue.append 할때마다 cnt += 1을 하여 cnt의 최댓값 출력. 좌표는 좌측 상단이 (1,1)"
   ]
  },
  {
   "cell_type": "code",
   "execution_count": 24,
   "id": "7ab2d1d4",
   "metadata": {},
   "outputs": [
    {
     "name": "stdout",
     "output_type": "stream",
     "text": [
      "3 4 5\n",
      "3 2\n",
      "2 2\n",
      "3 1\n",
      "2 3\n",
      "1 1\n",
      "4\n"
     ]
    }
   ],
   "source": [
    "# 맞았습니다.\n",
    "from collections import deque\n",
    "\n",
    "def bfs(x, y):\n",
    "    cnt = 1\n",
    "    queue = deque()\n",
    "    queue.append((x, y))\n",
    "    visited[x][y] = cnt\n",
    "    while queue:\n",
    "        a, b = queue.popleft()\n",
    "        for i in range(4):\n",
    "            nx = a + dx[i]\n",
    "            ny = b + dy[i]\n",
    "            if 0 <= nx < N and 0 <= ny < M and graph[nx][ny] == 1 and visited[nx][ny] == 0:\n",
    "                cnt += 1\n",
    "                visited[nx][ny] = cnt\n",
    "                queue.append((nx, ny))\n",
    "    return cnt\n",
    "\n",
    "N, M, K = map(int, input().split())\n",
    "graph = [[0] * M for _ in range(N)]\n",
    "visited = [[0] * M for _ in range(N)]\n",
    "\n",
    "dx = [0, 0, 1, -1]\n",
    "dy = [1, -1, 0, 0]\n",
    "\n",
    "for _ in range(K):\n",
    "    x, y = map(int, input().split())\n",
    "    graph[x-1][y-1] = 1\n",
    "    \n",
    "max_cnt = 1\n",
    "for i in range(N):\n",
    "    for j in range(M):\n",
    "        if graph[i][j] == 1 and visited[i][j] == 0:\n",
    "            cnt = bfs(i, j)\n",
    "            if cnt > max_cnt:\n",
    "                max_cnt = cnt\n",
    "\n",
    "print(max_cnt)"
   ]
  },
  {
   "cell_type": "code",
   "execution_count": 2,
   "id": "832b24ce",
   "metadata": {},
   "outputs": [
    {
     "name": "stdout",
     "output_type": "stream",
     "text": [
      "3 4 5\n",
      "3 2\n",
      "2 2\n",
      "3 1\n",
      "2 3\n",
      "1 1\n",
      "4\n"
     ]
    }
   ],
   "source": [
    "# 맞았습니다.\n",
    "import sys\n",
    "# 최대깊이를 10000으로 설정 (N, M의 범위가 100이므로 최대 10000까지 가야한다.)\n",
    "sys.setrecursionlimit(10**4)\n",
    "\n",
    "def dfs(x, y):\n",
    "    global cnt\n",
    "    cnt += 1\n",
    "    visited[x][y] = 1\n",
    "    for i in range(4):\n",
    "        nx = x + dx[i]\n",
    "        ny = y + dy[i]\n",
    "        if 0 <= nx < N and 0 <= ny < M and graph[nx][ny] == 1 and visited[nx][ny] == 0:\n",
    "            dfs(nx, ny)\n",
    "    \n",
    "    return cnt\n",
    "\n",
    "N, M, K = map(int, input().split())\n",
    "graph = [[0] * M for _ in range(N)]\n",
    "visited = [[0] * M for _ in range(N)]\n",
    "\n",
    "dx = [0, 0, 1, -1]\n",
    "dy = [1, -1, 0, 0]\n",
    "\n",
    "for _ in range(K):\n",
    "    x, y = map(int, input().split())\n",
    "    graph[x-1][y-1] = 1\n",
    "    \n",
    "max_cnt = 1\n",
    "for i in range(N):\n",
    "    for j in range(M):\n",
    "        if graph[i][j] == 1 and visited[i][j] == 0:\n",
    "            cnt = 0\n",
    "            cnt = dfs(i, j)\n",
    "            if cnt > max_cnt:\n",
    "                max_cnt = cnt\n",
    "\n",
    "print(max_cnt)"
   ]
  }
 ],
 "metadata": {
  "kernelspec": {
   "display_name": "Python 3 (ipykernel)",
   "language": "python",
   "name": "python3"
  },
  "language_info": {
   "codemirror_mode": {
    "name": "ipython",
    "version": 3
   },
   "file_extension": ".py",
   "mimetype": "text/x-python",
   "name": "python",
   "nbconvert_exporter": "python",
   "pygments_lexer": "ipython3",
   "version": "3.9.12"
  }
 },
 "nbformat": 4,
 "nbformat_minor": 5
}
