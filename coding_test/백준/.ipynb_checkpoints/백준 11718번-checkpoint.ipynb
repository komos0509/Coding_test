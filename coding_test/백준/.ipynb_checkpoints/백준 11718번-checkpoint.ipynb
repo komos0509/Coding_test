{
 "cells": [
  {
   "cell_type": "markdown",
   "id": "e04fed17",
   "metadata": {},
   "source": [
    "### 문제\n",
    "입력 받은 대로 출력하는 프로그램을 작성하시오.\n",
    "\n",
    "### 입력\n",
    "입력이 주어진다. 입력은 최대 100줄로 이루어져 있고, 알파벳 소문자, 대문자, 공백, 숫자로만 이루어져 있다. 각 줄은 100글자를 넘지 않으며, 빈 줄은 주어지지 않는다. 또, 각 줄은 공백으로 시작하지 않고, 공백으로 끝나지 않는다.\n",
    "\n",
    "### 출력\n",
    "입력받은 그대로 출력한다."
   ]
  },
  {
   "cell_type": "markdown",
   "id": "dbb23a67",
   "metadata": {},
   "source": [
    "## 생각\n",
    "1. while문과 try except 로 풀기"
   ]
  },
  {
   "cell_type": "code",
   "execution_count": null,
   "id": "1cbb4b0c",
   "metadata": {},
   "outputs": [],
   "source": [
    "# 맞았습니다.\n",
    "while True:\n",
    "    try:\n",
    "        s = input()\n",
    "        print(s)\n",
    "    except EOFError:\n",
    "        break"
   ]
  },
  {
   "cell_type": "markdown",
   "id": "5abcb25d",
   "metadata": {},
   "source": [
    "우선 try는 코드에서 에러가 발생하지 않으면 실행하고 except는 에러가 발생하면 실행한다. (except 우측에 에러 종류를 집어넣자!) 여기서 EOFError는 예기치 못한 끝을 만났을 때 발생하는 에러이다."
   ]
  }
 ],
 "metadata": {
  "kernelspec": {
   "display_name": "Python 3 (ipykernel)",
   "language": "python",
   "name": "python3"
  },
  "language_info": {
   "codemirror_mode": {
    "name": "ipython",
    "version": 3
   },
   "file_extension": ".py",
   "mimetype": "text/x-python",
   "name": "python",
   "nbconvert_exporter": "python",
   "pygments_lexer": "ipython3",
   "version": "3.9.12"
  }
 },
 "nbformat": 4,
 "nbformat_minor": 5
}
