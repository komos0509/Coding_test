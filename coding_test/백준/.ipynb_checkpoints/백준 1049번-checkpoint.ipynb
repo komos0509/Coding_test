{
 "cells": [
  {
   "cell_type": "markdown",
   "id": "018fbbf0",
   "metadata": {},
   "source": [
    "### 문제\n",
    "Day Of Mourning의 기타리스트 강토가 사용하는 기타에서 N개의 줄이 끊어졌다. 따라서 새로운 줄을 사거나 교체해야 한다. 강토는 되도록이면 돈을 적게 쓰려고 한다. 6줄 패키지를 살 수도 있고, 1개 도는 그 이상의 줄을 낱개로 살 수도 있다.\n",
    "\n",
    "끊어진 기타줄의 개수 N개 기타줄 브랜드 M개가 주어지고, 각각의 브랜드에서 파는 기타줄 6개가 들어있는 패키지의 가격, 낱개로 살 때의 가격이 주어질 때, 적어도 N개를 사기 위해 필요한 돈의 수를 최소로 하는 프로그램을 작성하시오.\n",
    "\n",
    "### 입력\n",
    "첫째 줄에 N과 M이 주어진다. N은 100보다 작거나 같은 자연수이고, M은 50보다 작거나 같은 자연수이다. 둘째 줄부터 M개의 줄에는 각 브랜드의 패키지 가격과 낱개의 가격이 공백으로 구분하여 주어진다. 가격은 0보다 크거나 같고, 1000보다 작거나 같은 정수이다.\n",
    "\n",
    "### 출력\n",
    "첫째 줄에 기타줄을 적어도 N개 사기 위해 필요한 돈의 최솟값을 출력한다."
   ]
  },
  {
   "cell_type": "markdown",
   "id": "09dc4345",
   "metadata": {},
   "source": [
    "## 생각\n",
    "1. 값들을 하나의 리스트에 추가하고 각 상황별로 돈을 추가한다. "
   ]
  },
  {
   "cell_type": "code",
   "execution_count": 30,
   "id": "70f358b9",
   "metadata": {},
   "outputs": [
    {
     "name": "stdout",
     "output_type": "stream",
     "text": [
      "10 1\n",
      "100 2\n",
      "28\n"
     ]
    }
   ],
   "source": [
    "# 틀렸습니다. 반례 (10 1 / 100 2) output : 28, true : 20 \n",
    "# N이 6보다 크고 낱개가 더 저렴할 때 연산이 끝나야 하는데 한번 더 연산되어서 오류\n",
    "N, M = map(int, input().split(' '))\n",
    "result_list = []\n",
    "for _ in range(M):\n",
    "    a, b = map(int, input().split(' '))\n",
    "    result_list.append(a)\n",
    "    result_list.append(b)\n",
    "result = 0\n",
    "\n",
    "while N > 0:\n",
    "    for i in range(int(len(result_list) / 2)):\n",
    "        result_list[2*i+1] *= N\n",
    "    result += min(result_list)\n",
    "    for i in range(int(len(result_list) / 2)):\n",
    "        result_list[2*i+1] = int(result_list[2*i+1] / N)\n",
    "        \n",
    "    N -= 6\n",
    "    \n",
    "print(result)"
   ]
  },
  {
   "cell_type": "code",
   "execution_count": 31,
   "id": "22cd366a",
   "metadata": {},
   "outputs": [
    {
     "name": "stdout",
     "output_type": "stream",
     "text": [
      "16 1\n",
      "7 1\n",
      "18\n"
     ]
    }
   ],
   "source": [
    "# 틀렸습니다. 반례 (16 1 / 7 1) output : 18, true : 16\n",
    "# N이 6보다 크고 낱개로 사는게 최종적으로 더 저렴한데 패키지로 구매를 하여 오류\n",
    "N, M = map(int, input().split(' '))\n",
    "result_list = []\n",
    "for _ in range(M):\n",
    "    a, b = map(int, input().split(' '))\n",
    "    result_list.append(a)\n",
    "    result_list.append(b)\n",
    "result = 0\n",
    "\n",
    "while N > 0:\n",
    "    for i in range(int(len(result_list) / 2)):\n",
    "        result_list[2*i+1] *= N\n",
    "    if N > 6 and result_list.index(min(result_list)) % 2 != 0:\n",
    "        result += min(result_list)\n",
    "        N = 1\n",
    "    else:\n",
    "        result += min(result_list)\n",
    "    for i in range(int(len(result_list) / 2)):\n",
    "        result_list[2*i+1] = int(result_list[2*i+1] / N)\n",
    "        \n",
    "    N -= 6\n",
    "    \n",
    "print(result)"
   ]
  },
  {
   "cell_type": "markdown",
   "id": "9746caf2",
   "metadata": {},
   "source": [
    "## 생각 \n",
    "2. 최소 돈을 요구하기 때문에 최솟값만 구한 뒤, 각 상황별로 돈을 추가한다."
   ]
  },
  {
   "cell_type": "code",
   "execution_count": 105,
   "id": "af73f639",
   "metadata": {},
   "outputs": [],
   "source": [
    "# 맞았습니다.\n",
    "N, M = map(int, input().split(' '))\n",
    "a_list = []\n",
    "b_list = []\n",
    "\n",
    "for _ in range(M):\n",
    "    a, b = map(int, input().split(' '))\n",
    "    a_list.append(a)\n",
    "    b_list.append(b)\n",
    "a_min = min(a_list)\n",
    "b_min = min(b_list)\n",
    "result = 0\n",
    "\n",
    "while N > 0:\n",
    "    if a_min >= b_min * N:\n",
    "        result += b_min * N\n",
    "        break\n",
    "    else:\n",
    "        if (N // 6) * a_min + (N % 6) * b_min > b_min * N:\n",
    "            result += b_min * N\n",
    "            break\n",
    "        result += a_min\n",
    "        N -= 6\n",
    "    \n",
    "print(result)"
   ]
  }
 ],
 "metadata": {
  "kernelspec": {
   "display_name": "Python 3 (ipykernel)",
   "language": "python",
   "name": "python3"
  },
  "language_info": {
   "codemirror_mode": {
    "name": "ipython",
    "version": 3
   },
   "file_extension": ".py",
   "mimetype": "text/x-python",
   "name": "python",
   "nbconvert_exporter": "python",
   "pygments_lexer": "ipython3",
   "version": "3.9.12"
  }
 },
 "nbformat": 4,
 "nbformat_minor": 5
}
