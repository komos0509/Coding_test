{
 "cells": [
  {
   "cell_type": "markdown",
   "id": "1ca05686",
   "metadata": {},
   "source": [
    "### 문제\n",
    "정렬된 두 묶음의 숫자 카드가 있다고 하자. 각 묶음의 카드의 수를 A, B라 하면 보통 두 묶음을 합쳐서 하나로 만드는 데에는 A+B 번의 비교를 해야 한다. 이를테면, 20장의 숫자 카드 묶음과 30장의 숫자 카드 묶음을 합치려면 50번의 비교가 필요하다.\n",
    "\n",
    "매우 많은 숫자 카드 묶음이 책상 위에 놓여 있다. 이들을 두 묶음씩 골라 서로 합쳐나간다면, 고르는 순서에 따라서 비교 횟수가 매우 달라진다. 예를 들어 10장, 20장, 40장의 묶음이 있다면 10장과 20장을 합친 뒤, 합친 30장 묶음과 40장을 합친다면 (10 + 20) + (30 + 40) = 100번의 비교가 필요하다. 그러나 10장과 40장을 합친 뒤, 합친 50장 묶음과 20장을 합친다면 (10 + 40) + (50 + 20) = 120 번의 비교가 필요하므로 덜 효율적인 방법이다.\n",
    "\n",
    "N개의 숫자 카드 묶음의 각각의 크기가 주어질 때, 최소한 몇 번의 비교가 필요한지를 구하는 프로그램을 작성하시오.\n",
    "\n",
    "### 입력\n",
    "첫째 줄에 N이 주어진다. (1 ≤ N ≤ 100,000) 이어서 N개의 줄에 걸쳐 숫자 카드 묶음의 각각의 크기가 주어진다. 숫자 카드 묶음의 크기는 1,000보다 작거나 같은 양의 정수이다.\n",
    "\n",
    "### 출력\n",
    "첫째 줄에 최소 비교 횟수를 출력한다."
   ]
  },
  {
   "cell_type": "markdown",
   "id": "ba7f1059",
   "metadata": {},
   "source": [
    "## 생각\n",
    "1. 최소힙을 구현해서 heappop 2번한 걸 더해서 heappush한다. 더한거는 따로 result +="
   ]
  },
  {
   "cell_type": "code",
   "execution_count": 15,
   "id": "dfa7f4c6",
   "metadata": {},
   "outputs": [
    {
     "name": "stdout",
     "output_type": "stream",
     "text": [
      "3\n",
      "10\n",
      "20\n",
      "40\n",
      "100\n"
     ]
    }
   ],
   "source": [
    "# 맞았습니다.\n",
    "import heapq\n",
    "\n",
    "def min_number_of_comparisons(card_list):\n",
    "    h = []\n",
    "    result = 0\n",
    "    for card in card_list:\n",
    "        heapq.heappush(h, card)\n",
    "    while True:\n",
    "        if len(h) == 1:\n",
    "            break\n",
    "        a = heapq.heappop(h)\n",
    "        b = heapq.heappop(h)\n",
    "        result += a+b\n",
    "        heapq.heappush(h, a+b)\n",
    "    return result\n",
    "\n",
    "N = int(input())\n",
    "card_list = []\n",
    "for _ in range(N):\n",
    "    card = int(input())\n",
    "    card_list.append(card)\n",
    "\n",
    "result = min_number_of_comparisons(card_list)\n",
    "print(result)"
   ]
  }
 ],
 "metadata": {
  "kernelspec": {
   "display_name": "Python 3 (ipykernel)",
   "language": "python",
   "name": "python3"
  },
  "language_info": {
   "codemirror_mode": {
    "name": "ipython",
    "version": 3
   },
   "file_extension": ".py",
   "mimetype": "text/x-python",
   "name": "python",
   "nbconvert_exporter": "python",
   "pygments_lexer": "ipython3",
   "version": "3.9.12"
  }
 },
 "nbformat": 4,
 "nbformat_minor": 5
}
