{
 "cells": [
  {
   "cell_type": "markdown",
   "id": "d07ba5fd",
   "metadata": {},
   "source": [
    "### 문제\n",
    "임한수와 임문빈은 서로 사랑하는 사이이다.\n",
    "임한수는 세상에서 팰린드롬인 문자열을 너무 좋아하기 때문에, 둘의 백일을 기념해서 임문빈은 필린드롬을 선물해주려고 한다.\n",
    "임문빈은 임한수의 영어 이름으로 필린드롬을 만들려고 하는데, 임한수의 영어 이름의 알파벳 순서를 적절히 바꿔서 팰린드롬을 만들려고 한다.\n",
    "임문빈을 도와 임한수의 영어 이름을 팰린드롬으로 바꾸는 프로그램을 작성하시오.\n",
    "\n",
    "### 입력\n",
    "첫째 줄에 임한수의 영어 이름이 있다. 알파벳 대문자로만 된 최대 50글자이다.\n",
    "\n",
    "### 출력\n",
    "첫째 줄에 문제의 정답을 출력한다. 만약 불가능할 때는 \"I'm Sorry Hansoo\"를 출력한다. 정답이 여러 개일 경우에는 사전순으로 앞서는 것을 출력한다."
   ]
  },
  {
   "cell_type": "markdown",
   "id": "08730677",
   "metadata": {},
   "source": [
    "## 생각\n",
    "1. 문자열을 count하고 2개씩 앞, 뒤로 배치, ord(), chr() 함수 이용"
   ]
  },
  {
   "cell_type": "code",
   "execution_count": 2,
   "id": "c15688f9",
   "metadata": {},
   "outputs": [
    {
     "name": "stdout",
     "output_type": "stream",
     "text": [
      "AAAB\n",
      "AA\n"
     ]
    }
   ],
   "source": [
    "# 틀렸습니다. 반례 (AAAB) output : AA, true : I'm Sorry Hansoo\n",
    "# count(1)이 2이므로 바로 출력해서 오류\n",
    "name = input()\n",
    "check = [0]*26\n",
    "can = True\n",
    "ans = ['']\n",
    "for i in range(len(name)):\n",
    "    check[ord(name[i])-ord('A')]+=1\n",
    "    \n",
    "for i in range(1,50,2):\n",
    "    if check.count(i)>1:\n",
    "        can = False\n",
    "        \n",
    "for i in range(1,50,2):\n",
    "    if check.count(i)>1:\n",
    "        can = False\n",
    "if can:\n",
    "    count = -1\n",
    "    for i in range(26):\n",
    "        while check[i]>1:\n",
    "            count+=1\n",
    "            if check[i]!=1:\n",
    "                ans.insert(-1-count,chr(i+65))\n",
    "                ans.insert(count,chr(i+65))\n",
    "                check[i]-=2\n",
    "    if check.count(1)==1:\n",
    "        ans.insert(len(ans)//2,chr(check.index(1)+65))\n",
    "    ans.remove('')\n",
    "    print(''.join(ans))\n",
    "\n",
    "else:\n",
    "    print(\"I'm Sorry Hansoo\")"
   ]
  },
  {
   "cell_type": "markdown",
   "id": "c50433ac",
   "metadata": {},
   "source": [
    "## 생각\n",
    "2. ans.count(1)이 1보다 클 때 \"I'm Sorry Hansoo\"를 출력하게 변경"
   ]
  },
  {
   "cell_type": "code",
   "execution_count": 4,
   "id": "995954b3",
   "metadata": {},
   "outputs": [
    {
     "name": "stdout",
     "output_type": "stream",
     "text": [
      "AAAB\n",
      "I'm Sorry Hansoo\n"
     ]
    }
   ],
   "source": [
    "# 맞았습니다.\n",
    "name = input()\n",
    "check = [0]*26\n",
    "can = True\n",
    "ans = ['']\n",
    "for i in range(len(name)):\n",
    "    check[ord(name[i])-ord('A')]+=1\n",
    "    \n",
    "for i in range(1,50,2):\n",
    "    if check.count(i)>1:\n",
    "        can = False\n",
    "        \n",
    "for i in range(1,50,2):\n",
    "    if check.count(i)>1:\n",
    "        can = False\n",
    "if can:\n",
    "    count = -1\n",
    "    for i in range(26):\n",
    "        while check[i]>1:\n",
    "            count+=1\n",
    "            if check[i]!=1:\n",
    "                ans.insert(-1-count,chr(i+65))\n",
    "                ans.insert(count,chr(i+65))\n",
    "                check[i]-=2\n",
    "    if check.count(1)==1:\n",
    "        ans.insert(len(ans)//2,chr(check.index(1)+65))\n",
    "    if check.count(1) > 1:\n",
    "        print(\"I'm Sorry Hansoo\")\n",
    "    else:\n",
    "        ans.remove('')\n",
    "        print(''.join(ans))\n",
    "else:\n",
    "    print(\"I'm Sorry Hansoo\")"
   ]
  }
 ],
 "metadata": {
  "kernelspec": {
   "display_name": "Python 3 (ipykernel)",
   "language": "python",
   "name": "python3"
  },
  "language_info": {
   "codemirror_mode": {
    "name": "ipython",
    "version": 3
   },
   "file_extension": ".py",
   "mimetype": "text/x-python",
   "name": "python",
   "nbconvert_exporter": "python",
   "pygments_lexer": "ipython3",
   "version": "3.9.12"
  }
 },
 "nbformat": 4,
 "nbformat_minor": 5
}
