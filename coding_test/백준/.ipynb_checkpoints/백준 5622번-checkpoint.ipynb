{
 "cells": [
  {
   "cell_type": "markdown",
   "id": "25999cc8",
   "metadata": {},
   "source": [
    "### 문제\n",
    "상근이의 할머니는 아래 그림과 같이 오래된 다이얼 전화기를 사용한다.\n",
    "\n",
    "![백준 3](https://user-images.githubusercontent.com/60602671/224636629-e70531a7-10d0-4805-b29a-2ece5275498e.png)\n",
    "\n",
    "전화를 걸고 싶은 번호가 있다면, 숫자를 하나를 누른 다음에 금속 핀이 있는 곳 까지 시계방향으로 돌려야 한다. 숫자를 하나 누르면 다이얼이 처음 위치로 돌아가고, 다음 숫자를 누르려면 다이얼을 처음 위치에서 다시 돌려야 한다.\n",
    "\n",
    "숫자 1을 걸려면 총 2초가 필요하다. 1보다 큰 수를 거는데 걸리는 시간은 이보다 더 걸리며, 한 칸 옆에 잇는 숫자를 걸기 위해선 1초씩 더 걸린다.\n",
    "\n",
    "상근이의 할머니는 전화번호를 각 숫자에 해당하는 문자로 외운다. 즉, 어떤 단어를 걸 때, 각 알파벳에 해당하는 숫자를 걸면 된다. 예를 들어, UNUCIC는 868242와 같다.\n",
    "\n",
    "할머니가 외운 단어가 주어졌을 때, 이 전화를 걸기 위해선 필요한 최소 시간을 구하는 프로그램을 작성하시오.\n",
    "\n",
    "### 입력\n",
    "첫째 줄에 알파벳 대문자로 이루어진 단어가 주어진다. 단어의 길이는 2보다 크거나 같고, 15보다 작거나 같다.\n",
    "\n",
    "### 출력\n",
    "첫째 줄에 다이얼을 걸기 위해서 필요한 최소 시간을 출력한다."
   ]
  },
  {
   "cell_type": "markdown",
   "id": "b7927948",
   "metadata": {},
   "source": [
    "## 생각\n",
    "1. dial_list를 만든다. (숫자에 해당하는 문자 리스트) enumerate로 돌아다니며 string의 원소가 들어가 있다면 index + 3을 result += 한다."
   ]
  },
  {
   "cell_type": "code",
   "execution_count": 4,
   "id": "da8ad275",
   "metadata": {},
   "outputs": [
    {
     "name": "stdout",
     "output_type": "stream",
     "text": [
      "UNUCIC\n",
      "36\n"
     ]
    }
   ],
   "source": [
    "# 맞았습니다.\n",
    "string = input()\n",
    "\n",
    "dial_list = ['ABC', 'DEF', 'GHI', 'JKL', 'MNO', 'PQRS', 'TUV', 'WXYZ']\n",
    "result = 0\n",
    "\n",
    "for s in string:\n",
    "    for idx, dial_string in enumerate(dial_list):\n",
    "        if s in dial_string:\n",
    "            # 다이얼은 1부터 시작하고 1은 2초 걸리므로 2부터 시작하는 dial_list는 + 3 해야한다.\n",
    "            result += idx + 3\n",
    "\n",
    "print(result)"
   ]
  }
 ],
 "metadata": {
  "kernelspec": {
   "display_name": "Python 3 (ipykernel)",
   "language": "python",
   "name": "python3"
  },
  "language_info": {
   "codemirror_mode": {
    "name": "ipython",
    "version": 3
   },
   "file_extension": ".py",
   "mimetype": "text/x-python",
   "name": "python",
   "nbconvert_exporter": "python",
   "pygments_lexer": "ipython3",
   "version": "3.9.12"
  }
 },
 "nbformat": 4,
 "nbformat_minor": 5
}
