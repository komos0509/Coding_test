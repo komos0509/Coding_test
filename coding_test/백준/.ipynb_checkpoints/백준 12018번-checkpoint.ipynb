{
 "cells": [
  {
   "cell_type": "markdown",
   "id": "cc1411a2",
   "metadata": {},
   "source": [
    "### 문제\n",
    "연세대학교 수강신청이 얼마 전부터 바뀌어, 마일리지 제도로 바뀌었다. 이 제도는 각각의 학생들에게 마일리지를 주어 듣고 싶은 과목에 마일리지를 과목당 1~36을 분배한다. 그리고 모두 분배가 끝이 나면 과목에 대해서 마일리지를 많이 투자한 순으로 그 과목의 수강인원만큼 신청되는 방식이다.\n",
    "\n",
    "성준이는 연세대학교 재학 중인 학생이다. 성준이는 저번 수강신청에서 실패하여 휴학을 했기 때문에 이번 수강신청만은 필사적으로 성공하려고 한다. 그래서 성준이는 학교 홈페이지를 뚫어버렸다.\n",
    "\n",
    "그 덕분에 다른 사람들이 신청한 마일리지를 볼 수 있게 되었다. 성준이는 주어진 마일리지로 최대한 많은 과목을 신청하고 싶어 한다. (내가 마일리지를 넣고 이후에 과목을 신청하는 사람은 없다) 마일리지는 한 과목에 1에서 36까지 넣을 수 있다.\n",
    "\n",
    "### 입력\n",
    "첫째 줄에는 과목 수 n (1 ≤ n ≤ 100)과 주어진 마일리지 m (1 ≤ m ≤ 100)이 주어진다. 각 과목마다 2줄의 입력이 주어지는데 첫째 줄에는 각 과목에 신청한 사람 수 Pi과 과목의 수강인원 Li이 주어지고 그 다음 줄에는 각 사람이 마일리지를 얼마나 넣었는지 주어진다. (1 ≤ Pi ≤100, 1 ≤ Li ≤ 100)\n",
    "\n",
    "(단 마일리지가 같다면 성준이에게 우선순위가 주어진다고 하자.)\n",
    "\n",
    "### 출력\n",
    "첫째 줄에 주어진 마일리지로 최대로 들을 수 있는 과목 개수를 출력한다."
   ]
  },
  {
   "cell_type": "markdown",
   "id": "dadb7d75",
   "metadata": {},
   "source": [
    "## 생각\n",
    "1. 만약 a가 b보다 작으면 study에 1추가. 아니면 리스트를 sort하고 리스트[a-b]를 study에 추가 후 study를 sort하고 돌아다니며 마일리지 - 원소 >= 0이면 마일리지 -=, count += 1"
   ]
  },
  {
   "cell_type": "code",
   "execution_count": 6,
   "id": "53e8f750",
   "metadata": {},
   "outputs": [
    {
     "name": "stdout",
     "output_type": "stream",
     "text": [
      "3 2\n",
      "2 4\n",
      "36 36\n",
      "2 4\n",
      "36 36\n",
      "2 4\n",
      "36 36\n",
      "2\n"
     ]
    }
   ],
   "source": [
    "# 맞았습니다.\n",
    "n, m = map(int, input().split())\n",
    "\n",
    "study = []\n",
    "for _ in range(n):\n",
    "    a, b = map(int, input().split())\n",
    "    mileage = list(map(int, input().split()))\n",
    "    if a < b:\n",
    "        study.append(1)\n",
    "    else:\n",
    "        mileage.sort()\n",
    "        study.append(mileage[a-b])\n",
    "        \n",
    "study.sort()\n",
    "count = 0\n",
    "for s in study:\n",
    "    if m-s >= 0:\n",
    "        m -= s\n",
    "        count += 1\n",
    "        \n",
    "print(count)"
   ]
  }
 ],
 "metadata": {
  "kernelspec": {
   "display_name": "Python 3 (ipykernel)",
   "language": "python",
   "name": "python3"
  },
  "language_info": {
   "codemirror_mode": {
    "name": "ipython",
    "version": 3
   },
   "file_extension": ".py",
   "mimetype": "text/x-python",
   "name": "python",
   "nbconvert_exporter": "python",
   "pygments_lexer": "ipython3",
   "version": "3.9.12"
  }
 },
 "nbformat": 4,
 "nbformat_minor": 5
}
