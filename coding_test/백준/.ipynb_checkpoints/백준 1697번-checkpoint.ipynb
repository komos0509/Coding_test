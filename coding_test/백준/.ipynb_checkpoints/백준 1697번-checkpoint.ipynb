{
 "cells": [
  {
   "cell_type": "markdown",
   "id": "51835b3b",
   "metadata": {},
   "source": [
    "### 문제\n",
    "수빈이는 동생과 숨바꼭질을 하고 있다. 수빈이는 현재 점 N(0 ≤ N ≤ 100,000)에 있고, 동생은 점 K(0 ≤ K ≤ 100,000)에 있다. 수빈이는 걷거나 순간이동을 할 수 있다. 만약, 수빈이의 위치가 X일 때 걷는다면 1초 후에 X-1 또는 X+1로 이동하게 된다. 순간이동을 하는 경우에는 1초 후에 2*X의 위치로 이동하게 된다.\n",
    "\n",
    "수빈이와 동생의 위치가 주어졌을 때, 수빈이가 동생을 찾을 수 있는 가장 빠른 시간이 몇 초 후인지 구하는 프로그램을 작성하시오.\n",
    "\n",
    "### 입력\n",
    "첫 번째 줄에 수빈이가 있는 위치 N과 동생이 있는 위치 K가 주어진다. N과 K는 정수이다.\n",
    "\n",
    "### 출력\n",
    "수빈이가 동생을 찾는 가장 빠른 시간을 출력한다."
   ]
  },
  {
   "cell_type": "markdown",
   "id": "85e026da",
   "metadata": {},
   "source": [
    "## 생각\n",
    "1. queue에 -1, +1, *2 를 집어넣고 다시 돌린다. 만약 들어갔던 거라면 넣지 않는다."
   ]
  },
  {
   "cell_type": "code",
   "execution_count": 3,
   "id": "2da578c5",
   "metadata": {},
   "outputs": [
    {
     "name": "stdout",
     "output_type": "stream",
     "text": [
      "5 17\n",
      "4\n"
     ]
    }
   ],
   "source": [
    "# 시간초과\n",
    "from collections import deque\n",
    "\n",
    "def bfs(N, K):\n",
    "    visited = []\n",
    "    \n",
    "    if N == K:\n",
    "        return 0\n",
    "    queue = deque([(N, 0)])\n",
    "    \n",
    "    while queue:\n",
    "        number, count = queue.popleft()\n",
    "        visited.append(number)\n",
    "        \n",
    "        for n in (number - 1, number + 1, number * 2):\n",
    "            if n == K:\n",
    "                return count + 1\n",
    "            if 0 <= n <= 100000:\n",
    "                if n not in visited:\n",
    "                    queue.append((n, count+1))\n",
    "                \n",
    "N, K = map(int, input().split())\n",
    "\n",
    "print(bfs(N, K))"
   ]
  },
  {
   "cell_type": "markdown",
   "id": "7a3ac83d",
   "metadata": {},
   "source": [
    "여기서 키포인트는 queue에 집어넣을 때, N과 count를 tuple로 묶어서 집어넣는다. \n",
    "\n",
    "하지만 시간초과가 발생했다. 아무래도 visited 리스트에 넣을 때 맨 밑, queue에 넣자마자 visited에 넣어야 하는 것 같다."
   ]
  },
  {
   "cell_type": "code",
   "execution_count": 4,
   "id": "6834952b",
   "metadata": {},
   "outputs": [
    {
     "name": "stdout",
     "output_type": "stream",
     "text": [
      "5 17\n",
      "4\n"
     ]
    }
   ],
   "source": [
    "# 맞았습니다.\n",
    "from collections import deque\n",
    "\n",
    "def bfs(N, K):\n",
    "    visited = []\n",
    "    \n",
    "    if N == K:\n",
    "        return 0\n",
    "    queue = deque([(N, 0)])\n",
    "    visited.append(N)\n",
    "    while queue:\n",
    "        number, count = queue.popleft()\n",
    "        \n",
    "        for n in (number - 1, number + 1, number * 2):\n",
    "            if n == K:\n",
    "                return count + 1\n",
    "            if 0 <= n <= 100000:\n",
    "                if n not in visited:\n",
    "                    queue.append((n, count+1))\n",
    "                    visited.append(n)\n",
    "                \n",
    "N, K = map(int, input().split())\n",
    "\n",
    "print(bfs(N, K))"
   ]
  },
  {
   "cell_type": "markdown",
   "id": "816e4a4a",
   "metadata": {},
   "source": [
    "python3에서는 시간초과가 발생했고, pypy3로 하니 아슬아슬하게 정답처리가 되었다."
   ]
  }
 ],
 "metadata": {
  "kernelspec": {
   "display_name": "Python 3 (ipykernel)",
   "language": "python",
   "name": "python3"
  },
  "language_info": {
   "codemirror_mode": {
    "name": "ipython",
    "version": 3
   },
   "file_extension": ".py",
   "mimetype": "text/x-python",
   "name": "python",
   "nbconvert_exporter": "python",
   "pygments_lexer": "ipython3",
   "version": "3.9.12"
  }
 },
 "nbformat": 4,
 "nbformat_minor": 5
}
