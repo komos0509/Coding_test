{
 "cells": [
  {
   "cell_type": "markdown",
   "id": "513fbb8d",
   "metadata": {},
   "source": [
    "### 문제\n",
    "세계적인 도둑 상덕이는 보석점을 털기로 결심했다.\n",
    "\n",
    "상덕이가 털 보석점에는 보석이 총 N개 있다. 각 보석은 무게 Mi와 가격 Vi를 가지고 있다. 상덕이는 가방을 K개 가지고 있고, 각 가방에 담을 수 있는 최대 무게는 Ci이다. 가방에는 최대 한 개의 보석만 넣을 수 있다.\n",
    "\n",
    "상덕이가 훔칠 수 있는 보석의 최대 가격을 구하는 프로그램을 작성하시오.\n",
    "\n",
    "### 입력\n",
    "첫째 줄에 N과 K가 주어진다. (1 ≤ N, K ≤ 300,000)\n",
    "\n",
    "다음 N개 줄에는 각 보석의 정보 Mi와 Vi가 주어진다. (0 ≤ Mi, Vi ≤ 1,000,000)\n",
    "\n",
    "다음 K개 줄에는 가방에 담을 수 있는 최대 무게 Ci가 주어진다. (1 ≤ Ci ≤ 100,000,000)\n",
    "\n",
    "모든 숫자는 양의 정수이다.\n",
    "\n",
    "### 출력\n",
    "첫째 줄에 상덕이가 훔칠 수 있는 보석 가격의 합의 최댓값을 출력한다."
   ]
  },
  {
   "cell_type": "markdown",
   "id": "1962f634",
   "metadata": {},
   "source": [
    "## 생각\n",
    "1. for문 2개로 모든 원소를 돌아다니며 성립되는 값들을 +="
   ]
  },
  {
   "cell_type": "code",
   "execution_count": 1,
   "id": "70de3ab9",
   "metadata": {},
   "outputs": [
    {
     "name": "stdout",
     "output_type": "stream",
     "text": [
      "3 2\n",
      "1 65\n",
      "5 23\n",
      "2 99\n",
      "10\n",
      "2\n",
      "164\n"
     ]
    }
   ],
   "source": [
    "# 틀렸습니다.\n",
    "N, K = map(int, input().split())\n",
    "\n",
    "jewel = []\n",
    "for _ in range(N):\n",
    "    jewel.append(list(map(int, input().split())))\n",
    "    \n",
    "jewel.sort(reverse=True, key=lambda x: x[1])\n",
    "\n",
    "bags = []\n",
    "for _ in range(K):\n",
    "    bags.append(int(input()))\n",
    "    \n",
    "bags.sort()\n",
    "\n",
    "result = 0\n",
    "start = 0\n",
    "for i in range(len(bags)):\n",
    "    for j in range(start, len(jewel)):\n",
    "        if bags[i] >= jewel[j][0]:\n",
    "            result += jewel[j][1]\n",
    "            start = j + 1\n",
    "            break\n",
    "            \n",
    "print(result)"
   ]
  },
  {
   "cell_type": "markdown",
   "id": "89c95fe5",
   "metadata": {},
   "source": [
    "일단 N, K의 범위가 $\\le$ 300000이므로 for문 2개로는 시간초과가 발생할 것이다. 그러므로 O(NlogN) 복잡도를 가진 heapq를 사용해야겠다."
   ]
  },
  {
   "cell_type": "code",
   "execution_count": 12,
   "id": "59a20abf",
   "metadata": {},
   "outputs": [
    {
     "name": "stdout",
     "output_type": "stream",
     "text": [
      "2 1\n",
      "5 10\n",
      "100 100\n",
      "3\n",
      "0\n"
     ]
    }
   ],
   "source": [
    "# 맞았습니다.\n",
    "import heapq\n",
    "\n",
    "N, K = map(int, input().split())\n",
    "\n",
    "jewel_bag = []\n",
    "for _ in range(N):\n",
    "    jewel_bag.append(list(map(int, input().split())))\n",
    "    \n",
    "for _ in range(K):\n",
    "    bag = int(input())\n",
    "    jewel_bag.append([bag, 2000000])\n",
    "    \n",
    "jewel_bag.sort()\n",
    "\n",
    "result = 0\n",
    "jewel_list = []\n",
    "\n",
    "for jewel in jewel_bag:\n",
    "    # 만약 가방 용량이 아니라면 heap에 가격 추가\n",
    "    if jewel[1] != 2000000:\n",
    "        heapq.heappush(jewel_list, -jewel[1]) # 최소힙이 기본이기 때문에 최대힙을 구현하기 위해 -를 붙인다.\n",
    "    else:\n",
    "        # 만약 heap이 비어있지 않다면\n",
    "        if len(jewel_list) > 0:\n",
    "            # 최대힙의 결과를 result에 -= (-을 붙였기 때문에 -=를 사용하면 양수가 나온다.)\n",
    "            result -= heapq.heappop(jewel_list)\n",
    "        \n",
    "print(result)"
   ]
  }
 ],
 "metadata": {
  "kernelspec": {
   "display_name": "Python 3 (ipykernel)",
   "language": "python",
   "name": "python3"
  },
  "language_info": {
   "codemirror_mode": {
    "name": "ipython",
    "version": 3
   },
   "file_extension": ".py",
   "mimetype": "text/x-python",
   "name": "python",
   "nbconvert_exporter": "python",
   "pygments_lexer": "ipython3",
   "version": "3.9.12"
  }
 },
 "nbformat": 4,
 "nbformat_minor": 5
}
