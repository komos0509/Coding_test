{
 "cells": [
  {
   "cell_type": "markdown",
   "id": "58719894",
   "metadata": {},
   "source": [
    "### 문제\n",
    "페인은 에너지 드링크를 좋아하는 회사원이다. 에너지 드링크는 카페인, 아르기닌, 타우린, 나이아신 등의 성분이 들어있어 피로 회복에 도움을 주는 에너지 보충 음료수이다.\n",
    "\n",
    "야근을 마치고 한밤중에 퇴근하니 벌써 새벽 1시. 하지만 주말은 아직 멀었고, 다음 날에도 정시에 출근해야 하는 페인은 오늘도 에너지 드링크를 찾는다.\n",
    "\n",
    "반복되는 야근에 지친 나머지, 평소보다 더 많은 에너지와 피로 회복이 필요했던 페인은 집에 있던 에너지 드링크들을 한 데 합쳐서, 하나의 에너지 드링크로 만들어 한번에 마시려 한다.\n",
    "\n",
    "페인이 에너지 드링크들을 합치는 과정은 다음과 같다.\n",
    "\n",
    "임의의 서로 다른 두 에너지 드링크를 고른다.\n",
    "한쪽 에너지 드링크를 다른 쪽 에너지 드링크에 모두 붓는다. 단, 페인은 야근 후유증으로 인해 손이 떨려, 붓는 과정에서 원래 양의 절반을 바닥에 흘리게 된다.\n",
    "다 붓고 남은 빈 에너지 드링크는 버린다.\n",
    "1~3 과정을 에너지 드링크가 하나만 남을 때까지 반복한다.\n",
    "예를 들어, 두 에너지 드링크 a, b가 있고, 양이 각각 xa, xb라 할 때, 다음 둘 중 하나의 선택을 할 수 있다.\n",
    "\n",
    "a의 양을 xa + (xb / 2)로 만들고, b를 버리기\n",
    "b의 양을 xb + (xa / 2)로 만들고, a를 버리기\n",
    "페인은 합쳐진 에너지 드링크의 양을 최대로 하려 한다. 불쌍한 페인을 도와주자!\n",
    "\n",
    "### 입력\n",
    "첫째 줄에 페인이 가지고 있는 에너지 드링크의 수 N이 주어진다. (2 ≤ N ≤ 105)\n",
    "\n",
    "둘째 줄에 각 에너지 드링크의 양이 공백으로 구분되어 주어진다. i번째 정수 xi (1 ≤ xi ≤ 109)는 에너지 드링크 i의 양이 xi임을 의미한다.\n",
    "\n",
    "### 출력\n",
    "첫째 줄에 페인이 최대로 만들 수 있는 에너지 드링크의 양을 출력한다.\n",
    "\n",
    "절대/상대 오차는 10-5까지 허용한다."
   ]
  },
  {
   "cell_type": "markdown",
   "id": "5851870a",
   "metadata": {},
   "source": [
    "## 생각\n",
    "1. 리스트를 sort하고 0 ~ N-1까지 리스트[N-1] += 원소 / 2 후, 리스트[N-1] 출력"
   ]
  },
  {
   "cell_type": "code",
   "execution_count": 6,
   "id": "bc6620ca",
   "metadata": {},
   "outputs": [
    {
     "name": "stdout",
     "output_type": "stream",
     "text": [
      "10\n",
      "100 9 77 65 39 27 45 1 80 495\n",
      "716.5\n"
     ]
    }
   ],
   "source": [
    "# 맞았습니다.\n",
    "N = int(input())\n",
    "energy = list(map(int, input().split()))\n",
    "\n",
    "energy.sort()\n",
    "for e in energy[:N-1]:\n",
    "    # 가장 큰 원소에 나머지 원소 / 2를 더하기\n",
    "    energy[N-1] += (e / 2)\n",
    "\n",
    "# 만약 답의 소수점이 0이라면 정수로 출력\n",
    "if int(energy[N-1]) == energy[N-1]:\n",
    "    print(int(energy[N-1]))\n",
    "else:\n",
    "    print(energy[N-1])"
   ]
  }
 ],
 "metadata": {
  "kernelspec": {
   "display_name": "Python 3 (ipykernel)",
   "language": "python",
   "name": "python3"
  },
  "language_info": {
   "codemirror_mode": {
    "name": "ipython",
    "version": 3
   },
   "file_extension": ".py",
   "mimetype": "text/x-python",
   "name": "python",
   "nbconvert_exporter": "python",
   "pygments_lexer": "ipython3",
   "version": "3.9.12"
  }
 },
 "nbformat": 4,
 "nbformat_minor": 5
}
