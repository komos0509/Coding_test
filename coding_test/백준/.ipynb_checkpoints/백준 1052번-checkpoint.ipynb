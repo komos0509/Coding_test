{
 "cells": [
  {
   "cell_type": "markdown",
   "id": "c2cc3139",
   "metadata": {},
   "source": [
    "### 문제\n",
    "지민이는 N개의 물병을 가지고 있다. 각 물병에는 물을 무한대로 부을 수 있다. 처음에 모든 물병에는 물이 1리터씩 들어있다. 지민이는 이 물병을 또 다른 장소로 옮기려고 한다. 지민이는 한 번에 K개의 물병을 옮길 수 있다. 하지만, 지민이는 물을 낭비하기는 싫고, 이동을 한 번보다 많이 하기는 싫다. 따라서, 지민이는 물병의 물을 적절히 재분배해서, K개를 넘지 않는 비어있지 않은 물병을 만들려고 한다.\n",
    "\n",
    "물은 다음과 같이 재분배 한다.\n",
    "\n",
    "- 먼저 같은 양의 물이 들어있는 물병 두 개를 고른다. 그 다음에 한 개의 물병에 다른 한 쪽에 있는 물을 모두 붓는다. 이 방법을 필요한 만큼 계속 한다.\n",
    "\n",
    "이런 제약 때문에, N개로 K개를 넘지않는 비어있지 않은 물병을 만드는 것이 불가능할 수도 있다. 다행히도, 새로운 물병을 살 수 있다. 상점에서 사는 물병은 물이 1리터 들어있다.\n",
    "\n",
    "예를 들어, N=3이고, K=1일 때를 보면, 물병 3개로 1개를 만드는 것이 불가능하다. 한 병을 또다른 병에 부으면, 2리터가 들어있는 물병 하나와, 1리터가 들어있는 물병 하나가 남는다. 만약 상점에서 한 개의 물병을 산다면, 2리터가 들어있는 물병 두 개를 만들 수 있고, 마지막으로 4리터가 들어있는 물병 한 개를 만들 수 있다.\n",
    "\n",
    "\n",
    "### 입력\n",
    "첫째 줄에 N과 K가 주어진다. N은 107보다 작거나 같은 자연수이고, K는 1,000보다 작거나 같은 자연수이다.\n",
    "\n",
    "### 출력\n",
    "첫째 줄에 상점에서 사야하는 물병의 최솟값을 출력한다. 만약 정답이 없을 경우에는 -1을 출력한다."
   ]
  },
  {
   "cell_type": "markdown",
   "id": "4f61ae5b",
   "metadata": {},
   "source": [
    "## 생각\n",
    "1. while N != K, 만약 N이 2로 나눠 떨어지면 N은 몫, 아니면 N += 1, count += 1하고 result += 2 ** count"
   ]
  },
  {
   "cell_type": "code",
   "execution_count": 4,
   "id": "083e6395",
   "metadata": {},
   "outputs": [
    {
     "name": "stdout",
     "output_type": "stream",
     "text": [
      "1000000 9\n",
      "15808\n"
     ]
    }
   ],
   "source": [
    "# 틀렸습니다.\n",
    "# 예시에서 15625에서 9개로 만들 수가 있는데 홀수 취급으로 하여 오류\n",
    "def check(N, K, is_True, cnt=0):\n",
    "    while N != 1:\n",
    "        if (N + cnt) == K:\n",
    "            is_True = False\n",
    "            break\n",
    "        elif (N % 2) != 2:\n",
    "            cnt += (N % 2)\n",
    "            N //= 2\n",
    "        else:\n",
    "            N //= 2\n",
    "    if (N+cnt) == K:\n",
    "        is_True = False\n",
    "    return is_True\n",
    "    \n",
    "\n",
    "N, K = map(int, input().split())\n",
    "\n",
    "result = 0\n",
    "count = 0\n",
    "is_True = True\n",
    "\n",
    "while (N - K) > K:\n",
    "    if N % 2 == 0:\n",
    "        N //= 2\n",
    "        count += 1\n",
    "    else:\n",
    "        if check(N, K, is_True):\n",
    "            N += 1\n",
    "            result += 2 ** count\n",
    "        else:\n",
    "            break\n",
    "        \n",
    "print(result)"
   ]
  },
  {
   "cell_type": "markdown",
   "id": "6416b716",
   "metadata": {},
   "source": [
    "N이 K보다 작아질 때 2씩 빼고 1더하면서 K랑 같아지면 정답이 된다라는 새로운 함수를 만들어보자."
   ]
  },
  {
   "cell_type": "code",
   "execution_count": 179,
   "id": "db156851",
   "metadata": {},
   "outputs": [
    {
     "name": "stdout",
     "output_type": "stream",
     "text": [
      "1000000 5\n",
      "0\n"
     ]
    }
   ],
   "source": [
    "# 틀렸습니다.\n",
    "# 이렇게 해버리니 기존의 1000000 5가 15808이 아닌 0으로 처리되어 오류\n",
    "def check2(N, K, is_True, cnt, ccnt=0):\n",
    "    N += cnt\n",
    "    while N > 1:\n",
    "        if (N + ccnt) == K:\n",
    "            is_True = False\n",
    "            break\n",
    "        N -= 2\n",
    "        ccnt += 1\n",
    "    return is_True\n",
    "\n",
    "# 정답인지 아닌지 체크\n",
    "def check(N, K, is_True, cnt=0):\n",
    "    while N > 1:\n",
    "        # while 문 안에서 정답이면 is_True = False\n",
    "        if (N + cnt) == K:\n",
    "            is_True = False\n",
    "            break\n",
    "        if N < K:\n",
    "            is_True = check2(N, K, is_True, cnt)\n",
    "        if is_True:\n",
    "            # N이 홀수이면 cnt += 나머지, N은 몫\n",
    "            if (N % 2) != 2:\n",
    "                cnt += (N % 2)\n",
    "                N //= 2\n",
    "            # N이 짝수이면 나누기 \n",
    "            else:\n",
    "                N //= 2\n",
    "        else:\n",
    "            break\n",
    "    # while 문 밖에서 정답이면 is_True = False\n",
    "    if (N+cnt) == K:\n",
    "        is_True = False\n",
    "        \n",
    "    return is_True\n",
    "    \n",
    "N, K = map(int, input().split())\n",
    "\n",
    "result = 0      # 사야할 물병 개수\n",
    "count = 0       # 2로 나눌 때 마다 += 1\n",
    "is_True = True  # 정답이 나오면 False, 아니면 True\n",
    "\n",
    "# N이 K보다 작으면 result = -1\n",
    "if N < K:\n",
    "    is_True = False\n",
    "    result = 0\n",
    "\n",
    "while N > 1 and is_True:\n",
    "    # 정답이 아니라면 계속\n",
    "    if check(N, K, is_True): \n",
    "        # N이 짝수일 때 N은 몫, count += 1\n",
    "        if N % 2 == 0:\n",
    "            N //= 2\n",
    "            count += 1\n",
    "        # N이 홀수이면 += 1하고 사야할 물병을 2의 count지수만큼 +\n",
    "        else:\n",
    "            N += 1\n",
    "            result += 2 ** count\n",
    "    # 정답이면 멈춤\n",
    "    else:\n",
    "        break\n",
    "\n",
    "        \n",
    "print(result)"
   ]
  },
  {
   "cell_type": "markdown",
   "id": "23414875",
   "metadata": {},
   "source": [
    "그래서 결국 거듭제곱으로는 방법을 찾지 못하고 2진법을 이용하여 계산하는 방법을 찾았다. `N을 2진법으로 바꿨을 때, 1의 개수가 물병의 개수`이므로 이를 이용해 사야하는 물병의 개수를 계산"
   ]
  },
  {
   "cell_type": "code",
   "execution_count": 2,
   "id": "8d0d6e97",
   "metadata": {},
   "outputs": [
    {
     "name": "stdout",
     "output_type": "stream",
     "text": [
      "1000000 9\n",
      "0\n"
     ]
    }
   ],
   "source": [
    "# 맞았습니다.\n",
    "N, K = map(int, input().split())\n",
    "\n",
    "count = 0\n",
    "\n",
    "while bin(N).count('1') > K:\n",
    "    N += 1\n",
    "    count += 1\n",
    "    \n",
    "print(count)"
   ]
  }
 ],
 "metadata": {
  "kernelspec": {
   "display_name": "Python 3 (ipykernel)",
   "language": "python",
   "name": "python3"
  },
  "language_info": {
   "codemirror_mode": {
    "name": "ipython",
    "version": 3
   },
   "file_extension": ".py",
   "mimetype": "text/x-python",
   "name": "python",
   "nbconvert_exporter": "python",
   "pygments_lexer": "ipython3",
   "version": "3.9.12"
  }
 },
 "nbformat": 4,
 "nbformat_minor": 5
}
