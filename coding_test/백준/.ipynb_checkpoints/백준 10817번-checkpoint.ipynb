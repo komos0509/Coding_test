{
 "cells": [
  {
   "cell_type": "markdown",
   "id": "10449c04",
   "metadata": {},
   "source": [
    "### 문제\n",
    "세 정수 A, B, C가 주어진다, 이때, 두 번째로 큰 정수를 출력하는 프로그램을 작성하시오.\n",
    "\n",
    "### 입력\n",
    "첫째 줄에 세 정수 A, B, C가 공백으로 구분되어 주어진다.(1 $\\le$ A, B, C $\\le$ 100)\n",
    "\n",
    "### 출력\n",
    "두 번째로 큰 정수를 출력한다."
   ]
  },
  {
   "cell_type": "markdown",
   "id": "6cf10904",
   "metadata": {},
   "source": [
    "## 생각\n",
    "1. list를 sort reverse=True하고 list[1]을 출력"
   ]
  },
  {
   "cell_type": "code",
   "execution_count": 1,
   "id": "be78f549",
   "metadata": {},
   "outputs": [
    {
     "name": "stdout",
     "output_type": "stream",
     "text": [
      "20 30 10\n",
      "20\n"
     ]
    }
   ],
   "source": [
    "# 맞았습니다.\n",
    "number_list = list(map(int, input().split()))\n",
    "number_list.sort(reverse=True)\n",
    "\n",
    "print(number_list[1])"
   ]
  }
 ],
 "metadata": {
  "kernelspec": {
   "display_name": "Python 3 (ipykernel)",
   "language": "python",
   "name": "python3"
  },
  "language_info": {
   "codemirror_mode": {
    "name": "ipython",
    "version": 3
   },
   "file_extension": ".py",
   "mimetype": "text/x-python",
   "name": "python",
   "nbconvert_exporter": "python",
   "pygments_lexer": "ipython3",
   "version": "3.9.12"
  }
 },
 "nbformat": 4,
 "nbformat_minor": 5
}
