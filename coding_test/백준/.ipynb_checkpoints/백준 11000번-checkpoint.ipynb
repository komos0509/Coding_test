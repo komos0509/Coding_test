{
 "cells": [
  {
   "cell_type": "markdown",
   "id": "4d97f0f9",
   "metadata": {},
   "source": [
    "### 문제\n",
    "수강신청의 마스터 김종혜 선생님에게 새로운 과제가 주어졌다. \n",
    "\n",
    "김종혜 선생님한테는 Si에 시작해서 Ti에 끝나는 N개의 수업이 주어지는데, 최소의 강의실을 사용해서 모든 수업을 가능하게 해야 한다. \n",
    "\n",
    "참고로, 수업이 끝난 직후에 다음 수업을 시작할 수 있다. (즉, Ti ≤ Sj 일 경우 i 수업과 j 수업은 같이 들을 수 있다.)\n",
    "\n",
    "수강신청 대충한 게 찔리면, 선생님을 도와드리자!\n",
    "\n",
    "### 입력\n",
    "첫 번째 줄에 N이 주어진다. (1 ≤ N ≤ 200,000)\n",
    "\n",
    "이후 N개의 줄에 Si, Ti가 주어진다. (0 ≤ Si < Ti ≤ 109)\n",
    "\n",
    "### 출력\n",
    "강의실의 개수를 출력하라."
   ]
  },
  {
   "cell_type": "markdown",
   "id": "47f1787f",
   "metadata": {},
   "source": [
    "## 생각\n",
    "1. 리스트를 [x[0], x[1]] 으로 정렬하고 heapq로 끝나는 시간을 넣어 시작시간이 heappop보다 크면 heappop하고 끝나는 시간을 heappush 한다. 작으면 끝나는 시간을 heappush 한다."
   ]
  },
  {
   "cell_type": "code",
   "execution_count": 16,
   "id": "1ae5e239",
   "metadata": {},
   "outputs": [
    {
     "name": "stdout",
     "output_type": "stream",
     "text": [
      "8\n",
      "1 8\n",
      "9 16\n",
      "3 7\n",
      "8 10\n",
      "10 14\n",
      "5 6\n",
      "6 11\n",
      "11 12\n",
      "3\n"
     ]
    }
   ],
   "source": [
    "# 맞았습니다.\n",
    "import heapq\n",
    "\n",
    "N = int(input())\n",
    "\n",
    "study = []\n",
    "for _ in range(N):\n",
    "    study.append(list(map(int, input().split())))\n",
    "    \n",
    "study.sort(key=lambda x: [x[0], x[1]])\n",
    "\n",
    "end_time = []\n",
    "for s in study:\n",
    "    if len(end_time) == 0:\n",
    "        heapq.heappush(end_time, s[1])\n",
    "    elif end_time[0] > s[0]:\n",
    "        heapq.heappush(end_time, s[1])\n",
    "    else:\n",
    "        heapq.heappop(end_time)\n",
    "        heapq.heappush(end_time, s[1])\n",
    "        \n",
    "print(len(end_time))"
   ]
  }
 ],
 "metadata": {
  "kernelspec": {
   "display_name": "Python 3 (ipykernel)",
   "language": "python",
   "name": "python3"
  },
  "language_info": {
   "codemirror_mode": {
    "name": "ipython",
    "version": 3
   },
   "file_extension": ".py",
   "mimetype": "text/x-python",
   "name": "python",
   "nbconvert_exporter": "python",
   "pygments_lexer": "ipython3",
   "version": "3.9.12"
  }
 },
 "nbformat": 4,
 "nbformat_minor": 5
}
