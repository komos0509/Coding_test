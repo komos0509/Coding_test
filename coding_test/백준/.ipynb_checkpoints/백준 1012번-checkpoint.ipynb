{
 "cells": [
  {
   "cell_type": "markdown",
   "id": "b482e3fe",
   "metadata": {},
   "source": [
    "### 문제\n",
    "차세대 영농인 한나는 강원도 고랭지에서 유기농 배추를 재배하기로 하였다. 농약을 쓰지 않고 배추를 재배하려면 배추를 해충으로부터 보호하는 것이 중요하기 때문에, 한나는 해충 방지에 효과적인 배추흰지렁이를 구입하기로 결심한다. 이 지렁이는 배추근처에 서식하며 해충을 잡아 먹음으로써 배추를 보호한다. 특히, 어떤 배추에 배추흰지렁이가 한 마리라도 살고 있으면 이 지렁이는 인접한 다른 배추로 이동할 수 있어, 그 배추들 역시 해충으로부터 보호받을 수 있다. 한 배추의 상하좌우 네 방향에 다른 배추가 위치한 경우에 서로 인접해있는 것이다.\n",
    "\n",
    "한나가 배추를 재배하는 땅은 고르지 못해서 배추를 군데군데 심어 놓았다. 배추들이 모여있는 곳에는 배추흰지렁이가 한 마리만 있으면 되므로 서로 인접해있는 배추들이 몇 군데에 퍼져있는지 조사하면 총 몇 마리의 지렁이가 필요한지 알 수 있다. 예를 들어 배추밭이 아래와 같이 구성되어 있으면 최소 5마리의 배추흰지렁이가 필요하다. 0은 배추가 심어져 있지 않은 땅이고, 1은 배추가 심어져 있는 땅을 나타낸다.\n",
    "\n",
    "![백준 8](https://user-images.githubusercontent.com/60602671/227869911-d914dade-b83c-4452-878d-ffae5157d956.png)\n",
    "\n",
    "### 입력\n",
    "입력의 첫 줄에는 테스트 케이스의 개수 T가 주어진다. 그 다음 줄부터 각각의 테스트 케이스에 대해 첫째 줄에는 배추를 심은 배추밭의 가로길이 M(1 ≤ M ≤ 50)과 세로길이 N(1 ≤ N ≤ 50), 그리고 배추가 심어져 있는 위치의 개수 K(1 ≤ K ≤ 2500)이 주어진다. 그 다음 K줄에는 배추의 위치 X(0 ≤ X ≤ M-1), Y(0 ≤ Y ≤ N-1)가 주어진다. 두 배추의 위치가 같은 경우는 없다.\n",
    "\n",
    "### 출력\n",
    "각 테스트 케이스에 대해 필요한 최소의 배추흰지렁이 마리 수를 출력한다."
   ]
  },
  {
   "cell_type": "markdown",
   "id": "7482945e",
   "metadata": {},
   "source": [
    "## 생각\n",
    "1. 맨 처음 배추list를 0으로 초기화 한 후, 1을 입력받는다. 그 후, 위 DFS 함수로 count를 계산"
   ]
  },
  {
   "cell_type": "code",
   "execution_count": 9,
   "id": "cc539914",
   "metadata": {},
   "outputs": [
    {
     "name": "stdout",
     "output_type": "stream",
     "text": [
      "2\n",
      "5 3 6\n",
      "0 2\n",
      "1 2\n",
      "2 2\n",
      "3 2\n",
      "4 2\n",
      "4 0\n",
      "10 10 1\n",
      "5 5\n",
      "2\n",
      "1\n"
     ]
    }
   ],
   "source": [
    "# 런타임에러(RecursionError) 발생\n",
    "def dfs(x, y):\n",
    "    # 범위에 벗어나면 False\n",
    "    if x < 0 or x >= b or y < 0 or y >= a:\n",
    "        return False\n",
    "    if field_list[x][y] == 1:\n",
    "        field_list[x][y] = 0\n",
    "        # 상, 하, 좌, 우 재귀함수\n",
    "        dfs(x+1, y)\n",
    "        dfs(x-1, y)\n",
    "        dfs(x, y+1)\n",
    "        dfs(x, y-1)\n",
    "        return True\n",
    "    return False\n",
    "\n",
    "T = int(input())\n",
    "\n",
    "result_list = []\n",
    "for _ in range(T):\n",
    "    a, b, n = map(int, input().split())\n",
    "    field_list = [[0] * a for _ in range(b)]\n",
    "    for _ in range(n):\n",
    "        x, y = map(int, input().split())\n",
    "        # 입력값이 가로, 세로라서 [y][x]로 지정\n",
    "        field_list[y][x] = 1\n",
    "    \n",
    "    result = 0\n",
    "    for i in range(b):\n",
    "        for j in range(a):\n",
    "            if dfs(i, j):\n",
    "                result += 1\n",
    "                \n",
    "    result_list.append(result)\n",
    "    \n",
    "for result in result_list:\n",
    "    print(result)\n",
    "    \n",
    "    "
   ]
  },
  {
   "cell_type": "markdown",
   "id": "e4d95cb0",
   "metadata": {},
   "source": [
    "분명 코드는 맞지만 RecursionError가 발생했다. 그 이유는 재귀함수를 사용했을 때, 깊이가 지정한 것보다 더 깊게 들어가서 발생하였다. 그래서 DFS 방법이 아닌 BFS방법을 이용하여 풀어보았다."
   ]
  },
  {
   "cell_type": "code",
   "execution_count": 22,
   "id": "22379851",
   "metadata": {},
   "outputs": [
    {
     "name": "stdout",
     "output_type": "stream",
     "text": [
      "2\n",
      "10 8 17\n",
      "0 0\n",
      "1 0\n",
      "1 1\n",
      "4 2\n",
      "4 3\n",
      "4 5\n",
      "2 4\n",
      "3 4\n",
      "7 4\n",
      "8 4\n",
      "9 4\n",
      "7 5\n",
      "8 5\n",
      "9 5\n",
      "7 6\n",
      "8 6\n",
      "9 6\n",
      "10 10 1\n",
      "5 5\n",
      "5\n",
      "1\n"
     ]
    }
   ],
   "source": [
    "# 맞았습니다.\n",
    "from collections import deque\n",
    "\n",
    "def bfs(x, y):\n",
    "    queue = deque()\n",
    "    queue.append((x,y))\n",
    "    \n",
    "    while queue:\n",
    "        x, y = queue.popleft()\n",
    "        # 자기자신을 0으로 변경\n",
    "        field_list[x][y] = 0\n",
    "        # 상, 하, 좌, 우\n",
    "        for i in range(4):\n",
    "            nx = x + dx[i]\n",
    "            ny = y + dy[i]\n",
    "            \n",
    "            # 이동한 값이 범위에 벗어나면 아웃\n",
    "            if nx < 0 or nx >= b or ny < 0 or ny >= a:\n",
    "                continue\n",
    "            # 이동한 값이 0이면 아웃\n",
    "            if field_list[nx][ny] == 0:\n",
    "                continue\n",
    "                \n",
    "            # 이동한 값이 1일 때,\n",
    "            if field_list[nx][ny] == 1:\n",
    "                # 값을 0으로 변경\n",
    "                field_list[nx][ny] = 0\n",
    "                # 그 좌표를 queue에 추가\n",
    "                queue.append((nx, ny))\n",
    "                \n",
    "\n",
    "T = int(input())\n",
    "\n",
    "result_list = []\n",
    "\n",
    "dx = [-1, 1, 0, 0]\n",
    "dy = [0, 0, -1, 1]\n",
    "\n",
    "for _ in range(T):\n",
    "    a, b, n = map(int, input().split())\n",
    "    field_list = [[0] * a for _ in range(b)]\n",
    "    for _ in range(n):\n",
    "        x, y = map(int, input().split())\n",
    "        field_list[y][x] = 1\n",
    "    \n",
    "    result = 0\n",
    "    # field_list의 값들을 돌아다니며\n",
    "    for i in range(b):\n",
    "        for j in range(a):\n",
    "            # 값이 1일 경우 bfs함수 실행\n",
    "            if field_list[i][j] == 1:\n",
    "                bfs(i, j)\n",
    "                result += 1\n",
    "                \n",
    "    result_list.append(result)\n",
    "    \n",
    "for result in result_list:\n",
    "    print(result)"
   ]
  }
 ],
 "metadata": {
  "kernelspec": {
   "display_name": "Python 3 (ipykernel)",
   "language": "python",
   "name": "python3"
  },
  "language_info": {
   "codemirror_mode": {
    "name": "ipython",
    "version": 3
   },
   "file_extension": ".py",
   "mimetype": "text/x-python",
   "name": "python",
   "nbconvert_exporter": "python",
   "pygments_lexer": "ipython3",
   "version": "3.9.12"
  }
 },
 "nbformat": 4,
 "nbformat_minor": 5
}
