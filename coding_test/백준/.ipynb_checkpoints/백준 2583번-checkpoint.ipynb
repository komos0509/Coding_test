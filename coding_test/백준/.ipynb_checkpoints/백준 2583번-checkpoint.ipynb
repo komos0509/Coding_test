{
 "cells": [
  {
   "cell_type": "markdown",
   "id": "26721238",
   "metadata": {},
   "source": [
    "### 문제\n",
    "눈금의 간격이 1인 M×N(M,N≤100)크기의 모눈종이가 있다. 이 모눈종이 위에 눈금에 맞추어 K개의 직사각형을 그릴 때, 이들 K개의 직사각형의 내부를 제외한 나머지 부분이 몇 개의 분리된 영역으로 나누어진다.\n",
    "\n",
    "예를 들어 M=5, N=7 인 모눈종이 위에 <그림 1>과 같이 직사각형 3개를 그렸다면, 그 나머지 영역은 <그림 2>와 같이 3개의 분리된 영역으로 나누어지게 된다.\n",
    "\n",
    "![백준 13](https://user-images.githubusercontent.com/60602671/230258551-f883b253-cc84-4253-a92d-58edf93b430f.png)\n",
    "\n",
    "<그림 2>와 같이 분리된 세 영역의 넓이는 각각 1, 7, 13이 된다.\n",
    "\n",
    "M, N과 K 그리고 K개의 직사각형의 좌표가 주어질 때, K개의 직사각형 내부를 제외한 나머지 부분이 몇 개의 분리된 영역으로 나누어지는지, 그리고 분리된 각 영역의 넓이가 얼마인지를 구하여 이를 출력하는 프로그램을 작성하시오.\n",
    "\n",
    "### 입력\n",
    "첫째 줄에 M과 N, 그리고 K가 빈칸을 사이에 두고 차례로 주어진다. M, N, K는 모두 100 이하의 자연수이다. 둘째 줄부터 K개의 줄에는 한 줄에 하나씩 직사각형의 왼쪽 아래 꼭짓점의 x, y좌표값과 오른쪽 위 꼭짓점의 x, y좌표값이 빈칸을 사이에 두고 차례로 주어진다. 모눈종이의 왼쪽 아래 꼭짓점의 좌표는 (0,0)이고, 오른쪽 위 꼭짓점의 좌표는(N,M)이다. 입력되는 K개의 직사각형들이 모눈종이 전체를 채우는 경우는 없다.\n",
    "\n",
    "### 출력\n",
    "첫째 줄에 분리되어 나누어지는 영역의 개수를 출력한다. 둘째 줄에는 각 영역의 넓이를 오름차순으로 정렬하여 빈칸을 사이에 두고 출력한다."
   ]
  },
  {
   "cell_type": "markdown",
   "id": "e0d69316",
   "metadata": {},
   "source": [
    "## 생각\n",
    "1. 기존 BFS 알고리즘에서 popleft를 할 때마다 1씩 증가시켜 칸의 개수를 구한다."
   ]
  },
  {
   "cell_type": "code",
   "execution_count": 18,
   "id": "35f6e0ba",
   "metadata": {},
   "outputs": [
    {
     "name": "stdout",
     "output_type": "stream",
     "text": [
      "5 7 3\n",
      "0 2 4 4\n",
      "1 1 2 5\n",
      "4 0 6 2\n",
      "3\n",
      "1 7 13\n"
     ]
    }
   ],
   "source": [
    "# 맞았습니다.\n",
    "from collections import deque\n",
    "\n",
    "def bfs(x, y):\n",
    "    queue = deque()\n",
    "    queue.append((x, y))\n",
    "    visited[x][y] = 1\n",
    "    count = 0\n",
    "    while queue:\n",
    "        x, y = queue.popleft()\n",
    "        count += 1\n",
    "        graph[x][y] = count\n",
    "        for i in range(4):\n",
    "            nx = x + dx[i]\n",
    "            ny = y + dy[i]\n",
    "            if 0 <= nx < M and 0 <= ny < N:\n",
    "                if graph[nx][ny] != -1 and visited[nx][ny] == 0:\n",
    "                    queue.append((nx, ny))\n",
    "                    visited[nx][ny] = 1\n",
    "                \n",
    "    return graph[x][y]\n",
    "    \n",
    "M, N, K = map(int, input().split())\n",
    "\n",
    "graph = [[0] * N for _ in range(M)]\n",
    "visited = [[0] * N for _ in range(M)]\n",
    "\n",
    "dx = [0, 0, 1, -1]\n",
    "dy = [1, -1, 0, 0]\n",
    "\n",
    "for _ in range(K):\n",
    "    a, b, c, d = map(int, input().split())\n",
    "    for i in range(b, d):\n",
    "        for j in range(a, c):\n",
    "            graph[i][j] = -1\n",
    "    \n",
    "result = []\n",
    "count = 0\n",
    "for i in range(M):\n",
    "    for j in range(N):\n",
    "        if graph[i][j] == 0 and visited[i][j] == 0:\n",
    "            result.append(bfs(i, j))\n",
    "            count += 1\n",
    "\n",
    "result.sort()\n",
    "print(count)\n",
    "print(*result)"
   ]
  }
 ],
 "metadata": {
  "kernelspec": {
   "display_name": "Python 3 (ipykernel)",
   "language": "python",
   "name": "python3"
  },
  "language_info": {
   "codemirror_mode": {
    "name": "ipython",
    "version": 3
   },
   "file_extension": ".py",
   "mimetype": "text/x-python",
   "name": "python",
   "nbconvert_exporter": "python",
   "pygments_lexer": "ipython3",
   "version": "3.9.12"
  }
 },
 "nbformat": 4,
 "nbformat_minor": 5
}
