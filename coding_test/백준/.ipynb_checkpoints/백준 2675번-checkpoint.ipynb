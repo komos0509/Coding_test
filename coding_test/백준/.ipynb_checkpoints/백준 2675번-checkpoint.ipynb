{
 "cells": [
  {
   "cell_type": "markdown",
   "id": "d06aac2f",
   "metadata": {},
   "source": [
    "### 문제\n",
    "문자열 S를 입력받은 후에, 각 문자를 R번 반복해 새 문자열 P를 만든 후 출력하는 프로그램을 작성하시오. 즉, 첫 번째 문자를 R번 반복하고, 두 번째 문자를 R번 반복하는 식으로 P를 만들면 된다. S에는 QR Code \"alphanumberic\" 문자만 들어있다.\n",
    "\n",
    "QR Code \"alphanumberic\" 문자는 `0123456789ABCDEFGHIJKLMNOPQRSTUVWXYZ\\$%*+-./:` 이다.\n",
    "\n",
    "### 입력\n",
    "첫째 줄에 테스트 케이스의 개수 T(1 $\\le$ T $\\le$ 1,000)가 주어진다. 각 테스트 케이스는 반복 횟수 R(1 $\\le$ R $\\le$ 8), 문자열 S가 공백으로 구분되어 주어진다. S의 길이는 적어도 1이며, 20글자를 넘지 않는다.\n",
    "\n",
    "### 출력\n",
    "각 테스트 케이스에 대해 P를 출력한다."
   ]
  },
  {
   "cell_type": "markdown",
   "id": "becfe115",
   "metadata": {},
   "source": [
    "## 생각\n",
    "1. for문 string의 원소를 * number 값을 문자열 result에 추가"
   ]
  },
  {
   "cell_type": "code",
   "execution_count": 3,
   "id": "41241429",
   "metadata": {},
   "outputs": [
    {
     "name": "stdout",
     "output_type": "stream",
     "text": [
      "2\n",
      "3 ABC\n",
      "5 /HTP\n",
      "AAABBBCCC\n",
      "/////HHHHHTTTTTPPPPP\n"
     ]
    }
   ],
   "source": [
    "T = int(input())\n",
    "\n",
    "result_list = []\n",
    "\n",
    "for _ in range(T):\n",
    "    result = ''\n",
    "    number, string = input().split(' ')\n",
    "    for s in string:\n",
    "        result += s * int(number)\n",
    "    result_list.append(result)\n",
    "\n",
    "for i in range(len(result_list)):\n",
    "    print(result_list[i])"
   ]
  }
 ],
 "metadata": {
  "kernelspec": {
   "display_name": "Python 3 (ipykernel)",
   "language": "python",
   "name": "python3"
  },
  "language_info": {
   "codemirror_mode": {
    "name": "ipython",
    "version": 3
   },
   "file_extension": ".py",
   "mimetype": "text/x-python",
   "name": "python",
   "nbconvert_exporter": "python",
   "pygments_lexer": "ipython3",
   "version": "3.9.12"
  }
 },
 "nbformat": 4,
 "nbformat_minor": 5
}
