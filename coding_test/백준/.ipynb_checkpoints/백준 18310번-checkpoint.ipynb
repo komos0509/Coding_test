{
 "cells": [
  {
   "cell_type": "markdown",
   "id": "4c901daa",
   "metadata": {},
   "source": [
    "### 문제\n",
    "일직선 상의 마을에 여러 채의 집이 위치해 있다. 이중에서 특정 위치의 집에 특별히 한 개의 안테나를 설치하기로 결정했다. 효율성을 위해 안테나로부터 모든 집까지의 거리의 총 합이 최소가 되도록 설치하려고 한다. 이 때 안테나는 집이 위치한 곳에만 설치할 수 있고, 논리적으로 동일한 위치에 여러 개의 집이 존재하는 것이 가능하다. \n",
    "\n",
    "집들의 위치 값이 주어질 때, 안테나를 설치할 위치를 선택하는 프로그램을 작성하시오.\n",
    "\n",
    "예를 들어 N = 4이고, 각 위치가 1, 5, 7, 9일 때를 가정하자.\n",
    "\n",
    "![그림1](https://user-images.githubusercontent.com/60602671/222603161-cafd6741-4ce3-45a5-a76d-39a62023c4fc.png)\n",
    "\n",
    "이 경우 5의 위치에 설치했을 때, 안테나로부터 모든 집까지의 거리의 총 합이 (4+0+2+4)=10으로, 최소가 된다.\n",
    "\n",
    "### 입력\n",
    "첫째 줄에 집의 수 N이 자연수로 주어진다.(1 $\\le$ N $\\le$ 200,000) 둘째 줄에 N채의 집에 위치가 공백을 기준으로 구분되어 1이상 100,000이하의 자연수로 주어진다.\n",
    "\n",
    "### 출력\n",
    "첫째 줄에 안테나를 설치할 위치의 값을 출력한다. 단, 안테나를 설치할 수 있는 위치 값으로 여러 개의 값이 도출될 경우 가장 작은 값을 출력한다."
   ]
  },
  {
   "cell_type": "markdown",
   "id": "98749d83",
   "metadata": {},
   "source": [
    "## 생각\n",
    "1. sort reverse=True 하고 (첫번째 원소 + 마지막 원소) // 2, 각 원소를 돌며 중앙값과의 차이가 가장 적은 원소"
   ]
  },
  {
   "cell_type": "code",
   "execution_count": 44,
   "id": "bafadc8f",
   "metadata": {},
   "outputs": [
    {
     "name": "stdout",
     "output_type": "stream",
     "text": [
      "3\n",
      "1 10 10\n",
      "10\n"
     ]
    }
   ],
   "source": [
    "# 틀렸습니다. 반례 (3/1 10 10) output : 1, true : 10\n",
    "# 값이 중복되면 결과가 달라질 수 있음\n",
    "N = int(input())\n",
    "house_list = list(map(int, input().split(' ')))\n",
    "\n",
    "house_list.sort(reverse=True)\n",
    "middle = sum(house_list) // N\n",
    "result = 0\n",
    "less = house_list[0] - house_list[-1]\n",
    "\n",
    "for house in house_list:\n",
    "    if less >= abs(middle - house):\n",
    "        less = abs(middle - house)\n",
    "        result = house\n",
    "        \n",
    "print(result)"
   ]
  },
  {
   "cell_type": "markdown",
   "id": "db7b3aae",
   "metadata": {},
   "source": [
    "## 생각\n",
    "2. 모든 경우의 수 다 해보기"
   ]
  },
  {
   "cell_type": "code",
   "execution_count": 46,
   "id": "f93d2ca7",
   "metadata": {},
   "outputs": [
    {
     "name": "stdout",
     "output_type": "stream",
     "text": [
      "3\n",
      "1 10 10\n",
      "10\n"
     ]
    }
   ],
   "source": [
    "# 시간초과\n",
    "# for문 2개를 사용하여 시간 초과가 발생\n",
    "N = int(input())\n",
    "house_list = list(map(int, input().split(' ')))\n",
    "\n",
    "less = 200000\n",
    "result = 0\n",
    "\n",
    "for house in house_list:\n",
    "    less2 = 0\n",
    "    for house2 in house_list:\n",
    "        less2 += abs(house - house2)\n",
    "    if less > less2:\n",
    "        less = less2\n",
    "        result = house\n",
    "        \n",
    "print(result)"
   ]
  },
  {
   "cell_type": "markdown",
   "id": "623ec56e",
   "metadata": {},
   "source": [
    "구글링을 해보니 처음 생각처럼 중앙값을 하는데 index의 중앙값을 이용하여 계산"
   ]
  },
  {
   "cell_type": "code",
   "execution_count": 47,
   "id": "4a4a445e",
   "metadata": {},
   "outputs": [
    {
     "name": "stdout",
     "output_type": "stream",
     "text": [
      "3\n",
      "1 10 10\n",
      "10\n"
     ]
    }
   ],
   "source": [
    "# 맞았습니다.\n",
    "N = int(input())\n",
    "house_list = list(map(int, input().split(' ')))\n",
    "\n",
    "house_list.sort()\n",
    "\n",
    "print(house_list[(N-1)//2])"
   ]
  }
 ],
 "metadata": {
  "kernelspec": {
   "display_name": "Python 3 (ipykernel)",
   "language": "python",
   "name": "python3"
  },
  "language_info": {
   "codemirror_mode": {
    "name": "ipython",
    "version": 3
   },
   "file_extension": ".py",
   "mimetype": "text/x-python",
   "name": "python",
   "nbconvert_exporter": "python",
   "pygments_lexer": "ipython3",
   "version": "3.9.12"
  }
 },
 "nbformat": 4,
 "nbformat_minor": 5
}
