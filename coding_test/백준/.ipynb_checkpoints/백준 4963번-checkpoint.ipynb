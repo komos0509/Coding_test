{
 "cells": [
  {
   "cell_type": "markdown",
   "id": "9d5dcc85",
   "metadata": {},
   "source": [
    "### 문제\n",
    "정사각형으로 이루어져 있는 섬과 바다 지도가 주어진다. 섬의 개수를 세는 프로그램을 작성하시오.\n",
    "\n",
    "![백준 6](https://user-images.githubusercontent.com/60602671/230049079-3430d387-6b3b-4382-b506-e0900b317fb6.png)\n",
    "\n",
    "한 정사각형과 가로, 세로 또는 대각선으로 연결되어 있는 사각형은 걸어갈 수 있는 사각형이다. \n",
    "\n",
    "두 정사각형이 같은 섬에 있으려면, 한 정사각형에서 다른 정사각형으로 걸어서 갈 수 있는 경로가 있어야 한다. 지도는 바다로 둘러싸여 있으며, 지도 밖으로 나갈 수 없다.\n",
    "\n",
    "### 입력\n",
    "입력은 여러 개의 테스트 케이스로 이루어져 있다. 각 테스트 케이스의 첫째 줄에는 지도의 너비 w와 높이 h가 주어진다. w와 h는 50보다 작거나 같은 양의 정수이다.\n",
    "\n",
    "둘째 줄부터 h개 줄에는 지도가 주어진다. 1은 땅, 0은 바다이다.\n",
    "\n",
    "입력의 마지막 줄에는 0이 두 개 주어진다.\n",
    "\n",
    "### 출력\n",
    "각 테스트 케이스에 대해서, 섬의 개수를 출력한다."
   ]
  },
  {
   "cell_type": "markdown",
   "id": "eec5b385",
   "metadata": {},
   "source": [
    "## 생각\n",
    "1. 전체를 돌아다니며 1이면 dfs 함수를 적용한다. dfs 함수는 범위를 벗어나면 False를 반환하고, 1을 0으로 바꾸며, 상, 하, 좌, 우, 대각선을 돌아다니는 재귀함수를 넣는다. "
   ]
  },
  {
   "cell_type": "code",
   "execution_count": 11,
   "id": "19f7fa3b",
   "metadata": {},
   "outputs": [
    {
     "name": "stdout",
     "output_type": "stream",
     "text": [
      "1 1\n",
      "0\n",
      "2 2\n",
      "0 1\n",
      "1 0\n",
      "3 2\n",
      "1 1 1\n",
      "1 1 1\n",
      "5 4\n",
      "1 0 1 0 0\n",
      "1 0 0 0 0\n",
      "1 0 1 0 1\n",
      "1 0 0 1 0\n",
      "0 0\n",
      "0\n",
      "1\n",
      "1\n",
      "3\n"
     ]
    }
   ],
   "source": [
    "# 런타임에러(RecursionError)\n",
    "# 재귀함수의 깊이가 너무 깊은 것 같다.\n",
    "def dfs(x, y):\n",
    "    if x < 0 or x >= b or y < 0 or y >= a:\n",
    "        return False\n",
    "    if graph[x][y] == 1:\n",
    "        graph[x][y] = 0\n",
    "        \n",
    "        dfs(x+1, y)\n",
    "        dfs(x-1, y)\n",
    "        dfs(x, y+1)\n",
    "        dfs(x, y-1)\n",
    "        dfs(x+1, y+1)\n",
    "        dfs(x+1, y-1)\n",
    "        dfs(x-1, y+1)\n",
    "        dfs(x-1, y-1)\n",
    "        \n",
    "        return True\n",
    "    return False\n",
    "\n",
    "\n",
    "result_list = []\n",
    "\n",
    "while True:\n",
    "    a, b = map(int, input().split())\n",
    "    \n",
    "    if a == 0 and b == 0:\n",
    "        break\n",
    "        \n",
    "    graph = []\n",
    "    for i in range(b):\n",
    "        g = list(map(int, input().split()))\n",
    "        graph.append(g)\n",
    "    \n",
    "    count = 0\n",
    "    \n",
    "    for i in range(b):\n",
    "        for j in range(a):\n",
    "            if dfs(i, j):\n",
    "                count += 1\n",
    "                \n",
    "    result_list.append(count)\n",
    "    \n",
    "for result in result_list:\n",
    "    print(result)"
   ]
  },
  {
   "cell_type": "code",
   "execution_count": 15,
   "id": "27c6c0ff",
   "metadata": {},
   "outputs": [
    {
     "name": "stdout",
     "output_type": "stream",
     "text": [
      "2 2\n",
      "0 1\n",
      "1 0\n",
      "1\n",
      "0 0\n"
     ]
    }
   ],
   "source": [
    "# 런타임에러(RecursionError)\n",
    "# 아직 깊이가 깊은 모양이다.\n",
    "def dfs(y, x):\n",
    "    visited[y][x] = 1\n",
    "    if graph[y][x] == 1:\n",
    "        for i in range(8):\n",
    "            ny = y + dy[i]\n",
    "            nx = x + dx[i]\n",
    "            if 0 <= ny < b and 0 <= nx < a:\n",
    "                if visited[ny][nx] == 0 and graph[ny][nx] == 1:\n",
    "                    dfs(ny, nx)\n",
    "\n",
    "\n",
    "result_list = []\n",
    "\n",
    "dx = [0, 0, 1, 1, 1, -1, -1, -1]\n",
    "dy = [1, -1, 0, 1, -1, 0, 1, -1]\n",
    "\n",
    "while True:\n",
    "    a, b = map(int, input().split())\n",
    "    if a == 0 and b == 0:\n",
    "        break\n",
    "    \n",
    "    visited = [[0] * a for _ in range(b)]\n",
    "    graph = []\n",
    "    count = 0\n",
    "    \n",
    "    for i in range(b):\n",
    "        graph.append(list(map(int, input().split())))\n",
    "    \n",
    "    for i in range(b):\n",
    "        for j in range(a):\n",
    "            if graph[i][j] == 1 and visited[i][j] == 0:\n",
    "                dfs(i, j)\n",
    "                count += 1\n",
    "                \n",
    "    print(count)"
   ]
  },
  {
   "cell_type": "markdown",
   "id": "b2b546a5",
   "metadata": {},
   "source": [
    "깊이를 줄이기 위해 visited 리스트를 추가하여 방문여부를 확인하였다. 하지만 아직 깊이가 깊어 런타임에러가 발생하였고 BFS로 이 문제를 해결해야겠다."
   ]
  },
  {
   "cell_type": "code",
   "execution_count": 3,
   "id": "0f705f1e",
   "metadata": {},
   "outputs": [
    {
     "name": "stdout",
     "output_type": "stream",
     "text": [
      "2 2\n",
      "0 1\n",
      "1 0\n",
      "1\n",
      "0 0\n"
     ]
    }
   ],
   "source": [
    "# 맞았습니다.\n",
    "from collections import deque\n",
    "\n",
    "dx = [0, 0, 1, 1, 1, -1, -1, -1]\n",
    "dy = [1, -1, 0, 1, -1, 0, 1, -1]\n",
    "\n",
    "def bfs(x, y):\n",
    "    queue = deque()\n",
    "    queue.append((x,y))\n",
    "    while queue:\n",
    "        x, y = queue.popleft()\n",
    "        for i in range(8):\n",
    "            nx = x + dx[i]\n",
    "            ny = y + dy[i]\n",
    "\n",
    "            if 0 <= nx < b and 0 <= ny < a and graph[nx][ny] == 1 and visited[nx][ny] == 0:\n",
    "                queue.append((nx, ny))\n",
    "                visited[nx][ny] = 1\n",
    "\n",
    "\n",
    "while True:\n",
    "    a, b = map(int, input().split())\n",
    "    if a == 0 and b == 0:\n",
    "        break\n",
    "    \n",
    "    visited = [[0] * a for _ in range(b)]\n",
    "    graph = []\n",
    "    for _ in range(b):\n",
    "        graph.append(list(map(int, input().split())))\n",
    "        \n",
    "    count = 0\n",
    "    for i in range(b):\n",
    "        for j in range(a):\n",
    "            if graph[i][j] == 1 and visited[i][j] == 0:\n",
    "                bfs(i, j)\n",
    "                count += 1\n",
    "                \n",
    "                \n",
    "    print(count)"
   ]
  },
  {
   "cell_type": "markdown",
   "id": "1cf99c42",
   "metadata": {},
   "source": [
    "여기서 키 포인트는  \n",
    "1. nx, ny가 범위를 벗아나면 안되고, graph에서 1이어야 하며, 방문여부는 0이어야 queue에 집어넣는 것  \n",
    "2. bfs 함수를 불러올 때 graph의 좌표가 1이며, 방문여부가 0이어야 하는 것"
   ]
  }
 ],
 "metadata": {
  "kernelspec": {
   "display_name": "Python 3 (ipykernel)",
   "language": "python",
   "name": "python3"
  },
  "language_info": {
   "codemirror_mode": {
    "name": "ipython",
    "version": 3
   },
   "file_extension": ".py",
   "mimetype": "text/x-python",
   "name": "python",
   "nbconvert_exporter": "python",
   "pygments_lexer": "ipython3",
   "version": "3.9.12"
  }
 },
 "nbformat": 4,
 "nbformat_minor": 5
}
