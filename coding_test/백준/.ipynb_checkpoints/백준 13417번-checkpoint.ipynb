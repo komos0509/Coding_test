{
 "cells": [
  {
   "cell_type": "markdown",
   "id": "4b4f05b4",
   "metadata": {},
   "source": [
    "### 문제\n",
    "N장의 카드가 일렬로 놓여있다. 각 카드에는 알파벳이 하나씩 적혀있다. 태욱이는 가장 왼쪽에 있는 카드부터 차례대로 한 장씩 가져올 수 있다. 가장 처음에 가져온 카드는 자신의 앞에 놓는다. 그다음부터는 가져온 카드를 자신의 앞에 놓인 카드들의 가장 왼쪽, 또는 가장 오른쪽에 놓는다. 태욱이는 모든 카드를 다 가져온 후에 자신의 앞에 놓인 카드를 순서대로 이어 붙여 카드 문자열을 만들려고 한다.\n",
    "\n",
    "예를 들어 3장의 카드가 [M, K, U] 순으로 놓여있다고 하자. 태욱이는 먼저 가장 왼쪽에 있는 “M”이 적힌 카드를 가져와서 자신의 앞에 놓는다. 다음으로 남은 카드 중 가장 왼쪽에 있는 “K”가 적힌 카드를 가져와서 가장 왼쪽에 두고, 이어서 “U”가 적힌 카드를 가져와서 다시 가장 왼쪽에 두면 “UKM”이라는 문자열을 만들 수 있다. 만약 “K”가 적힌 카드를 가져와서 가장 왼쪽에 두고, 이어서 “U”가 적힌 카드를 가져와서 가장 오른쪽에 두면 “KMU”라는 문자열을 만들 수 있다. 이때, 태욱이가 만들 수 있는 문자열 중 사전 순으로 가장 빠른 문자열은 “KMU”이다.\n",
    "\n",
    "N장의 카드에 적혀있는 알파벳의 처음 순서가 주어질 때, 태욱이가 만들 수 있는 카드 문자열 중 사전 순으로 가장 빠른 문자열을 출력하는 프로그램을 작성하시오.\n",
    "\n",
    "### 입력\n",
    "입력 데이터는 표준 입력을 사용한다. 입력은 T개의 테스트 데이터로 구성된다. 입력의 첫째 줄에 테스트 케이스의 개수를 나타내는 자연수 T가 주어진다. 각각의 테스트 케이스의 첫째 줄에 처음에 놓여있는 카드의 개수 N(1 ≤ N ≤ 1,000)이 주어진다. 두 번째 줄에는 N장의 카드에 적힌 알파벳의 초기 순서가 주어진다. 가장 왼쪽에 있는 카드에 적혀있는 알파벳부터 순서대로 N개가 공백으로 구분되어 주어진다. 모든 카드에는 한 개씩의 알파벳이 적혀있으며, 모두 대문자이다. \n",
    "\n",
    "### 출력\n",
    "출력은 표준 출력을 사용한다. 입력받은 데이터에 대해, 한 줄에 1개씩 태욱이가 만들 수 있는 문자열 중에서 사전 순으로 가장 빠른 문자열을 출력한다."
   ]
  },
  {
   "cell_type": "markdown",
   "id": "b5b2a639",
   "metadata": {},
   "source": [
    "## 생각\n",
    "1. deque에 첫번째 원소 저장, min_ele에도 저장. list를 돌아다니며 ord(원소)가 ord(min_ele) 보다 작으면 deque.appendleft(), 크면 deque.append(). deque 을 list에 저장"
   ]
  },
  {
   "cell_type": "code",
   "execution_count": 15,
   "id": "e7f2c307",
   "metadata": {},
   "outputs": [
    {
     "name": "stdout",
     "output_type": "stream",
     "text": [
      "2\n",
      "3\n",
      "M K U\n",
      "5\n",
      "A S D F G\n",
      "KMU\n",
      "ASDFG\n"
     ]
    }
   ],
   "source": [
    "# 맞았습니다.\n",
    "from collections import deque\n",
    "\n",
    "T = int(input())\n",
    "result_list = []\n",
    "\n",
    "for _ in range(T):\n",
    "    N = int(input())\n",
    "    alphabet = list(input().split())\n",
    "    \n",
    "    d = deque([])\n",
    "    d.append(alphabet[0])\n",
    "    min_ele = alphabet[0]\n",
    "    \n",
    "    for i in range(1, len(alphabet)):\n",
    "        if ord(min_ele) >= ord(alphabet[i]):\n",
    "            d.appendleft(alphabet[i])\n",
    "            min_ele = alphabet[i]\n",
    "        else:\n",
    "            d.append(alphabet[i])\n",
    "            \n",
    "    result_list.append(list(d))\n",
    "\n",
    "for result in result_list:\n",
    "    result = ''.join(result)\n",
    "    print(result)"
   ]
  },
  {
   "cell_type": "markdown",
   "id": "160d824d",
   "metadata": {},
   "source": [
    "리스트를 공백없이 출력하려면 많은 방법이 있겠지만 리스트 = ''.join(리스트)를 하는 것이 제일 편하다.  \n",
    "만약 리스트 안에 숫자가 있다면 리스트 = ''.join(map(str, 리스트))로 해주자!"
   ]
  }
 ],
 "metadata": {
  "kernelspec": {
   "display_name": "Python 3 (ipykernel)",
   "language": "python",
   "name": "python3"
  },
  "language_info": {
   "codemirror_mode": {
    "name": "ipython",
    "version": 3
   },
   "file_extension": ".py",
   "mimetype": "text/x-python",
   "name": "python",
   "nbconvert_exporter": "python",
   "pygments_lexer": "ipython3",
   "version": "3.9.12"
  }
 },
 "nbformat": 4,
 "nbformat_minor": 5
}
