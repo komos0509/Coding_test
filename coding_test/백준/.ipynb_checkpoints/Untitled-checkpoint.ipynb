{
 "cells": [
  {
   "cell_type": "code",
   "execution_count": null,
   "id": "ad839fc5",
   "metadata": {},
   "outputs": [],
   "source": []
  },
  {
   "cell_type": "code",
   "execution_count": 77,
   "id": "9d9f2813",
   "metadata": {},
   "outputs": [
    {
     "name": "stdout",
     "output_type": "stream",
     "text": [
      "6 5\n",
      "1 4 5 6 7 10\n",
      "9\n",
      "2\n"
     ]
    }
   ],
   "source": [
    "N, L = map(int, input().split(' '))\n",
    "\n",
    "water_list = list(map(int, input().split(' ')))\n",
    "\n",
    "result = 0\n",
    "length = 0\n",
    "for i in range(N-1):\n",
    "    if abs(water_list[i] - water_list[i+1]) > L:\n",
    "        if L == 1:\n",
    "            length += 1\n",
    "        continue\n",
    "    length += abs(water_list[i] - water_list[i+1])\n",
    "print(length)\n",
    "length += 1\n",
    "if length % L == 0:\n",
    "    result = result + length // L\n",
    "else:\n",
    "    result = result + (length // L) + 1\n",
    "print(result)"
   ]
  },
  {
   "cell_type": "code",
   "execution_count": 50,
   "id": "d98dd920",
   "metadata": {},
   "outputs": [
    {
     "ename": "SyntaxError",
     "evalue": "invalid syntax (105764033.py, line 2)",
     "output_type": "error",
     "traceback": [
      "\u001b[1;36m  Input \u001b[1;32mIn [50]\u001b[1;36m\u001b[0m\n\u001b[1;33m    if i ==\u001b[0m\n\u001b[1;37m           ^\u001b[0m\n\u001b[1;31mSyntaxError\u001b[0m\u001b[1;31m:\u001b[0m invalid syntax\n"
     ]
    }
   ],
   "source": [
    "for i in range(10):\n",
    "    if i =="
   ]
  },
  {
   "cell_type": "code",
   "execution_count": 11,
   "id": "3a068ccd",
   "metadata": {},
   "outputs": [],
   "source": [
    "result = 0\n",
    "length = 0\n",
    "for i in range(1, N):\n",
    "    length += abs(water_list[i-1] - water_list[i]) \n",
    "    if length == L-1:\n",
    "        result += 1\n",
    "    if length > L-1:\n",
    "        length = 0\n",
    "        pass"
   ]
  },
  {
   "cell_type": "code",
   "execution_count": 17,
   "id": "6ddd100a",
   "metadata": {},
   "outputs": [
    {
     "data": {
      "text/plain": [
       "1"
      ]
     },
     "execution_count": 17,
     "metadata": {},
     "output_type": "execute_result"
    }
   ],
   "source": [
    "result"
   ]
  },
  {
   "cell_type": "code",
   "execution_count": 13,
   "id": "0d4fec9f",
   "metadata": {},
   "outputs": [
    {
     "data": {
      "text/plain": [
       "3"
      ]
     },
     "execution_count": 13,
     "metadata": {},
     "output_type": "execute_result"
    }
   ],
   "source": [
    "i"
   ]
  },
  {
   "cell_type": "code",
   "execution_count": 14,
   "id": "7857d4d5",
   "metadata": {},
   "outputs": [
    {
     "data": {
      "text/plain": [
       "101"
      ]
     },
     "execution_count": 14,
     "metadata": {},
     "output_type": "execute_result"
    }
   ],
   "source": [
    "water_list[i]"
   ]
  },
  {
   "cell_type": "code",
   "execution_count": 15,
   "id": "4bd99ff8",
   "metadata": {},
   "outputs": [
    {
     "data": {
      "text/plain": [
       "1"
      ]
     },
     "execution_count": 15,
     "metadata": {},
     "output_type": "execute_result"
    }
   ],
   "source": [
    "length"
   ]
  },
  {
   "cell_type": "code",
   "execution_count": null,
   "id": "0c1bc979",
   "metadata": {},
   "outputs": [],
   "source": []
  }
 ],
 "metadata": {
  "kernelspec": {
   "display_name": "Python 3 (ipykernel)",
   "language": "python",
   "name": "python3"
  },
  "language_info": {
   "codemirror_mode": {
    "name": "ipython",
    "version": 3
   },
   "file_extension": ".py",
   "mimetype": "text/x-python",
   "name": "python",
   "nbconvert_exporter": "python",
   "pygments_lexer": "ipython3",
   "version": "3.9.12"
  }
 },
 "nbformat": 4,
 "nbformat_minor": 5
}
