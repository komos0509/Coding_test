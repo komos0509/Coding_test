{
 "cells": [
  {
   "cell_type": "markdown",
   "id": "40c91f9e",
   "metadata": {},
   "source": [
    "### 문제\n",
    "예전에는 운영체제에서 크로아티아 알파벳을 입력할 수 없었다. 따라서, 다음과 같이 크로아티아 알파벳을 변경해서 입력했다.\n",
    "\n",
    "![백준 1](https://user-images.githubusercontent.com/60602671/224870260-7fd12b45-5da0-4119-a2df-1272beaf9638.png)\n",
    "\n",
    "예를 들어, ljes=njak은 크로아티아 알파벳 6개(lj, e, š, nj, a, k)로 이루어져 있다. 단어가 주어졌을 때, 몇 개의 크로아티아 알파벳으로 이루어져 있는지 출력한다.\n",
    "\n",
    "dž는 무조건 하나의 알파벳으로 쓰이고, d와 ž가 분리된 것으로 보지 않는다. lj와 nj도 마찬가지이다. 위 목록에 없는 알파벳은 한 글자씩 센다.\n",
    "\n",
    "### 입력\n",
    "첫째 줄에 최대 100글자의 단어가 주어진다. 알파벳 소문자와 '-', '='로만 이루어져 있다.\n",
    "\n",
    "단어는 크로아티아 알파벳으로 이루어져 있다. 문제 설명의 표에 나와있는 알파벳은 변경된 형태로 입력된다.\n",
    "\n",
    "### 출력\n",
    "입력으로 주어진 단어가 몇 개의 크로아티아 알파벳으로 이루어져 있는지 출력한다."
   ]
  },
  {
   "cell_type": "markdown",
   "id": "fe9317ba",
   "metadata": {},
   "source": [
    "## 생각\n",
    "1. list를 만들고 for문으로 list를 돌아다니며 string의 글자가 list에 in하고 같다면 count += 1, not in한다면 count += 1한다."
   ]
  },
  {
   "cell_type": "code",
   "execution_count": 20,
   "id": "1fff9906",
   "metadata": {},
   "outputs": [
    {
     "name": "stdout",
     "output_type": "stream",
     "text": [
      "ddz=z=\n",
      "4\n"
     ]
    }
   ],
   "source": [
    "# 틀렸습니다.\n",
    "# 첫번째 원소는 맞아도 두번째 원소를 추가했을 때 없다면 그대로 없다고 인식됨\n",
    "string = input()\n",
    "\n",
    "word_list = ['c=', 'c-', 'dz=', 'd-', 'lj', 'nj', 's=', 'z=']\n",
    "count = 0\n",
    "result = ''\n",
    "\n",
    "for s in string:\n",
    "    result += s\n",
    "    turn = 0\n",
    "    for word in word_list:\n",
    "        if result in word:\n",
    "            if result == word:\n",
    "                count += 1\n",
    "                result = ''\n",
    "                break\n",
    "        else:\n",
    "            turn += 1\n",
    "    if turn == len(word_list):\n",
    "        count += len(result)\n",
    "        result = ''\n",
    "\n",
    "print(count)"
   ]
  },
  {
   "cell_type": "code",
   "execution_count": 18,
   "id": "aaee07fe",
   "metadata": {},
   "outputs": [
    {
     "name": "stdout",
     "output_type": "stream",
     "text": [
      "ddz=z=\n",
      "3\n"
     ]
    }
   ],
   "source": [
    "string = input()\n",
    "word_list = ['c=', 'c-', 'dz=', 'd-', 'lj', 'nj', 's=', 'z=']\n",
    "count = 0\n",
    "\n",
    "for word in word_list:\n",
    "    count += string.count(word)\n",
    "    string = string.replace(word, ' ')\n",
    "    \n",
    "string = string.replace(' ', '')\n",
    "count += len(string)\n",
    "print(count)"
   ]
  },
  {
   "cell_type": "markdown",
   "id": "e2418d39",
   "metadata": {},
   "source": [
    "여기서 키포인트는 string.count(word)로 개수를 찾고, string.replace(word, ' ')로 날려버리는 것이다."
   ]
  }
 ],
 "metadata": {
  "kernelspec": {
   "display_name": "Python 3 (ipykernel)",
   "language": "python",
   "name": "python3"
  },
  "language_info": {
   "codemirror_mode": {
    "name": "ipython",
    "version": 3
   },
   "file_extension": ".py",
   "mimetype": "text/x-python",
   "name": "python",
   "nbconvert_exporter": "python",
   "pygments_lexer": "ipython3",
   "version": "3.9.12"
  }
 },
 "nbformat": 4,
 "nbformat_minor": 5
}
