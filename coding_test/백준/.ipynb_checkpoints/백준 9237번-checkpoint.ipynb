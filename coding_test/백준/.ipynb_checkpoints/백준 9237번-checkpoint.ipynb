{
 "cells": [
  {
   "cell_type": "markdown",
   "id": "2045f526",
   "metadata": {},
   "source": [
    "### 문제\n",
    "농부 상근이는 마당에 심기 위한 나무 묘목 n개를 구입했다. 묘목 하나를 심는데 걸리는 시간은 1일이고, 상근이는 각 묘목이 다 자라는데 며칠이 걸리는지 정확하게 알고 있다. 상근이는 마을 이장님을 초대해 자신이 심은 나무를 자랑하려고 한다. 이장님을 실망시키면 안되기 때문에, 모든 나무가 완전히 자란 이후에 이장님을 초대하려고 한다. 즉, 마지막 나무가 다 자란 다음날 이장님을 초대할 것이다.\n",
    "\n",
    "상근이는 나무를 심는 순서를 신중하게 골라 이장님을 최대한 빨리 초대하려고 한다. 이장님을 며칠에 초대할 수 있을까?\n",
    "\n",
    "### 입력\n",
    "입력은 두 줄로 이루어져 있다. 첫째 줄에는 묘목의 수 N(1 $\\le$ N $\\le$ 100,000)이 주어진다. 둘재 줄에는 각 나무가 다 자라는데 며칠이 걸리는지를 나타낸 t$_{i}$가 주어진다.(1 $\\le$ t_${i}$ $\\le$ 1,000,000)\n",
    "\n",
    "### 출력\n",
    "첫째 줄에 며칠에 이장님을 초대할 수 있는지 출력한다. 답이 여러 가지인 경우에는 가장 작은 값을 출력한다. 묘목을 구입한 날이 1일이다."
   ]
  },
  {
   "cell_type": "markdown",
   "id": "ede127e8",
   "metadata": {},
   "source": [
    "## 생각\n",
    "1. list를 sort reverse=True 하고 list의 원소를 -= N-i, result += N+1하고 max를 더하고 1을 더 더한다.(사작 1일)"
   ]
  },
  {
   "cell_type": "code",
   "execution_count": 4,
   "id": "80b53da7",
   "metadata": {},
   "outputs": [
    {
     "name": "stdout",
     "output_type": "stream",
     "text": [
      "6\n",
      "39 38 9 35 39 20\n",
      "42\n"
     ]
    }
   ],
   "source": [
    "# 맞았습니다.\n",
    "N = int(input())\n",
    "tree_list = list(map(int, input().split()))\n",
    "\n",
    "tree_list.sort(reverse=True)\n",
    "\n",
    "# list의 크기 + 1만큼 날짜가 지남\n",
    "result = N + 1\n",
    "\n",
    "# 모든 원소에 지나간 날만큼 빼주기\n",
    "for i in range(N):\n",
    "    tree_list[i] -= N-i\n",
    "\n",
    "result += max(tree_list)\n",
    "\n",
    "# 시작이 1일이므로 += 1\n",
    "result += 1\n",
    "\n",
    "print(result)"
   ]
  }
 ],
 "metadata": {
  "kernelspec": {
   "display_name": "Python 3 (ipykernel)",
   "language": "python",
   "name": "python3"
  },
  "language_info": {
   "codemirror_mode": {
    "name": "ipython",
    "version": 3
   },
   "file_extension": ".py",
   "mimetype": "text/x-python",
   "name": "python",
   "nbconvert_exporter": "python",
   "pygments_lexer": "ipython3",
   "version": "3.9.12"
  }
 },
 "nbformat": 4,
 "nbformat_minor": 5
}
