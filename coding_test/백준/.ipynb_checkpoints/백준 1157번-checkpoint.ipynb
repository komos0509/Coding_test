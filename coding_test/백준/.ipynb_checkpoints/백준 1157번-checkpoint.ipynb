{
 "cells": [
  {
   "cell_type": "markdown",
   "id": "f8e00372",
   "metadata": {},
   "source": [
    "### 문제\n",
    "알파벳 대소문자로 된 단어가 주어지면, 이 단어에서 가장 많이 사용된 알파벳이 무엇인지 알아내는 프로그램을 작성하시오. 단, 대문자와 소문자를 구분하지 않는다.\n",
    "\n",
    "### 입력\n",
    "첫째 줄에 알파벳 대소문자로 이루어진 단어가 주어진다. 주어지는 단어의 길이는 1,000,000을 넘지 않는다.\n",
    "\n",
    "### 출력\n",
    "첫째 줄에 이 단어에서 가장 많이 사용된 알파벳을 대문자로 출력한다. 단, 가장 많이 사용된 알파벳이 여러 개 존재하는 경우에는 ?를 출력한다."
   ]
  },
  {
   "cell_type": "markdown",
   "id": "770fcf08",
   "metadata": {},
   "source": [
    "## 생각\n",
    "1. string을 대문자로 변환 후, set하고 for문으로 각 원소의 count를 list에 추가. max(string, key=string.count)의 count가 2이상이면 ? 아니면 max를 출력"
   ]
  },
  {
   "cell_type": "code",
   "execution_count": 17,
   "id": "f3c19ad8",
   "metadata": {},
   "outputs": [
    {
     "name": "stdout",
     "output_type": "stream",
     "text": [
      "Mississipi\n",
      "?\n"
     ]
    }
   ],
   "source": [
    "# 시간초과\n",
    "# for문을 많이 사용해서 시간초과 발생\n",
    "string = input()\n",
    "\n",
    "string = string.upper()\n",
    "set_string = set(string)\n",
    "count_list = []\n",
    "cnt = 0\n",
    "\n",
    "for s in set_string:\n",
    "    count_list.append(string.count(s))\n",
    "\n",
    "for turn in count_list:\n",
    "    if string.count(max(string, key=string.count)) == turn:\n",
    "        cnt += 1\n",
    "        \n",
    "if cnt == 1:\n",
    "    print(max(string, key=string.count))\n",
    "else:\n",
    "    print('?')"
   ]
  },
  {
   "cell_type": "markdown",
   "id": "941c552f",
   "metadata": {},
   "source": [
    "collections 모듈의 defaultdict 함수를 사용하면 key를 따로 설정하지 않아도 자동으로 설정되어 values를 +- 할 수 있다. 이를 이용해 for문으로 string의 각 원소의 count를 구하고 dict의 values 중 max를 따로 구한 뒤 dict의 values에서 max와 같은 값이 2 이상이면 ? 아니면 그때의 key를 출력"
   ]
  },
  {
   "cell_type": "code",
   "execution_count": 25,
   "id": "d8f8c549",
   "metadata": {},
   "outputs": [
    {
     "name": "stdout",
     "output_type": "stream",
     "text": [
      "Mississipi\n",
      "?\n"
     ]
    }
   ],
   "source": [
    "from collections import defaultdict\n",
    "\n",
    "string = input().upper()\n",
    "dict_string = defaultdict(int)\n",
    "\n",
    "for s in string:\n",
    "    dict_string[s] += 1\n",
    "\n",
    "max_string = max(dict_string.values())\n",
    "cnt = 0 \n",
    "for key, count in dict_string.items():\n",
    "    if count == max_string:\n",
    "        cnt += 1\n",
    "        if cnt == 2:\n",
    "            result = '?'\n",
    "            break\n",
    "        result = key\n",
    "        \n",
    "print(result)"
   ]
  }
 ],
 "metadata": {
  "kernelspec": {
   "display_name": "Python 3 (ipykernel)",
   "language": "python",
   "name": "python3"
  },
  "language_info": {
   "codemirror_mode": {
    "name": "ipython",
    "version": 3
   },
   "file_extension": ".py",
   "mimetype": "text/x-python",
   "name": "python",
   "nbconvert_exporter": "python",
   "pygments_lexer": "ipython3",
   "version": "3.9.12"
  }
 },
 "nbformat": 4,
 "nbformat_minor": 5
}
