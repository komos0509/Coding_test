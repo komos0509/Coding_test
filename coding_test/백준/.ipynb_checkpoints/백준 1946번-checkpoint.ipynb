{
 "cells": [
  {
   "cell_type": "markdown",
   "id": "0914d29b",
   "metadata": {},
   "source": [
    "## 문제\n",
    "\n",
    "언제나 최고만을 지향하는 굴지의 대기업 진영 주식회사가 신규 사원 채용을 실시한다. 인재 선발 시험은 1차 서류심사와 2차 면접시험으로 이루어진다. 최고만을 지향한다는 기업의 이념에 따라 그들은 최고의 인재들만을 사원으로 선발하고 싶어 한다.\n",
    "\n",
    "그래서 진영 주식회사는, 다른 모든 지원자와 비교했을 때 서류심사 성적과 면접시험 성적 중 적어도 하나가 다른 지원자보다 떨어지지 않는 자만 선발한다는 원칙을 세웠다. 즉, 어떤 지원자 A의 성적이 다른 어떤 지원자 B의 성적에 비해 서류 심사 결과와 면접 성적이 모두 떨어진다면 A는 결코 선발되지 않는다.\n",
    "\n",
    "이러한 조건을 만족시키면서, 진영 주식회사가 이번 신규 사원 채용에서 선발할 수 있는 신입사원의 최대 인원수를 구하는 프로그램을 작성하시오.\n",
    "\n",
    "## 아이디어\n",
    "\n",
    "score의 값들을 서로 비교하면서 떨어지는 사람의 수를 구한 뒤 전체 사람에서 빼보자!"
   ]
  },
  {
   "cell_type": "code",
   "execution_count": 8,
   "id": "577bafa2",
   "metadata": {},
   "outputs": [
    {
     "name": "stdout",
     "output_type": "stream",
     "text": [
      "[[3, 2], [1, 4], [4, 1], [2, 3], [5, 5]]\n",
      "[3, 2]\n",
      "[[3, 2], [1, 4], [4, 1], [2, 3], [5, 5]]\n"
     ]
    }
   ],
   "source": [
    "n = int(input())\n",
    "\n",
    "for step in range(n):\n",
    "    m = int(input())\n",
    "\n",
    "    count = 0\n",
    "    score_list = []\n",
    "\n",
    "    for i in range(m):\n",
    "        score_list.append(list(map(int, input().split())))\n",
    "\n",
    "    sorted(score_list, reverse = True, key = lambda x: x[0])\n",
    "\n",
    "    for i in range(m - 1):\n",
    "        for j in range(i + 1, m):\n",
    "            if score_list[i][0] < score_list[j][0] and score_list[i][1] < score_list[j][1]:\n",
    "                count += 1\n",
    "                break\n",
    "\n",
    "    print(m - count)      "
   ]
  },
  {
   "cell_type": "markdown",
   "id": "1070f42e",
   "metadata": {},
   "source": [
    "결과는 시간초과가 나타났다. 아무래도 3중 for문은 시간을 많이 잡아먹는거 같았다."
   ]
  },
  {
   "cell_type": "code",
   "execution_count": 14,
   "id": "74e7510c",
   "metadata": {},
   "outputs": [
    {
     "name": "stdout",
     "output_type": "stream",
     "text": [
      "2\n",
      "5\n",
      "3 2\n",
      "1 4\n",
      "4 1\n",
      "2 3\n",
      "5 5\n",
      "7\n",
      "3 6\n",
      "7 3\n",
      "4 2\n",
      "1 4\n",
      "5 7\n",
      "2 5\n",
      "6 1\n",
      "4 3 "
     ]
    }
   ],
   "source": [
    "n = int(input())\n",
    "result = []\n",
    "for step in range(n):\n",
    "    m = int(input())\n",
    "\n",
    "    count = 1\n",
    "    score_list = []\n",
    "    second_list = []\n",
    "\n",
    "    for i in range(m):\n",
    "        score_list.append(list(map(int, input().split())))\n",
    "    \n",
    "    score_list = sorted(score_list, key = lambda x: x[0])\n",
    "    second_list.append(score_list[0][1])\n",
    "    for j in range(1, m):\n",
    "        second_list.append(score_list[j][1])\n",
    "        if score_list[j][1] == min(second_list):\n",
    "            count += 1\n",
    "    print(count)"
   ]
  },
  {
   "cell_type": "markdown",
   "id": "ef674ce1",
   "metadata": {},
   "source": [
    "그래서 2중 for문으로 바꾸어 보았다. 하지만 결과는 시간초과가 나타났다. 혹시 list를 많이 써서 그런가? 그럼 면접 결과를 바로 비교해보자!"
   ]
  },
  {
   "cell_type": "code",
   "execution_count": 15,
   "id": "74918fc9",
   "metadata": {},
   "outputs": [
    {
     "name": "stdout",
     "output_type": "stream",
     "text": [
      "1\n",
      "5\n",
      "3 2\n",
      "1 4\n",
      "4 1\n",
      "2 3\n",
      "5 5\n",
      "4\n"
     ]
    }
   ],
   "source": [
    "n = int(input())\n",
    "\n",
    "for step in range(n):\n",
    "    m = int(input())\n",
    "\n",
    "    count = 1\n",
    "    score_list = []\n",
    "\n",
    "    for i in range(m):\n",
    "        score_list.append(list(map(int, input().split())))\n",
    "    \n",
    "    score_list = sorted(score_list, key = lambda x: x[0])\n",
    "    first = score_list[0][1]\n",
    "    for j in range(1, m):\n",
    "        if first > score_list[j][1]:\n",
    "            first = score_list[j][1]\n",
    "            count += 1\n",
    "        \n",
    "    print(count)\n",
    "        \n"
   ]
  },
  {
   "cell_type": "markdown",
   "id": "ea66b446",
   "metadata": {},
   "source": [
    "또 시간초과가 나타났다. 뭐가 문제일까? 나는 도무지 모르겠어서 구글링을 해보니 sys.stdin.readline과 score_list의 한줄 코딩이 답이었다."
   ]
  },
  {
   "cell_type": "code",
   "execution_count": null,
   "id": "1a50c9dc",
   "metadata": {},
   "outputs": [],
   "source": [
    "import sys\n",
    "input = sys.stdin.readline\n",
    "\n",
    "n = int(input())\n",
    "\n",
    "for _ in range(n):\n",
    "    m = int(input())\n",
    "\n",
    "    count = 1\n",
    "    score_list = [list(map(int, input().split())) for _ in range(m)]\n",
    "\n",
    "    score_list = sorted(score_list, key = lambda x: x[0])\n",
    "    first = score_list[0][1]\n",
    "    for j in range(1, m):\n",
    "        if first > score_list[j][1]:\n",
    "            first = score_list[j][1]\n",
    "            count += 1\n",
    "        \n",
    "    print(count)"
   ]
  }
 ],
 "metadata": {
  "kernelspec": {
   "display_name": "Python 3 (ipykernel)",
   "language": "python",
   "name": "python3"
  },
  "language_info": {
   "codemirror_mode": {
    "name": "ipython",
    "version": 3
   },
   "file_extension": ".py",
   "mimetype": "text/x-python",
   "name": "python",
   "nbconvert_exporter": "python",
   "pygments_lexer": "ipython3",
   "version": "3.9.12"
  }
 },
 "nbformat": 4,
 "nbformat_minor": 5
}
