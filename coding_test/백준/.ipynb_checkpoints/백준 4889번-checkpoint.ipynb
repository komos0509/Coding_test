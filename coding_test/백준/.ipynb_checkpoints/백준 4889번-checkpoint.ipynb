{
 "cells": [
  {
   "cell_type": "markdown",
   "id": "a5713b2b",
   "metadata": {},
   "source": [
    "### 문제\n",
    "여는 괄호와 닫는 괄호만으로 이루어진 문자열이 주어진다. 여기서 안정적인 문자열을 만들기 위한 최소 연산의 수를 구하려고 한다. 안정적인 문자열의 정의란 다음과 같다.\n",
    "\n",
    "빈 문자열은 안정적이다.\n",
    "S가 안정적이라면, {S}도 안정적인 문자열이다.\n",
    "S와 T가 안정적이라면, ST(두 문자열의 연결)도 안정적이다.\n",
    "{}, {}{}, {{}{}}는 안정적인 문자열이지만, }{, {{}{, {}{는 안정적인 문자열이 아니다.\n",
    "\n",
    "문자열에 행할 수 있는 연산은 여는 괄호를 닫는 괄호로 바꾸거나, 닫는 괄호를 여는 괄호로 바꾸는 것 2가지이다.\n",
    "\n",
    "### 입력\n",
    "입력은 여러 개의 데이터 세트로 이루어져 있다. 각 데이터 세트는 한 줄로 이루어져 있다. 줄에는 여는 괄호와 닫는 괄호만으로 이루어진 문자열이 주어진다. 문자열의 길이가 2000을 넘는 경우는 없고, 항상 길이는 짝수이다.\n",
    "\n",
    "입력의 마지막 줄은 '-'가 한 개 이상 주어진다.\n",
    "\n",
    "### 출력\n",
    "각 테스트 케이스에 대해서, 테스트 케이스 번호와 입력으로 주어진 문자열을 안정적으로 바꾸는데 필요한 최소 연산의 수를 출력한다."
   ]
  },
  {
   "cell_type": "markdown",
   "id": "607a6131",
   "metadata": {},
   "source": [
    "## 생각\n",
    "1. for문으로 문자열을 돌아다니며 '{'이면 list에 추가, '}'이면 list.pop()한다. 만약 '}'인데 list에 아무것도 없으면 count += 1, list.append('{'), 문자열을 다 돌아다닌 뒤, count += len(list) // 2 한다."
   ]
  },
  {
   "cell_type": "code",
   "execution_count": 25,
   "id": "ddb44eac",
   "metadata": {},
   "outputs": [
    {
     "name": "stdout",
     "output_type": "stream",
     "text": [
      "{}{}{}{{\n",
      "}{}{}{{\n",
      "---\n",
      "1. 1\n",
      "2. 2\n"
     ]
    }
   ],
   "source": [
    "# 맞았습니다.\n",
    "count_list = []\n",
    "\n",
    "while True:\n",
    "    li = []\n",
    "    count = 0\n",
    "    string = input()\n",
    "    if '-' in string:\n",
    "        break\n",
    "    \n",
    "    for s in string:\n",
    "        if s == '{':\n",
    "            li.append(s)\n",
    "        elif s == '}':\n",
    "            if len(li) == 0:\n",
    "                count += 1\n",
    "                li.append('{')\n",
    "                continue\n",
    "                \n",
    "            li.pop()\n",
    "            \n",
    "    count += len(li) // 2\n",
    "    count_list.append(count)\n",
    "    \n",
    "for i in range(len(count_list)):\n",
    "    print(f'{i+1}. {count_list[i]}')"
   ]
  }
 ],
 "metadata": {
  "kernelspec": {
   "display_name": "Python 3 (ipykernel)",
   "language": "python",
   "name": "python3"
  },
  "language_info": {
   "codemirror_mode": {
    "name": "ipython",
    "version": 3
   },
   "file_extension": ".py",
   "mimetype": "text/x-python",
   "name": "python",
   "nbconvert_exporter": "python",
   "pygments_lexer": "ipython3",
   "version": "3.9.12"
  }
 },
 "nbformat": 4,
 "nbformat_minor": 5
}
