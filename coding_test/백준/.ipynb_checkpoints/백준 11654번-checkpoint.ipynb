{
 "cells": [
  {
   "cell_type": "markdown",
   "id": "0245a9f1",
   "metadata": {},
   "source": [
    "### 문제\n",
    "알파벳 소문자, 대문자, 숫자 0-9중 하나가 주어졌을 때, 주어진 글자의 아스키 코드값을 출력하는 프로그램을 작성하시오.\n",
    "\n",
    "### 입력\n",
    "알파벳 소문자, 대문자, 숫자 0-9 중 하나가 첫째 줄에 주어진다.\n",
    "\n",
    "### 출력\n",
    "입력으로 주어진 글자의 아스키 코드 값을 출력한다."
   ]
  },
  {
   "cell_type": "markdown",
   "id": "f64852b7",
   "metadata": {},
   "source": [
    "## 생각\n",
    "1. string을 받고 ord()를 씌워 print한다."
   ]
  },
  {
   "cell_type": "code",
   "execution_count": 7,
   "id": "e7f207f0",
   "metadata": {},
   "outputs": [
    {
     "name": "stdout",
     "output_type": "stream",
     "text": [
      "0\n",
      "48\n"
     ]
    }
   ],
   "source": [
    "string = input()\n",
    "\n",
    "print(ord(string))"
   ]
  }
 ],
 "metadata": {
  "kernelspec": {
   "display_name": "Python 3 (ipykernel)",
   "language": "python",
   "name": "python3"
  },
  "language_info": {
   "codemirror_mode": {
    "name": "ipython",
    "version": 3
   },
   "file_extension": ".py",
   "mimetype": "text/x-python",
   "name": "python",
   "nbconvert_exporter": "python",
   "pygments_lexer": "ipython3",
   "version": "3.9.12"
  }
 },
 "nbformat": 4,
 "nbformat_minor": 5
}
