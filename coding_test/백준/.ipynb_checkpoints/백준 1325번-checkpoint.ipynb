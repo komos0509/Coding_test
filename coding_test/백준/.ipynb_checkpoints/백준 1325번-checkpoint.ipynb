{
 "cells": [
  {
   "cell_type": "markdown",
   "id": "7cb88db8",
   "metadata": {},
   "source": [
    "### 문제\n",
    "해커 김지민은 잘 알려진 어느 회사를 해킹하려고 한다. 이 회사는 N개의 컴퓨터로 이루어져 있다. 김지민은 귀찮기 때문에, 한 번의 해킹으로 여러 개의 컴퓨터를 해킹 할 수 있는 컴퓨터를 해킹하려고 한다.\n",
    "\n",
    "이 회사의 컴퓨터는 신뢰하는 관계와, 신뢰하지 않는 관계로 이루어져 있는데, A가 B를 신뢰하는 경우에는 B를 해킹하면, A도 해킹할 수 있다는 소리다.\n",
    "\n",
    "이 회사의 컴퓨터의 신뢰하는 관계가 주어졌을 때, 한 번에 가장 많은 컴퓨터를 해킹할 수 있는 컴퓨터의 번호를 출력하는 프로그램을 작성하시오.\n",
    "\n",
    "### 입력\n",
    "첫째 줄에, N과 M이 들어온다. N은 10,000보다 작거나 같은 자연수, M은 100,000보다 작거나 같은 자연수이다. 둘째 줄부터 M개의 줄에 신뢰하는 관계가 A B와 같은 형식으로 들어오며, \"A가 B를 신뢰한다\"를 의미한다. 컴퓨터는 1번부터 N번까지 번호가 하나씩 매겨져 있다.\n",
    "\n",
    "### 출력\n",
    "첫째 줄에, 김지민이 한 번에 가장 많은 컴퓨터를 해킹할 수 있는 컴퓨터의 번호를 오름차순으로 출력한다."
   ]
  },
  {
   "cell_type": "markdown",
   "id": "48406001",
   "metadata": {},
   "source": [
    "## 생각\n",
    "1. 리스트[b].append(a)"
   ]
  },
  {
   "cell_type": "code",
   "execution_count": 8,
   "id": "97ffbe66",
   "metadata": {},
   "outputs": [
    {
     "name": "stdout",
     "output_type": "stream",
     "text": [
      "5 4\n",
      "3 1\n",
      "3 2\n",
      "4 3\n",
      "5 3\n",
      "1 2\n"
     ]
    }
   ],
   "source": [
    "# 시간초과\n",
    "def dfs(graph, v, visited):\n",
    "    global cnt\n",
    "    visited[v] = 1\n",
    "    for i in graph[v]:\n",
    "        if visited[i] == 0:\n",
    "            cnt += 1\n",
    "            dfs(graph, i, visited)\n",
    "    \n",
    "\n",
    "N, M = map(int, input().split())\n",
    "\n",
    "graph = [[] for _ in range(N+1)]\n",
    "for _ in range(M):\n",
    "    a, b = map(int, input().split())\n",
    "    graph[b].append(a)\n",
    "    \n",
    "cnt_list = []\n",
    "for i in range(1, N+1):\n",
    "    visited = [0] * (N+1)\n",
    "    cnt = 0\n",
    "    dfs(graph, i, visited)\n",
    "    cnt_list.append([i,cnt])\n",
    "    \n",
    "cnt_list.sort(key=lambda x: x[1], reverse=True)\n",
    "for i, c in cnt_list:\n",
    "    if max(cnt_list, key=lambda x: x[1])[1] == c:\n",
    "        print(i, end=' ')\n",
    "    else:\n",
    "        break"
   ]
  },
  {
   "cell_type": "markdown",
   "id": "6632922a",
   "metadata": {},
   "source": [
    "시간초과가 발생하여 input 대신 sys.stdin.readline을 python3 대신에 pypy3를 설정했습니다."
   ]
  },
  {
   "cell_type": "code",
   "execution_count": null,
   "id": "49ab3a55",
   "metadata": {},
   "outputs": [],
   "source": [
    "# 메모리 초과\n",
    "import sys\n",
    "sys.setrecursionlimit(10**6)\n",
    "input = sys.stdin.readline\n",
    "\n",
    "def dfs(graph, v, visited):\n",
    "    global cnt\n",
    "    visited[v] = 1\n",
    "    for i in graph[v]:\n",
    "        if visited[i] == 0:\n",
    "            cnt += 1\n",
    "            dfs(graph, i, visited)\n",
    "    \n",
    "\n",
    "N, M = map(int, input().split())\n",
    "\n",
    "graph = [[] for _ in range(N+1)]\n",
    "for _ in range(M):\n",
    "    a, b = map(int, input().split())\n",
    "    graph[b].append(a)\n",
    "    \n",
    "cnt_list = []\n",
    "for i in range(1, N+1):\n",
    "    visited = [0] * (N+1)\n",
    "    cnt = 0\n",
    "    dfs(graph, i, visited)\n",
    "    cnt_list.append([i,cnt])\n",
    "    \n",
    "cnt_list.sort(key=lambda x: x[1], reverse=True)\n",
    "for i, c in cnt_list:\n",
    "    if max(cnt_list, key=lambda x: x[1])[1] == c:\n",
    "        print(i, end=' ')\n",
    "    else:\n",
    "        break"
   ]
  },
  {
   "cell_type": "markdown",
   "id": "8007786c",
   "metadata": {},
   "source": [
    "메모리 초과가 발생했습니다. 그래서 DFS 알고리즘 보다는 BFS 알고리즘이 메모리 면에서는 괜찮을 것 같아 BFS 알고리즘을 이용하여 풀어보겠습니다."
   ]
  },
  {
   "cell_type": "code",
   "execution_count": 18,
   "id": "8b77092f",
   "metadata": {},
   "outputs": [
    {
     "data": {
      "text/plain": [
       "[False, False]"
      ]
     },
     "execution_count": 18,
     "metadata": {},
     "output_type": "execute_result"
    }
   ],
   "source": [
    "# 시간초과\n",
    "from collections import deque\n",
    "import sys\n",
    "\n",
    "input = sys.stdin.readline\n",
    "\n",
    "def bfs(graph, start):\n",
    "    queue = deque([start])\n",
    "    visited = []\n",
    "    visited.append(start)\n",
    "    cnt = 0\n",
    "    while queue:\n",
    "        v = queue.popleft()\n",
    "        for i in graph[v]:\n",
    "            if i not in visited:\n",
    "                cnt += 1\n",
    "                visited.append(i)\n",
    "                queue.append(i)\n",
    "    return cnt\n",
    "\n",
    "N, M = map(int, input().split())\n",
    "graph = [[] for _ in range(N+1)]\n",
    "for _ in range(M):\n",
    "    a, b = map(int, input().split())\n",
    "    graph[b].append(a)\n",
    "\n",
    "number = [0] * (N+1)\n",
    "for i in range(1, N+1):\n",
    "    number[i] += bfs(graph, i)\n",
    "\n",
    "ans = [i for i in range(len(number)) if number[i] == max(number)]\n",
    "print(*ans, sep=' ')"
   ]
  },
  {
   "cell_type": "markdown",
   "id": "41a38381",
   "metadata": {},
   "source": [
    "BFS 알고리즘으로 변경 후 돌려보니 시간초과가 발생했습니다. 기존 BFS 알고리즘은 놔두고 밑에 최댓값의 인덱스를 호출하는데서 max함수를 사용하니 그런 것 같습니다."
   ]
  },
  {
   "cell_type": "code",
   "execution_count": 1,
   "id": "ddfb54ff",
   "metadata": {},
   "outputs": [
    {
     "name": "stdout",
     "output_type": "stream",
     "text": [
      "5 4\n",
      "3 1\n",
      "3 2\n",
      "4 3\n",
      "5 3\n",
      "1 2\n"
     ]
    }
   ],
   "source": [
    "# 맞았습니다.\n",
    "from collections import deque\n",
    "import sys\n",
    "\n",
    "input = sys.stdin.readline\n",
    "\n",
    "def bfs(graph, start):\n",
    "    queue = deque([start])\n",
    "    visited = [False] * (N+1)\n",
    "    visited[start] = True\n",
    "    cnt = 1\n",
    "    while queue:\n",
    "        v = queue.popleft()\n",
    "        for i in graph[v]:\n",
    "            if not visited[i]:\n",
    "                cnt += 1\n",
    "                visited[i] = True\n",
    "                queue.append(i)\n",
    "    return cnt\n",
    "\n",
    "N, M = map(int, input().split())\n",
    "graph = [[] for _ in range(N+1)]\n",
    "for _ in range(M):\n",
    "    a, b = map(int, input().split())\n",
    "    graph[b].append(a)\n",
    "\n",
    "maxcnt = 1\n",
    "ans = []\n",
    "for i in range(1, N+1):\n",
    "    cnt = bfs(graph, i)\n",
    "    if cnt > maxcnt:\n",
    "        maxcnt = cnt\n",
    "        ans.clear()\n",
    "        ans.append(i)\n",
    "    elif cnt == maxcnt:\n",
    "        ans.append(i)\n",
    "    \n",
    "print(*ans)"
   ]
  },
  {
   "cell_type": "markdown",
   "id": "a942643d",
   "metadata": {},
   "source": [
    "결국 cnt를 어떤 리스트에 넣어서 max를 사용하지 않고, 바로 최댓값이 담겨진 인덱스를 리스트에 넣어 정답을 받았습니다."
   ]
  }
 ],
 "metadata": {
  "kernelspec": {
   "display_name": "Python 3 (ipykernel)",
   "language": "python",
   "name": "python3"
  },
  "language_info": {
   "codemirror_mode": {
    "name": "ipython",
    "version": 3
   },
   "file_extension": ".py",
   "mimetype": "text/x-python",
   "name": "python",
   "nbconvert_exporter": "python",
   "pygments_lexer": "ipython3",
   "version": "3.9.12"
  }
 },
 "nbformat": 4,
 "nbformat_minor": 5
}
