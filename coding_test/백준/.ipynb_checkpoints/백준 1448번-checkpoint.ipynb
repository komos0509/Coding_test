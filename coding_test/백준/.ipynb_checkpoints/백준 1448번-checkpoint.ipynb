{
 "cells": [
  {
   "cell_type": "markdown",
   "id": "fd6142ff",
   "metadata": {},
   "source": [
    "### 문제\n",
    "세준이는 N개의 빨대를 가지고 있다. N개의 빨대 중에 3개의 빨대를 선택했을 때, 이 빨대로 삼각형을 만들 수 있다면, 세 변의 길이의 합의 최댓값을 구하고 싶다.\n",
    "\n",
    "### 입력\n",
    "첫째 줄에 빨대의 개수 N이 주어진다. N은 3보다 크거나 같고, 1,000,000보다 작거나 같은 자연수이다. 둘째 줄부터 N개의 줄에 빨대의 길이가 한 줄에 하나씩 주어진다. 빨대의 길이는 1,000,000보다 작거나 같은 자연수이다.\n",
    "\n",
    "### 출력\n",
    "첫째 줄에 삼각형 세 변의 길이의 합의 최댓값을 출력한다. 만약 삼각형을 만들 수 없으면 -1을 출력한다."
   ]
  },
  {
   "cell_type": "markdown",
   "id": "35274a62",
   "metadata": {},
   "source": [
    "## 생각\n",
    "1. list sort reverse=True. for문 N-2까지 만약 list[i] < list[i+1] + list[i+2] 이면 세 원소의 합 출력 break"
   ]
  },
  {
   "cell_type": "code",
   "execution_count": 7,
   "id": "77abeaae",
   "metadata": {},
   "outputs": [
    {
     "name": "stdout",
     "output_type": "stream",
     "text": [
      "5\n",
      "4\n",
      "5\n",
      "6\n",
      "7\n",
      "20\n",
      "18\n"
     ]
    }
   ],
   "source": [
    "# 시간초과\n",
    "# 백준의 경우 input() 대신에 sys 라이브러리를 사용하여 sys.stdin.readline()을 사용할 수 있다. \n",
    "N = int(input())\n",
    "length_list = list(int(input()) for _ in range(N))\n",
    "\n",
    "length_list.sort(reverse=True)\n",
    "result = -1\n",
    "\n",
    "for i in range(N-2):\n",
    "    if length_list[i] < length_list[i+1] + length_list[i+2]:\n",
    "        result = length_list[i] + length_list[i+1] + length_list[i+2]\n",
    "        break\n",
    "\n",
    "print(result)"
   ]
  },
  {
   "cell_type": "markdown",
   "id": "25bfd184",
   "metadata": {},
   "source": [
    "백준의 경우 input() 대신에 sys 라이브러리를 사용하여 sys.stdin.readline()을 사용할 수 있다. readline()은 input()보다 빠르게 입력값을 받아줘 시간단축에 유용하다."
   ]
  },
  {
   "cell_type": "code",
   "execution_count": 8,
   "id": "6df41c65",
   "metadata": {},
   "outputs": [
    {
     "ename": "ValueError",
     "evalue": "invalid literal for int() with base 10: ''",
     "output_type": "error",
     "traceback": [
      "\u001b[1;31m---------------------------------------------------------------------------\u001b[0m",
      "\u001b[1;31mValueError\u001b[0m                                Traceback (most recent call last)",
      "Input \u001b[1;32mIn [8]\u001b[0m, in \u001b[0;36m<cell line: 4>\u001b[1;34m()\u001b[0m\n\u001b[0;32m      1\u001b[0m \u001b[38;5;66;03m# 맞았습니다.\u001b[39;00m\n\u001b[0;32m      2\u001b[0m \u001b[38;5;28;01mimport\u001b[39;00m \u001b[38;5;21;01msys\u001b[39;00m\n\u001b[1;32m----> 4\u001b[0m N \u001b[38;5;241m=\u001b[39m \u001b[38;5;28;43mint\u001b[39;49m\u001b[43m(\u001b[49m\u001b[43msys\u001b[49m\u001b[38;5;241;43m.\u001b[39;49m\u001b[43mstdin\u001b[49m\u001b[38;5;241;43m.\u001b[39;49m\u001b[43mreadline\u001b[49m\u001b[43m(\u001b[49m\u001b[43m)\u001b[49m\u001b[43m)\u001b[49m\n\u001b[0;32m      5\u001b[0m length_list \u001b[38;5;241m=\u001b[39m \u001b[38;5;28mlist\u001b[39m(\u001b[38;5;28mint\u001b[39m(sys\u001b[38;5;241m.\u001b[39mstdin\u001b[38;5;241m.\u001b[39mreadline()) \u001b[38;5;28;01mfor\u001b[39;00m _ \u001b[38;5;129;01min\u001b[39;00m \u001b[38;5;28mrange\u001b[39m(N))\n\u001b[0;32m      7\u001b[0m length_list\u001b[38;5;241m.\u001b[39msort(reverse\u001b[38;5;241m=\u001b[39m\u001b[38;5;28;01mTrue\u001b[39;00m)\n",
      "\u001b[1;31mValueError\u001b[0m: invalid literal for int() with base 10: ''"
     ]
    }
   ],
   "source": [
    "# 맞았습니다.\n",
    "import sys\n",
    "\n",
    "N = int(sys.stdin.readline())\n",
    "length_list = list(int(sys.stdin.readline()) for _ in range(N))\n",
    "\n",
    "length_list.sort(reverse=True)\n",
    "result = -1\n",
    "\n",
    "for i in range(N-2):\n",
    "    if length_list[i] < length_list[i+1] + length_list[i+2]:\n",
    "        result = length_list[i] + length_list[i+1] + length_list[i+2]\n",
    "        break\n",
    "\n",
    "print(result)"
   ]
  },
  {
   "cell_type": "markdown",
   "id": "1b9c4d1f",
   "metadata": {},
   "source": [
    "jupyter notebook의 경우 sys.stdin.readline()은 사용하지 못한다. 이유는 stdin이 제대로 구동되지 않아 빈 문자열을 받아 위와 같은 에러가 발생한다."
   ]
  }
 ],
 "metadata": {
  "kernelspec": {
   "display_name": "Python 3 (ipykernel)",
   "language": "python",
   "name": "python3"
  },
  "language_info": {
   "codemirror_mode": {
    "name": "ipython",
    "version": 3
   },
   "file_extension": ".py",
   "mimetype": "text/x-python",
   "name": "python",
   "nbconvert_exporter": "python",
   "pygments_lexer": "ipython3",
   "version": "3.9.12"
  }
 },
 "nbformat": 4,
 "nbformat_minor": 5
}
