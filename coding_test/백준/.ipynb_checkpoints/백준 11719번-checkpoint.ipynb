{
 "cells": [
  {
   "cell_type": "markdown",
   "id": "3d43e057",
   "metadata": {},
   "source": [
    "### 문제\n",
    "입력 받은 대로 출력하는 프로그램을 작성하시오.\n",
    "\n",
    "### 입력\n",
    "입력이 주어진다. 입력은 최대 100줄로 이루어져 있고, 알파벳 소문자, 대문자, 공백, 숫자로만 이루어져 있다. 각 줄은 100글자를 넘지 않으며, 빈 줄이 주어질 수도 있고, 각 줄의 앞 뒤에 공백이 있을 수도 있다.\n",
    "\n",
    "### 출력\n",
    "입력받은 그대로 출력한다."
   ]
  },
  {
   "cell_type": "markdown",
   "id": "4d2bc4cb",
   "metadata": {},
   "source": [
    "## 생각\n",
    "1. try, except 문법을 사용하여 입력받은 그대로 출력."
   ]
  },
  {
   "cell_type": "code",
   "execution_count": null,
   "id": "0d78dfff",
   "metadata": {},
   "outputs": [],
   "source": [
    "# 맞았습니다.\n",
    "while True:\n",
    "    try:\n",
    "        a = input()\n",
    "        print(a)\n",
    "    except:\n",
    "        break"
   ]
  }
 ],
 "metadata": {
  "kernelspec": {
   "display_name": "Python 3 (ipykernel)",
   "language": "python",
   "name": "python3"
  },
  "language_info": {
   "codemirror_mode": {
    "name": "ipython",
    "version": 3
   },
   "file_extension": ".py",
   "mimetype": "text/x-python",
   "name": "python",
   "nbconvert_exporter": "python",
   "pygments_lexer": "ipython3",
   "version": "3.9.12"
  }
 },
 "nbformat": 4,
 "nbformat_minor": 5
}
