{
 "cells": [
  {
   "cell_type": "markdown",
   "id": "2da669c9",
   "metadata": {},
   "source": [
    "### 문제\n",
    "우리 나라는 가족 혹은 친척들 사이의 관계를 촌수라는 단위로 표현하는 독특한 문화를 가지고 있다. 이러한 촌수는 다음과 같은 방식으로 계산된다. 기본적으로 부모와 자식 사이를 1촌으로 정의하고 이로부터 사람들 간의 촌수를 계산한다. 예를 들면 나와 아버지, 아버지와 할아버지는 각각 1촌으로 나와 할아버지는 2촌이 되고, 아버지 형제들과 할아버지는 1촌, 나와 아버지 형제들과는 3촌이 된다.\n",
    "\n",
    "여러 사람들에 대한 부모 자식들 간의 관계가 주어졌을 때, 주어진 두 사람의 촌수를 계산하는 프로그램을 작성하시오.\n",
    "\n",
    "### 입력\n",
    "사람들은 1, 2, 3, …, n (1 ≤ n ≤ 100)의 연속된 번호로 각각 표시된다. 입력 파일의 첫째 줄에는 전체 사람의 수 n이 주어지고, 둘째 줄에는 촌수를 계산해야 하는 서로 다른 두 사람의 번호가 주어진다. 그리고 셋째 줄에는 부모 자식들 간의 관계의 개수 m이 주어진다. 넷째 줄부터는 부모 자식간의 관계를 나타내는 두 번호 x,y가 각 줄에 나온다. 이때 앞에 나오는 번호 x는 뒤에 나오는 정수 y의 부모 번호를 나타낸다.\n",
    "\n",
    "각 사람의 부모는 최대 한 명만 주어진다.\n",
    "\n",
    "### 출력\n",
    "입력에서 요구한 두 사람의 촌수를 나타내는 정수를 출력한다. 어떤 경우에는 두 사람의 친척 관계가 전혀 없어 촌수를 계산할 수 없을 때가 있다. 이때에는 -1을 출력해야 한다."
   ]
  },
  {
   "cell_type": "markdown",
   "id": "3301e408",
   "metadata": {},
   "source": [
    "## 생각\n",
    "1. 부모노드와 자식노드가 주어지니까 자식노드를 인덱스로 가지는 부모노드 리스트를 만들어 계산해보기"
   ]
  },
  {
   "cell_type": "code",
   "execution_count": 77,
   "id": "32382b4e",
   "metadata": {},
   "outputs": [
    {
     "name": "stdout",
     "output_type": "stream",
     "text": [
      "3\n",
      "2 3\n",
      "2\n",
      "1 2\n",
      "2 3\n",
      "3\n"
     ]
    }
   ],
   "source": [
    "# 틀렸습니다.\n",
    "def find_root(x, result):\n",
    "    if parent[x] == 0:\n",
    "        return result\n",
    "    else:\n",
    "        result.append(parent[x])\n",
    "        find_root(parent[x], result)\n",
    "\n",
    "n = int(input())\n",
    "a, b = map(int, input().split())\n",
    "m = int(input())\n",
    "\n",
    "parent = [0] * (n+1)\n",
    "\n",
    "for _ in range(m):\n",
    "    x, y = map(int, input().split())\n",
    "    parent[y] = x\n",
    "\n",
    "a_result = []\n",
    "b_result = []\n",
    "\n",
    "find_root(a, a_result)\n",
    "find_root(b, b_result)\n",
    "        \n",
    "count = 0\n",
    "is_true = True\n",
    "\n",
    "if a != b:\n",
    "    for i in a_result:\n",
    "        if i != b:\n",
    "            if i in b_result:\n",
    "                count += b_result.index(i) + 2\n",
    "                is_true = False\n",
    "                break\n",
    "            else:\n",
    "                count += 1\n",
    "        else:\n",
    "            count += a_result.index(b) + 1\n",
    "            is_true = False\n",
    "            break\n",
    "else:\n",
    "    is_true = False\n",
    "    \n",
    "if not is_true:\n",
    "    print(count)\n",
    "else:\n",
    "    print(-1)"
   ]
  },
  {
   "cell_type": "markdown",
   "id": "049ab752",
   "metadata": {},
   "source": [
    "최선을 다해보았지만 위 같은 상황일 때는 오답이 발생한다. 결국 DFS알고리즘을 이용"
   ]
  },
  {
   "cell_type": "code",
   "execution_count": 85,
   "id": "5f45efb8",
   "metadata": {},
   "outputs": [
    {
     "name": "stdout",
     "output_type": "stream",
     "text": [
      "9\n",
      "7 3\n",
      "7\n",
      "1 2\n",
      "1 3\n",
      "2 7\n",
      "2 8\n",
      "2 9\n",
      "4 5\n",
      "4 6\n",
      "3\n"
     ]
    }
   ],
   "source": [
    "# 맞았습니다.\n",
    "def dfs(x):\n",
    "    for i in graph[x]:\n",
    "        if visited[i] == 0:\n",
    "            visited[i] = visited[x] + 1\n",
    "            dfs(i)\n",
    "    \n",
    "n = int(input())\n",
    "a, b = map(int, input().split())\n",
    "m = int(input())\n",
    "graph = [[] for _ in range(n+1)]\n",
    "visited = [0] * (n+1)\n",
    "for _ in range(m):\n",
    "    x, y = map(int, input().split())\n",
    "    graph[x].append(y)\n",
    "    graph[y].append(x)\n",
    "    \n",
    "dfs(a)\n",
    "\n",
    "print(visited[b] if visited[b] > 0 else -1)"
   ]
  },
  {
   "cell_type": "markdown",
   "id": "e997f813",
   "metadata": {},
   "source": [
    "여기서 키포인트는...\n",
    "1. 깊숙이 들어갈수록 이전 노드의 값 + 1로 하여 지나간 간선의 개수를 구합니다.\n",
    "2. print의 센스로 만약 b를 지나갔으면 분명 0보다 크기 때문에 0보다 크면 출력, 아니면 -1을 출력하라는 것을 한 줄로 나타낼 수 있습니다."
   ]
  },
  {
   "cell_type": "code",
   "execution_count": 90,
   "id": "b7c14b47",
   "metadata": {},
   "outputs": [
    {
     "name": "stdout",
     "output_type": "stream",
     "text": [
      "9\n",
      "7 7\n",
      "7\n",
      "1 2\n",
      "1 3\n",
      "2 7\n",
      "2 8\n",
      "2 9\n",
      "4 5\n",
      "4 6\n",
      "2\n"
     ]
    }
   ],
   "source": [
    "from collections import deque\n",
    "\n",
    "def bfs(x):\n",
    "    queue = deque([x])\n",
    "    while queue:\n",
    "        v = queue.popleft()\n",
    "        for i in graph[v]:\n",
    "            if visited[i] == 0:\n",
    "                visited[i] = visited[v] + 1\n",
    "                queue.append(i)\n",
    "                \n",
    "n = int(input())\n",
    "a, b = map(int, input().split())\n",
    "m = int(input())\n",
    "graph = [[] for _ in range(n+1)]\n",
    "visited = [0] * (n+1)\n",
    "for _ in range(m):\n",
    "    x, y = map(int, input().split())\n",
    "    graph[x].append(y)\n",
    "    graph[y].append(x)\n",
    "    \n",
    "bfs(a)\n",
    "\n",
    "print(visited[b] if visited[b] > 0 else -1)"
   ]
  },
  {
   "cell_type": "markdown",
   "id": "9f13a7d3",
   "metadata": {},
   "source": [
    "BFS 알고리즘으로 푼다면 다음과 같은 코드입니다."
   ]
  }
 ],
 "metadata": {
  "kernelspec": {
   "display_name": "Python 3 (ipykernel)",
   "language": "python",
   "name": "python3"
  },
  "language_info": {
   "codemirror_mode": {
    "name": "ipython",
    "version": 3
   },
   "file_extension": ".py",
   "mimetype": "text/x-python",
   "name": "python",
   "nbconvert_exporter": "python",
   "pygments_lexer": "ipython3",
   "version": "3.9.12"
  }
 },
 "nbformat": 4,
 "nbformat_minor": 5
}
