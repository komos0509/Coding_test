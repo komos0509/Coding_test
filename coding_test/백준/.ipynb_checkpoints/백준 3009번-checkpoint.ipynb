{
 "cells": [
  {
   "cell_type": "markdown",
   "id": "15e09207",
   "metadata": {},
   "source": [
    "### 문제\n",
    "세 점이 주어졌을 때, 축에 평행한 직사각형을 만들기 위해서 필요한 네 번째 점을 찾는 프로그램을 작성하시오.\n",
    "\n",
    "### 입력\n",
    "세 점의 좌표가 한 줄에 하나씩 주어진다. 좌표는 1보다 크거나 같고, 1000보다 작거나 같은 정수이다.\n",
    "\n",
    "### 출력\n",
    "직사각형의 네 번째 점의 좌표를 출력한다."
   ]
  },
  {
   "cell_type": "markdown",
   "id": "53d2a5f0",
   "metadata": {},
   "source": [
    "## 생각\n",
    "1. (x, y) 3개를 입력 받아, 각각 x, y가 같을 때, x4, y4는 다른 하나."
   ]
  },
  {
   "cell_type": "code",
   "execution_count": 1,
   "id": "a943d917",
   "metadata": {},
   "outputs": [
    {
     "name": "stdout",
     "output_type": "stream",
     "text": [
      "5 5\n",
      "5 7\n",
      "7 5\n",
      "7 7\n"
     ]
    }
   ],
   "source": [
    "# 맞았습니다.\n",
    "x1, y1 = map(int, input().split())\n",
    "x2, y2 = map(int, input().split())\n",
    "x3, y3 = map(int, input().split())\n",
    "\n",
    "if x1 == x2:\n",
    "    x4 = x3\n",
    "elif x2 == x3:\n",
    "    x4 = x1\n",
    "elif x1 == x3:\n",
    "    x4 = x2\n",
    "    \n",
    "if y1 == y2:\n",
    "    y4 = y3\n",
    "elif y2 == y3:\n",
    "    y4 = y1\n",
    "elif y1 == y3:\n",
    "    y4 = y2\n",
    "\n",
    "print(x4, y4)"
   ]
  }
 ],
 "metadata": {
  "kernelspec": {
   "display_name": "Python 3 (ipykernel)",
   "language": "python",
   "name": "python3"
  },
  "language_info": {
   "codemirror_mode": {
    "name": "ipython",
    "version": 3
   },
   "file_extension": ".py",
   "mimetype": "text/x-python",
   "name": "python",
   "nbconvert_exporter": "python",
   "pygments_lexer": "ipython3",
   "version": "3.9.12"
  }
 },
 "nbformat": 4,
 "nbformat_minor": 5
}
