{
 "cells": [
  {
   "cell_type": "markdown",
   "id": "e5711ff3",
   "metadata": {},
   "source": [
    "### 문제\n",
    "루트 없는 트리가 주어진다. 이때, 트리의 루트를 1이라고 정했을 때, 각 노드의 부모를 구하는 프로그램을 작성하시오.\n",
    "\n",
    "### 입력\n",
    "첫째 줄에 노드의 개수 N (2 ≤ N ≤ 100,000)이 주어진다. 둘째 줄부터 N-1개의 줄에 트리 상에서 연결된 두 정점이 주어진다.\n",
    "\n",
    "### 출력\n",
    "첫째 줄부터 N-1개의 줄에 각 노드의 부모 노드 번호를 2번 노드부터 순서대로 출력한다."
   ]
  },
  {
   "cell_type": "markdown",
   "id": "7a29df42",
   "metadata": {},
   "source": [
    "## 생각\n",
    "1. bfs를 이용하여 그래프 1부터 해서 자식노드들을 queue에 append 하고 자식노드들의 위치에 부모노드를 넣는다."
   ]
  },
  {
   "cell_type": "code",
   "execution_count": 19,
   "id": "d24918df",
   "metadata": {},
   "outputs": [
    {
     "name": "stdout",
     "output_type": "stream",
     "text": [
      "12\n",
      "1 2\n",
      "1 3\n",
      "2 4\n",
      "3 5\n",
      "3 6\n",
      "4 7\n",
      "4 8\n",
      "5 9\n",
      "5 10\n",
      "6 11\n",
      "6 12\n",
      "1\n",
      "1\n",
      "2\n",
      "3\n",
      "3\n",
      "4\n",
      "4\n",
      "5\n",
      "5\n",
      "6\n",
      "6\n"
     ]
    }
   ],
   "source": [
    "# 시간초과\n",
    "# python3가 아닌 pypy3로 제출 요망\n",
    "from collections import deque\n",
    "\n",
    "def bfs(v):\n",
    "    queue = deque([v])\n",
    "    while queue:\n",
    "        v = queue.popleft()\n",
    "        for i in graph[v]:\n",
    "            if parent[i] == 0 and i != 1:\n",
    "                queue.append(i)\n",
    "                parent[i] = v\n",
    "    for i in range(2, N+1)\n",
    "        print(parent[i])\n",
    "    \n",
    "N = int(input())\n",
    "\n",
    "\n",
    "graph = [[] for _ in range(N+1)]\n",
    "parent = [0] * (N + 1)\n",
    "\n",
    "for _ in range(N-1):\n",
    "    a, b = map(int, input().split())\n",
    "    graph[a].append(b)\n",
    "    graph[b].append(a)\n",
    "    \n",
    "bfs(1)\n",
    "\n",
    "for i in range(2, len(parent)):\n",
    "    print(parent[i])"
   ]
  },
  {
   "cell_type": "markdown",
   "id": "4ea33a3d",
   "metadata": {},
   "source": [
    "pypy3로 제출하여 정답처리를 받았다."
   ]
  }
 ],
 "metadata": {
  "kernelspec": {
   "display_name": "Python 3 (ipykernel)",
   "language": "python",
   "name": "python3"
  },
  "language_info": {
   "codemirror_mode": {
    "name": "ipython",
    "version": 3
   },
   "file_extension": ".py",
   "mimetype": "text/x-python",
   "name": "python",
   "nbconvert_exporter": "python",
   "pygments_lexer": "ipython3",
   "version": "3.9.12"
  }
 },
 "nbformat": 4,
 "nbformat_minor": 5
}
