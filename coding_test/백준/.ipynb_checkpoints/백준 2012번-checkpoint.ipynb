{
 "cells": [
  {
   "cell_type": "markdown",
   "id": "0e9c0f57",
   "metadata": {},
   "source": [
    "### 문제\n",
    "2007년 KOI에 N명의 학생들이 참가하였다. 경시일 전날인 예비소집일에, 모든 학생들은 자신이 N명 중에서 몇 등을 할 것인지 예상 등수를 적어서 제출하도록 하였다.  \n",
    "\n",
    "KOI 담당조교로 참가한 김진영 조교는 실수로 모든 학생의 프로그램을 날려 버렸다. 1등부터 N등까지 동석차 없이 등수를 매겨야 하는 김 조교는, 어쩔 수 없이 각 사람이 제출한 예상 등수를 바탕으로 임의로 등수를 매기기로 했다.\n",
    "\n",
    "자신의 등수를 A등으로 예상하였는데 실제 등수가 B등이 될 경우, 이 사람의 불만도는 A와 B의 차이 (|A-B|)로 수치화할 수 있다. 당신은 N명의 사람들의 불만도의 총 합을 최소로 하면서, 학생들의 등수를 매기려고 한다. \n",
    "\n",
    "각 사람의 예상 등수가 주어졌을 때, 김 조교를 도와 이러한 불만도의 합을 최소로 하는 프로그램을 작성하시오.\n",
    "\n",
    "### 입력\n",
    "첫째 줄에 자연수 N이 주어진다.(1 $\\le$ N $\\le$ 500,000) 둘째 줄부터 N개의 줄에 걸쳐 각 사람의 예상 등수가 순서대로 주어진다. 예상 등수는 500,000 이하의 자연수이다.\n",
    "\n",
    "### 출력\n",
    "첫째 줄에 불만도의 합을 최소로 할 때, 그 불만도를 출력한다."
   ]
  },
  {
   "cell_type": "markdown",
   "id": "009dd649",
   "metadata": {},
   "source": [
    "## 생각\n",
    "1. list를 sort하고 count = 1부터 N까지 += 1 하면서 |list 원소 - count| 를 result += 한다."
   ]
  },
  {
   "cell_type": "code",
   "execution_count": 1,
   "id": "31058631",
   "metadata": {},
   "outputs": [
    {
     "name": "stdout",
     "output_type": "stream",
     "text": [
      "5\n",
      "1\n",
      "5\n",
      "3\n",
      "1\n",
      "2\n",
      "3\n"
     ]
    }
   ],
   "source": [
    "# 시간초과\n",
    "N = int(input())\n",
    "\n",
    "score_list = []\n",
    "count = 1\n",
    "result = 0\n",
    "\n",
    "for _ in range(N):\n",
    "    score = int(input())\n",
    "    score_list.append(score)\n",
    "\n",
    "score_list.sort()\n",
    "\n",
    "for i in range(N):\n",
    "    result += abs(count - score_list[i])\n",
    "    count += 1\n",
    "\n",
    "print(result)"
   ]
  },
  {
   "cell_type": "markdown",
   "id": "d685db07",
   "metadata": {},
   "source": [
    "Python3로 제출하였을 때 시간초과가 발생했다. 하지만 위 코드를 똑같이 하고 Pypy3으로 제출하였을 때는 정답처리가 되었다. 아무래도 Pypy3가 Python3보다 코드 실행 시간이 짧은 것 같다."
   ]
  }
 ],
 "metadata": {
  "kernelspec": {
   "display_name": "Python 3 (ipykernel)",
   "language": "python",
   "name": "python3"
  },
  "language_info": {
   "codemirror_mode": {
    "name": "ipython",
    "version": 3
   },
   "file_extension": ".py",
   "mimetype": "text/x-python",
   "name": "python",
   "nbconvert_exporter": "python",
   "pygments_lexer": "ipython3",
   "version": "3.9.12"
  }
 },
 "nbformat": 4,
 "nbformat_minor": 5
}
