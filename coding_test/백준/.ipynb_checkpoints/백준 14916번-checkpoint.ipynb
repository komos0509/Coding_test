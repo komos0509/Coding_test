{
 "cells": [
  {
   "cell_type": "markdown",
   "id": "2a11e1e0",
   "metadata": {},
   "source": [
    "### 문제\n",
    "춘향이는 편의점 카운터에서 일한다.\n",
    "손님이 2원짜리와 5원짜리로만 거스름돈을 달라고 한다. 2원짜리 동전과 5원짜리 동전은 무한정 많이 가지고 있다. 동전의 개수가 최소가 되도록 거슬러 주어야 한다. 거스름돈이 n인 경우, 최소 동전의 개수가 몇 개인지 알려주는 프로그램을 작성하시오.\n",
    "\n",
    "예를 들어, 거스름돈이 15원이면 5원짜리 3개를, 거스름돈이 14원이면 5원짜리 2개와 2원짜리 2개로 총 4개를, 거스름돈이 13원이면 5원짜리 1개와 2원짜리 4개로 총 5개를 주어야 동전의 개수가 최소가 된다.\n",
    "\n",
    "### 입력\n",
    "첫째 줄에 거스름돈 액수 n(1$\\le$n$\\le$100,000)이 주어진다.\n",
    "\n",
    "### 출력\n",
    "거스름돈 동전의 최소 개수를 출력한다. 만약 거슬러 줄 수 없다면 -1을 출력한다."
   ]
  },
  {
   "cell_type": "markdown",
   "id": "2a10ecca",
   "metadata": {},
   "source": [
    "## 생각\n",
    "1. while문을 시작으로 5의 배수이면 몫을 count에 더하고 아니면 2씩 뺀다. 만약 1이 남으면 거술러 줄 수 없다고 취급"
   ]
  },
  {
   "cell_type": "code",
   "execution_count": 29,
   "id": "8169f008",
   "metadata": {},
   "outputs": [
    {
     "name": "stdout",
     "output_type": "stream",
     "text": [
      "8\n",
      "4\n"
     ]
    }
   ],
   "source": [
    "# 맞았습니다.\n",
    "number = int(input())\n",
    "count = 0\n",
    "\n",
    "while number > 0:\n",
    "    if number == 1:\n",
    "        count = -1\n",
    "        break\n",
    "    if number % 5 == 0:\n",
    "        count += (number // 5)\n",
    "        break\n",
    "        \n",
    "    number -= 2\n",
    "    count +=1\n",
    "    \n",
    "    \n",
    "print(count)"
   ]
  }
 ],
 "metadata": {
  "kernelspec": {
   "display_name": "Python 3 (ipykernel)",
   "language": "python",
   "name": "python3"
  },
  "language_info": {
   "codemirror_mode": {
    "name": "ipython",
    "version": 3
   },
   "file_extension": ".py",
   "mimetype": "text/x-python",
   "name": "python",
   "nbconvert_exporter": "python",
   "pygments_lexer": "ipython3",
   "version": "3.9.12"
  }
 },
 "nbformat": 4,
 "nbformat_minor": 5
}
