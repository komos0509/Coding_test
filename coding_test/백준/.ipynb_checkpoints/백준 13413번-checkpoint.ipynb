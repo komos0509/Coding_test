{
 "cells": [
  {
   "cell_type": "markdown",
   "id": "986cf945",
   "metadata": {},
   "source": [
    "### 문제\n",
    "로봇을 좋아하는 세희는 로봇동아리에서 카메라와 센서, 라즈베리 파이, 집게발을 이용해 로봇을 완성하였다. 이 로봇을 통해서 오셀로 재배치라는 작업을 하려고 한다. 오셀로 말은 앞면이 검정, 뒷면이 흰색으로 된 말이다. 세희의 목표는 로봇을 이용하여 처음 배치된 오셀로 말을 주어진 형태로 바꾸는 일을 하는 것이다. 아래의 예시를 참고하자.\n",
    "\n",
    "![백준 9](https://user-images.githubusercontent.com/60602671/229717617-072beba6-ad72-4bc5-ad6b-b0dd36299e84.png)\n",
    "\n",
    "세희는 로봇을 이용해 2가지 작업 중 하나를 골라 진행할 수 있다.\n",
    "\n",
    "1. 배치된 말 중 임의의 2개의 말을 골라 서로의 위치를 바꾼다.\n",
    "2. 말 1개를 들어 뒤집어 놓아 색상을 변경한다.\n",
    "\n",
    "위의 예시에서, 3번째와 4번째 말을 2번 작업을 통해 각각 뒤집으면 2번의 작업으로 목표 상태를 만들 수 있다. 하지만 1번 작업을 통해 3번째와 4번째 말을 골라 서로의 위치를 바꾸어주면 1번 만에 목표 상태에 도달할 수 있다. 초기 상태의 말과 목표 상태의 말이 주어질 때, 목표 상태에 도달할 수 있는 최소 횟수를 구하는 프로그램을 작성하시오.\n",
    "\n",
    "### 입력\n",
    "입력 데이터는 표준 입력을 사용한다. 입력은 T개의 테스트 데이터로 구성된다. 각 입력의 첫 번째 줄에는 오셀로 말의 개수 N(1 ≤ N ≤ 100,000)이 주어진다. 각 입력의 두 번째 줄과 세 번째 줄에는 각각 오셀로 말의 초기 상태와 목표 상태가 주어진다. 초기 상태와 목표 상태의 말의 개수는 항상 N과 일치한다. 흰색 면이 보이는 경우에는 W, 검은색 면이 보이는 경우에는 B로 주어진다.\n",
    "\n",
    "### 출력\n",
    "출력은 표준 출력을 사용한다. 입력받은 데이터에 대해, 한 줄에 1개씩 초기 상태에서 목표 상태를 만들기 위한 작업의 최소 횟수를 구한다."
   ]
  },
  {
   "cell_type": "markdown",
   "id": "a3a24f87",
   "metadata": {},
   "source": [
    "## 생각\n",
    "1. for문으로 len(list)-1 까지 만약 a[i] != b[i] 에서 만약 a[i] != a[i+1] 이고 a[i+1] != b[i+1] 이면 a[i] 이랑 a[i+1] 변경, 만약 a[i] == a[i+1] 또는 a[i+1] == b[i+1] 이면 a[i] 만 변경"
   ]
  },
  {
   "cell_type": "code",
   "execution_count": 37,
   "id": "5efc9cb0",
   "metadata": {},
   "outputs": [
    {
     "name": "stdout",
     "output_type": "stream",
     "text": [
      "3\n",
      "5\n",
      "WBBWW\n",
      "WBWBW\n",
      "7\n",
      "BBBBBBB\n",
      "BWBWBWB\n",
      "4\n",
      "WWBB\n",
      "BBWB\n",
      "1\n",
      "3\n",
      "2\n"
     ]
    }
   ],
   "source": [
    "# 틀렸습니다.\n",
    "# 문제를 다시 보니 1번 방법이 인접한 두개의 말이 아니라, 임의의 2개의 말이라서 오류 발생\n",
    "T = int(input())\n",
    "count_list = []\n",
    "for _ in range(T):\n",
    "    N = int(input())\n",
    "    a = input()\n",
    "    b = input()\n",
    "    # 문자열 변경을 위해 리스트로 변환\n",
    "    a_list = [i for i in a]\n",
    "    b_list = [i for i in b]\n",
    "    count = 0\n",
    "    for i in range(N-1):\n",
    "        if a_list[i] != b_list[i]:\n",
    "            # 다음 원소도 다를 경우 이전원소와 다음원소 바꾸기\n",
    "            if a_list[i] != a_list[i+1] and a_list[i+1] != b_list[i+1]:\n",
    "                a_list[i] = b_list[i]\n",
    "                a_list[i+1] = b_list[i+1]\n",
    "                count += 1\n",
    "            # 현재 원소만 다를 경우 뒤집기\n",
    "            else:\n",
    "                a_list[i] = b_list[i]\n",
    "                count += 1\n",
    "    # 마지막 원소도 비교\n",
    "    if a_list[-1] != b_list[-1]:\n",
    "        a_list[-1] = b_list[-1]\n",
    "        count += 1\n",
    "        \n",
    "    count_list.append(count)\n",
    "    \n",
    "for count in count_list:\n",
    "    print(count)"
   ]
  },
  {
   "cell_type": "code",
   "execution_count": 38,
   "id": "151a640c",
   "metadata": {},
   "outputs": [
    {
     "name": "stdout",
     "output_type": "stream",
     "text": [
      "3\n",
      "5\n",
      "WBBWW\n",
      "WBWBW\n",
      "7\n",
      "BBBBBBB\n",
      "BWBWBWB\n",
      "4\n",
      "WWBB\n",
      "BBWB\n",
      "1\n",
      "3\n",
      "2\n"
     ]
    }
   ],
   "source": [
    "# 시간초과\n",
    "# while문의 사용으로 인해 시간초과 발생\n",
    "T = int(input())\n",
    "count_list = []\n",
    "for _ in range(T):\n",
    "    N = int(input())\n",
    "    a = input()\n",
    "    b = input()\n",
    "    count = 0\n",
    "    arong_list = []\n",
    "    for i in range(N):\n",
    "        if a[i] != b[i]:\n",
    "            # 다른 원소를 리스트에 저장\n",
    "            arong_list.append(a[i])\n",
    "    \n",
    "    # 리스트에 'W' 또는 'B' 들만 있다면 크기 더하기\n",
    "    if len(set(arong_list)) == 1:\n",
    "        count += len(arong_list)\n",
    "    # 리스트에 'W', 'B' 다 있다면 하나씩 빼고 다시 비교\n",
    "    else:\n",
    "        while len(set(arong_list)) == 2:\n",
    "            count += 1\n",
    "            del arong_list[arong_list.index('W')]\n",
    "            del arong_list[arong_list.index('B')]\n",
    "        count += len(arong_list)\n",
    "            \n",
    "    count_list.append(count)\n",
    "    \n",
    "for count in count_list:\n",
    "    print(count)"
   ]
  },
  {
   "cell_type": "code",
   "execution_count": 36,
   "id": "83940d1d",
   "metadata": {},
   "outputs": [
    {
     "name": "stdout",
     "output_type": "stream",
     "text": [
      "3\n",
      "5\n",
      "WBBWW\n",
      "WBWBW\n",
      "7\n",
      "BBBBBBB\n",
      "BWBWBWB\n",
      "4\n",
      "WWBB\n",
      "BBWB\n",
      "1\n",
      "3\n",
      "2\n"
     ]
    }
   ],
   "source": [
    "# 맞았습니다.\n",
    "T = int(input())\n",
    "count_list = []\n",
    "for _ in range(T):\n",
    "    N = int(input())\n",
    "    a = input()\n",
    "    b = input()\n",
    "    count = 0\n",
    "    arong_list = []\n",
    "    for i in range(N):\n",
    "        if a[i] != b[i]:\n",
    "            # 리스트에 아무것도 없다면 그냥 넣기\n",
    "            if len(arong_list) == 0:\n",
    "                arong_list.append(a[i])\n",
    "            else:\n",
    "                # 리스트 원소와 다르다면 원소를 빼고 count += 1\n",
    "                if arong_list[0] != a[i]:\n",
    "                    arong_list.pop()\n",
    "                    count += 1\n",
    "                # 리스트 원소와 같다면 넣기\n",
    "                else:\n",
    "                    arong_list.append(a[i])\n",
    "    \n",
    "    # 리스트에 남겨진 원소들 크기 더하기\n",
    "    count += len(arong_list)        \n",
    "    count_list.append(count)\n",
    "    \n",
    "for count in count_list:\n",
    "    print(count)"
   ]
  }
 ],
 "metadata": {
  "kernelspec": {
   "display_name": "Python 3 (ipykernel)",
   "language": "python",
   "name": "python3"
  },
  "language_info": {
   "codemirror_mode": {
    "name": "ipython",
    "version": 3
   },
   "file_extension": ".py",
   "mimetype": "text/x-python",
   "name": "python",
   "nbconvert_exporter": "python",
   "pygments_lexer": "ipython3",
   "version": "3.9.12"
  }
 },
 "nbformat": 4,
 "nbformat_minor": 5
}
