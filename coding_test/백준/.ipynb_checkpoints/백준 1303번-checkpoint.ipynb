{
 "cells": [
  {
   "cell_type": "markdown",
   "id": "84549b07",
   "metadata": {},
   "source": [
    "### 문제\n",
    "전쟁은 어느덧 전면전이 시작되었다. 결국 전투는 난전이 되었고, 우리 병사와 적국 병사가 섞여 싸우게 되었다. 그러나 당신의 병사들은 흰색 옷을 입고, 적국의 병사들은 파란색 옷을 입었기 때문에 서로가 적인지 아군인지는 구분할 수 있다. 문제는 같은 팀의 병사들은 모이면 모일수록 강해진다는 사실이다.\n",
    "\n",
    "N명이 뭉쳐있을 때는 N2의 위력을 낼 수 있다. 과연 지금 난전의 상황에서는 누가 승리할 것인가? 단, 같은 팀의 병사들이 대각선으로만 인접한 경우는 뭉쳐 있다고 보지 않는다.\n",
    "\n",
    "### 입력\n",
    "첫째 줄에는 전쟁터의 가로 크기 N, 세로 크기 M(1 ≤ N, M ≤ 100)이 주어진다. 그 다음 두 번째 줄에서 M+1번째 줄에는 각각 (X, Y)에 있는 병사들의 옷색이 띄어쓰기 없이 주어진다. 모든 자리에는 병사가 한 명 있다. B는 파란색, W는 흰색이다. 당신의 병사와 적국의 병사는 한 명 이상 존재한다.\n",
    "\n",
    "### 출력\n",
    "첫 번째 줄에 당신의 병사의 위력의 합과 적국의 병사의 위력의 합을 출력한다."
   ]
  },
  {
   "cell_type": "markdown",
   "id": "39e14fa6",
   "metadata": {},
   "source": [
    "## 생각\n",
    "1. 기존 BFS 알고리즘에 개수를 세는 코드를 넣고 개수 return"
   ]
  },
  {
   "cell_type": "code",
   "execution_count": 11,
   "id": "18a839a8",
   "metadata": {},
   "outputs": [
    {
     "name": "stdout",
     "output_type": "stream",
     "text": [
      "5 5\n",
      "WBWWW\n",
      "WWWWW\n",
      "BBBBB\n",
      "BBBWW\n",
      "WWWWW\n",
      "130 65\n"
     ]
    }
   ],
   "source": [
    "from collections import deque\n",
    "\n",
    "def bfs(x, y):\n",
    "    cnt = 1\n",
    "    queue = deque()\n",
    "    queue.append((x, y))\n",
    "    visited[x][y] = 1\n",
    "    while queue:\n",
    "        a, b = queue.popleft()\n",
    "        \n",
    "        for i in range(4):\n",
    "            nx = a + dx[i]\n",
    "            ny = b + dy[i]\n",
    "            if 0 <= nx < M and 0 <= ny < N and graph[nx][ny] == graph[x][y] and visited[nx][ny] == 0:\n",
    "                cnt += 1\n",
    "                queue.append((nx, ny))\n",
    "                visited[nx][ny] = 1\n",
    "                \n",
    "    return cnt\n",
    "\n",
    "N, M = map(int, input().split())\n",
    "\n",
    "graph = []\n",
    "for _ in range(M):\n",
    "    graph.append(list(map(str, input())))\n",
    "    \n",
    "visited = [[0] * N for _ in range(M)]\n",
    "\n",
    "dx = [0, 0, 1, -1]\n",
    "dy = [1, -1, 0, 0]\n",
    "\n",
    "white = 0\n",
    "blue = 0\n",
    "for i in range(M):\n",
    "    for j in range(N):\n",
    "        if visited[i][j] == 0:\n",
    "            if graph[i][j] == 'W':\n",
    "                white += bfs(i, j) ** 2\n",
    "            else:\n",
    "                blue += bfs(i, j) ** 2\n",
    "            \n",
    "print(white, blue)"
   ]
  }
 ],
 "metadata": {
  "kernelspec": {
   "display_name": "Python 3 (ipykernel)",
   "language": "python",
   "name": "python3"
  },
  "language_info": {
   "codemirror_mode": {
    "name": "ipython",
    "version": 3
   },
   "file_extension": ".py",
   "mimetype": "text/x-python",
   "name": "python",
   "nbconvert_exporter": "python",
   "pygments_lexer": "ipython3",
   "version": "3.9.12"
  }
 },
 "nbformat": 4,
 "nbformat_minor": 5
}
