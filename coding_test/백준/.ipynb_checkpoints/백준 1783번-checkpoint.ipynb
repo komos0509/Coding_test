{
 "cells": [
  {
   "cell_type": "markdown",
   "id": "83cab986",
   "metadata": {},
   "source": [
    "### 문제\n",
    "병든 나이트가 N x M 크기 제스판의 가장 왼쪽아래 칸에 위치해 있다. 병든 나이트는 건강한 보통 체스의 나이트와 다르게 4가지로만 움직일 수 있다.\n",
    "1. 2칸 위로, 1칸 오른쪽\n",
    "2. 1칸 위로, 2칸 오른쪽\n",
    "3. 1칸 아래로, 2칸 오른쪽\n",
    "4. 2칸 아래로, 1칸 오른쪽\n",
    "\n",
    "병든 나이트는 여행을 시작하력 ㅗ하고, 여행을 하면서 방문한 칸의 수를 최대로 하려고 한다. 병든 나이트의 이동 횟수가 4번보다 적지 않다면, 이동 방법을 모두 한 번씩 이용해야 한다. 이동 횟수가 4번보다 적은 경우(방문한 칸이 5개 미만)에는 이동 방법에 대한 제약이 없다.\n",
    "\n",
    "체스판의 크기가 주어졌을 때, 병든 나이트가 여행에서 방문할 수 있는 칸의 최대 개수를 구해보자.\n",
    "\n",
    "### 입력\n",
    "첫째 줄에 체스판의 세로 길이 N과 가로 길이 M이 주어진다. N과 M은 2,000,000,000보다 작거나 같은 자연수이다.\n",
    "\n",
    "### 출력\n",
    "병든 나이트가 여행에서 방문할 수 있는 칸의 개수중 최댓값을 출력한다."
   ]
  },
  {
   "cell_type": "markdown",
   "id": "69fb8edb",
   "metadata": {},
   "source": [
    "## 생각\n",
    "1. 모든 경우의 수를 계산하여 while문과 if문을 활용한다."
   ]
  },
  {
   "cell_type": "code",
   "execution_count": 29,
   "id": "7643a7b5",
   "metadata": {},
   "outputs": [
    {
     "name": "stdout",
     "output_type": "stream",
     "text": [
      "100 2\n",
      "4\n"
     ]
    }
   ],
   "source": [
    "# 틀렸습니다. 반례 (100 2) output : 4, true : 2\n",
    "# 나이트는 왼쪽으로 움직일 수 없으므로 오류\n",
    "N, M = map(int, input().split(' '))\n",
    "\n",
    "result = 0\n",
    "is_true = True\n",
    "\n",
    "if N == 1 or M == 1:\n",
    "    result = 1\n",
    "    is_true = False\n",
    "\n",
    "while is_true:\n",
    "    if N >= 3:\n",
    "        if M >= 7:\n",
    "            result = (M-7)+5\n",
    "            break\n",
    "        elif M == 2:\n",
    "            for i in range(4):\n",
    "                if 2*i+1 <= N:\n",
    "                    result += 1\n",
    "            break\n",
    "        elif M <= 4:\n",
    "            result = M\n",
    "            break\n",
    "        else:\n",
    "            result = 4\n",
    "            break\n",
    "    else:\n",
    "        for i in range(4):\n",
    "            if 2*i+1 <= M:\n",
    "                result += 1\n",
    "        break\n",
    "    \n",
    "print(result)"
   ]
  },
  {
   "cell_type": "code",
   "execution_count": 30,
   "id": "e50ea0c0",
   "metadata": {},
   "outputs": [
    {
     "name": "stdout",
     "output_type": "stream",
     "text": [
      "100 2\n",
      "2\n"
     ]
    }
   ],
   "source": [
    "# 맞았습니다.\n",
    "N, M = map(int, input().split(' '))\n",
    "\n",
    "result = 0\n",
    "is_true = True\n",
    "\n",
    "if N == 1 or M == 1:\n",
    "    result = 1\n",
    "    is_true = False\n",
    "\n",
    "while is_true:\n",
    "    if N >= 3:\n",
    "        if M >= 7:\n",
    "            result = (M-7)+5\n",
    "            break\n",
    "        elif M <= 4:\n",
    "            result = M\n",
    "            break\n",
    "        else:\n",
    "            result = 4\n",
    "            break\n",
    "    else:\n",
    "        for i in range(4):\n",
    "            if 2*i+1 <= M:\n",
    "                result += 1\n",
    "        break\n",
    "    \n",
    "print(result)"
   ]
  }
 ],
 "metadata": {
  "kernelspec": {
   "display_name": "Python 3 (ipykernel)",
   "language": "python",
   "name": "python3"
  },
  "language_info": {
   "codemirror_mode": {
    "name": "ipython",
    "version": 3
   },
   "file_extension": ".py",
   "mimetype": "text/x-python",
   "name": "python",
   "nbconvert_exporter": "python",
   "pygments_lexer": "ipython3",
   "version": "3.9.12"
  }
 },
 "nbformat": 4,
 "nbformat_minor": 5
}
