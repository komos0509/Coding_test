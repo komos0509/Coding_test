{
 "cells": [
  {
   "cell_type": "markdown",
   "id": "54879c34",
   "metadata": {},
   "source": [
    "### 문제\n",
    "남규는 통나무를 세워 놓고 건너뛰기를 좋아한다. 그래서 N개의 통나무를 원형으로 세워 놓고 뛰오놀려고 한다. 남규는 원형으로 인접한 옆 통나무로 건너뛰는데, 이때 각 인접한 통나무의 높이 차가 최소가 되게 하려 한다.\n",
    "\n",
    "![그림 4](https://user-images.githubusercontent.com/60602671/222919236-00924ba6-b932-4e20-8c1d-523e65bb78a7.png)\n",
    "\n",
    "통나무 건너뛰기의 난이도는 인접한 두 통나무 간의 높이의 차의 최댓값으로 결정된다. 높이가  [2, 4, 5, 7, 9] 인 통나무들을 세우려 한다고 가정하자. 이를 [2, 9, 7, 4, 5]의 순서로 세웠다면, 가장 첫 통나무와 가장 마지막 통나무 역시 인접해 있다. 즉, 높이가 2인 것과 높이가 5인 것도 서로 인접해 있다. 배열 [2, 9, 7, 4, 5]의 난이도는 |2 - 9| = 7이다. 우리는 더 나은 배열 [2, 5, 9, 7, 4]를 만들 수 있으며 이 배열의 난이도는 |5 - 9| = 4이다. 이 배열보다 난이도가 낮은 배열은 만들 수 없으므로 이 배열이 남규가 찾은 답이 된다.\n",
    "\n",
    "### 입력\n",
    "입력은 T개의 테스트 케이스로 이루어져 있다. 첫 줄에 T가 주어진다.  \n",
    "\n",
    "이어지는 각 줄마다 첫 줄에 통나무의 개수를 나타내는 정수 N(5 $\\le$ N $\\le$ 10,000), 둘째 줄에 각 통나무의 높이를 나타내는 정수 L$_{i}$가 주어진다.(1 $\\le$ L$_{i}$ $\\le$ 100,000)\n",
    "\n",
    "### 출력\n",
    "각 테스트 케이스마다 한 줄에 주어진 통나무들로 만들 수 있는 최소 난이도를 출력하시오."
   ]
  },
  {
   "cell_type": "markdown",
   "id": "99bcbf9b",
   "metadata": {},
   "source": [
    "## 생각\n",
    "1. list를 sort reverse=True하고 list[2] - list[0]의 값"
   ]
  },
  {
   "cell_type": "code",
   "execution_count": 4,
   "id": "6b49be03",
   "metadata": {},
   "outputs": [
    {
     "name": "stdout",
     "output_type": "stream",
     "text": [
      "1\n",
      "9\n",
      "37 43 2 16 40 10 32 29 41\n",
      "3\n"
     ]
    }
   ],
   "source": [
    "# 틀렸습니다. 반례 - (밑 예제) output : 3, true : 19\n",
    "# 인접한 통나무의 차이 중 최솟값이라서 다르게 접근해야한다.\n",
    "T = int(input())\n",
    "\n",
    "result_list = []\n",
    "\n",
    "for _ in range(T):\n",
    "    N = int(input())\n",
    "    log_list = list(map(int, input().split(' ')))\n",
    "    log_list.sort(reverse=True)\n",
    "    result_list.append(log_list[0]-log_list[2])\n",
    "\n",
    "for result in result_list:\n",
    "    print(result)"
   ]
  },
  {
   "cell_type": "markdown",
   "id": "32c5c8f1",
   "metadata": {},
   "source": [
    "도저히 접근을 할 수가 없어서 힌트를 보니 통나무 리스트를 정규분포를 이루도록 정렬을 한다면 된다고 하여 코딩함"
   ]
  },
  {
   "cell_type": "code",
   "execution_count": 28,
   "id": "94562e48",
   "metadata": {},
   "outputs": [
    {
     "name": "stdout",
     "output_type": "stream",
     "text": [
      "3\n",
      "7\n",
      "13 10 12 11 10 11 12\n",
      "5\n",
      "2 4 5 7 9\n",
      "8\n",
      "6 6 6 6 6 6 6 6\n",
      "1\n",
      "4\n",
      "0\n"
     ]
    }
   ],
   "source": [
    "# 맞았습니다.\n",
    "T = int(input())\n",
    "max_list = [] # 정답을 담을 리스트\n",
    "\n",
    "for _ in range(T):\n",
    "    \n",
    "    result_list = [] # 정규분포 모양으로 담을 리스트\n",
    "    \n",
    "    N = int(input())\n",
    "    log_list = list(map(int, input().split(' ')))\n",
    "    log_list.sort(reverse=True)\n",
    "    \n",
    "    for i in range(len(log_list)): # result_list에 0을 len(log_list)만큼 넣는다.\n",
    "        result_list.append(0)\n",
    "\n",
    "    cnt = 0\n",
    "    \n",
    "    # 정규분포 모양으로 정렬\n",
    "    for i in range(len(log_list)):\n",
    "        cnt += int(((-1) ** (3*i-1)) * i)\n",
    "        result_list[int((len(result_list)-1) // 2) + cnt] = log_list[i]\n",
    "    \n",
    "    max_result = 0\n",
    "    \n",
    "    # 옆 원소와의 차이 중 최댓값을 max_result에 담는다.\n",
    "    for i in range(len(result_list)-1):\n",
    "        max_result = max(max_result, abs(result_list[i]-result_list[i+1]))\n",
    "    \n",
    "    # result_list의 첫번째 원소와 마지막 원소의 차이 비교\n",
    "    max_result = max(max_result, abs(result_list[0] - result_list[-1]))\n",
    "    \n",
    "    max_list.append(max_result)\n",
    "\n",
    "for m in max_list:\n",
    "    print(m)\n",
    "\n",
    "        "
   ]
  }
 ],
 "metadata": {
  "kernelspec": {
   "display_name": "Python 3 (ipykernel)",
   "language": "python",
   "name": "python3"
  },
  "language_info": {
   "codemirror_mode": {
    "name": "ipython",
    "version": 3
   },
   "file_extension": ".py",
   "mimetype": "text/x-python",
   "name": "python",
   "nbconvert_exporter": "python",
   "pygments_lexer": "ipython3",
   "version": "3.9.12"
  }
 },
 "nbformat": 4,
 "nbformat_minor": 5
}
