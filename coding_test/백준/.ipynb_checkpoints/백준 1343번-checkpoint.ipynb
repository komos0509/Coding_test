{
 "cells": [
  {
   "cell_type": "markdown",
   "id": "a7297e7d",
   "metadata": {},
   "source": [
    "### 문제\n",
    "민식이는 다음과 같은 폴리오미노 2개를 무한개만큼 가지고 있다. AAAA와 BB  \n",
    "이제 '.'와 'X'로 이루어진 보드판이 주어졌을 때, 민식이는 겹침없이 'X'를 모두 폴리오미노로 덮으려고 한다. 이때, '.'는 폴리오미노로 덮으면 안된다.  \n",
    "폴리오미노로 모두 덮은 보드판을 출력하는 프로그램을 작성하시오.\n",
    "\n",
    "### 입력\n",
    "첫째 줄에 보드판이 주어진다. 보드판의 크기는 최대 50이다.\n",
    "\n",
    "### 출력\n",
    "첫째 줄에 사전순으로 가장 앞서는 답을 출력한다. 만약 덮을 수 없으면 -1을 출력한다."
   ]
  },
  {
   "cell_type": "markdown",
   "id": "c294241d",
   "metadata": {},
   "source": [
    "## 생각\n",
    "1. '.'이 있다면 나누기, list 원소를 돌며 X의 길이를 4로 나눈 몫 + 나머지를 연산 후 다시 '.'으로 join 하기"
   ]
  },
  {
   "cell_type": "code",
   "execution_count": 58,
   "id": "5fdbc992",
   "metadata": {},
   "outputs": [
    {
     "name": "stdout",
     "output_type": "stream",
     "text": [
      "XX.XXXXXXXXXX..XXXXXXXX...XXXXXX\n",
      "BB.AAAAAAAABB..AAAAAAAA...AAAABB\n"
     ]
    }
   ],
   "source": [
    "# 맞았습니다.\n",
    "string = input()\n",
    "\n",
    "result_list = string.split('.')\n",
    "error = False\n",
    "\n",
    "for i in range(len(result_list)):\n",
    "    if result_list[i] == '':\n",
    "        continue\n",
    "    count = result_list[i].count('X')\n",
    "    if count % 2 != 0:\n",
    "        error = True\n",
    "        break\n",
    "    else:\n",
    "        result_list[i] = 'AAAA' * (count // 4)\n",
    "        result_list[i] += 'B' * (count % 4)\n",
    "\n",
    "if error:\n",
    "     print(-1)\n",
    "else:\n",
    "    result = '.'.join(result_list)\n",
    "    print(result)    "
   ]
  }
 ],
 "metadata": {},
 "nbformat": 4,
 "nbformat_minor": 5
}
