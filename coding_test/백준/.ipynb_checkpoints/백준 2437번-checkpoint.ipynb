{
 "cells": [
  {
   "cell_type": "markdown",
   "id": "885e4c93",
   "metadata": {},
   "source": [
    "### 문제\n",
    "하나의 양팔 저울을 이용하여 물건의 무게를 측정하려고 한다. 이 저울의 양 팔의 끝에는 물건이나 추를 올려놓는 접시가 달려 있고, 양팔의 길이는 같다. 또한, 저울의 한쪽에는 저울추들만 놓을 수 있고, 다른 쪽에는 무게를 측정하려는 물건만 올려놓을 수 있다.\n",
    "\n",
    "![백준 16](https://user-images.githubusercontent.com/60602671/232660340-88d5606b-982a-4ef8-9a78-df21ec8e4ad5.png)\n",
    "\n",
    "무게가 양의 정수인 N개의 저울추가 주어질 때, 이 추들을 사용하여 측정할 수 없는 양의 정수 무게 중 최솟값을 구하는 프로그램을 작성하시오.\n",
    "\n",
    "예를 들어, 무게가 각각 3, 1, 6, 2, 7, 30, 1인 7개의 저울추가 주어졌을 때, 이 추들로 측정할 수 없는 양의 정수 무게 중 최솟값은 21이다. \n",
    "\n",
    "### 입력\n",
    "첫 째 줄에는 저울추의 개수를 나타내는 양의 정수 N이 주어진다. N은 1 이상 1,000 이하이다. 둘째 줄에는 저울추의 무게를 나타내는 N개의 양의 정수가 빈칸을 사이에 두고 주어진다. 각 추의 무게는 1이상 1,000,000 이하이다.\n",
    "\n",
    "### 출력\n",
    "첫째 줄에 주어진 추들로 측정할 수 없는 양의 정수 무게 중 최솟값을 출력한다."
   ]
  },
  {
   "cell_type": "markdown",
   "id": "326e997a",
   "metadata": {},
   "source": [
    "## 생각\n",
    "1. 생각안남 (구글링)"
   ]
  },
  {
   "cell_type": "code",
   "execution_count": 5,
   "id": "a5f10b5d",
   "metadata": {},
   "outputs": [
    {
     "name": "stdout",
     "output_type": "stream",
     "text": [
      "7\n",
      "3 1 6 2 7 30 1\n",
      "21\n"
     ]
    }
   ],
   "source": [
    "# 맞았습니다.\n",
    "N = int(input())\n",
    "weight = list(map(int, input().split()))\n",
    "\n",
    "weight.sort()\n",
    "\n",
    "sum_weight = 1\n",
    "for i in range(len(weight)):\n",
    "    if sum_weight < weight[i]:\n",
    "        break\n",
    "    else:\n",
    "        sum_weight += weight[i]\n",
    "print(sum_weight)"
   ]
  },
  {
   "cell_type": "markdown",
   "id": "998babfc",
   "metadata": {},
   "source": [
    "도무지 풀이가 생각이 안나 구글링을 해보니 초기 무게추의 합을 1로 하여 리스트를 돌아다니며 원소보다 합이 크거나 같으면 원소를 더한다. 그러면 1부터 무게추의 합까지의 무게를 만들 수 있다.\n",
    "\n",
    "이게 왜 되는지는 나중에 확인해봐야겠다. "
   ]
  }
 ],
 "metadata": {
  "kernelspec": {
   "display_name": "Python 3 (ipykernel)",
   "language": "python",
   "name": "python3"
  },
  "language_info": {
   "codemirror_mode": {
    "name": "ipython",
    "version": 3
   },
   "file_extension": ".py",
   "mimetype": "text/x-python",
   "name": "python",
   "nbconvert_exporter": "python",
   "pygments_lexer": "ipython3",
   "version": "3.9.12"
  }
 },
 "nbformat": 4,
 "nbformat_minor": 5
}
