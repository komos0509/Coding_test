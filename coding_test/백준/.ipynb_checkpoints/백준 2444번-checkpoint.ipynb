{
 "cells": [
  {
   "cell_type": "markdown",
   "id": "364cebab",
   "metadata": {},
   "source": [
    "### 문제\n",
    "예제를 보고 규칙을 유추한 뒤에 별을 찍어 보세요.\n",
    "\n",
    "### 입력\n",
    "첫째 줄에 N(1 ≤ N ≤ 100)이 주어진다.\n",
    "\n",
    "### 출력\n",
    "첫째 줄부터 2×N-1번째 줄까지 차례대로 별을 출력한다."
   ]
  },
  {
   "cell_type": "markdown",
   "id": "6674fb76",
   "metadata": {},
   "source": [
    "## 생각\n",
    "1. star와 side를 구한 뒤 print"
   ]
  },
  {
   "cell_type": "code",
   "execution_count": 1,
   "id": "e043e888",
   "metadata": {},
   "outputs": [
    {
     "name": "stdout",
     "output_type": "stream",
     "text": [
      "5\n",
      "    *\n",
      "   ***\n",
      "  *****\n",
      " *******\n",
      "*********\n",
      " *******\n",
      "  *****\n",
      "   ***\n",
      "    *\n"
     ]
    }
   ],
   "source": [
    "# 맞았습니다.\n",
    "N = int(input())\n",
    "\n",
    "for i in range(N-1):\n",
    "    star = 2 * i + 1\n",
    "    side = N - (i + 1)\n",
    "    print(' ' * side + '*' * star)\n",
    "\n",
    "for i in range(N, 0, -1):\n",
    "    star = 2 * i - 1\n",
    "    side = N - i\n",
    "    print(' ' * side + '*' * star)"
   ]
  }
 ],
 "metadata": {
  "kernelspec": {
   "display_name": "Python 3 (ipykernel)",
   "language": "python",
   "name": "python3"
  },
  "language_info": {
   "codemirror_mode": {
    "name": "ipython",
    "version": 3
   },
   "file_extension": ".py",
   "mimetype": "text/x-python",
   "name": "python",
   "nbconvert_exporter": "python",
   "pygments_lexer": "ipython3",
   "version": "3.9.12"
  }
 },
 "nbformat": 4,
 "nbformat_minor": 5
}
