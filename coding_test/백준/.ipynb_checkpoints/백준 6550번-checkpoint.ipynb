{
 "cells": [
  {
   "cell_type": "markdown",
   "id": "b12f2a14",
   "metadata": {},
   "source": [
    "### 문제\n",
    "2개의 문자열 s와 t가 주어졌을 때 s가 t의 부분 문자열인지 판단하는 프로그램을 작성하라. 부분 문자열을 가지고 있는지 판단하는 방법은 t에서 몇 개의 문자를 제거하고 이를 순서를 바꾸지 않고 합쳤을 경우 s가 되는 경우를 이야기 한다.\n",
    "\n",
    "### 입력\n",
    "입력은 여러 개의 테스트 케이스로 이루어져 있다. 각 테스트 케이스는 한 줄로 이루어져 있으며, 문자열 s 와 t가 빈칸을 사이에 두고 들어온다. s와 t의 길이는 10만을 넘지 않는다.\n",
    "\n",
    "### 출력\n",
    "입력된 s와 t의 순서대로 s가 t의 부분 문자열인 경우 Yes라 출력하고 아닐 경우 No라고 출력한다."
   ]
  },
  {
   "cell_type": "markdown",
   "id": "90ce4570",
   "metadata": {},
   "source": [
    "## 생각\n",
    "1. a, b에서 for문으로 a를 돌아다니며 원소가 b에 있다면 그 인덱스 + 1 부터 시작하는 문자열 b를 재정의 한다. 만약 a의 원소가 b에 없다면 is_True = False 로 하고 break. 만약 is_True가 True이면 Yes 출력, 아니면 No 출력."
   ]
  },
  {
   "cell_type": "code",
   "execution_count": 10,
   "id": "f00ef98c",
   "metadata": {},
   "outputs": [
    {
     "name": "stdout",
     "output_type": "stream",
     "text": [
      "sequence subsequence\n"
     ]
    }
   ],
   "source": [
    "# 맞았습니다.\n",
    "while True:\n",
    "    try:\n",
    "        a, b = map(str, input().split())\n",
    "        is_True = True\n",
    "        for i in range(len(a)):\n",
    "            if a[i] in b:\n",
    "                start = b.index(a[i])\n",
    "                if len(b) != 1:\n",
    "                    b = b[start+1:]\n",
    "            else:\n",
    "                is_True = False\n",
    "                break\n",
    "        print('Yes' if is_True else 'No')\n",
    "    except:\n",
    "        break"
   ]
  }
 ],
 "metadata": {
  "kernelspec": {
   "display_name": "Python 3 (ipykernel)",
   "language": "python",
   "name": "python3"
  },
  "language_info": {
   "codemirror_mode": {
    "name": "ipython",
    "version": 3
   },
   "file_extension": ".py",
   "mimetype": "text/x-python",
   "name": "python",
   "nbconvert_exporter": "python",
   "pygments_lexer": "ipython3",
   "version": "3.9.12"
  }
 },
 "nbformat": 4,
 "nbformat_minor": 5
}
