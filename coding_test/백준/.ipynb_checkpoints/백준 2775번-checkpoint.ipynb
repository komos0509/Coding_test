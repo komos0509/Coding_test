{
 "cells": [
  {
   "cell_type": "markdown",
   "id": "871db921",
   "metadata": {},
   "source": [
    "### 문제\n",
    "평소 반상회에 참석하는 것을 좋아하는 주희는 이번 기회에 부녀회장이 되고 싶어 각 층의 사람들을 불러 모아 반상회를 주최하려고 한다.\n",
    "\n",
    "이 아파트에 거주를 하려면 조건이 있는데, “a층의 b호에 살려면 자신의 아래(a-1)층의 1호부터 b호까지 사람들의 수의 합만큼 사람들을 데려와 살아야 한다” 는 계약 조항을 꼭 지키고 들어와야 한다.\n",
    "\n",
    "아파트에 비어있는 집은 없고 모든 거주민들이 이 계약 조건을 지키고 왔다고 가정했을 때, 주어지는 양의 정수 k와 n에 대해 k층에 n호에는 몇 명이 살고 있는지 출력하라. 단, 아파트에는 0층부터 있고 각층에는 1호부터 있으며, 0층의 i호에는 i명이 산다.\n",
    "\n",
    "### 입력\n",
    "첫 번째 줄에 Test case의 수 T가 주어진다. 그리고 각각의 케이스마다 입력으로 첫 번째 줄에 정수 k, 두 번째 줄에 정수 n이 주어진다\n",
    "\n",
    "### 출력\n",
    "각각의 Test case에 대해서 해당 집에 거주민 수를 출력하라.\n",
    "\n",
    "### 제한\n",
    "1 ≤ k, n ≤ 14"
   ]
  },
  {
   "cell_type": "markdown",
   "id": "11e179db",
   "metadata": {},
   "source": [
    "## 생각\n",
    "1. list의 첫번째 원소에 list range(N)을 만든다. for i k까지, for j 1부터 n+1까지, list.append(sum(list[i][:j])) 하고 print(list[k][n])"
   ]
  },
  {
   "cell_type": "code",
   "execution_count": 25,
   "id": "54c3d0a4",
   "metadata": {},
   "outputs": [
    {
     "name": "stdout",
     "output_type": "stream",
     "text": [
      "2\n",
      "1\n",
      "3\n",
      "2\n",
      "3\n",
      "6\n",
      "10\n"
     ]
    }
   ],
   "source": [
    "# 맞았습니다.\n",
    "T = int(input())\n",
    "\n",
    "result_list = []\n",
    "for _ in range(T):\n",
    "    k = int(input())\n",
    "    n = int(input()) \n",
    "    \n",
    "    people_list = []\n",
    "    zero_floor = list(i+1 for i in range(n))\n",
    "    people_list.append(zero_floor)\n",
    "    for i in range(k):\n",
    "        floor_list = []\n",
    "        for j in range(1, n+1):\n",
    "            floor_list.append(sum(people_list[i][:j]))\n",
    "        people_list.append(floor_list)\n",
    "    \n",
    "    result_list.append(people_list[k][n-1])\n",
    "\n",
    "for result in result_list:\n",
    "    print(result)"
   ]
  }
 ],
 "metadata": {
  "kernelspec": {
   "display_name": "Python 3 (ipykernel)",
   "language": "python",
   "name": "python3"
  },
  "language_info": {
   "codemirror_mode": {
    "name": "ipython",
    "version": 3
   },
   "file_extension": ".py",
   "mimetype": "text/x-python",
   "name": "python",
   "nbconvert_exporter": "python",
   "pygments_lexer": "ipython3",
   "version": "3.9.12"
  }
 },
 "nbformat": 4,
 "nbformat_minor": 5
}
