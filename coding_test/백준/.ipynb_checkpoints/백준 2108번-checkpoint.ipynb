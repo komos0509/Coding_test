{
 "cells": [
  {
   "cell_type": "markdown",
   "id": "be6c6dba",
   "metadata": {},
   "source": [
    "### 문제\n",
    "수를 처리하는 것은 통계학에서 상당히 중요한 일이다. 통계학에서 N개의 수를 대표하는 기본 통계값에는 다음과 같은 것들이 있다. 단, N은 홀수라고 가정하자.\n",
    "\n",
    "- 산술평균 : N개의 수들의 합을 N으로 나눈 값\n",
    "- 중앙값 : N개의 수들을 증가하는 순서로 나열했을 경우 그 중앙에 위치하는 값\n",
    "- 최빈값 : N개의 수들 중 가장 많이 나타나는 값\n",
    "- 범위 : N개의 수들 중 최댓값과 최솟값의 차이\n",
    "N개의 수가 주어졌을 때, 네 가지 기본 통계값을 구하는 프로그램을 작성하시오.\n",
    "\n",
    "### 입력\n",
    "첫째 줄에 수의 개수 N(1 ≤ N ≤ 500,000)이 주어진다. 단, N은 홀수이다. 그 다음 N개의 줄에는 정수들이 주어진다. 입력되는 정수의 절댓값은 4,000을 넘지 않는다.\n",
    "\n",
    "### 출력\n",
    "첫째 줄에는 산술평균을 출력한다. 소수점 이하 첫째 자리에서 반올림한 값을 출력한다.\n",
    "\n",
    "둘째 줄에는 중앙값을 출력한다.\n",
    "\n",
    "셋째 줄에는 최빈값을 출력한다. 여러 개 있을 때에는 최빈값 중 두 번째로 작은 값을 출력한다.\n",
    "\n",
    "넷째 줄에는 범위를 출력한다."
   ]
  },
  {
   "cell_type": "markdown",
   "id": "9c26bee1",
   "metadata": {},
   "source": [
    "## 생각\n",
    "1. 최빈값 같은 경우 Counter 함수를 이용하여 구한다."
   ]
  },
  {
   "cell_type": "code",
   "execution_count": 13,
   "id": "8f5079fa",
   "metadata": {},
   "outputs": [
    {
     "name": "stdout",
     "output_type": "stream",
     "text": [
      "3\n",
      "0\n",
      "0\n",
      "-1\n",
      "0\n",
      "0\n",
      "0\n",
      "1\n"
     ]
    }
   ],
   "source": [
    "# 맞았습니다.\n",
    "from collections import Counter\n",
    "\n",
    "def find_count(number):\n",
    "    count = Counter(number)\n",
    "    most = count.most_common()\n",
    "    maximum = most[0][1]\n",
    "    result = []\n",
    "    for i in most:\n",
    "        if i[1] == maximum:\n",
    "            result.append(i[0])\n",
    "    result.sort()\n",
    "    return result\n",
    "    \n",
    "N = int(input())\n",
    "\n",
    "number = []\n",
    "for _ in range(N):\n",
    "    number.append(int(input()))\n",
    "    \n",
    "number.sort()\n",
    "\n",
    "print(int(round(sum(number)/N, 0)))\n",
    "print(number[len(number)//2])\n",
    "result = find_count(number)\n",
    "if len(result) == 1:\n",
    "    print(result[0])\n",
    "else:\n",
    "    print(result[1])\n",
    "print(number[-1] - number[0])"
   ]
  }
 ],
 "metadata": {
  "kernelspec": {
   "display_name": "Python 3 (ipykernel)",
   "language": "python",
   "name": "python3"
  },
  "language_info": {
   "codemirror_mode": {
    "name": "ipython",
    "version": 3
   },
   "file_extension": ".py",
   "mimetype": "text/x-python",
   "name": "python",
   "nbconvert_exporter": "python",
   "pygments_lexer": "ipython3",
   "version": "3.9.12"
  }
 },
 "nbformat": 4,
 "nbformat_minor": 5
}
