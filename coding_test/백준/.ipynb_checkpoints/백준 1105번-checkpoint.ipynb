{
 "cells": [
  {
   "cell_type": "markdown",
   "id": "f115627b",
   "metadata": {},
   "source": [
    "### 문제\n",
    "L과 R이 주어진다. 이때, L보다 크거나 같고, R보다 작거나 같은 자연수 중에 8이 가장 적게 들어있는 수에 들어있는 8의 개수를 구하는 프로그램을 작성하시오.\n",
    "\n",
    "### 입력\n",
    "첫째 줄에 L과 R이 주어진다. L은 2,000,000,000보다 작거나 같은 자연수이고, R은 L보다 크거나 같고, 2,000,000,000보다 작거나 같은 자연수이다.\n",
    "\n",
    "### 출력\n",
    "첫째 줄에 L보다 크거나 같고, R보다 작거나 같은 자연수 중에 8이 가장 적게 들어있는 수에 들어있는 8의 개수를 구하는 프로그램을 작성하시오."
   ]
  },
  {
   "cell_type": "markdown",
   "id": "a39e9688",
   "metadata": {},
   "source": [
    "## 생각\n",
    "1. for문 L부터 R+1까지 str(원소).count('8'). result = 0에서 result와 8개수의 min을 result라고 하고 print"
   ]
  },
  {
   "cell_type": "code",
   "execution_count": 4,
   "id": "609d7f19",
   "metadata": {},
   "outputs": [
    {
     "name": "stdout",
     "output_type": "stream",
     "text": [
      "8808 8880\n",
      "2\n"
     ]
    }
   ],
   "source": [
    "# 시간초과\n",
    "# L과 R의 범위가 커서 for문 하나로도 시간초과가 이루어진다.\n",
    "L, R = map(int, input().split())\n",
    "\n",
    "result = str(L).count('8') # result = 0으로 하면 최솟값이라서 L부터 시작한다.\n",
    "\n",
    "for i in range(L+1, R+1):\n",
    "    result = min(result, str(i).count('8'))\n",
    "\n",
    "print(result)"
   ]
  },
  {
   "cell_type": "markdown",
   "id": "7eb2145f",
   "metadata": {},
   "source": [
    "## 생각\n",
    "2. L과 R에 8이 있고 두 수가 다를 때, L의 각자리수의 8 유무를 확인하고 R-L의 자리수를 뺀 나머지의 sum"
   ]
  },
  {
   "cell_type": "code",
   "execution_count": 29,
   "id": "544bd53f",
   "metadata": {},
   "outputs": [
    {
     "name": "stdout",
     "output_type": "stream",
     "text": [
      "88 800\n",
      "1\n"
     ]
    }
   ],
   "source": [
    "# 틀렸습니다.\n",
    "# L R의 차이의 자릿수가 예상보다 많아서 오류 발생\n",
    "L, R = map(int, input().split())\n",
    "\n",
    "if str(L).count('8') == 0 or str(R).count('8') == 0:\n",
    "    print(0)\n",
    "else:\n",
    "    if R - L == 0:\n",
    "        print(str(L).count('8'))\n",
    "    else:\n",
    "        eight_list = []\n",
    "        for i in range(len(str(L))):\n",
    "            if str(L)[i] == '8':\n",
    "                eight_list.append(1)\n",
    "            else:\n",
    "                eight_list.append(0)\n",
    "        # eight_list[:-1] = 1이라서 오류\n",
    "        print(sum(eight_list[:len(eight_list)-len(str(R-L))]))"
   ]
  },
  {
   "cell_type": "markdown",
   "id": "a45af2de",
   "metadata": {},
   "source": [
    "만약 len(str(L)) != len(str(R))이면 0출력 추가"
   ]
  },
  {
   "cell_type": "code",
   "execution_count": 27,
   "id": "6ce49ad7",
   "metadata": {},
   "outputs": [
    {
     "name": "stdout",
     "output_type": "stream",
     "text": [
      "888000 890088\n",
      "2\n"
     ]
    }
   ],
   "source": [
    "# 틀렸습니다.\n",
    "# L R의 차이의 자릿수가 예상보다 적어서 오류 발생\n",
    "L, R = map(int, input().split())\n",
    "\n",
    "if str(L).count('8') == 0 or str(R).count('8') == 0 or len(str(L)) != len(str(R)):\n",
    "    print(0)\n",
    "else:\n",
    "    if R - L == 0:\n",
    "        print(str(L).count('8'))\n",
    "    else:\n",
    "        eight_list = []\n",
    "        for i in range(len(str(L))):\n",
    "            if str(L)[i] == '8':\n",
    "                eight_list.append(1)\n",
    "            else:\n",
    "                eight_list.append(0)\n",
    "        print(sum(eight_list[:len(eight_list)-len(str(R-L))]))"
   ]
  },
  {
   "cell_type": "markdown",
   "id": "cf71ab86",
   "metadata": {},
   "source": [
    "## 생각\n",
    "3. L과 R의 자릿수의 값들을 보고 같은 지점에서 R의 8개수를 출력"
   ]
  },
  {
   "cell_type": "code",
   "execution_count": 32,
   "id": "dadd8719",
   "metadata": {},
   "outputs": [
    {
     "name": "stdout",
     "output_type": "stream",
     "text": [
      "4800 8000\n",
      "1\n"
     ]
    }
   ],
   "source": [
    "# 틀렸습니다.\n",
    "# 첫번째 부터 틀렸는데 R의 시작이 8이면 오류\n",
    "L, R = map(int, input().split())\n",
    "\n",
    "if str(L).count('8') == 0 or str(R).count('8') == 0 or len(str(L)) != len(str(R)):\n",
    "    print(0)\n",
    "else:\n",
    "    if R - L == 0:\n",
    "        print(str(L).count('8'))\n",
    "    else:\n",
    "        cnt = 0\n",
    "        for i in range(len(str(L))):\n",
    "            if str(L)[i] == str(R)[i]:\n",
    "                cnt = i\n",
    "            else:\n",
    "                break\n",
    "        print(str(R)[:cnt+1].count('8'))"
   ]
  },
  {
   "cell_type": "markdown",
   "id": "12f5b4c5",
   "metadata": {},
   "source": [
    "출력값을 L과 R의 min으로 변경"
   ]
  },
  {
   "cell_type": "code",
   "execution_count": 33,
   "id": "263e8fa4",
   "metadata": {},
   "outputs": [
    {
     "name": "stdout",
     "output_type": "stream",
     "text": [
      "4800 8000\n",
      "0\n"
     ]
    }
   ],
   "source": [
    "# 맞았습니다.\n",
    "L, R = map(int, input().split())\n",
    "\n",
    "if str(L).count('8') == 0 or str(R).count('8') == 0 or len(str(L)) != len(str(R)):\n",
    "    print(0)\n",
    "else:\n",
    "    if R - L == 0:\n",
    "        print(str(L).count('8'))\n",
    "    else:\n",
    "        cnt = 0\n",
    "        for i in range(len(str(L))):\n",
    "            if str(L)[i] == str(R)[i]:\n",
    "                cnt = i\n",
    "            else:\n",
    "                break\n",
    "        print(min(str(L)[:cnt+1].count('8'), str(R)[:cnt+1].count('8')))"
   ]
  }
 ],
 "metadata": {
  "kernelspec": {
   "display_name": "Python 3 (ipykernel)",
   "language": "python",
   "name": "python3"
  },
  "language_info": {
   "codemirror_mode": {
    "name": "ipython",
    "version": 3
   },
   "file_extension": ".py",
   "mimetype": "text/x-python",
   "name": "python",
   "nbconvert_exporter": "python",
   "pygments_lexer": "ipython3",
   "version": "3.9.12"
  }
 },
 "nbformat": 4,
 "nbformat_minor": 5
}
