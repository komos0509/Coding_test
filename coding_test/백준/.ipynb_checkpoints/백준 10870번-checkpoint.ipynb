{
 "cells": [
  {
   "cell_type": "markdown",
   "id": "9eaf16bf",
   "metadata": {},
   "source": [
    "### 문제\n",
    "피보나치 수는 0과 1로 시작한다. 0번째 피보나치 수는 0이고, 1번째 피보나치 수는 1이다. 그 다음 2번째 부터는 바로 앞 두 피보나치 수의 합이 된다.\n",
    "\n",
    "이를 식으로 써보면 Fn = Fn-1 + Fn-2 (n ≥ 2)가 된다.\n",
    "\n",
    "n=17일때 까지 피보나치 수를 써보면 다음과 같다.\n",
    "\n",
    "0, 1, 1, 2, 3, 5, 8, 13, 21, 34, 55, 89, 144, 233, 377, 610, 987, 1597\n",
    "\n",
    "n이 주어졌을 때, n번째 피보나치 수를 구하는 프로그램을 작성하시오.\n",
    "\n",
    "### 입력\n",
    "첫째 줄에 n이 주어진다. n은 20보다 작거나 같은 자연수 또는 0이다.\n",
    "\n",
    "### 출력\n",
    "첫째 줄에 n번째 피보나치 수를 출력한다."
   ]
  },
  {
   "cell_type": "markdown",
   "id": "4a312106",
   "metadata": {},
   "source": [
    "## 생각\n",
    "1. list에서 0, 1을 넣고 n번 동안 list에 i번째 i+1번째 원소의 합을 append, n == 0이면 0, 아니면 list[-1]"
   ]
  },
  {
   "cell_type": "code",
   "execution_count": 9,
   "id": "072c211b",
   "metadata": {},
   "outputs": [
    {
     "name": "stdout",
     "output_type": "stream",
     "text": [
      "10\n",
      "55\n"
     ]
    }
   ],
   "source": [
    "# 맞았습니다.\n",
    "n = int(input())\n",
    "\n",
    "number_list = [0, 1]\n",
    "\n",
    "for i in range(n-1):\n",
    "    number_list.append(number_list[i] + number_list[i+1]) \n",
    "\n",
    "if n == 0:\n",
    "    print(0)\n",
    "else:\n",
    "    print(number_list[-1])"
   ]
  }
 ],
 "metadata": {
  "kernelspec": {
   "display_name": "Python 3 (ipykernel)",
   "language": "python",
   "name": "python3"
  },
  "language_info": {
   "codemirror_mode": {
    "name": "ipython",
    "version": 3
   },
   "file_extension": ".py",
   "mimetype": "text/x-python",
   "name": "python",
   "nbconvert_exporter": "python",
   "pygments_lexer": "ipython3",
   "version": "3.9.12"
  }
 },
 "nbformat": 4,
 "nbformat_minor": 5
}
