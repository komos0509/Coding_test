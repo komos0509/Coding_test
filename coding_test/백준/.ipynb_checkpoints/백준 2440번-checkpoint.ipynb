{
 "cells": [
  {
   "cell_type": "markdown",
   "id": "2a968726",
   "metadata": {},
   "source": [
    "### 문제\n",
    "첫째 줄에는 별 N개, 둘째 줄에는 별 N-1개, ..., N번째 줄에는 별 1개를 찍는 문제\n",
    "\n",
    "\n",
    "### 입력\n",
    "첫째 줄에 N(1 ≤ N ≤ 100)이 주어진다.\n",
    "\n",
    "### 출력\n",
    "첫째 줄부터 N번째 줄까지 차례대로 별을 출력한다."
   ]
  },
  {
   "cell_type": "markdown",
   "id": "5d889154",
   "metadata": {},
   "source": [
    "## 생각\n",
    "1. for문으로 '*' * N, N -= 1"
   ]
  },
  {
   "cell_type": "code",
   "execution_count": 1,
   "id": "305ec312",
   "metadata": {},
   "outputs": [
    {
     "name": "stdout",
     "output_type": "stream",
     "text": [
      "5\n",
      "*****\n",
      "****\n",
      "***\n",
      "**\n",
      "*\n"
     ]
    }
   ],
   "source": [
    "# 맞았습니다.\n",
    "N = int(input())\n",
    "\n",
    "for _ in range(N):\n",
    "    print('*' * N)\n",
    "    N -= 1"
   ]
  }
 ],
 "metadata": {
  "kernelspec": {
   "display_name": "Python 3 (ipykernel)",
   "language": "python",
   "name": "python3"
  },
  "language_info": {
   "codemirror_mode": {
    "name": "ipython",
    "version": 3
   },
   "file_extension": ".py",
   "mimetype": "text/x-python",
   "name": "python",
   "nbconvert_exporter": "python",
   "pygments_lexer": "ipython3",
   "version": "3.9.12"
  }
 },
 "nbformat": 4,
 "nbformat_minor": 5
}
