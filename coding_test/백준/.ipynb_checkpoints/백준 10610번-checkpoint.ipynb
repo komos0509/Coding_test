{
 "cells": [
  {
   "cell_type": "markdown",
   "id": "0651fc33",
   "metadata": {},
   "source": [
    "## 문제\n",
    "\n",
    "어느 날, 미르코는 우연히 길거리에서 양수 N을 보았다. 미르코는 30이란 수를 존경하기 때문에, 그는 길거리에서 찾은 수에 포함된 숫자들을 섞어 30의 배수가 되는 가장 큰 수를 만들고 싶어한다.\n",
    "\n",
    "미르코를 도와 그가 만들고 싶어하는 수를 계산하는 프로그램을 작성하라.\n",
    "\n",
    "## 아이디어\n",
    "\n",
    "숫자가 주어지면 itertools의 permutations를 이용하여 순열을 뽑은 뒤 30을 나누었을 때 나머지가 0인 최댓값을 구해보자!"
   ]
  },
  {
   "cell_type": "code",
   "execution_count": 4,
   "id": "038ed62d",
   "metadata": {},
   "outputs": [
    {
     "name": "stdout",
     "output_type": "stream",
     "text": [
      "80875542\n",
      "88755420\n"
     ]
    }
   ],
   "source": [
    "from itertools import permutations\n",
    "\n",
    "number = input()\n",
    "\n",
    "list_number = []\n",
    "result_number = []\n",
    "last_true = []\n",
    "\n",
    "\n",
    "for i in number:\n",
    "    list_number.append(i)\n",
    "\n",
    "permutation_list = list(permutations(list_number, len(list_number)))\n",
    "for data in permutation_list:\n",
    "    result = data[0]\n",
    "    for n in range(1, len(data)):\n",
    "        result += str(data[n])\n",
    "    result_number.append(result)\n",
    "    \n",
    "for i in result_number:\n",
    "    if int(i) % 30 == 0:\n",
    "        last_true.append(i)\n",
    "\n",
    "if len(last_true) == 0:\n",
    "    print(-1)\n",
    "else:\n",
    "    print(max(last_true))"
   ]
  },
  {
   "cell_type": "markdown",
   "id": "540bd23f",
   "metadata": {},
   "source": [
    "하지만 백준에 제출을 해보니 메모리 초과가 나타났다. 그렇다면 다른 방법은 무엇이 있을까?\n",
    "\n",
    "## 아이디어 \n",
    "\n",
    "코드 중간에 result의 값이 구해지면 바로 30을 나누어서 나눠지면 출력하고 멈추게한다. 그리고 good을 True로 바꾸어서 만약 아무런 수도 30으로 나눠지지 않으면 -1을 출력하게한다."
   ]
  },
  {
   "cell_type": "code",
   "execution_count": 5,
   "id": "68eed76f",
   "metadata": {},
   "outputs": [
    {
     "name": "stdout",
     "output_type": "stream",
     "text": [
      "80875542\n",
      "88755420\n"
     ]
    }
   ],
   "source": [
    "from itertools import permutations\n",
    "\n",
    "number = input()\n",
    "\n",
    "list_number = []\n",
    "good = False\n",
    "\n",
    "for i in number:\n",
    "    list_number.append(i)\n",
    "\n",
    "permutation_list = list(permutations(list_number, len(list_number)))\n",
    "for data in permutation_list:\n",
    "    result = data[0]\n",
    "    for n in range(1, len(data)):\n",
    "        result += str(data[n])\n",
    "    if int(result) % 30 == 0:\n",
    "        print(result)\n",
    "        good = True\n",
    "        break\n",
    "        \n",
    "if good == False:\n",
    "    print(-1)"
   ]
  },
  {
   "cell_type": "markdown",
   "id": "b35d27fe",
   "metadata": {},
   "source": [
    "또한 메모리 초과가 나온다. 이번에는 result를 string + 하지말고 join 함수를 사용해보자!"
   ]
  },
  {
   "cell_type": "code",
   "execution_count": 9,
   "id": "42aabb8e",
   "metadata": {},
   "outputs": [
    {
     "name": "stdout",
     "output_type": "stream",
     "text": [
      "30\n",
      "30\n"
     ]
    }
   ],
   "source": [
    "from itertools import permutations\n",
    "\n",
    "number = input()\n",
    "\n",
    "list_number = []\n",
    "good = False\n",
    "\n",
    "for i in number:\n",
    "    list_number.append(i)\n",
    "\n",
    "permutation_list = list(permutations(list_number, len(list_number)))\n",
    "for data in permutation_list:\n",
    "    result = ''.join(data)\n",
    "    if int(result) % 30 == 0:\n",
    "        print(result)\n",
    "        good = True\n",
    "        break\n",
    "        \n",
    "if good == False:\n",
    "    print(-1)"
   ]
  },
  {
   "cell_type": "markdown",
   "id": "cd7eb4e6",
   "metadata": {},
   "source": [
    "그래도 메모리 초과가 뜬다 아무래도 itertools의 permutations를 모두 구해서 그런거 같다. 다른 방법을 탐색해보자!\n",
    "\n",
    "찾아보니 배수판정법이라는 것이 있었다. 아디어는 다음과 같다.\n",
    "\n",
    "* 자리수에 0이 없다면 30의 배수가 아니라서 -1을 출력한다.\n",
    "* 자리수들을 다 더해서 3으로 나누어지면 3의 배수이다. 그러므로 30의 배수이다.\n",
    "* 여기서 팁은 자리수를 더하는 것이기 때문에 3의 배수라면 자리수를 내림차순으로 바꾸면 최댓값이 된다.\n",
    "\n",
    "이제 코드 구현을 해보자"
   ]
  },
  {
   "cell_type": "code",
   "execution_count": 15,
   "id": "2496d54c",
   "metadata": {},
   "outputs": [
    {
     "name": "stdout",
     "output_type": "stream",
     "text": [
      "2931\n",
      "-1\n"
     ]
    }
   ],
   "source": [
    "number = list(input())\n",
    "number.sort(reverse = True)\n",
    "sum = 0\n",
    "\n",
    "if '0' not in number:\n",
    "    print(-1)\n",
    "else:\n",
    "    for i in number:\n",
    "        sum += int(i)\n",
    "    \n",
    "    if sum % 3 == 0:\n",
    "        print(''.join(number))\n",
    "    else:\n",
    "        print(-1)"
   ]
  },
  {
   "cell_type": "markdown",
   "id": "41b3205d",
   "metadata": {},
   "source": [
    "이번 문제의 핵심은 배수판별법이다!"
   ]
  }
 ],
 "metadata": {
  "kernelspec": {
   "display_name": "Python 3 (ipykernel)",
   "language": "python",
   "name": "python3"
  },
  "language_info": {
   "codemirror_mode": {
    "name": "ipython",
    "version": 3
   },
   "file_extension": ".py",
   "mimetype": "text/x-python",
   "name": "python",
   "nbconvert_exporter": "python",
   "pygments_lexer": "ipython3",
   "version": "3.9.12"
  }
 },
 "nbformat": 4,
 "nbformat_minor": 5
}
