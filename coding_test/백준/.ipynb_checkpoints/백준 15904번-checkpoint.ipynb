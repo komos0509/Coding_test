{
 "cells": [
  {
   "cell_type": "markdown",
   "id": "dd0fcd41",
   "metadata": {},
   "source": [
    "### 문제\n",
    "UCPC는 '전국 대학생 프로그래밍 대회 동아리연합 여름 대회'의 줄임말로 알려져있다. 하지만 이 줄임말이 정확이 어떻게 구성되었는지는 아무도 모른다. ICPC 2018을 준비하던 ntopia는 여러 사람들에게 UCPC가 정확히 무엇의 줄임말인지 물어보았지만, 아무도 정확한 답을 제시해주지 못했다. ntopia가 들은 몇 가지 답을 아래에 적어보았다. \n",
    "- Union of Computer Programming Contest club contest\n",
    "- Union of Computer Programming contest club contest\n",
    "- Union of Computer Programming Contest club Contest\n",
    "- Union of Collegiate Programming Contest club contest\n",
    "- Union of Collegiate Programming contest Club contest\n",
    "- Union of Collegiate Programming contest club contest\n",
    "- University Computer Programming Contest\n",
    "- University Computer Programming Club contest\n",
    "- University Computer Programming club Contest\n",
    "- University Collegiate Programming Contest\n",
    "- University CPU\n",
    "- ...\n",
    "\n",
    "ntopia는 이렇게 다양한 답을 듣고는 UCPC가 무엇의 약자인지는 아무도 몰느다고 결론내렸다. 적당히 슥삭해서 ICPC를 남길 수 있으면 모두 UCPC의 약자인 것이다! \n",
    "\n",
    "문자열이 주어지면 이 문자열을 적절히 축약해서 \"UCPC\"로 만들 수 있는지 확인하는 프로그램을 만들어보자.\n",
    "\n",
    "축약이라는 것은 문자열에서 임의의 문자들을 제거하는 행동을 뜻한다. 예를들면 \"apple\"에서 a와 e를 지워 \"ppl\"로 만들 수 있고, \"University Computer Programming Contest\"에서 공백과 소문자를 모두 지워 \"UCPC\"로 만들 수 있다.\n",
    "\n",
    "문자열을 비교할 때는 대소문자를 구분해 정확히 비교한다. 예를들어 \"UCPC\"와 \"UCpC\"는 다른 문자열이다. 따라서 \"University Computer programming Contest\"를 \"UCPC\"로 축약할 수 있는 방법은 없다.\n",
    "\n",
    "### 입력\n",
    "첫 번째 줄에 알파벳 대소문자, 공백으로 구성된 문자열이 주어진다. 문자열의 기리은ㄴ 최대 1,000자이다. 문자열의 맨 앞과 맨 끝에 공백이 있는 경우는 없고, 공백이 연속해서 2번 이상 주어지는 경우도 없다.\n",
    "\n",
    "\n",
    "### 출력\n",
    "첫 번째 줄에 입력으로 주어진 문자열을 적절히 축약해 \"UCPC\"로 만들 수 있으면 \"I love UCPC\"를 출력하고, 만들 수 없으면 \"I hate UCPC\"를 출력한다."
   ]
  },
  {
   "cell_type": "markdown",
   "id": "cdc10dea",
   "metadata": {},
   "source": [
    "## 생각\n",
    "1. list를 돌아다니며 순서대로 UCPC가 있으면 count += 1"
   ]
  },
  {
   "cell_type": "code",
   "execution_count": 4,
   "id": "18cb5468",
   "metadata": {},
   "outputs": [
    {
     "name": "stdout",
     "output_type": "stream",
     "text": [
      "CCPU\n",
      "I love UCPC\n"
     ]
    }
   ],
   "source": [
    "# 틀렸습니다.\n",
    "# UCPC의 순서를 유의해야한다. \n",
    "string_list = list(input().split())\n",
    "\n",
    "count = 0\n",
    "words = 'UCPC'\n",
    "start_num = 0\n",
    "\n",
    "for word in words:\n",
    "    for i in range(start_num, len(string_list)):\n",
    "        if word in string_list[i]:\n",
    "            count += 1\n",
    "            break\n",
    "        start_num += 1\n",
    "        \n",
    "if count == len(words):\n",
    "    print('I love UCPC')\n",
    "else:\n",
    "    print('I hate UCPC')"
   ]
  },
  {
   "cell_type": "markdown",
   "id": "a368fd7a",
   "metadata": {},
   "source": [
    "UCPC의 순서를 주의해야한다. 만약 CCPU를 넣으면 여기에 UCPC의 글자들이 모두 들어있어서 정답이라고 판단하지만, 사실 UCPC의 순서가 아니므로 오답처리가 되어야한다."
   ]
  },
  {
   "cell_type": "markdown",
   "id": "46f12f9b",
   "metadata": {},
   "source": [
    "## 생각\n",
    "2. 입력받은 문자열에서 대문자만 고른 뒤, 그 중에서 UCPC 순서에 맞게 비교"
   ]
  },
  {
   "cell_type": "code",
   "execution_count": 5,
   "id": "7df3f741",
   "metadata": {},
   "outputs": [
    {
     "name": "stdout",
     "output_type": "stream",
     "text": [
      "CCPU\n",
      "I hate UCPC\n"
     ]
    }
   ],
   "source": [
    "# 맞았습니다.\n",
    "string_list = list(input().split())\n",
    "\n",
    "count = 0\n",
    "words = 'UCPC'\n",
    "result_list = []\n",
    "start_num = 0\n",
    "\n",
    "# 대문자만 받아서 result_list에 추가\n",
    "for i in range(len(string_list)):\n",
    "    for j in range(len(string_list[i])):\n",
    "        if string_list[i][j].isupper():\n",
    "            result_list.append(string_list[i][j])\n",
    "\n",
    "# result_list를 돌아다니며 UCPU 순으로 count를 +1\n",
    "for word in words:\n",
    "    for i in range(start_num, len(result_list)):\n",
    "        if word == result_list[i]:\n",
    "            count += 1\n",
    "            break\n",
    "        start_num += 1\n",
    "        \n",
    "\n",
    "# UCPC가 순서대로 다 있으면 정답, 아니면 오답\n",
    "if count == 4:\n",
    "    print('I love UCPC')\n",
    "else:\n",
    "    print('I hate UCPC')"
   ]
  }
 ],
 "metadata": {
  "kernelspec": {
   "display_name": "Python 3 (ipykernel)",
   "language": "python",
   "name": "python3"
  },
  "language_info": {
   "codemirror_mode": {
    "name": "ipython",
    "version": 3
   },
   "file_extension": ".py",
   "mimetype": "text/x-python",
   "name": "python",
   "nbconvert_exporter": "python",
   "pygments_lexer": "ipython3",
   "version": "3.9.12"
  }
 },
 "nbformat": 4,
 "nbformat_minor": 5
}
