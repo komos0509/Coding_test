{
 "cells": [
  {
   "cell_type": "markdown",
   "id": "11bda5ba",
   "metadata": {},
   "source": [
    "### 문제\n",
    "정수 n개가 주어졌을 때, n개의 합을 구하는 함수를 작성하시오.  \n",
    "작성해야 하는 함수는 다음과 같다.\n",
    "- def solve(a:list) -> int\n",
    "- a : 합을 구해야 하는 정수 n개가 저장되어 있는 리스트(0 $\\le$ a[i] $\\le$ 1,000,000, 1 $\\le$ n $\\le$ 3,000,000)\n",
    "- 리턴값 : a에 포함되어 있는 정수 n개의 합 (정수)"
   ]
  },
  {
   "cell_type": "markdown",
   "id": "2529bb7f",
   "metadata": {},
   "source": [
    "## 생각\n",
    "1. sum 사용"
   ]
  },
  {
   "cell_type": "code",
   "execution_count": null,
   "id": "ab5d0843",
   "metadata": {},
   "outputs": [],
   "source": [
    "# 맞았습니다.\n",
    "def solve(a):\n",
    "    reuslt = sum(a)\n",
    "    return result"
   ]
  }
 ],
 "metadata": {
  "kernelspec": {
   "display_name": "Python 3 (ipykernel)",
   "language": "python",
   "name": "python3"
  },
  "language_info": {
   "codemirror_mode": {
    "name": "ipython",
    "version": 3
   },
   "file_extension": ".py",
   "mimetype": "text/x-python",
   "name": "python",
   "nbconvert_exporter": "python",
   "pygments_lexer": "ipython3",
   "version": "3.9.12"
  }
 },
 "nbformat": 4,
 "nbformat_minor": 5
}
