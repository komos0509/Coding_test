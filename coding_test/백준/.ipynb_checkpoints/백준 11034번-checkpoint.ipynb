{
 "cells": [
  {
   "cell_type": "markdown",
   "id": "e4b91e1c",
   "metadata": {},
   "source": [
    "### 문제\n",
    "캥거루 세 마리가 사막에서 놀고 있다. 사막에는 수직선이 하나 있고, 캥거루는 서로 다른 한 좌표 위에 있다.\n",
    "\n",
    "한 번 움직일 때, 바깥쪽의 두 캥거루 중 한 마리가 다른 두 캥거루 사이의 정수 좌표로 점프한다. 한 좌표 위에 있는 캥거루가 두 마리 이상일 수는 없다.\n",
    "\n",
    "캥거루는 최대 몇 번 움직일 수 있을까?\n",
    "\n",
    "### 입력\n",
    "여러개의 테스트 케이스로 이루어져 있으며, 세 캥거루의 초기 위치 A, B, C가 주어진다. (0 < A < B < C < 100)\n",
    "\n",
    "### 출력\n",
    "각 테스트에 대해 캥거루가 최대 몇 번 움직일 수 있는지 출력한다."
   ]
  },
  {
   "cell_type": "markdown",
   "id": "e507a1bd",
   "metadata": {},
   "source": [
    "## 생각\n",
    "1. list를 sort하고 for문으로 i+1번째와 i번째의 차이의 최댓값 -1 출력"
   ]
  },
  {
   "cell_type": "code",
   "execution_count": null,
   "id": "bb442efb",
   "metadata": {},
   "outputs": [],
   "source": [
    "# 맞았습니다.\n",
    "while True:\n",
    "    try:\n",
    "        place = list(map(int, input().split()))\n",
    "        place.sort()\n",
    "\n",
    "        result = 0\n",
    "        for i in range(len(place)-1):\n",
    "            distance = place[i+1] - place[i]\n",
    "            result = max(result, distance)\n",
    "\n",
    "        print(result-1)\n",
    "    except:\n",
    "        break"
   ]
  },
  {
   "cell_type": "markdown",
   "id": "2ec8580a",
   "metadata": {},
   "source": [
    "이렇게 입력에서 테스트 데이터의 크기가 주어지지 않을 때는 while문과 try, except문으로 해결한다.  \n",
    "더 자세하게 하기 위해서는 except 옆에 EOFError를 추가하는게 좋다."
   ]
  }
 ],
 "metadata": {
  "kernelspec": {
   "display_name": "Python 3 (ipykernel)",
   "language": "python",
   "name": "python3"
  },
  "language_info": {
   "codemirror_mode": {
    "name": "ipython",
    "version": 3
   },
   "file_extension": ".py",
   "mimetype": "text/x-python",
   "name": "python",
   "nbconvert_exporter": "python",
   "pygments_lexer": "ipython3",
   "version": "3.9.12"
  }
 },
 "nbformat": 4,
 "nbformat_minor": 5
}
