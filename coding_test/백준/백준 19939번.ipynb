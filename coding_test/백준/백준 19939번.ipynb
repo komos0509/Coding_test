{
 "cells": [
  {
   "cell_type": "markdown",
   "id": "bacd36c9",
   "metadata": {},
   "source": [
    "### 문제\n",
    "$K$개의 팀이 박 터트리기 게임을 한다. 각 팀은 하나의 바구니를 가지고 있고, 바구니에 들어있는 공을 던져서 자기 팀의 박을 터트려야 한다.\n",
    "\n",
    "우리는 게임을 준비하기 위해서, \n",
    "$N$개의 공을 \n",
    "$K$개의 바구니에 나눠 담아야 한다. 이때, 게임의 재미를 위해서 바구니에 담기는 공의 개수를 모두 다르게 하고 싶다. 즉, \n",
    "$N$개의 공을 \n",
    "$K$개의 바구니에 빠짐없이 나누어 담는데, 각 바구니에는 1개 이상의 공이 있어야 하고, 바구니에 담긴 공의 개수가 모두 달라야 한다.\n",
    "\n",
    "게임의 불공정함을 줄이기 위해서, 가장 많이 담긴 바구니와 가장 적게 담긴 바구니의 공의 개수 차이가 최소가 되도록 담을 것이다.\n",
    "\n",
    "공을 바구니에 나눠 담기 위한 규칙을 정리하면 다음과 같다.\n",
    "\n",
    "- $N$개의 공을 \n",
    "- $K$개의 바구니에 빠짐없이 나누어 담는다.\n",
    "- 각 바구니에는 1개 이상의 공이 들어 있어야 한다.\n",
    "- 각 바구니에 담긴 공의 개수는 모두 달라야 한다.\n",
    "- 가장 많이 담긴 바구니와 가장 적게 담긴 바구니의 공의 개수 차이가 최소가 되어야 한다.\n",
    "\n",
    "위의 규칙을 모두 만족하며 \n",
    "$N$개의 공을 \n",
    "$K$개의 바구니에 나눠 담을 때, 나눠 담을 수 있는지 여부를 결정하고, 담을 수 있는 경우에는 가장 많이 담긴 바구니와 가장 적게 담긴 바구니의 공의 개수 차이를 계산해서 출력하는 프로그램을 작성하시오.\n",
    "\n",
    "### 입력\n",
    "첫 번째 줄에 공의 개수를 나타내는 \n",
    "$N$과 팀의 수를 나타내는 정수 \n",
    "$K$가 주어진다.\n",
    "\n",
    "### 출력\n",
    "$N$개의 공을 \n",
    "$K$개의 바구니에 문제의 규칙을 만족하면서 나눠 담을 수 있다면, 가장 많이 담긴 바구니와 가장 적게 담긴 바구니의 공의 개수 차이를 출력한다. 나눠 담을 수 없는 경우에는 -1을 출력한다.\n",
    "\n",
    "### 제한\n",
    "\n",
    "$2 \\le N \\le 100,000$ \n",
    "\n",
    "$2 \\le K \\le 1,000$ "
   ]
  },
  {
   "cell_type": "markdown",
   "id": "60e03c89",
   "metadata": {},
   "source": [
    "## 생각\n",
    "1. range(K)를 list로 만들고 while문을 돌려 count +1 하고 list 추가. list[0] 삭제 후 sum(list)가 N보다 크면 -1출력, 같다면 max(list) - min(list). 작다면 넘어가기"
   ]
  },
  {
   "cell_type": "markdown",
   "id": "bc3691f1",
   "metadata": {},
   "source": [
    "하지만 다시 곱씹어보니 10 3이라고 했을 때, 위 풀이라면은 4 3 2 (9) 다음 5 4 3 (12)이므로 -1을 출력해야하지만, 실제로는 5 3 2로 3을 출력해야한다. 그래서 틀린 풀이이다."
   ]
  },
  {
   "cell_type": "markdown",
   "id": "3dce5b62",
   "metadata": {},
   "source": [
    "## 생각\n",
    "2. range(K)를 list로 만들고 sort reverse=True 만약 N < sum(list)이면 -1출력, 같다면 list[0]-list[-1], 작다면 for range(N-sum(list)) idx = (idx+1) % K (idx 초깃값은 0) list[idx] += 1. 후 만약 len(set(list)) == k이면 list[0] - list[-1] 출력 아니면 -1 출력"
   ]
  },
  {
   "cell_type": "code",
   "execution_count": 5,
   "id": "9bd11035",
   "metadata": {},
   "outputs": [
    {
     "name": "stdout",
     "output_type": "stream",
     "text": [
      "6 3\n",
      "2\n"
     ]
    }
   ],
   "source": [
    "# 맞았습니다.\n",
    "N, K = map(int, input().split())\n",
    "\n",
    "ball_list = list(i+1 for i in range(K)) # 그냥 range(K)로 하면 0부터 시작하므로 이렇게 변경\n",
    "ball_list.sort(reverse=True)\n",
    "idx = 0\n",
    "\n",
    "if N < sum(ball_list):\n",
    "    print(-1)\n",
    "elif N == sum(ball_list):\n",
    "    print(ball_list[0] - ball_list[-1])\n",
    "else:\n",
    "    for _ in range(N-sum(ball_list)):\n",
    "        ball_list[idx] += 1\n",
    "        idx = (idx+1) % K\n",
    "    \n",
    "    if len(set(ball_list)) == K:\n",
    "        print(ball_list[0] - ball_list[-1])\n",
    "    else:\n",
    "        print(-1)"
   ]
  }
 ],
 "metadata": {
  "kernelspec": {
   "display_name": "Python 3 (ipykernel)",
   "language": "python",
   "name": "python3"
  },
  "language_info": {
   "codemirror_mode": {
    "name": "ipython",
    "version": 3
   },
   "file_extension": ".py",
   "mimetype": "text/x-python",
   "name": "python",
   "nbconvert_exporter": "python",
   "pygments_lexer": "ipython3",
   "version": "3.9.12"
  }
 },
 "nbformat": 4,
 "nbformat_minor": 5
}
