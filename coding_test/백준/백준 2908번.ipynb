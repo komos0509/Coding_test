{
 "cells": [
  {
   "cell_type": "markdown",
   "id": "c0faac4e",
   "metadata": {},
   "source": [
    "### 문제\n",
    "상근이의 동생 상수는 수학을 정말 못한다. 상수는 숫자를 읽는데 문제가 있다. 이렇게 수학을 못하는 상수를 위해서 상근이는 수의 크기를 비교하는 문제를 내주었다. 상근이는 세 자리 수 두 개를 칠판에 써주었다. 그 다음에 크기를 큰 수를 말해보라고 했다.\n",
    "\n",
    "상수는 수를 다른 사람과 다르게 거꾸로 읽는다. 예를 들어, 734와 893을 칠판에 적었다면, 상수는 이 수를 437과 398로 읽는다. 따라서, 상수는 두 수중 큰 수인 437을 큰 수라고 말할 것이다.\n",
    "\n",
    "두 수가 주어졌을 때, 상수의 대답을 출력하는 프로그램을 작성하시오.\n",
    "\n",
    "### 입력\n",
    "첫째 줄에 상근이가 칠판에 적은 두 수 A와 B가 주어진다. 두 수는 같지 않은 세 자리 수이며, 0이 포함되어 있지 않다.\n",
    "\n",
    "### 출력\n",
    "첫째 줄에 상수의 대답을 출력한다."
   ]
  },
  {
   "cell_type": "markdown",
   "id": "38b4a399",
   "metadata": {},
   "source": [
    "## 생각\n",
    "1. 입력받은 string을 순서를 거꾸로 하여 다린 리스트에 추가 후 최댓값을 출력"
   ]
  },
  {
   "cell_type": "code",
   "execution_count": 15,
   "id": "d5d9ea39",
   "metadata": {},
   "outputs": [
    {
     "name": "stdout",
     "output_type": "stream",
     "text": [
      "839 237\n",
      "938\n"
     ]
    }
   ],
   "source": [
    "# 맞았습니다.\n",
    "num_list = list(input().split(' '))\n",
    "\n",
    "result_list = []\n",
    "\n",
    "for num in num_list:\n",
    "    result = ''\n",
    "    for i in range(len(num)-1, -1, -1):\n",
    "        result += num[i]\n",
    "    result_list.append(result)\n",
    "\n",
    "print(max(result_list))"
   ]
  }
 ],
 "metadata": {
  "kernelspec": {
   "display_name": "Python 3 (ipykernel)",
   "language": "python",
   "name": "python3"
  },
  "language_info": {
   "codemirror_mode": {
    "name": "ipython",
    "version": 3
   },
   "file_extension": ".py",
   "mimetype": "text/x-python",
   "name": "python",
   "nbconvert_exporter": "python",
   "pygments_lexer": "ipython3",
   "version": "3.9.12"
  }
 },
 "nbformat": 4,
 "nbformat_minor": 5
}
