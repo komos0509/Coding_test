{
 "cells": [
  {
   "cell_type": "markdown",
   "id": "9b6d416f",
   "metadata": {},
   "source": [
    "### 문제\n",
    "오늘은 2007년 1월 1일 월요일이다. 그렇다면 2007년 x월 y일은 무슨 요일일까? 이를 알아내는 프로그램을 작성하시오.\n",
    "\n",
    "### 입력\n",
    "첫째 줄에 빈 칸을 사이에 두고 x(1 ≤ x ≤ 12)와 y(1 ≤ y ≤ 31)이 주어진다. 참고로 2007년에는 1, 3, 5, 7, 8, 10, 12월은 31일까지, 4, 6, 9, 11월은 30일까지, 2월은 28일까지 있다.\n",
    "\n",
    "### 출력\n",
    "첫째 줄에 x월 y일이 무슨 요일인지에 따라 SUN, MON, TUE, WED, THU, FRI, SAT중 하나를 출력한다."
   ]
  },
  {
   "cell_type": "markdown",
   "id": "8e82bbaa",
   "metadata": {},
   "source": [
    "## 생각\n",
    "1. 요일 list를 정의한 후, 일수를 전부 더하고 7로 나눈 후 요일 list[나머지] 출력"
   ]
  },
  {
   "cell_type": "code",
   "execution_count": 6,
   "id": "155897f1",
   "metadata": {},
   "outputs": [
    {
     "name": "stdout",
     "output_type": "stream",
     "text": [
      "12 25\n",
      "TUE\n"
     ]
    }
   ],
   "source": [
    "# 맞았습니다.\n",
    "weekday = ['MON', 'TUE', 'WED', 'THU', 'FRI', 'SAT', 'SUN']\n",
    "\n",
    "day = 0\n",
    "\n",
    "x, y = map(int, input().split())\n",
    "# 1월일 경우\n",
    "if x == 1:\n",
    "    day += y\n",
    "else:\n",
    "    # x월은 포함 안함\n",
    "    for i in range(1, x):\n",
    "        if i in [1, 3, 5, 7, 8, 10, 12]:\n",
    "            day += 31\n",
    "        elif i in [4, 6, 9, 11]:\n",
    "            day += 30\n",
    "        else:\n",
    "            day += 28\n",
    "    day += y\n",
    "\n",
    "# 1월 1일이 월요일로 정의해서 day에 -1 해준다.\n",
    "day -= 1\n",
    "print(weekday[day%7])"
   ]
  }
 ],
 "metadata": {
  "kernelspec": {
   "display_name": "Python 3 (ipykernel)",
   "language": "python",
   "name": "python3"
  },
  "language_info": {
   "codemirror_mode": {
    "name": "ipython",
    "version": 3
   },
   "file_extension": ".py",
   "mimetype": "text/x-python",
   "name": "python",
   "nbconvert_exporter": "python",
   "pygments_lexer": "ipython3",
   "version": "3.9.12"
  }
 },
 "nbformat": 4,
 "nbformat_minor": 5
}
