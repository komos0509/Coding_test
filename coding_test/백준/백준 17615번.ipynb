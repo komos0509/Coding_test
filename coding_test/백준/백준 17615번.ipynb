{
 "cells": [
  {
   "cell_type": "markdown",
   "id": "925f6fca",
   "metadata": {},
   "source": [
    "### 문제\n",
    "빨간색 볼과 파란색 볼이 <그림 1>에서 보인 것처럼 일직선상에 섞여 놓여 있을 때, 볼을 옮겨서 같은 색 볼끼리 인접하게 놓이도록 하려고 한다. 볼을 옮기는 규칙은 다음과 같다.\n",
    "\n",
    "바로 옆에 다른 색깔의 볼이 있으면 그 볼을 모두 뛰어 넘어 옮길 수 있다. 즉, 빨간색 볼은 옆에 있는 파란색 볼 무더기를 한 번에 뛰어 넘어 옮길 수 있다. 유사하게, 파란색 볼은 옆에 있는 빨간색 볼 무더기를 한 번에 뛰어 넘어 옮길 수 있다.\n",
    "옮길 수 있는 볼의 색깔은 한 가지이다. 즉, 빨간색 볼을 처음에 옮겼으면 다음에도 빨간색 볼만 옮길 수 있다. 유사하게, 파란색 볼을 처음에 옮겼으면 다음에도 파란색 볼만 옮길 수 있다.\n",
    "예를 들어, 처음에 볼이 <그림 1>에서 보인 것처럼 있을 때, 빨간 볼을 <그림 2>에서 보인 것처럼 옮긴 후, <그림 3>에서 보인 것처럼 옮긴다면 두 번 만에 같은 색끼리 모을 수 있다.\n",
    "\n",
    "![백준 10](https://user-images.githubusercontent.com/60602671/230236788-73f25288-34c9-4993-a97b-0df099a03bb7.png)\n",
    "\n",
    "반면에 파란색 볼을 선택하여 에서 보인 것처럼 옮기면(화살표에 있는 수는 옮기는 순서를 나타낸다) 네 번을 옮겨야 같은 색의 볼끼리 모을 수 있다.\n",
    "\n",
    "![백준 11](https://user-images.githubusercontent.com/60602671/230236899-891aa732-737b-4243-93bc-107808e79c6f.png)\n",
    "\n",
    "일직선상에 놓여 있는 볼에 관한 정보가 주어질 때, 규칙에 따라 볼을 이동하여 같은 색끼리 모으되 최소 이동횟수를 찾는 프로그램을 작성하시오.\n",
    "\n",
    "### 입력\n",
    "첫 번째 줄에는 볼의 총 개수 N이 주어진다. (1 ≤ N ≤ 500,000) 다음 줄에는 볼의 색깔을 나타내는 문자 R(빨간색 볼) 또는 B(파란색 볼)가 공백 없이 주어진다. 문자열에는 R 또는 B 중 한 종류만 주어질 수도 있으며, 이 경우 답은 0이 된다.\n",
    "\n",
    "### 출력\n",
    "최소 이동횟수를 출력한다.\n",
    "\n",
    "### 서브태스크\n",
    "\n",
    "![백준 12](https://user-images.githubusercontent.com/60602671/230236976-8bbad3f5-7a2c-4dab-a8f8-2df170d0d839.png)\n"
   ]
  },
  {
   "cell_type": "markdown",
   "id": "4de2e3a1",
   "metadata": {},
   "source": [
    "## 생각\n",
    "1. R과 B의 개수를 리스트에 저장하고, 리스트의 크기가 짝수이면 리스트[1:-1] 에서 짝수, 홀수의 최솟값, 크기가 홀수이면 리스트[:-1] 에서 짝수, 홀수의 최솟값."
   ]
  },
  {
   "cell_type": "code",
   "execution_count": 26,
   "id": "21db32ac",
   "metadata": {},
   "outputs": [
    {
     "name": "stdout",
     "output_type": "stream",
     "text": [
      "9\n",
      "RBBBRBRRR\n",
      "2\n"
     ]
    }
   ],
   "source": [
    "# 15점\n",
    "N = int(input())\n",
    "R = input()\n",
    "\n",
    "first = R[0]\n",
    "count = 1\n",
    "count_list = []\n",
    "for i in range(1, len(R)):\n",
    "    if first != R[i]:\n",
    "        first = R[i]\n",
    "        count_list.append(count)\n",
    "        count = 1\n",
    "        continue\n",
    "    count += 1\n",
    "count_list.append(count)\n",
    "    \n",
    "\n",
    "a = 0\n",
    "b = 0\n",
    "if len(count_list) % 2 == 0:\n",
    "    for i in range(1, len(count_list)-1):\n",
    "        if i % 2 != 0:\n",
    "            a += count_list[i]\n",
    "        else:\n",
    "            b += count_list[i]\n",
    "    result = min(a, b)\n",
    "else:\n",
    "    for i in range(len(count_list)-1):\n",
    "        if i % 2 != 0:\n",
    "            a += count_list[i]\n",
    "        else:\n",
    "            b += count_list[i]\n",
    "    result = min(a, b)\n",
    "    \n",
    "print(result)"
   ]
  },
  {
   "cell_type": "markdown",
   "id": "096a9d04",
   "metadata": {},
   "source": [
    "for문을 많이써서 N이 1000에 가까이 가면 시간초과가 발생하는 것 같습니다. 그러면 리스트의 인덱싱을 사용하여 for문을 줄여보겠습니다."
   ]
  },
  {
   "cell_type": "code",
   "execution_count": 24,
   "id": "4818178c",
   "metadata": {},
   "outputs": [
    {
     "name": "stdout",
     "output_type": "stream",
     "text": [
      "8\n",
      "BBRBBBBR\n",
      "1\n"
     ]
    }
   ],
   "source": [
    "# 15점\n",
    "N = int(input())\n",
    "R = input()\n",
    "\n",
    "first = R[0]\n",
    "count = 1\n",
    "count_list = []\n",
    "for i in range(1, len(R)):\n",
    "    if first != R[i]:\n",
    "        first = R[i]\n",
    "        count_list.append(count)\n",
    "        count = 1\n",
    "        continue\n",
    "    count += 1\n",
    "count_list.append(count)\n",
    "    \n",
    "\n",
    "a = 0\n",
    "b = 0\n",
    "if len(count_list) % 2 == 0:\n",
    "    sum_count = sum(count_list[1:-1])\n",
    "    a = sum(count_list[1:-1:2])\n",
    "    b = sum_count - a\n",
    "    result = min(a, b)\n",
    "else:\n",
    "    sum_count = sum(count_list[:-1])\n",
    "    a = sum(count_list[:-1:2])\n",
    "    b = sum_count - a\n",
    "    result = min(a, b)\n",
    "    \n",
    "print(result)"
   ]
  },
  {
   "cell_type": "markdown",
   "id": "bce702c4",
   "metadata": {},
   "source": [
    "for문을 줄여도 15점이 나오는 것으로 보아 for문을 사용하면 안될 것 같습니다. 다른 사람이 했던 것을 참고하면..."
   ]
  },
  {
   "cell_type": "code",
   "execution_count": 31,
   "id": "49db071f",
   "metadata": {},
   "outputs": [
    {
     "name": "stdout",
     "output_type": "stream",
     "text": [
      "8\n",
      "BBRBBBBR\n",
      "1\n"
     ]
    }
   ],
   "source": [
    "# 100점\n",
    "import sys\n",
    "\n",
    "N = int(sys.stdin.readline().strip())\n",
    "balls = str(sys.stdin.readline().strip())\n",
    "cnt = []\n",
    "\n",
    "# 우측으로 레드 모으기\n",
    "rexplore = balls.rstrip('R')\n",
    "cnt.append(rexplore.count('R'))\n",
    "\n",
    "# 우측으로 블루 모으기\n",
    "rexplore = balls.rstrip('B')\n",
    "cnt.append(rexplore.count('B'))\n",
    "\n",
    "# 좌측으로 레드 모으기\n",
    "lexplore = balls.lstrip('R')\n",
    "cnt.append(lexplore.count('R'))\n",
    "\n",
    "# 좌측으로 블루 모으기\n",
    "lexplore = balls.lstrip('B')\n",
    "cnt.append(lexplore.count('B'))\n",
    "\n",
    "print(min(cnt))"
   ]
  },
  {
   "cell_type": "markdown",
   "id": "2690bc8b",
   "metadata": {},
   "source": [
    "최대한 시간을 단축하기 위해 import sys의 stdin.readline()을 사용했습니다. jupyter notebook에서는 stdin을 지원하지 않아 사용하기 어렵지만, 백준에서는 이를 적극 이용하는 것이 좋을 것 같습니다(특히 시간 단축면에서).\n",
    "\n",
    "만약 오른쪽이던가 왼쪽이던가 R가 있다면 우측 또는 좌측으로 몰 때, 나머지에 있는 R의 개수가 움직이는 개수입니다. 물론 B일 때도 마찬가지입니다. 그래서 4가지 방법을 리스트에 저장해 최솟값을 출력합니다.\n",
    "\n",
    "여기서 strip은 양 쪽의 공백을 없애줍니다. 괄호에 특정 문자열이 들어간다면 양 쪽에 특정 문자열이 있을 때, 그 문자열을 없애줍니다. 비슷하게 rstrip은 오른쪽, lstrip은 왼쪽을 없애줍니다."
   ]
  }
 ],
 "metadata": {
  "kernelspec": {
   "display_name": "Python 3 (ipykernel)",
   "language": "python",
   "name": "python3"
  },
  "language_info": {
   "codemirror_mode": {
    "name": "ipython",
    "version": 3
   },
   "file_extension": ".py",
   "mimetype": "text/x-python",
   "name": "python",
   "nbconvert_exporter": "python",
   "pygments_lexer": "ipython3",
   "version": "3.9.12"
  }
 },
 "nbformat": 4,
 "nbformat_minor": 5
}
