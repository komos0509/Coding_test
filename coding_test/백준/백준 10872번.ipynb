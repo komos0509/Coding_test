{
 "cells": [
  {
   "cell_type": "markdown",
   "id": "28ea8046",
   "metadata": {},
   "source": [
    "### 문제\n",
    "0보다 크거나 같은 정수 N이 주어진다. 이때, N!을 출력하는 프로그램을 작성하시오.\n",
    "\n",
    "### 입력\n",
    "첫째 줄에 정수 N(0 $\\le$ N $\\le$ 12)이 주어진다.\n",
    "\n",
    "### 출력\n",
    "첫째 줄에 N!을 출력한다."
   ]
  },
  {
   "cell_type": "markdown",
   "id": "c9900151",
   "metadata": {},
   "source": [
    "## 생각\n",
    "1. for문으로 1부터 number + 1까지 곱한 수를 출력 만약 number == 0이면 1출력"
   ]
  },
  {
   "cell_type": "code",
   "execution_count": 2,
   "id": "26071c8c",
   "metadata": {},
   "outputs": [
    {
     "name": "stdout",
     "output_type": "stream",
     "text": [
      "10\n",
      "3628800\n"
     ]
    }
   ],
   "source": [
    "# 맞았습니다.\n",
    "N = int(input())\n",
    "\n",
    "result = 1\n",
    "\n",
    "for i in range(1, N+1):\n",
    "    result *= i\n",
    "\n",
    "if N == 0:\n",
    "    print(1)\n",
    "else:\n",
    "    print(result)"
   ]
  }
 ],
 "metadata": {
  "kernelspec": {
   "display_name": "Python 3 (ipykernel)",
   "language": "python",
   "name": "python3"
  },
  "language_info": {
   "codemirror_mode": {
    "name": "ipython",
    "version": 3
   },
   "file_extension": ".py",
   "mimetype": "text/x-python",
   "name": "python",
   "nbconvert_exporter": "python",
   "pygments_lexer": "ipython3",
   "version": "3.9.12"
  }
 },
 "nbformat": 4,
 "nbformat_minor": 5
}
