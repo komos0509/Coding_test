{
 "cells": [
  {
   "cell_type": "markdown",
   "id": "b2f4da10",
   "metadata": {},
   "source": [
    "### 문제\n",
    "0과 1로만 이루어진 행렬 A와 행렬 B가 있다. 이 때, 행렬 A를 행렬 B로 바꾸는데 필요한 연산의 횟수의 최솟값을 구하는 프로그램을 작성하시오.\n",
    "행렬을 변환하는 연산은 어떤 3x3 크기의 부분 행렬에 있는 모든 원소를 뒤집는 것이다. (0 - 1, 1 - 0)\n",
    "\n",
    "### 입력\n",
    "첫째 줄에 행렬의 크기 N M이 주어진다. N과 M은 50보다 작거나 같은 자연수이다. 둘째 줄부터 N개의 줄에는 행렬 A가 주어지고, 그 다음줄부터 N개의 줄에는 행렬 B가 주어진다.\n",
    "\n",
    "### 출력\n",
    "첫째 줄에 문제의 정답을 출력한다. 만약 A를 B로 바꿀 수 없다면 -1을 출력한다."
   ]
  },
  {
   "cell_type": "markdown",
   "id": "d2cbe288",
   "metadata": {},
   "source": [
    "## 생각\n",
    "1. for문 2개로 순회하면서 B와 다르면 그 곳부터 3x3 행렬 뒤집기, 3x3 행렬 기준으로 볼거라 행, 열을 -2 해도 됨"
   ]
  },
  {
   "cell_type": "code",
   "execution_count": 50,
   "id": "fb1cce47",
   "metadata": {},
   "outputs": [
    {
     "name": "stdout",
     "output_type": "stream",
     "text": [
      "1 1\n",
      "1\n",
      "1\n",
      "-1\n"
     ]
    }
   ],
   "source": [
    "# 틀렸습니다 - 반례(1 1/1/1) output : -1, true : 0\n",
    "# 애초에 같게 나오면 0을 출력해야 하므로 3x3이 아니어도 된다.\n",
    "row, col = map(int, input().split(' '))\n",
    "\n",
    "A = [list(input()) for _ in range(row)]\n",
    "B = [list(input()) for _ in range(row)]\n",
    "\n",
    "result = 0\n",
    "\n",
    "while True:\n",
    "    if row < 3 or col < 3:\n",
    "        print(-1)\n",
    "        break\n",
    "        \n",
    "    for i in range(row-2):\n",
    "        for j in range(col-2):\n",
    "            if A[i][j] != B[i][j]:\n",
    "                for ii in range(i,i+3):\n",
    "                    for jj in range(j,j+3):\n",
    "                        if A[ii][jj] == '0':\n",
    "                            A[ii][jj] = '1'\n",
    "                        else:\n",
    "                            A[ii][jj] = '0'\n",
    "                result += 1\n",
    "            else:\n",
    "                continue\n",
    "    if A != B:\n",
    "        print(-1)\n",
    "        break\n",
    "    else:\n",
    "        print(result)\n",
    "        break"
   ]
  },
  {
   "cell_type": "code",
   "execution_count": 49,
   "id": "202e1e5d",
   "metadata": {},
   "outputs": [
    {
     "name": "stdout",
     "output_type": "stream",
     "text": [
      "1 1\n",
      "1\n",
      "1\n",
      "0\n"
     ]
    }
   ],
   "source": [
    "# 맞았습니다.\n",
    "row, col = map(int, input().split(' '))\n",
    "\n",
    "A = [list(input()) for _ in range(row)]\n",
    "B = [list(input()) for _ in range(row)]\n",
    "\n",
    "result = 0\n",
    "\n",
    "while True:\n",
    "    if A == B:\n",
    "        print(result)\n",
    "        break\n",
    "        \n",
    "    if row < 3 or col < 3:\n",
    "        print(-1)\n",
    "        break\n",
    "        \n",
    "    for i in range(row-2):\n",
    "        for j in range(col-2):\n",
    "            if A[i][j] != B[i][j]:\n",
    "                for ii in range(i,i+3):\n",
    "                    for jj in range(j,j+3):\n",
    "                        if A[ii][jj] == '0':\n",
    "                            A[ii][jj] = '1'\n",
    "                        else:\n",
    "                            A[ii][jj] = '0'\n",
    "                result += 1\n",
    "            else:\n",
    "                continue\n",
    "    if A != B:\n",
    "        print(-1)\n",
    "        break\n",
    "    else:\n",
    "        print(result)\n",
    "        break"
   ]
  }
 ],
 "metadata": {
  "kernelspec": {
   "display_name": "Python 3 (ipykernel)",
   "language": "python",
   "name": "python3"
  },
  "language_info": {
   "codemirror_mode": {
    "name": "ipython",
    "version": 3
   },
   "file_extension": ".py",
   "mimetype": "text/x-python",
   "name": "python",
   "nbconvert_exporter": "python",
   "pygments_lexer": "ipython3",
   "version": "3.9.12"
  }
 },
 "nbformat": 4,
 "nbformat_minor": 5
}
