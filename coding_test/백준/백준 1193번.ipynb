{
 "cells": [
  {
   "cell_type": "markdown",
   "id": "153f39ef",
   "metadata": {},
   "source": [
    "### 문제\n",
    "무한히 큰 배열에 다음과 같이 분수들이 적혀있다.\n",
    "\n",
    "![백준 3](https://user-images.githubusercontent.com/60602671/226242303-ed180ef3-36ac-479d-a619-cc27a86b4ced.png)\n",
    "\n",
    "이와 같이 나열된 분수들을 1/1 → 1/2 → 2/1 → 3/1 → 2/2 → … 과 같은 지그재그 순서로 차례대로 1번, 2번, 3번, 4번, 5번, … 분수라고 하자.\n",
    "\n",
    "X가 주어졌을 때, X번째 분수를 구하는 프로그램을 작성하시오.\n",
    "\n",
    "### 입력\n",
    "첫째 줄에 X(1 ≤ X ≤ 10,000,000)가 주어진다.\n",
    "\n",
    "### 출력\n",
    "첫째 줄에 분수를 출력한다."
   ]
  },
  {
   "cell_type": "markdown",
   "id": "f97c29de",
   "metadata": {},
   "source": [
    "## 생각\n",
    "1. N = 1, M = 1, count = N. while 문으로 result = 1. list.append(result), result += count, count += 1 만약 X == list[-1]이면 print"
   ]
  },
  {
   "cell_type": "code",
   "execution_count": 13,
   "id": "c2fd4f3a",
   "metadata": {},
   "outputs": [
    {
     "name": "stdout",
     "output_type": "stream",
     "text": [
      "14\n",
      "4/2\n"
     ]
    }
   ],
   "source": [
    "# 시간초과, 틀렸습니다.\n",
    "# 일단 while문으로 시간초과 발생, 그리고 문제를 제대로 이해하지 못함\n",
    "X = int(input())\n",
    "\n",
    "result_list = []\n",
    "N = 1\n",
    "result = 1\n",
    "count = N\n",
    "\n",
    "while True:\n",
    "    result_list.append(result)\n",
    "    if result_list[-1] == X:\n",
    "        print(str(N) + '/' + str(result_list.index(X) + 1))\n",
    "        break\n",
    "    else:\n",
    "        if result_list[-1] > X:\n",
    "            result = result_list[1] + 1\n",
    "            result_list = []\n",
    "            N += 1\n",
    "            count = N\n",
    "        else:\n",
    "            result += count\n",
    "            count += 1"
   ]
  },
  {
   "cell_type": "markdown",
   "id": "3b76a7cf",
   "metadata": {},
   "source": [
    "문제에서 순서가 지그재그로 이루어져 있어서 다른 방법을 찾아야한다.  \n",
    "대각선을 기준으로 line을 구하고 line이 2의 배수일 때, 아닐때로 구분하여 계산해보자"
   ]
  },
  {
   "cell_type": "code",
   "execution_count": 12,
   "id": "dbec4037",
   "metadata": {},
   "outputs": [
    {
     "name": "stdout",
     "output_type": "stream",
     "text": [
      "14\n",
      "2/4\n"
     ]
    }
   ],
   "source": [
    "# 맞습니다.\n",
    "X = int(input())\n",
    "\n",
    "line = 1\n",
    "\n",
    "while X > line:\n",
    "    X -= line\n",
    "    line += 1\n",
    "if line % 2 == 0:\n",
    "    a = X              # 정방향이므로 X\n",
    "    b = line - X + 1   \n",
    "else:\n",
    "    a = line - X + 1   # 반대방향이므로 line - X + 1\n",
    "    b = X\n",
    "\n",
    "print(a, '/', b, sep='')"
   ]
  }
 ],
 "metadata": {
  "kernelspec": {
   "display_name": "Python 3 (ipykernel)",
   "language": "python",
   "name": "python3"
  },
  "language_info": {
   "codemirror_mode": {
    "name": "ipython",
    "version": 3
   },
   "file_extension": ".py",
   "mimetype": "text/x-python",
   "name": "python",
   "nbconvert_exporter": "python",
   "pygments_lexer": "ipython3",
   "version": "3.9.12"
  }
 },
 "nbformat": 4,
 "nbformat_minor": 5
}
