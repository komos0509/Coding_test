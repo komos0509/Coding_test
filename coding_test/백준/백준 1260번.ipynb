{
 "cells": [
  {
   "cell_type": "markdown",
   "id": "82804b6d",
   "metadata": {},
   "source": [
    "### 문제\n",
    "그래프를 DFS로 탐색한 결과와 BFS로 탐색한 결과를 출력하는 프로그램을 작성하시오. 단, 방문할 수 있는 정점이 여러 개인 경우에는 정점 번호가 작은 것을 먼저 방문하고, 더 이상 방문할 수 있는 점이 없는 경우 종료한다. 정점 번호는 1번부터 N번까지이다.\n",
    "\n",
    "### 입력\n",
    "첫째 줄에 정점의 개수 N(1 ≤ N ≤ 1,000), 간선의 개수 M(1 ≤ M ≤ 10,000), 탐색을 시작할 정점의 번호 V가 주어진다. 다음 M개의 줄에는 간선이 연결하는 두 정점의 번호가 주어진다. 어떤 두 정점 사이에 여러 개의 간선이 있을 수 있다. 입력으로 주어지는 간선은 양방향이다.\n",
    "\n",
    "### 출력\n",
    "첫째 줄에 DFS를 수행한 결과를, 그 다음 줄에는 BFS를 수행한 결과를 출력한다. V부터 방문된 점을 순서대로 출력하면 된다."
   ]
  },
  {
   "cell_type": "markdown",
   "id": "6984a60d",
   "metadata": {},
   "source": [
    "## 생각 \n",
    "1. 공부했던 DFS, BFS 틀을 벗어나지 않게 작성"
   ]
  },
  {
   "cell_type": "code",
   "execution_count": 51,
   "id": "8e08e7c4",
   "metadata": {},
   "outputs": [
    {
     "name": "stdout",
     "output_type": "stream",
     "text": [
      "5 5 3\n",
      "5 4\n",
      "5 2\n",
      "1 2\n",
      "3 4\n",
      "3 1\n",
      "3 1 2 5 4 \n",
      "3 1 4 2 5 "
     ]
    }
   ],
   "source": [
    "# 틀렸습니다.\n",
    "from collections import deque\n",
    "\n",
    "n, m, v = map(int, input().split())\n",
    "graph = []\n",
    "for _ in range(m):\n",
    "    node = list(map(int, input().split()))\n",
    "    graph.append(node)\n",
    "graph.sort()\n",
    "\n",
    "dfs_visited = [False] * (n + 1)\n",
    "bfs_visited = [False] * (n + 1)\n",
    "\n",
    "def dfs(graph, v, dfs_visited):\n",
    "    dfs_visited[v] = True\n",
    "    print(v, end=' ')\n",
    "    for node in graph:\n",
    "        if v == node[0] and dfs_visited[node[1]] is not True:\n",
    "            dfs(graph, node[1], dfs_visited)\n",
    "        elif v == node[1] and dfs_visited[node[0]] is not True:\n",
    "            dfs(graph, node[0], dfs_visited)\n",
    "            \n",
    "def bfs(graph, start, bfs_visited):\n",
    "    queue = deque([start])\n",
    "    bfs_visited[start] = True\n",
    "    \n",
    "    while queue:\n",
    "        v = queue.popleft()\n",
    "        print(v, end=' ')\n",
    "        for node in graph:\n",
    "            if v == node[0] and bfs_visited[node[1]] is not True:\n",
    "                queue.append(node[1])\n",
    "                bfs_visited[node[1]] = True\n",
    "            elif v == node[1] and bfs_visited[node[0]] is not True:\n",
    "                queue.append(node[0])\n",
    "                bfs_visited[node[0]] = True\n",
    "    \n",
    "    \n",
    "    \n",
    "    \n",
    "dfs(graph, v, dfs_visited)\n",
    "print()\n",
    "bfs(graph, v, bfs_visited)"
   ]
  },
  {
   "cell_type": "markdown",
   "id": "79965706",
   "metadata": {},
   "source": [
    "반례는 생각나지 않지만 아무래도 dfs와 bfs 함수에서 for noe in graph: 이후로가 꺼름직하다. 그래서 다른 방법을 찾아봤다."
   ]
  },
  {
   "cell_type": "code",
   "execution_count": 50,
   "id": "f6559d09",
   "metadata": {},
   "outputs": [
    {
     "name": "stdout",
     "output_type": "stream",
     "text": [
      "5 5 3\n",
      "5 4\n",
      "5 2\n",
      "1 2\n",
      "3 4\n",
      "3 1\n",
      "3 1 2 5 4 \n",
      "3 1 4 2 5 "
     ]
    }
   ],
   "source": [
    "# 맞았습니다.\n",
    "from collections import deque\n",
    "\n",
    "n, m, v = map(int, input().split())\n",
    "graph = [[] for _ in range(n+1)]\n",
    "\n",
    "dfs_visited = [False] * (n + 1)\n",
    "bfs_visited = [False] * (n + 1)\n",
    "\n",
    "for _ in range(m):\n",
    "    a, b = map(int, input().split())\n",
    "    graph[a].append(b)\n",
    "    graph[b].append(a)\n",
    "for i in range(1, n+1):\n",
    "    graph[i].sort()\n",
    "\n",
    "def dfs(graph, v, dfs_visited):\n",
    "    dfs_visited[v] = True\n",
    "    print(v, end=' ')\n",
    "    for i in graph[v]:\n",
    "        if not dfs_visited[i]:\n",
    "            dfs(graph, i, dfs_visited)\n",
    "            \n",
    "def bfs(graph, start, bfs_visited):\n",
    "    queue = deque([start])\n",
    "    bfs_visited[start] = True\n",
    "    \n",
    "    while queue:\n",
    "        v = queue.popleft()\n",
    "        print(v, end=' ')\n",
    "        for i in graph[v]:\n",
    "            if not bfs_visited[i]:\n",
    "                queue.append(i)\n",
    "                bfs_visited[i] = True\n",
    "    \n",
    "    \n",
    "dfs(graph, v, dfs_visited)\n",
    "print()\n",
    "bfs(graph, v, bfs_visited)"
   ]
  },
  {
   "cell_type": "markdown",
   "id": "dc31a54c",
   "metadata": {},
   "source": [
    "여기서 키 포인트는 graph에 추가할 node를 받을 때, 그대로 받지 말고 각 노드들이 이동하는 값들만 받게 하는 것이다. 그러기위해 노드 수 + 1 (index는 0부터 시작하므로)개 만큼의 빈 리스트를 만들고 각 입력 노드들의 자리에 움직이는 노드를 추가하는 것이다. 이렇게 하면 graph는 인접 리스트가 아닌 인접 행렬이 되므로 풀어나가기가 더 수월할 것이다."
   ]
  }
 ],
 "metadata": {
  "kernelspec": {
   "display_name": "Python 3 (ipykernel)",
   "language": "python",
   "name": "python3"
  },
  "language_info": {
   "codemirror_mode": {
    "name": "ipython",
    "version": 3
   },
   "file_extension": ".py",
   "mimetype": "text/x-python",
   "name": "python",
   "nbconvert_exporter": "python",
   "pygments_lexer": "ipython3",
   "version": "3.9.12"
  }
 },
 "nbformat": 4,
 "nbformat_minor": 5
}
