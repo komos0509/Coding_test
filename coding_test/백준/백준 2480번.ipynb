{
 "cells": [
  {
   "cell_type": "markdown",
   "id": "d717a2e9",
   "metadata": {},
   "source": [
    "이 문제는 [백준 문제](https://www.acmicpc.net/problem/2480)에서 보실 수 있습니다. \n",
    "\n",
    "## 문제\n",
    "1에서부터 6까지의 눈을 가진 3개의 주사위를 던져서 다음과 같은 규칙에 따라 상금을 받는 게임이 있다. \n",
    "\n",
    "1. 같은 눈이 3개가 나오면 10,000원+(같은 눈)×1,000원의 상금을 받게 된다. \n",
    "2. 같은 눈이 2개만 나오는 경우에는 1,000원+(같은 눈)×100원의 상금을 받게 된다. \n",
    "3. 모두 다른 눈이 나오는 경우에는 (그 중 가장 큰 눈)×100원의 상금을 받게 된다.  \n",
    "\n",
    "예를 들어, 3개의 눈 3, 3, 6이 주어지면 상금은 1,000+3×100으로 계산되어 1,300원을 받게 된다. 또 3개의 눈이 2, 2, 2로 주어지면 10,000+2×1,000 으로 계산되어 12,000원을 받게 된다. 3개의 눈이 6, 2, 5로 주어지면 그중 가장 큰 값이 6이므로 6×100으로 계산되어 600원을 상금으로 받게 된다.\n",
    "\n",
    "3개 주사위의 나온 눈이 주어질 때, 상금을 계산하는 프로그램을 작성 하시오.\n",
    "\n",
    "## 아이디어\n",
    "저는 collections 에서 Counter 모듈을 가져와 원소의 개수를 센 뒤 위 조건을 적용시켰습니다."
   ]
  },
  {
   "cell_type": "code",
   "execution_count": 21,
   "id": "057b76f2",
   "metadata": {},
   "outputs": [
    {
     "name": "stdout",
     "output_type": "stream",
     "text": [
      "3 3 6\n",
      "1300\n"
     ]
    }
   ],
   "source": [
    "from collections import Counter\n",
    "\n",
    "x = list(map(int, input().split()))\n",
    "count = Counter(x)\n",
    "\n",
    "if len(count) == 3:\n",
    "    result = max(x) * 100        # 개수가 3개면 모두 다른 눈이므로 제일 큰 눈을 얻기위해 max(x)를 이용했습니다.\n",
    "elif len(count) == 2:\n",
    "    result = 1000 + (count.most_common(1)[0][0] * 100)    # Counter.most_common(1)을 이용하면 제일 개수가 많은 눈 1개를 가져옵니다.\n",
    "                                                          # 여기서 출력값은 [(number , count)]이므로 뒤 [0][0]을 붙여 눈을 가져옵니다.\n",
    "elif len(count) == 1:\n",
    "    result = 10000 + (x[0] * 1000)      # 개수가 1이면 모두 같은 눈이므로 x의 원소 한개를 가져왔습니다.\n",
    "\n",
    "print(result)"
   ]
  },
  {
   "cell_type": "code",
   "execution_count": null,
   "id": "9b002e07",
   "metadata": {},
   "outputs": [],
   "source": []
  }
 ],
 "metadata": {
  "kernelspec": {
   "display_name": "Python 3 (ipykernel)",
   "language": "python",
   "name": "python3"
  },
  "language_info": {
   "codemirror_mode": {
    "name": "ipython",
    "version": 3
   },
   "file_extension": ".py",
   "mimetype": "text/x-python",
   "name": "python",
   "nbconvert_exporter": "python",
   "pygments_lexer": "ipython3",
   "version": "3.9.12"
  }
 },
 "nbformat": 4,
 "nbformat_minor": 5
}
