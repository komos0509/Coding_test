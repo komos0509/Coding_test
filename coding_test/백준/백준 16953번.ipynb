{
 "cells": [
  {
   "cell_type": "markdown",
   "id": "c9a04b63",
   "metadata": {},
   "source": [
    "### 문제\n",
    "정수 A를 B로 바꾸려고 한다. 가능한 연산은 다음과 같은 두 가지 이다.\n",
    "- 2를 곱한다.\n",
    "- 1을 수의 가장 오른쪽에 추가한다.\n",
    "A를 B로 바꾸는데 필요한 연산의 최솟값을 구해보자.\n",
    "\n",
    "### 입력\n",
    "첫째 줄에 A, B가 주어진다. (1 $\\le$ A $\\lt$ B $\\le$ 10$^9$)\n",
    "\n",
    "### 출력\n",
    "A를 B로 바꾸는데 필요한 연산의 최솟값에 1을 더한 값을 출력한다. 만들 수 없는 경우에는 -1을 출력한다."
   ]
  },
  {
   "cell_type": "markdown",
   "id": "dfce345e",
   "metadata": {},
   "source": [
    "## 생각\n",
    "1. B를 2로 계속 나누다가 맨 뒷 자리가 1이면 1을 삭제, 그 후 남은 숫자가 A이면 연산 횟수 +1 하고, 아니면 -1 출력"
   ]
  },
  {
   "cell_type": "code",
   "execution_count": 1,
   "id": "901cc288",
   "metadata": {},
   "outputs": [
    {
     "name": "stdout",
     "output_type": "stream",
     "text": [
      "5 41\n",
      "2\n"
     ]
    }
   ],
   "source": [
    "# 틀렸습니다. 반례 (5, 41) output : 2, true : -1\n",
    "a, b = map(int, input().split(' '))\n",
    "result = 1\n",
    "\n",
    "while b >= a:\n",
    "    if b % 2 == 0:\n",
    "        b /= 2\n",
    "        result += 1\n",
    "    elif str(b)[-1] == '1':\n",
    "        b = int(str(b)[:len(str(b))-1])\n",
    "        result += 1\n",
    "    else:\n",
    "        result = -1\n",
    "        break\n",
    "\n",
    "print(result)"
   ]
  },
  {
   "cell_type": "markdown",
   "id": "952b47dc",
   "metadata": {},
   "source": [
    "- b == a일 때, 연산을 한 번 더하여 result가 추가로 +1을 하여 b > a로 수정.\n",
    "- b의 맨 뒷자리 1을 삭제한 다음 b < a 일 때 그대로 result가 출력되어서 b < a의 if문 추가"
   ]
  },
  {
   "cell_type": "code",
   "execution_count": 3,
   "id": "080c1487",
   "metadata": {},
   "outputs": [
    {
     "name": "stdout",
     "output_type": "stream",
     "text": [
      "5 6\n",
      "2\n"
     ]
    }
   ],
   "source": [
    "# 틀렸습니다. 반례 (5 6) output : 2, true : -1\n",
    "a, b = map(int, input().split(' '))\n",
    "result = 1\n",
    "\n",
    "while b > a:\n",
    "    if b % 2 == 0:\n",
    "        b /= 2\n",
    "        result += 1\n",
    "    elif str(int(b))[-1] == '1':\n",
    "        b = int(str(int(b))[:len(str(int(b)))-1])\n",
    "        result += 1\n",
    "        if b < a:\n",
    "            result  = -1\n",
    "    else: \n",
    "        result = -1\n",
    "        break\n",
    "\n",
    "print(result)"
   ]
  },
  {
   "cell_type": "markdown",
   "id": "d864275e",
   "metadata": {},
   "source": [
    "- 리스트의 마지막 바로 전 까지를 -1까지라고 할 수 있어서 수정\n",
    "- 2로 나눌 때 b < a 가 될 경우 그대로 result가 출력되어서 b < a 일 때 if문 추가"
   ]
  },
  {
   "cell_type": "code",
   "execution_count": 4,
   "id": "a789300d",
   "metadata": {},
   "outputs": [
    {
     "name": "stdout",
     "output_type": "stream",
     "text": [
      "5 6\n",
      "-1\n"
     ]
    }
   ],
   "source": [
    "# 맞았습니다.\n",
    "a, b = map(int, input().split(' '))\n",
    "result = 1\n",
    "while b > a:\n",
    "    if b % 2 == 0:\n",
    "        b = int(b / 2)\n",
    "        result += 1\n",
    "        if b < a:\n",
    "            result = -1\n",
    "    elif str(b)[-1] == '1':\n",
    "        b = int(str(b)[:-1])\n",
    "        result += 1\n",
    "        if b < a:\n",
    "            result = -1\n",
    "    else:\n",
    "        result = -1\n",
    "        break\n",
    "\n",
    "print(result)"
   ]
  },
  {
   "cell_type": "code",
   "execution_count": null,
   "id": "7aa17447",
   "metadata": {},
   "outputs": [],
   "source": []
  }
 ],
 "metadata": {
  "kernelspec": {
   "display_name": "Python 3 (ipykernel)",
   "language": "python",
   "name": "python3"
  },
  "language_info": {
   "codemirror_mode": {
    "name": "ipython",
    "version": 3
   },
   "file_extension": ".py",
   "mimetype": "text/x-python",
   "name": "python",
   "nbconvert_exporter": "python",
   "pygments_lexer": "ipython3",
   "version": "3.9.12"
  }
 },
 "nbformat": 4,
 "nbformat_minor": 5
}
