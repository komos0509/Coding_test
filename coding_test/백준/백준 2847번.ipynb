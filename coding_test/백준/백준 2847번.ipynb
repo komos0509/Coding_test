{
 "cells": [
  {
   "cell_type": "markdown",
   "id": "dd5426f8",
   "metadata": {},
   "source": [
    "### 문제\n",
    "학교에서 그래픽스 수업을 들은 동준이는 수업시간에 들은 내용을 바탕으로 스마트폰 게임을 만들었다. 게임에는 총 N개의 레벨이 있고, 각 레벨을 클리어할 때 마다 점수가 주어진다. 플레이어의 점수는 레벨을 클리어하면서 얻은 점수의 합으로, 이 점수를 바탕으로 온라인 순위를 매긴다. 동준이는 레벨을 난이도 순으로 배치했다. 하지만, 실수로 쉬운 레벨이 어려운 레벨보다 점수를 많이 받는 경우를 만들었다.\n",
    "\n",
    "이 문제를 해결하기 위해 동준이는 특정 레벨의 점수를 감소시키려고 한다. 이렇게해서 각 레벨을 클리어할 때 주는 점수가 증가하게 ㅁ나들려고 한다.  \n",
    "각 레벨을 클리어할 때 얻는 점수가 주어졌을 때, 몇 번 감소시키면 되는지 구하는 프로글매을 작성하시오. 점수는 항상 양수이어야 하고, 1만큼 감소시키는 것이 1번이다. 항상 답이 존재하는 경우만 주어진다. 정답이 여러 가지인 경우에는 점수를 내리는 것을 최소한으로 하는 방법을 찾아야 한다.\n",
    "\n",
    "### 입력\n",
    "첫째 줄에 레벨의 수 N이 주어진다.(1$\\le$N$\\le$100) 다음 N개 줄에는 각 레벨을 클리어하면 얻는 점수가 첫 번째 레벨부터 마지막 레벨까지 순서대로 주어진다. 점수는 20,000보다 작은 양의 정수이다.\n",
    "\n",
    "### 출력\n",
    "첫째 줄에 점수를 몇 번 감소시키면 되는지 출력한다."
   ]
  },
  {
   "cell_type": "markdown",
   "id": "1dbb4bbc",
   "metadata": {},
   "source": [
    "## 생각\n",
    "1. 점수를 list에 추가해서 최대 원소 저장 후 -1 한 것들을 원소별로 뺀 후 값을 += result 한다."
   ]
  },
  {
   "cell_type": "code",
   "execution_count": 15,
   "id": "5d16a905",
   "metadata": {},
   "outputs": [
    {
     "name": "stdout",
     "output_type": "stream",
     "text": [
      "4\n",
      "6\n",
      "5\n",
      "4\n",
      "8\n",
      "5\n"
     ]
    }
   ],
   "source": [
    "# 틀렸습니다. 반례 (4/ 6 5 4 8) output = 5, true : 6\n",
    "# 다음 원소가 적으면은 굳이 점수를 안바꿔도 되므로 수정\n",
    "level = int(input())\n",
    "\n",
    "score_list = [int(input()) for _ in range(level)]\n",
    "max_score = score_list[-1]\n",
    "result = 0\n",
    "\n",
    "for i in range(2, len(score_list)+1):\n",
    "    max_score -= 1\n",
    "    result += abs(max_score - score_list[-i])\n",
    "    \n",
    "print(result)"
   ]
  },
  {
   "cell_type": "code",
   "execution_count": 16,
   "id": "b74a1ee2",
   "metadata": {},
   "outputs": [
    {
     "name": "stdout",
     "output_type": "stream",
     "text": [
      "4\n",
      "6\n",
      "5\n",
      "4\n",
      "8\n",
      "6\n"
     ]
    }
   ],
   "source": [
    "# 맞았습니다.\n",
    "level = int(input())\n",
    "\n",
    "score_list = [int(input()) for _ in range(level)]\n",
    "max_score = score_list[-1]\n",
    "result = 0\n",
    "\n",
    "for i in range(2, level+1):\n",
    "    if max_score <= score_list[-i]:\n",
    "        max_score -= 1\n",
    "        result += abs(max_score - score_list[-i])\n",
    "        score_list[-i] = max_score \n",
    "    else:\n",
    "        max_score = score_list[-i]\n",
    "    \n",
    "print(result)"
   ]
  },
  {
   "cell_type": "code",
   "execution_count": null,
   "id": "fd7cc3a1",
   "metadata": {},
   "outputs": [],
   "source": []
  }
 ],
 "metadata": {
  "kernelspec": {
   "display_name": "Python 3 (ipykernel)",
   "language": "python",
   "name": "python3"
  },
  "language_info": {
   "codemirror_mode": {
    "name": "ipython",
    "version": 3
   },
   "file_extension": ".py",
   "mimetype": "text/x-python",
   "name": "python",
   "nbconvert_exporter": "python",
   "pygments_lexer": "ipython3",
   "version": "3.9.12"
  }
 },
 "nbformat": 4,
 "nbformat_minor": 5
}
