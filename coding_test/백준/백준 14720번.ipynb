{
 "cells": [
  {
   "cell_type": "markdown",
   "id": "5e9c1058",
   "metadata": {},
   "source": [
    "### 문제\n",
    "영학이는 딸기우유, 초코우유, 바나나우유를 좋아한다.\n",
    "\n",
    "입맛이 매우 까다로운 영학이는 자신만의 우유를 마시는 규칙이 있다.\n",
    "\n",
    "1. 맨 처음에는 딸기우유를 한 팩 마신다.\n",
    "2. 딸기우유를 한 팩 마신 후에는 초코우유를 한 팩 마신다.\n",
    "3. 초코우유를 한 팩 마신 후에는 바나나우유를 한 팩 마신다.\n",
    "4. 바나나우유를 한 팩 마신 후에는 딸기우유를 한 팩 마신다. \n",
    "\n",
    "영학이는 우유 축제가 열리고 있는 우유거리에 왔다. 우유 거리에는 우유 가게들이 일렬로 늘어서 있다.\n",
    "\n",
    "영학이는 우유 거리의 시작부터 끝까지 걸으면서 우유를 사먹고자 한다.\n",
    "\n",
    "각각의 우유 가게는 딸기, 초코, 바나나 중 한 종류의 우유만을 취급한다.\n",
    "\n",
    "각각의 우유 가게 앞에서, 영학이는 우유를 사마시거나, 사마시지 않는다.\n",
    "\n",
    "우유거리에는 사람이 많기 때문에 한 번 지나친 우유 가게에는 다시 갈 수 없다.\n",
    "\n",
    "영학이가 마실 수 있는 우유의 최대 개수를 구하여라.\n",
    "\n",
    "### 입력\n",
    "첫째 줄에 우유 가게의 수 N이 주어진다. (1 ≤ N ≤ 1000)\n",
    "\n",
    "둘째 줄에는 우유 가게 정보가 우유 거리의 시작부터 끝까지 순서대로 N개의 정수로 주어진다.\n",
    "\n",
    "0은 딸기우유만을 파는 가게, 1은 초코우유만을 파는 가게, 2는 바나나우유만을 파는 가게를 뜻하며, 0, 1, 2 외의 정수는 주어지지 않는다.\n",
    "\n",
    "### 출력\n",
    "영학이가 마실 수 있는 우유의 최대 개수를 출력하시오."
   ]
  },
  {
   "cell_type": "markdown",
   "id": "8510a91b",
   "metadata": {},
   "source": [
    "## 생각\n",
    "1. milk_type = 0으로 하고 for문으로 list의 원소를 돌아다니며 원소 == milk_type 이라면 count += 1, milk_type = (milk_type + 1) % 3"
   ]
  },
  {
   "cell_type": "code",
   "execution_count": 6,
   "id": "484165c1",
   "metadata": {},
   "outputs": [
    {
     "name": "stdout",
     "output_type": "stream",
     "text": [
      "7\n",
      "0 1 2 0 1 2 0\n",
      "7\n"
     ]
    }
   ],
   "source": [
    "# 맞았습니다.\n",
    "N = int(input())\n",
    "milk_list = list(map(int, input().split()))\n",
    "\n",
    "milk_type = 0\n",
    "count = 0\n",
    "\n",
    "for milk in milk_list:\n",
    "    if milk == milk_type:\n",
    "        milk_type = (milk_type + 1) % 3\n",
    "        count += 1\n",
    "\n",
    "print(count)"
   ]
  }
 ],
 "metadata": {
  "kernelspec": {
   "display_name": "Python 3 (ipykernel)",
   "language": "python",
   "name": "python3"
  },
  "language_info": {
   "codemirror_mode": {
    "name": "ipython",
    "version": 3
   },
   "file_extension": ".py",
   "mimetype": "text/x-python",
   "name": "python",
   "nbconvert_exporter": "python",
   "pygments_lexer": "ipython3",
   "version": "3.9.12"
  }
 },
 "nbformat": 4,
 "nbformat_minor": 5
}
