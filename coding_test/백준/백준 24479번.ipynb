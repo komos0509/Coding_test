{
 "cells": [
  {
   "cell_type": "markdown",
   "id": "08aee102",
   "metadata": {},
   "source": [
    "### 문제\n",
    "오늘도 서준이는 깊이 우선 탐색(DFS) 수업 조교를 하고 있다. 아빠가 수업한 내용을 학생들이 잘 이해했는지 문제를 통해서 확인해보자.\n",
    "\n",
    "N개의 정점과 M개의 간선으로 구성된 무방향 그래프(undirected graph)가 주어진다. 정점 번호는 1번부터 N번이고 모든 간선의 가중치는 1이다. 정점 R에서 시작하여 깊이 우선 탐색으로 노드를 방문할 경우 노드의 방문 순서를 출력하자.\n",
    "\n",
    "깊이 우선 탐색 의사 코드는 다음과 같다. 인접 정점은 오름차순으로 방문한다.\n",
    "\n",
    "```C\n",
    "dfs(V, E, R) {  # V : 정점 집합, E : 간선 집합, R : 시작 정점\n",
    "    visited[R] <- YES;  # 시작 정점 R을 방문 했다고 표시한다.\n",
    "    for each x ∈ E(R)  # E(R) : 정점 R의 인접 정점 집합.(정점 번호를 오름차순으로 방문한다)\n",
    "        if (visited[x] = NO) then dfs(V, E, x);\n",
    "}\n",
    "```\n",
    "\n",
    "### 입력\n",
    "첫째 줄에 정점의 수 N (5 ≤ N ≤ 100,000), 간선의 수 M (1 ≤ M ≤ 200,000), 시작 정점 R (1 ≤ R ≤ N)이 주어진다.\n",
    "\n",
    "다음 M개 줄에 간선 정보 u v가 주어지며 정점 u와 정점 v의 가중치 1인 양방향 간선을 나타낸다. (1 ≤ u < v ≤ N, u ≠ v) 모든 간선의 (u, v) 쌍의 값은 서로 다르다.\n",
    "\n",
    "### 출력\n",
    "첫째 줄부터 N개의 줄에 정수를 한 개씩 출력한다. i번째 줄에는 정점 i의 방문 순서를 출력한다. 시작 정점의 방문 순서는 1이다. 시작 정점에서 방문할 수 없는 경우 0을 출력한다."
   ]
  },
  {
   "cell_type": "markdown",
   "id": "af865e6b",
   "metadata": {},
   "source": [
    "## 생각\n",
    "1. 기존 DFS 알고리즘에 노드를 지날때마다 이전 visited + 1 한다."
   ]
  },
  {
   "cell_type": "code",
   "execution_count": 9,
   "id": "d49ab620",
   "metadata": {},
   "outputs": [
    {
     "name": "stdout",
     "output_type": "stream",
     "text": [
      "5 5 1\n",
      "1 4\n",
      "1 2\n",
      "2 3\n",
      "2 4\n",
      "3 4\n",
      "1\n",
      "2\n",
      "3\n",
      "4\n",
      "0\n"
     ]
    }
   ],
   "source": [
    "# 틀렸습니다.\n",
    "import sys\n",
    "sys.setrecursionlimit(10**5)\n",
    "\n",
    "def dfs(graph, v, visited):\n",
    "    visited[v] += 1\n",
    "    for i in graph[v]:\n",
    "        if visited[i] == 0:\n",
    "            visited[i] = visited[v]\n",
    "            dfs(graph, i, visited)\n",
    "\n",
    "N, M, R = map(int, input().split())\n",
    "\n",
    "graph = [[] for _ in range(N+1)]\n",
    "visited = [0] * (N+1)\n",
    "\n",
    "for _ in range(M):\n",
    "    a, b = map(int, input().split())\n",
    "    graph[a].append(b)\n",
    "    graph[b].append(a)\n",
    "\n",
    "for i in range(1, N+1):\n",
    "    graph[i].sort()\n",
    "\n",
    "dfs(graph, R, visited)\n",
    "\n",
    "print(*visited[1:], sep='\\n')"
   ]
  },
  {
   "cell_type": "markdown",
   "id": "638917f7",
   "metadata": {},
   "source": [
    "위 코드는 노드 방문 순서가 아닌 몇번째 노드인지를 나타내는 노드입니다. 트리에서 높이에 해당하는 느낌입니다."
   ]
  },
  {
   "cell_type": "code",
   "execution_count": null,
   "id": "0d840b97",
   "metadata": {},
   "outputs": [],
   "source": [
    "# 맞았습니다.\n",
    "import sys\n",
    "sys.setrecursionlimit(10**8)\n",
    "input = sys.stdin.readline\n",
    "def dfs(graph, v, visited):\n",
    "    global count\n",
    "    visited[v] = count\n",
    "    for i in graph[v]:\n",
    "        if visited[i] == 0:\n",
    "            count += 1\n",
    "            dfs(graph, i, visited)\n",
    "\n",
    "N, M, R = map(int, input().split())\n",
    "\n",
    "graph = [[] for _ in range(N+1)]\n",
    "visited = [0] * (N+1)\n",
    "\n",
    "for _ in range(M):\n",
    "    a, b = map(int, input().split())\n",
    "    graph[a].append(b)\n",
    "    graph[b].append(a)\n",
    "\n",
    "for i in range(1, N+1):\n",
    "    graph[i].sort()\n",
    "\n",
    "count = 1\n",
    "dfs(graph, R, visited)\n",
    "\n",
    "print(*visited[1:], sep='\\n')"
   ]
  },
  {
   "cell_type": "markdown",
   "id": "392cf5ad",
   "metadata": {},
   "source": [
    "그래서 노드를 지날 때마다 += 1 하는 count를 넣어 방문 순서를 계산했습니다."
   ]
  }
 ],
 "metadata": {
  "kernelspec": {
   "display_name": "Python 3 (ipykernel)",
   "language": "python",
   "name": "python3"
  },
  "language_info": {
   "codemirror_mode": {
    "name": "ipython",
    "version": 3
   },
   "file_extension": ".py",
   "mimetype": "text/x-python",
   "name": "python",
   "nbconvert_exporter": "python",
   "pygments_lexer": "ipython3",
   "version": "3.9.12"
  }
 },
 "nbformat": 4,
 "nbformat_minor": 5
}
