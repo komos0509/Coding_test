{
 "cells": [
  {
   "cell_type": "markdown",
   "id": "ce2c52a4",
   "metadata": {},
   "source": [
    "### 문제\n",
    "욱제는 KOI를 망친 기념으로 부모님과 함께 코드게이트 섬으로 여행을 떠났다. 코드게이트 섬에는 오징어로 유명한 준오마을(심술쟁이 해커 임준오 아님), 밥으로 유명한 재훈마을, 영중마을 등 많은 관광지들이 있다. 욱제는 부모님을 모시고 코드게이트 섬을 관광하려고 한다.\n",
    "\n",
    "코드게이트 섬은 해안가를 따라 원형으로 마을들이 위치해있다. 임의의 A마을에서 임의의 B마을로 가기 위해서는 왼쪽 또는 오른쪽 도로를 통해 해안가를 따라 섬을 돌아야 한다. 섬을 빙빙 도는 원형의 길 외에 다른 길은 존재하지 않는다.\n",
    "\n",
    "![백준 5](https://user-images.githubusercontent.com/60602671/227400223-d39b99dd-fa08-4c3a-9852-2bcba4126239.png)\n",
    "\n",
    "각 마을에서 마을까지의 이동비용이 주어질 때, 욱제가 최소한의 이동비용으로 부모님을 모시고 섬의 모든 마을을 관광하려면 얼마의 이동비용을 준비해야하는지 알려주자.\n",
    "\n",
    "### 입력\n",
    "첫째 줄에 마을의 수 n이 주어진다. (1 ≤ n ≤ 50,000)\n",
    "\n",
    "둘째 줄에 i번째 마을과 i+1번째 마을의 이동비용 vi가 n개 주어진다. n번째 vi는 n번째 마을과 1번째 마을의 이동비용을 의미한다. (1 ≤ vi ≤ 1,000)\n",
    "\n",
    "### 출력\n",
    "모든 마을을 관광하기 위해 필요한 최소 이동비용을 출력한다."
   ]
  },
  {
   "cell_type": "markdown",
   "id": "e116a9f8",
   "metadata": {},
   "source": [
    "## 생각\n",
    "1. list를 sort reverse=True 하고 list[1:]를 sum한다."
   ]
  },
  {
   "cell_type": "code",
   "execution_count": 1,
   "id": "36614b24",
   "metadata": {},
   "outputs": [
    {
     "name": "stdout",
     "output_type": "stream",
     "text": [
      "5\n",
      "1 6 5 2 4\n",
      "12\n"
     ]
    }
   ],
   "source": [
    "# 맞았습니다.\n",
    "n = int(input())\n",
    "cost_list = list(map(int, input().split()))\n",
    "\n",
    "cost_list.sort(reverse=True)\n",
    "result = sum(cost_list[1:])\n",
    "\n",
    "print(result)"
   ]
  }
 ],
 "metadata": {
  "kernelspec": {
   "display_name": "Python 3 (ipykernel)",
   "language": "python",
   "name": "python3"
  },
  "language_info": {
   "codemirror_mode": {
    "name": "ipython",
    "version": 3
   },
   "file_extension": ".py",
   "mimetype": "text/x-python",
   "name": "python",
   "nbconvert_exporter": "python",
   "pygments_lexer": "ipython3",
   "version": "3.9.12"
  }
 },
 "nbformat": 4,
 "nbformat_minor": 5
}
