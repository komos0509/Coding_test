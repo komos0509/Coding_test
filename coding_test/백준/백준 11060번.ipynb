{
 "cells": [
  {
   "cell_type": "markdown",
   "id": "689ac577",
   "metadata": {},
   "source": [
    "### 문제\n",
    "재환이가 1×N 크기의 미로에 갇혀있다. 미로는 1×1 크기의 칸으로 이루어져 있고, 각 칸에는 정수가 하나 쓰여 있다. i번째 칸에 쓰여 있는 수를 Ai라고 했을 때, 재환이는 Ai이하만큼 오른쪽으로 떨어진 칸으로 한 번에 점프할 수 있다. 예를 들어, 3번째 칸에 쓰여 있는 수가 3이면, 재환이는 4, 5, 6번 칸 중 하나로 점프할 수 있다.\n",
    "\n",
    "재환이는 지금 미로의 가장 왼쪽 끝에 있고, 가장 오른쪽 끝으로 가려고 한다. 이때, 최소 몇 번 점프를 해야 갈 수 있는지 구하는 프로그램을 작성하시오. 만약, 가장 오른쪽 끝으로 갈 수 없는 경우에는 -1을 출력한다.\n",
    "\n",
    "### 입력\n",
    "첫째 줄에 N(1 ≤ N ≤ 1,000)이 주어진다. 둘째 줄에는 Ai (0 ≤ Ai ≤ 100)가 주어진다.\n",
    "\n",
    "### 출력\n",
    "재환이가 최소 몇 번 점프를 해야 가장 오른쪽 끝 칸으로 갈 수 있는지 출력한다. 만약, 가장 오른쪽 끝으로 갈 수 없는 경우에는 -1을 출력한다."
   ]
  },
  {
   "cell_type": "markdown",
   "id": "6dbaf6e9",
   "metadata": {},
   "source": [
    "## 생각\n",
    "1. BFS 알고리즘을 사용하여 for문으로 visited 리스트에 이전 인덱스 + 1을 한다."
   ]
  },
  {
   "cell_type": "code",
   "execution_count": 22,
   "id": "e7945c41",
   "metadata": {},
   "outputs": [
    {
     "name": "stdout",
     "output_type": "stream",
     "text": [
      "10\n",
      "1 2 0 1 3 2 1 5 4 2\n",
      "5\n"
     ]
    }
   ],
   "source": [
    "# 맞았습니다.\n",
    "from collections import deque\n",
    "\n",
    "def bfs(graph, start, visited):\n",
    "    queue = deque()\n",
    "    queue.append(graph[start])\n",
    "    visited[start] = 1\n",
    "    start = -1\n",
    "    while queue:\n",
    "        v = queue.popleft()\n",
    "        start += 1\n",
    "        for i in range(1, v+1):\n",
    "            if len(visited) != start + i:\n",
    "                if visited[start+i] == 0:\n",
    "                    visited[start+i] = visited[start] + 1\n",
    "                    queue.append(graph[start+i])\n",
    "                    \n",
    "            else:\n",
    "                break\n",
    "\n",
    "\n",
    "N = int(input())\n",
    "\n",
    "graph = list(map(int, input().split()))\n",
    "visited = [0] * N\n",
    "\n",
    "bfs(graph, 0, visited)\n",
    "\n",
    "print(visited[-1]-1 if visited[-1] != 0 else -1)"
   ]
  }
 ],
 "metadata": {
  "kernelspec": {
   "display_name": "Python 3 (ipykernel)",
   "language": "python",
   "name": "python3"
  },
  "language_info": {
   "codemirror_mode": {
    "name": "ipython",
    "version": 3
   },
   "file_extension": ".py",
   "mimetype": "text/x-python",
   "name": "python",
   "nbconvert_exporter": "python",
   "pygments_lexer": "ipython3",
   "version": "3.9.12"
  }
 },
 "nbformat": 4,
 "nbformat_minor": 5
}
