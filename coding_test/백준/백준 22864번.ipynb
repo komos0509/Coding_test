{
 "cells": [
  {
   "cell_type": "markdown",
   "id": "90195b13",
   "metadata": {},
   "source": [
    "### 문제\n",
    "하루에 한 시간 단위로 일을 하거나 일을 쉬어도 된다. 하루에 한 시간 일하면 피로도는 \n",
    "$A$ 만큼 쌓이고 일은 \n",
    "$B$ 만큼 처리할 수 있다.\n",
    "\n",
    "만약에 한 시간을 쉰다면 피로도는 \n",
    "$C$ 만큼 줄어든다. 단, 피로도가 음수로 내려가면 0으로 바뀐다. 당연히 일을 하지 않고 쉬었기 때문에 처리한 일은 없다.\n",
    "\n",
    "피로도를 최대한 \n",
    "$M$ 을 넘지 않게 일을 하려고 한다. \n",
    "$M$ 를 넘기면 일하는데 번아웃이 와서 이미 했던 일들도 다 던져버리고 일을 그만두게 된다.\n",
    "\n",
    "번아웃이 되지 않도록 일을 할때 하루에 최대 얼마나 일을 할 수 있는지 구해보자. 하루는 24시간이다.\n",
    "\n",
    "### 입력\n",
    "첫 번째 줄에 네 정수 \n",
    "$A$, \n",
    "$B$, \n",
    "$C$, \n",
    "$M$이 공백으로 구분되어 주어진다.\n",
    "\n",
    "맨 처음 피로도는 0이다.\n",
    "\n",
    "### 출력\n",
    "하루에 번 아웃이 되지 않도록 일을 할 때 최대 얼마나 많은 일을 할 수 있는지 출력한다.\n",
    "\n",
    "### 제한\n",
    " \n",
    "- $1 \\le A \\le 1,000,000$   \n",
    "- $1 \\le B \\le 10,000$  \n",
    "- $1 \\le C \\le 10,000$  \n",
    "- $1 \\le M \\le 1,000,000$   "
   ]
  },
  {
   "cell_type": "markdown",
   "id": "4b0062b0",
   "metadata": {},
   "source": [
    "## 생각\n",
    "1. while문으로 A+ 한게 M보다 낮거나 같으면 A+=, B+=. M보다 높으면 C -=. hour == 24이면 break"
   ]
  },
  {
   "cell_type": "code",
   "execution_count": 10,
   "id": "4a2e73c6",
   "metadata": {},
   "outputs": [
    {
     "name": "stdout",
     "output_type": "stream",
     "text": [
      "11 5 1 10\n",
      "0\n"
     ]
    }
   ],
   "source": [
    "# 맞았습니다.\n",
    "A, B, C, M = map(int, input().split())\n",
    "\n",
    "hour = 0\n",
    "result = 0\n",
    "tired = 0\n",
    "while True:\n",
    "    # 24시간이 되면 종료\n",
    "    if hour == 24:\n",
    "        break\n",
    "    # 현재에서 1시간 일을 했을 때, 피로도가 넘지 않는다면\n",
    "    if tired + A <= M:\n",
    "        # 결과 += 일\n",
    "        result += B\n",
    "        # 피로도 += 피로도\n",
    "        tired += A\n",
    "    # 1시간 일을 했을 때, 피로도가 넘는 다면\n",
    "    else:\n",
    "        # 피로도 -= 피로도\n",
    "        tired -= C\n",
    "        # 만약 피로도가 음수이면 0으로 수정\n",
    "        if tired < 0:\n",
    "            tired = 0\n",
    "    hour += 1\n",
    "\n",
    "print(result)"
   ]
  }
 ],
 "metadata": {
  "kernelspec": {
   "display_name": "Python 3 (ipykernel)",
   "language": "python",
   "name": "python3"
  },
  "language_info": {
   "codemirror_mode": {
    "name": "ipython",
    "version": 3
   },
   "file_extension": ".py",
   "mimetype": "text/x-python",
   "name": "python",
   "nbconvert_exporter": "python",
   "pygments_lexer": "ipython3",
   "version": "3.9.12"
  }
 },
 "nbformat": 4,
 "nbformat_minor": 5
}
