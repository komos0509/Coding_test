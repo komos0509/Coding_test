{
 "cells": [
  {
   "cell_type": "markdown",
   "id": "d4e047f3",
   "metadata": {},
   "source": [
    "### 문제\n",
    "홍준이는 요즘 주식에 빠져있다. 그는 미래를 내다보는 눈이 뛰어나, 날 별로 주가를 예상하고 언제나 그게 맞아 떨어진다. 매일 그는 아래 세 가지 중 한 행동을 한다.\n",
    "1. 주식 하나를 산다.\n",
    "2. 원하는 만큼 가지고 있는 주식을 판다.\n",
    "3. 아무것도 안한다.\n",
    "\n",
    "홍준이는 미래를 예상하는 띄어난 안목을 가졌지만, 어떻게 해야 자신이 최대 이익을 얻을 수 있는지 모른다. 따라서 당신에게 날 별롤 주식의 가격을 알려주었을 때, 최대 이익이 얼마나 되는지 계산을 해달라고 부탁했다. \n",
    "\n",
    "예를 들어 날 수가 3일이고 날 별로 주가가 10, 7, 6일 때, 주가가 계속 감소하므로 최대 이익은 0이 된다. 그러나 만약 날 별로 주가가 3, 5, 9일 때는 처음 두 날에 주식을 하나씩 사고, 마지막날 다 팔아 버리면 이익이 10이 된다.\n",
    "\n",
    "### 입력\n",
    "입력의 첫 줄에는 테스트케이스 수를 나타내는 자연수 T가 주어진다. 각 테스트케이스 별로 첫 줄에는 날의 수를 나타내는 자연수 N(2 $\\le$ N $\\le$ 1,000,000)이 주어지고, 둘째 줄에는 날 별로 주가를 나타내는 N개의 자연수들이 고앱ㄱ으로 구분되어 순서대로 주어진다. 날 별 주가는 10,000이하다.\n",
    "\n",
    "### 출력\n",
    "각 테스트케이스 별로 최대 이익을 나타내는 정수 하나를 출력한다. 답은 부호있는 64bit 정수형으로 표현 가능하다."
   ]
  },
  {
   "cell_type": "markdown",
   "id": "2accf4c8",
   "metadata": {},
   "source": [
    "## 생각\n",
    "1. list의 0부터 끝까지의 max를 구하고 list를 돌아다니며 max보다 작으면 max-원소값을 result += 한다. max이면 그 다음 index부터 끝까지의 max를 또 구한 뒤 위 연산을 반복"
   ]
  },
  {
   "cell_type": "code",
   "execution_count": 9,
   "id": "e6f38385",
   "metadata": {},
   "outputs": [
    {
     "name": "stdout",
     "output_type": "stream",
     "text": [
      "3\n",
      "3\n",
      "10 7 6\n",
      "3\n",
      "3 5 9\n",
      "5\n",
      "1 1 3 1 2\n",
      "0\n",
      "10\n",
      "5\n"
     ]
    }
   ],
   "source": [
    "# 시간초과\n",
    "# while문과 for문을 이용하여서 시간초과가 나는거 같다.\n",
    "T = int(input())\n",
    "\n",
    "result_list = []\n",
    "\n",
    "for _ in range(T):\n",
    "    N = int(input())\n",
    "    price_list = list(map(int, input().split()))\n",
    "    \n",
    "    start_num = 0\n",
    "    result = 0\n",
    "    \n",
    "    while True:\n",
    "        if start_num == N:\n",
    "            break\n",
    "        max_price = max(price_list[start_num:N])\n",
    "        for i in range(start_num, N):\n",
    "            if price_list[i] == max_price:\n",
    "                start_num = i+1\n",
    "                break\n",
    "            else:\n",
    "                result += max_price - price_list[i]\n",
    "                \n",
    "    result_list.append(result)\n",
    "\n",
    "for result in result_list:\n",
    "    print(result)"
   ]
  },
  {
   "cell_type": "markdown",
   "id": "8ac7bad6",
   "metadata": {},
   "source": [
    "## 생각\n",
    "2. while문을 사용하지 않고 max_price가 나왔을 때 바로 변경하기"
   ]
  },
  {
   "cell_type": "code",
   "execution_count": 7,
   "id": "525eed94",
   "metadata": {},
   "outputs": [
    {
     "name": "stdout",
     "output_type": "stream",
     "text": [
      "3\n",
      "3\n",
      "10 7 6\n",
      "3\n",
      "3 5 9\n",
      "5\n",
      "1 1 3 1 2\n",
      "0\n",
      "10\n",
      "5\n"
     ]
    }
   ],
   "source": [
    "# 시간초과\n",
    "# max_price를 계속 list 범위로 변경하니까 시간초과가 발생하는 것 같다.\n",
    "T = int(input())\n",
    "\n",
    "result_list = []\n",
    "\n",
    "for _ in range(T):\n",
    "    N = int(input())\n",
    "    price_list = list(map(int, input().split()))\n",
    "    \n",
    "    start_num = 0\n",
    "    result = 0\n",
    "    \n",
    "    max_price = max(price_list)\n",
    "    for i in range(N):\n",
    "        if price_list[i] == max_price and i < N-1:\n",
    "                max_price = max(price_list[i+1:N])\n",
    "        else:\n",
    "            result += max_price - price_list[i]\n",
    "            \n",
    "    result_list.append(result)\n",
    "\n",
    "for result in result_list:\n",
    "    print(result)"
   ]
  },
  {
   "cell_type": "markdown",
   "id": "fed56939",
   "metadata": {},
   "source": [
    "## 생각\n",
    "3. max_price를 0으로 잡고 list를 뒤부터 보면서 max보다 작으면 result +=, 크면 그 원소를 max로 잡음"
   ]
  },
  {
   "cell_type": "code",
   "execution_count": 8,
   "id": "9b0efe04",
   "metadata": {},
   "outputs": [
    {
     "name": "stdout",
     "output_type": "stream",
     "text": [
      "3\n",
      "3\n",
      "10 7 6\n",
      "3\n",
      "3 5 9\n",
      "5\n",
      "1 1 3 1 2\n",
      "0\n",
      "10\n",
      "5\n"
     ]
    }
   ],
   "source": [
    "# 맞았습니다.\n",
    "T = int(input())\n",
    "\n",
    "result_list = []\n",
    "\n",
    "for _ in range(T):\n",
    "    N = int(input())\n",
    "    price_list = list(map(int, input().split()))\n",
    "    \n",
    "    start_num = 0\n",
    "    result = 0\n",
    "    \n",
    "    max_price = 0\n",
    "    for i in range(N-1, -1, -1):\n",
    "        if max_price <= price_list[i]:\n",
    "            max_price = price_list[i]\n",
    "        else:\n",
    "            result += max_price - price_list[i]\n",
    "            \n",
    "    result_list.append(result)\n",
    "\n",
    "for result in result_list:\n",
    "    print(result)"
   ]
  }
 ],
 "metadata": {
  "kernelspec": {
   "display_name": "Python 3 (ipykernel)",
   "language": "python",
   "name": "python3"
  },
  "language_info": {
   "codemirror_mode": {
    "name": "ipython",
    "version": 3
   },
   "file_extension": ".py",
   "mimetype": "text/x-python",
   "name": "python",
   "nbconvert_exporter": "python",
   "pygments_lexer": "ipython3",
   "version": "3.9.12"
  }
 },
 "nbformat": 4,
 "nbformat_minor": 5
}
