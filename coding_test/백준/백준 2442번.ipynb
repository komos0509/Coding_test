{
 "cells": [
  {
   "cell_type": "markdown",
   "id": "5113623a",
   "metadata": {},
   "source": [
    "### 문제\n",
    "첫째 줄에는 별 1개, 둘째 줄에는 별 3개, ..., N번째 줄에는 별 2×N-1개를 찍는 문제\n",
    "\n",
    "별은 가운데를 기준으로 대칭이어야 한다.\n",
    "\n",
    "### 입력\n",
    "첫째 줄에 N(1 ≤ N ≤ 100)이 주어진다.\n",
    "\n",
    "### 출력\n",
    "첫째 줄부터 N번째 줄까지 차례대로 별을 출력한다."
   ]
  },
  {
   "cell_type": "markdown",
   "id": "e022f4bf",
   "metadata": {},
   "source": [
    "## 생각\n",
    "1. 별의 개수가 홀수개이므로 최종 크기를 구한 뒤, 좌, 우로 공백 그리고 중간에 별을 출력한다."
   ]
  },
  {
   "cell_type": "code",
   "execution_count": 18,
   "id": "71360d5e",
   "metadata": {},
   "outputs": [
    {
     "name": "stdout",
     "output_type": "stream",
     "text": [
      "5\n",
      "    *\n",
      "   ***\n",
      "  *****\n",
      " *******\n",
      "*********\n"
     ]
    }
   ],
   "source": [
    "# 출력 형식이 잘못되었습니다.\n",
    "N = int(input())\n",
    "\n",
    "count = 2 * N - 1\n",
    "for i in range(1, N+1):\n",
    "    star = 2 * i - 1\n",
    "    side = (count - star) // 2\n",
    "    print(' ' * side + '*' * star + ' ' * side)"
   ]
  },
  {
   "cell_type": "markdown",
   "id": "829d4ec6",
   "metadata": {},
   "source": [
    "모양은 맞지만 출력 형식이 잘못되었다고 출력된다. 이유는 출력 형식이 오른쪽의 공백은 없어야 한다."
   ]
  },
  {
   "cell_type": "code",
   "execution_count": 19,
   "id": "5e27b395",
   "metadata": {},
   "outputs": [
    {
     "name": "stdout",
     "output_type": "stream",
     "text": [
      "5\n",
      "    *\n",
      "   ***\n",
      "  *****\n",
      " *******\n",
      "*********\n"
     ]
    }
   ],
   "source": [
    "# 맞았습니다.\n",
    "N = int(input())\n",
    "\n",
    "count = 2 * N - 1\n",
    "for i in range(1, N+1):\n",
    "    star = 2 * i - 1\n",
    "    side = (count - star) // 2\n",
    "    print(' ' * side + '*' * star)"
   ]
  },
  {
   "cell_type": "markdown",
   "id": "0e82f8b3",
   "metadata": {},
   "source": [
    "더 나은 방법으로는 center 함수를 이용하여 가운데 정렬을 하고, rstrip으로 오른쪽 공백을 없애주는 방법도 있다."
   ]
  },
  {
   "cell_type": "code",
   "execution_count": 17,
   "id": "7cb603cf",
   "metadata": {},
   "outputs": [
    {
     "name": "stdout",
     "output_type": "stream",
     "text": [
      "5\n",
      "    *\n",
      "   ***\n",
      "  *****\n",
      " *******\n",
      "*********\n"
     ]
    }
   ],
   "source": [
    "N = int(input())\n",
    "\n",
    "count = 2 * N - 1\n",
    "for i in range(1, N+1):\n",
    "    print(('*' * (2 * i - 1)).center(2 * N - 1).rstrip())"
   ]
  }
 ],
 "metadata": {
  "kernelspec": {
   "display_name": "Python 3 (ipykernel)",
   "language": "python",
   "name": "python3"
  },
  "language_info": {
   "codemirror_mode": {
    "name": "ipython",
    "version": 3
   },
   "file_extension": ".py",
   "mimetype": "text/x-python",
   "name": "python",
   "nbconvert_exporter": "python",
   "pygments_lexer": "ipython3",
   "version": "3.9.12"
  }
 },
 "nbformat": 4,
 "nbformat_minor": 5
}
