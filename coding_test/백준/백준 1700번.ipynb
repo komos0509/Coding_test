{
 "cells": [
  {
   "cell_type": "markdown",
   "id": "603aa49f",
   "metadata": {},
   "source": [
    "### 문제\n",
    "기숙사에서 살고 있는 준규는 한 개의 멀티탭을 이용하고 있다. 준규는 키보드, 헤어드라이기, 핸드폰 충전기, 디지털 카메라 충전기 등 여러 개의 전기용품을 사용하면서 어쩔 수 없이 각종 전기용품의 플러그를 뺐다 꽂았다 하는 불편함을 겪고 있다. 그래서 준규는 자신의 생활 패턴을 분석하여, 자기가 사용하고 있는 전기용품의 사용순서를 알아내었고, 이를 기반으로 플러그를 빼는 횟수를 최소화하는 방법을 고안하여 보다 쾌적한 생활환경을 만들려고 한다.\n",
    "\n",
    "예를 들어 3 구(구멍이 세 개 달린) 멀티탭을 쓸 때, 전기용품의 사용 순서가 아래와 같이 주어진다면,\n",
    "\n",
    "1. 키보드\n",
    "2. 헤어드라이기\n",
    "3. 핸드폰 충전기\n",
    "4. 디지털 카메라 충전기\n",
    "5. 키보드\n",
    "6. 헤어드라이기\n",
    "\n",
    "키보드, 헤어드라이기, 핸드폰 충전기의 플러그를 순서대로 멀티탭에 꽂은 다음 디지털 카메라 충전기 플러그를 꽂기 전에 핸드폰충전기 플러그를 빼는 것이 최적일 것이므로 플러그는 한 번만 빼면 된다.\n",
    "\n",
    "### 입력\n",
    "첫 줄에는 멀티탭 구멍의 개수 N (1 ≤ N ≤ 100)과 전기 용품의 총 사용횟수 K (1 ≤ K ≤ 100)가 정수로 주어진다. 두 번째 줄에는 전기용품의 이름이 K 이하의 자연수로 사용 순서대로 주어진다. 각 줄의 모든 정수 사이는 공백문자로 구분되어 있다.\n",
    "\n",
    "### 출력\n",
    "하나씩 플러그를 빼는 최소의 횟수를 출력하시오."
   ]
  },
  {
   "cell_type": "markdown",
   "id": "d3a14988",
   "metadata": {},
   "source": [
    "## 생각\n",
    "1. collections의 Counter를 이용하여 전기용품들의 빈도수를 측정한 뒤, 리스트에 넣거나 뺄때 빈도 -= 1을 하고 뒤에 나오는 빈도수가 낮은 것 부터 교체한다."
   ]
  },
  {
   "cell_type": "code",
   "execution_count": 20,
   "id": "3de14eb9",
   "metadata": {},
   "outputs": [
    {
     "name": "stdout",
     "output_type": "stream",
     "text": [
      "2 9\n",
      "1 2 3 1 2 3 1 2 3\n",
      "5\n"
     ]
    }
   ],
   "source": [
    "# 틀렸습니다.\n",
    "from collections import Counter\n",
    "\n",
    "N, K = map(int, input().split())\n",
    "sequence = list(map(int, input().split()))\n",
    "count_sequence = Counter(sequence)\n",
    "\n",
    "multitab = []\n",
    "cnt = 0\n",
    "for i in range(K):\n",
    "    if len(multitab) < N:\n",
    "        multitab.append(sequence[i])\n",
    "        count_sequence[sequence[i]] -= 1\n",
    "    elif sequence[i] in multitab:\n",
    "        count_sequence[sequence[i]] -= 1\n",
    "    else:\n",
    "        min_count = min(multitab, key=lambda x: count_sequence[x])\n",
    "        multitab[multitab.index(min_count)] = sequence[i]\n",
    "        count_sequence[sequence[i]] -= 1\n",
    "        cnt += 1\n",
    "        \n",
    "print(cnt)"
   ]
  },
  {
   "cell_type": "markdown",
   "id": "45af551a",
   "metadata": {},
   "source": [
    "위 처럼 될 때, 답은 4이지만 5가 출력된다. 이유는 1 2에서 3이 들어올 때, 2가 빠져나가야 하지만 1이 빠져나간다. 왜냐하면 1과 2의 빈도수가 같으므로 min을 했을 때, 값이 적은 1이 빠져나간다.\n",
    "\n",
    "그래서 다른 방법으로 콘센트 구멍 수 대로 통으로 움직여 다른 것이 있으면 += 1하는 형식으로 계산해보았다."
   ]
  },
  {
   "cell_type": "code",
   "execution_count": 30,
   "id": "e053cfbb",
   "metadata": {},
   "outputs": [
    {
     "name": "stdout",
     "output_type": "stream",
     "text": [
      "2 8\n",
      "1 2 3 4 3 4 2 2\n",
      "4\n"
     ]
    }
   ],
   "source": [
    "# 틀렸습니다.\n",
    "N, K = map(int, input().split())\n",
    "sequence = list(map(int, input().split()))\n",
    "\n",
    "cnt = 0\n",
    "start = N\n",
    "multitab = sequence[:N]\n",
    "for _ in range(1, K // N):\n",
    "    diff = 0\n",
    "    same = 0\n",
    "    new_multitab = []\n",
    "    for i in range(N):\n",
    "        new_multitab.append(sequence[start+i])\n",
    "        if sequence[start+i] in multitab:\n",
    "            same += 1\n",
    "        else:\n",
    "            diff += 1\n",
    "    start += N\n",
    "    if diff == N:\n",
    "        cnt += N\n",
    "        multitab = new_multitab\n",
    "    elif diff > 0:\n",
    "        cnt += diff\n",
    "        multitab = new_multitab\n",
    "\n",
    "for i in range(K % N):\n",
    "    if sequence[start+i] not in multitab:\n",
    "        cnt += 1\n",
    "\n",
    "print(cnt)"
   ]
  },
  {
   "cell_type": "markdown",
   "id": "eabae13d",
   "metadata": {},
   "source": [
    "위 처럼 되었을 때, 3이 나와야하지만 4가 나온다. 그 이유는 2 2를 한꺼번에 계산했기 때문에 + 2가 된다. \n",
    "\n",
    "도무지 다른 방법들이 생각이 나지 않아 구글링을 해보았다."
   ]
  },
  {
   "cell_type": "code",
   "execution_count": null,
   "id": "cd944657",
   "metadata": {},
   "outputs": [],
   "source": [
    "# 맞았습니다.\n",
    "import sys\n",
    "input = sys.stdin.readline\n",
    "N, K = map(int, input().split())\n",
    "sequence = list(map(int, input().split()))\n",
    "\n",
    "multitab = []\n",
    "cnt = 0\n",
    "for i in range(K):\n",
    "    # 멀티탭 리스트에 있는 원소라면\n",
    "    if sequence[i] in multitab:\n",
    "        continue\n",
    "    # 멀티탭에 구멍이 남아있다면\n",
    "    if len(multitab) != N:\n",
    "        multitab.append(sequence[i])\n",
    "        continue\n",
    "    far = 0\n",
    "    out = 0\n",
    "    # 멀티탭 원소들 중\n",
    "    for tab in multitab:\n",
    "        # 후에 다시 안나타나면\n",
    "        if tab not in sequence[i:]:\n",
    "            out = tab\n",
    "            break\n",
    "        # 다 나타났을 때,\n",
    "        else:\n",
    "            # 가장 먼 원소를 선택\n",
    "            if sequence[i:].index(tab) > far:\n",
    "                far = sequence[i:].index(tab)\n",
    "                out = tab\n",
    "    # 선택된 원소 교체\n",
    "    multitab[multitab.index(out)] = sequence[i]\n",
    "    cnt += 1\n",
    "    \n",
    "print(cnt)"
   ]
  },
  {
   "cell_type": "markdown",
   "id": "782d9f81",
   "metadata": {},
   "source": [
    "리스트를 돌아다니며 멀티탭 리스트에 구멍이 있거나, 원소가 멀티탭 리스트에 있다면 continue, 구멍이 다찼고, 멀티탭 리스트에 없는 원소라면 멀티탭에 있는 원소들을 돌아다니며 후에 다시 나타나는지 확인한다. 안나타나면 그 원소를 바꾸고 cnt += 1, 다 나타나면 제일 멀리 있는 원소를 바꾸고 cnt += 1 한다."
   ]
  }
 ],
 "metadata": {
  "kernelspec": {
   "display_name": "Python 3 (ipykernel)",
   "language": "python",
   "name": "python3"
  },
  "language_info": {
   "codemirror_mode": {
    "name": "ipython",
    "version": 3
   },
   "file_extension": ".py",
   "mimetype": "text/x-python",
   "name": "python",
   "nbconvert_exporter": "python",
   "pygments_lexer": "ipython3",
   "version": "3.9.12"
  }
 },
 "nbformat": 4,
 "nbformat_minor": 5
}
