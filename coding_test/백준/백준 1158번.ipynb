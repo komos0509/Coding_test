{
 "cells": [
  {
   "cell_type": "markdown",
   "id": "c6568132",
   "metadata": {},
   "source": [
    "### 문제\n",
    "요세푸스 문제는 다음과 같다.\n",
    "\n",
    "1번부터 N번까지 N명의 사람이 원을 이루면서 앉아있고, 양의 정수 K(≤ N)가 주어진다. 이제 순서대로 K번째 사람을 제거한다. 한 사람이 제거되면 남은 사람들로 이루어진 원을 따라 이 과정을 계속해 나간다. 이 과정은 N명의 사람이 모두 제거될 때까지 계속된다. 원에서 사람들이 제거되는 순서를 (N, K)-요세푸스 순열이라고 한다. 예를 들어 (7, 3)-요세푸스 순열은 <3, 6, 2, 7, 5, 1, 4>이다.\n",
    "\n",
    "N과 K가 주어지면 (N, K)-요세푸스 순열을 구하는 프로그램을 작성하시오.\n",
    "\n",
    "### 입력\n",
    "첫째 줄에 N과 K가 빈 칸을 사이에 두고 순서대로 주어진다. (1 ≤ K ≤ N ≤ 5,000)\n",
    "\n",
    "### 출력\n",
    "예제와 같이 요세푸스 순열을 출력한다."
   ]
  },
  {
   "cell_type": "markdown",
   "id": "cd2c915f",
   "metadata": {},
   "source": [
    "## 생각\n",
    "1. 1부터 N까지의 리스트를 만들고, while문 사용. 리스트의 크기가 0이면 break, for문으로 리스트를 돌아다니며 count += 1. count가 3이면 i번째 원소를 result에 append하고 for문이 끝날 때 result에 없는 원소들로 재구성."
   ]
  },
  {
   "cell_type": "code",
   "execution_count": 32,
   "id": "7661a2fb",
   "metadata": {},
   "outputs": [
    {
     "name": "stdout",
     "output_type": "stream",
     "text": [
      "7 3\n",
      "<3, 6, 2, 7, 5, 1, 4>\n"
     ]
    }
   ],
   "source": [
    "# 시간초과\n",
    "N, K = map(int, input().split())\n",
    "\n",
    "number = [i for i in range(1, N+1)]\n",
    "result = []\n",
    "count = 1\n",
    "while True:\n",
    "    if len(number) == 0:\n",
    "        break\n",
    "\n",
    "    for i in range(len(number)):\n",
    "        if count == K:\n",
    "            result.append(number[i])\n",
    "            count = 1\n",
    "            continue\n",
    "        count += 1\n",
    "    number = [i for i in number if i not in result]\n",
    "\n",
    "print('<', end='')\n",
    "print(*result, sep=', ', end='')\n",
    "print('>')"
   ]
  },
  {
   "cell_type": "markdown",
   "id": "387a35e1",
   "metadata": {},
   "source": [
    "N과 K가 5000까지 주어지므로 while문과 for문을 이용하여 O(N$^{2}$)의 시간복잡도는 시간초과가 발생하였다. 그러므로 O(N)의 시간복잡도를 사용하여 문제를 풀어나가야한다."
   ]
  },
  {
   "cell_type": "code",
   "execution_count": 31,
   "id": "ed0f508d",
   "metadata": {},
   "outputs": [
    {
     "name": "stdout",
     "output_type": "stream",
     "text": [
      "7 3\n",
      "<3, 6, 2, 7, 5, 1, 4>\n"
     ]
    }
   ],
   "source": [
    "N, K = map(int, input().split())\n",
    "\n",
    "number = [i for i in range(1, N+1)]\n",
    "count = 0\n",
    "string = '<'\n",
    "for _ in range(N-1):\n",
    "    count = (count + K - 1) % len(number)\n",
    "    string += str(number.pop(count)) + ', '\n",
    "    \n",
    "string += str(number[0]) + '>'\n",
    "print(string)"
   ]
  },
  {
   "cell_type": "markdown",
   "id": "7e30e7ff",
   "metadata": {},
   "source": [
    "여기서 키포인트는 `count = (count + K - 1) % len(number)`이다. k-1을 한 이유는 인덱스가 0부터 시작해서이고, 그 뒤에 리스트를 pop하므로 리스트의 크기가 점점 줄어들어 원하는 답을 얻을 수 있다."
   ]
  }
 ],
 "metadata": {
  "kernelspec": {
   "display_name": "Python 3 (ipykernel)",
   "language": "python",
   "name": "python3"
  },
  "language_info": {
   "codemirror_mode": {
    "name": "ipython",
    "version": 3
   },
   "file_extension": ".py",
   "mimetype": "text/x-python",
   "name": "python",
   "nbconvert_exporter": "python",
   "pygments_lexer": "ipython3",
   "version": "3.9.12"
  }
 },
 "nbformat": 4,
 "nbformat_minor": 5
}
