{
 "cells": [
  {
   "cell_type": "markdown",
   "id": "10a4fcc7",
   "metadata": {},
   "source": [
    "### 문제\n",
    "두 정수 A와 B를 입력받은 다음, A+B를 출력하는 프로그램을 작성하시오.\n",
    "\n",
    "### 입력\n",
    "첫째 줄에 A, 둘째 줄에 B가 주어진다.(0 $\\le$ A,B $\\le$ 10)\n",
    "\n",
    "### 출력\n",
    "첫째 줄에 A+B를 출력한다."
   ]
  },
  {
   "cell_type": "markdown",
   "id": "4fb0efa9",
   "metadata": {},
   "source": [
    "## 생각\n",
    "1. a,b를 따로 받아야 하므로 for문으로 a, b를 list에 추가 후 sum 출력"
   ]
  },
  {
   "cell_type": "code",
   "execution_count": 1,
   "id": "7e8302bd",
   "metadata": {},
   "outputs": [
    {
     "name": "stdout",
     "output_type": "stream",
     "text": [
      "1\n",
      "2\n",
      "3\n"
     ]
    }
   ],
   "source": [
    "# 맞았습니다.\n",
    "number_list = []\n",
    "\n",
    "for _ in range(2):\n",
    "    num = int(input())\n",
    "    number_list.append(num)\n",
    "    \n",
    "print(sum(number_list))"
   ]
  }
 ],
 "metadata": {
  "kernelspec": {
   "display_name": "Python 3 (ipykernel)",
   "language": "python",
   "name": "python3"
  },
  "language_info": {
   "codemirror_mode": {
    "name": "ipython",
    "version": 3
   },
   "file_extension": ".py",
   "mimetype": "text/x-python",
   "name": "python",
   "nbconvert_exporter": "python",
   "pygments_lexer": "ipython3",
   "version": "3.9.12"
  }
 },
 "nbformat": 4,
 "nbformat_minor": 5
}
