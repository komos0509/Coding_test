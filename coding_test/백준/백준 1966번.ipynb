{
 "cells": [
  {
   "cell_type": "markdown",
   "id": "3e3b2db7",
   "metadata": {},
   "source": [
    "### 문제\n",
    "여러분도 알다시피 여러분의 프린터 기기는 여러분이 인쇄하고자 하는 문서를 인쇄 명령을 받은 ‘순서대로’, 즉 먼저 요청된 것을 먼저 인쇄한다. 여러 개의 문서가 쌓인다면 Queue 자료구조에 쌓여서 FIFO - First In First Out - 에 따라 인쇄가 되게 된다. 하지만 상근이는 새로운 프린터기 내부 소프트웨어를 개발하였는데, 이 프린터기는 다음과 같은 조건에 따라 인쇄를 하게 된다.\n",
    "\n",
    "현재 Queue의 가장 앞에 있는 문서의 ‘중요도’를 확인한다.\n",
    "나머지 문서들 중 현재 문서보다 중요도가 높은 문서가 하나라도 있다면, 이 문서를 인쇄하지 않고 Queue의 가장 뒤에 재배치 한다. 그렇지 않다면 바로 인쇄를 한다.\n",
    "예를 들어 Queue에 4개의 문서(A B C D)가 있고, 중요도가 2 1 4 3 라면 C를 인쇄하고, 다음으로 D를 인쇄하고 A, B를 인쇄하게 된다.\n",
    "\n",
    "여러분이 할 일은, 현재 Queue에 있는 문서의 수와 중요도가 주어졌을 때, 어떤 한 문서가 몇 번째로 인쇄되는지 알아내는 것이다. 예를 들어 위의 예에서 C문서는 1번째로, A문서는 3번째로 인쇄되게 된다.\n",
    "\n",
    "### 입력\n",
    "첫 줄에 테스트케이스의 수가 주어진다. 각 테스트케이스는 두 줄로 이루어져 있다.\n",
    "\n",
    "테스트케이스의 첫 번째 줄에는 문서의 개수 N(1 ≤ N ≤ 100)과, 몇 번째로 인쇄되었는지 궁금한 문서가 현재 Queue에서 몇 번째에 놓여 있는지를 나타내는 정수 M(0 ≤ M < N)이 주어진다. 이때 맨 왼쪽은 0번째라고 하자. 두 번째 줄에는 N개 문서의 중요도가 차례대로 주어진다. 중요도는 1 이상 9 이하의 정수이고, 중요도가 같은 문서가 여러 개 있을 수도 있다.\n",
    "\n",
    "### 출력\n",
    "각 테스트 케이스에 대해 문서가 몇 번째로 인쇄되는지 출력한다."
   ]
  },
  {
   "cell_type": "markdown",
   "id": "64434669",
   "metadata": {},
   "source": [
    "## 생각\n",
    "1. 리스트를 enumerate하여 (value, index)로 해서 queue에 집어넣는다. queue의 최댓값을 따로 지정하여 queue.popleft()를 한 후, value == 최댓값이면 count += 1, 만약 index == b이면 멈춤. value가 최댓값이 아니면 queue.append((value, index)) 한다."
   ]
  },
  {
   "cell_type": "code",
   "execution_count": 18,
   "id": "8b8a4dc0",
   "metadata": {},
   "outputs": [
    {
     "name": "stdout",
     "output_type": "stream",
     "text": [
      "3\n",
      "1 0\n",
      "5\n",
      "4 2\n",
      "1 2 3 4\n",
      "6 0\n",
      "1 1 9 1 1 1\n",
      "1\n",
      "2\n",
      "5\n"
     ]
    }
   ],
   "source": [
    "# 맞았습니다.\n",
    "from collections import deque\n",
    "\n",
    "T = int(input())\n",
    "count_list = []\n",
    "for _ in range(T):\n",
    "    a, b = map(int, input().split())\n",
    "    document = list(map(int, input().split()))\n",
    "    queue = deque()\n",
    "    for index, value in enumerate(document):\n",
    "        queue.append((value, index))\n",
    "    \n",
    "    count = 0\n",
    "    while True:\n",
    "        max_document = max(queue, key=lambda x: x[0])[0]\n",
    "        value, index = queue.popleft()\n",
    "        if value == max_document:\n",
    "            count += 1\n",
    "            if index == b:\n",
    "                break\n",
    "        else:\n",
    "            queue.append((value, index))\n",
    "    count_list.append(count)\n",
    "    \n",
    "for count in count_list:\n",
    "    print(count)"
   ]
  },
  {
   "cell_type": "markdown",
   "id": "dcc28951",
   "metadata": {},
   "source": [
    "queue 자료구조를 이용해야할 경우 왠만하면 deque를 이용하는게 더 이득이기 때문에 queue 대신에 deque를 불러와 이용하면 된다."
   ]
  }
 ],
 "metadata": {
  "kernelspec": {
   "display_name": "Python 3 (ipykernel)",
   "language": "python",
   "name": "python3"
  },
  "language_info": {
   "codemirror_mode": {
    "name": "ipython",
    "version": 3
   },
   "file_extension": ".py",
   "mimetype": "text/x-python",
   "name": "python",
   "nbconvert_exporter": "python",
   "pygments_lexer": "ipython3",
   "version": "3.9.12"
  }
 },
 "nbformat": 4,
 "nbformat_minor": 5
}
