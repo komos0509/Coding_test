{
 "cells": [
  {
   "cell_type": "markdown",
   "id": "22c9f69d",
   "metadata": {},
   "source": [
    "### 문제\n",
    "항승이는 품질이 심각하게 나쁜 수도 파이프 회사의 수리공이다. 항승이는 세준 지하철 공사에서 물이 샌다는 소식을 듣고 수리를 하러 갔다. 파이프에서 물이 새는 곳은 신기하게도 가장 왼쪽에서 정수만큼 떨어진 거리만 물이 샌다. 항승이는 길이가 L인 테이프를 무한개 가지고 있다.\n",
    "항승이는 테이프를 이용해서 물을 막으려고 한다. 항승이는 항상 물을 막을 때, 적어도 그 위치의 좌우 0.5만큼 간격을 줘야 물이 다시는 안샌다고 생각한다. 물이 새는 곳의 위치와, 항승이가 가지고 있는 테이프의 길이 L이 주어졌을 때, 항승이가 필요한 테이프의 최소 개수를 구하는 프로그램을 작성하시오. 테이프를 자를 수 없고, 테이프를 겹쳐서 붙이는 것도 가능하다.\n",
    "\n",
    "### 입력\n",
    "첫째 줄에 물이 새는 곳의 개수 N과 테이프의 길이 L이 주어진다. 둘째 줄에는 물이 새는 곳의 위치가 주어진다. N과 L은 1,000보다 작거나 같은 자연수이고, 물이 새는 곳의 위치는 1,000보다 작거나 같은 자연이다.\n",
    "\n",
    "### 출력\n",
    "첫째 줄에 항승이가 필요한 테이프의 개수를 출력한다."
   ]
  },
  {
   "cell_type": "markdown",
   "id": "de18e09d",
   "metadata": {},
   "source": [
    "## 생각\n",
    "1. 물이 새는 곳을 리스트에 저장하고 원소들의 차이만큼의 테이프를 준비한다."
   ]
  },
  {
   "cell_type": "code",
   "execution_count": 3,
   "id": "9d9f2813",
   "metadata": {},
   "outputs": [
    {
     "name": "stdout",
     "output_type": "stream",
     "text": [
      "4 5\n",
      "1 4 5 9\n",
      "1\n"
     ]
    }
   ],
   "source": [
    "# 틀렸습니다.\n",
    "# 물이 새는 곳이 뒤죽박죽이면 거리를 제대로 못재서 오류\n",
    "N, L = map(int, input().split(' '))\n",
    "\n",
    "water_list = list(map(int, input().split(' ')))\n",
    "\n",
    "result = 0\n",
    "length = 1\n",
    "for i in range(N-1):\n",
    "    length += abs(water_list[i] - water_list[i+1])\n",
    "    if length > L:\n",
    "        result += 1\n",
    "        length = 1\n",
    "\n",
    "if length != 1:\n",
    "    result += 1\n",
    "print(result)"
   ]
  },
  {
   "cell_type": "markdown",
   "id": "2a24c5aa",
   "metadata": {},
   "source": [
    "## 생각 \n",
    "2. 물이 새는 곳을 정렬하고 시작점을 잡아 테이플 길이 만큼 확인하고, 만약 길이 보다 큰 곳에 물이 새면 +1 한다."
   ]
  },
  {
   "cell_type": "code",
   "execution_count": 2,
   "id": "3a068ccd",
   "metadata": {},
   "outputs": [
    {
     "name": "stdout",
     "output_type": "stream",
     "text": [
      "4 5\n",
      "1 4 5 9\n",
      "2\n"
     ]
    }
   ],
   "source": [
    "# 맞았습니다.\n",
    "N, L = map(int, input().split(' '))\n",
    "water_list = list(map(int, input().split(' ')))\n",
    "\n",
    "water_list.sort()\n",
    "\n",
    "start_point = water_list[0]\n",
    "result = 1\n",
    "\n",
    "for i in water_list[1:]:\n",
    "    if i in range(start_point, start_point + L):\n",
    "        continue\n",
    "    else:\n",
    "        start_point = i\n",
    "        result += 1\n",
    "        \n",
    "print(result)"
   ]
  }
 ],
 "metadata": {
  "kernelspec": {
   "display_name": "Python 3 (ipykernel)",
   "language": "python",
   "name": "python3"
  },
  "language_info": {
   "codemirror_mode": {
    "name": "ipython",
    "version": 3
   },
   "file_extension": ".py",
   "mimetype": "text/x-python",
   "name": "python",
   "nbconvert_exporter": "python",
   "pygments_lexer": "ipython3",
   "version": "3.9.12"
  }
 },
 "nbformat": 4,
 "nbformat_minor": 5
}
