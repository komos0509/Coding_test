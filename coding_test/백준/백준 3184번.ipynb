{
 "cells": [
  {
   "cell_type": "markdown",
   "id": "b53b2be5",
   "metadata": {},
   "source": [
    "### 문제\n",
    "미키의 뒷마당에는 특정 수의 양이 있다. 그가 푹 잠든 사이에 배고픈 늑대는 마당에 들어와 양을 공격했다.\n",
    "\n",
    "마당은 행과 열로 이루어진 직사각형 모양이다. 글자 '.' (점)은 빈 필드를 의미하며, 글자 '#'는 울타리를, 'o'는 양, 'v'는 늑대를 의미한다.\n",
    "\n",
    "한 칸에서 수평, 수직만으로 이동하며 울타리를 지나지 않고 다른 칸으로 이동할 수 있다면, 두 칸은 같은 영역 안에 속해 있다고 한다. 마당에서 \"탈출\"할 수 있는 칸은 어떤 영역에도 속하지 않는다고 간주한다.\n",
    "\n",
    "다행히 우리의 양은 늑대에게 싸움을 걸 수 있고 영역 안의 양의 수가 늑대의 수보다 많다면 이기고, 늑대를 우리에서 쫓아낸다. 그렇지 않다면 늑대가 그 지역 안의 모든 양을 먹는다.\n",
    "\n",
    "맨 처음 모든 양과 늑대는 마당 안 영역에 존재한다.\n",
    "\n",
    "아침이 도달했을 때 살아남은 양과 늑대의 수를 출력하는 프로그램을 작성하라.\n",
    "\n",
    "### 입력\n",
    "첫 줄에는 두 정수 R과 C가 주어지며(3 ≤ R, C ≤ 250), 각 수는 마당의 행과 열의 수를 의미한다.\n",
    "\n",
    "다음 R개의 줄은 C개의 글자를 가진다. 이들은 마당의 구조(울타리, 양, 늑대의 위치)를 의미한다.\n",
    "\n",
    "### 출력\n",
    "하나의 줄에 아침까지 살아있는 양과 늑대의 수를 의미하는 두 정수를 출력한다."
   ]
  },
  {
   "cell_type": "markdown",
   "id": "e4c9883f",
   "metadata": {},
   "source": [
    "## 생각\n",
    "1. 기존 DFS 알고리즘에서 늑대일때, 양일때 += 1하는 변수 2개 추가 후 return 양, 늑대 한다. 그 후 늑대가 더 많거나 같다면 늑대만, 아니면 양만 올리고 출력"
   ]
  },
  {
   "cell_type": "code",
   "execution_count": 7,
   "id": "c0fa99c4",
   "metadata": {},
   "outputs": [
    {
     "name": "stdout",
     "output_type": "stream",
     "text": [
      "6 6\n",
      "...#..\n",
      ".##v#.\n",
      "#v.#.#\n",
      "#.o#.#\n",
      ".###.#\n",
      "...###\n",
      "0 2\n"
     ]
    }
   ],
   "source": [
    "# 맞았습니다.\n",
    "import sys\n",
    "sys.setrecursionlimit(10**5)\n",
    "\n",
    "def dfs(x, y):\n",
    "    global wolf\n",
    "    global sheep\n",
    "    \n",
    "    visited[x][y] = 1\n",
    "    if graph[x][y] == 'v':\n",
    "        wolf += 1\n",
    "    if graph[x][y] == 'o':\n",
    "        sheep += 1\n",
    "    \n",
    "    for i in range(4):\n",
    "        nx = x + dx[i]\n",
    "        ny = y + dy[i]\n",
    "        if 0 <= nx < R and 0 <= ny < C and visited[nx][ny] == 0 and graph[nx][ny] != '#':\n",
    "            dfs(nx, ny)\n",
    "            \n",
    "    return sheep, wolf\n",
    "    \n",
    "R, C = map(int, input().split())\n",
    "\n",
    "graph = []\n",
    "for _ in range(R):\n",
    "    graph.append(list(map(str, input())))\n",
    "    \n",
    "visited = [[0] * C for _ in range(R)]\n",
    "\n",
    "dx = [0, 0, 1, -1]\n",
    "dy = [1, -1, 0, 0]\n",
    "\n",
    "all_wolf = 0\n",
    "all_sheep = 0\n",
    "for i in range(R):\n",
    "    for j in range(C):\n",
    "        if graph[i][j] != '#' and visited[i][j] == 0:\n",
    "            sheep = 0\n",
    "            wolf = 0\n",
    "            a, b = dfs(i, j)\n",
    "            if b >= a:\n",
    "                all_wolf += b\n",
    "            else:\n",
    "                all_sheep += a\n",
    "\n",
    "print(all_sheep, all_wolf)"
   ]
  },
  {
   "cell_type": "code",
   "execution_count": 10,
   "id": "0351137b",
   "metadata": {},
   "outputs": [
    {
     "name": "stdout",
     "output_type": "stream",
     "text": [
      "6 6\n",
      "...#..\n",
      ".##v#.\n",
      "#v.#.#\n",
      "#.o#.#\n",
      ".###.#\n",
      "...###\n",
      "0 2\n"
     ]
    }
   ],
   "source": [
    "from collections import deque\n",
    "\n",
    "def bfs(x, y):\n",
    "    wolf = 0\n",
    "    sheep = 0\n",
    "    visited[x][y] = 1\n",
    "    queue = deque()\n",
    "    queue.append((x, y))\n",
    "    while queue:\n",
    "        a, b = queue.popleft()\n",
    "        \n",
    "        if graph[a][b] == 'v':\n",
    "            wolf += 1\n",
    "        elif graph[a][b] == 'o':\n",
    "            sheep += 1\n",
    "        \n",
    "        for i in range(4):\n",
    "            nx = a + dx[i]\n",
    "            ny = b + dy[i]\n",
    "            if 0 <= nx < R and 0 <= ny < C and graph[nx][ny] != '#' and visited[nx][ny] == 0:\n",
    "                queue.append((nx, ny))\n",
    "                visited[nx][ny] = 1\n",
    "                \n",
    "    return sheep, wolf\n",
    "\n",
    "R, C = map(int, input().split())\n",
    "\n",
    "graph = []\n",
    "for _ in range(R):\n",
    "    graph.append(list(map(str, input())))\n",
    "    \n",
    "visited = [[0] * C for _ in range(R)]\n",
    "\n",
    "dx = [0, 0, 1, -1]\n",
    "dy = [1, -1, 0, 0]\n",
    "\n",
    "all_sheep = 0\n",
    "all_wolf = 0\n",
    "for i in range(R):\n",
    "    for j in range(C):\n",
    "        if graph[i][j] != '#' and visited[i][j] == 0:\n",
    "            sheep, wolf =  bfs(i, j)\n",
    "            if wolf >= sheep:\n",
    "                all_wolf += wolf\n",
    "            else:\n",
    "                all_sheep += sheep\n",
    "                \n",
    "print(all_sheep, all_wolf)"
   ]
  },
  {
   "cell_type": "markdown",
   "id": "97d73fb5",
   "metadata": {},
   "source": [
    "BFS 알고리즘으로 풀었을 때의 코드이다."
   ]
  }
 ],
 "metadata": {
  "kernelspec": {
   "display_name": "Python 3 (ipykernel)",
   "language": "python",
   "name": "python3"
  },
  "language_info": {
   "codemirror_mode": {
    "name": "ipython",
    "version": 3
   },
   "file_extension": ".py",
   "mimetype": "text/x-python",
   "name": "python",
   "nbconvert_exporter": "python",
   "pygments_lexer": "ipython3",
   "version": "3.9.12"
  }
 },
 "nbformat": 4,
 "nbformat_minor": 5
}
