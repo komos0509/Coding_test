{
 "cells": [
  {
   "cell_type": "markdown",
   "id": "b741b70e",
   "metadata": {},
   "source": [
    "### 문제\n",
    "자연수 $N$과 정수 $K$가 주어졌을 때 이항 계수 $N \\choose K$를 구하는 프로그램을 작성하시오.\n",
    "\n",
    "### 입력\n",
    "첫째 줄에 $N$과 $K$가 주어진다. (1 $\\le$ $N$ $\\le$ 10, 0 $\\le$ $K$ $\\le$ $N$)\n",
    "\n",
    "### 출력\n",
    "$N \\choose K$를 출력한다."
   ]
  },
  {
   "cell_type": "markdown",
   "id": "73f06fd3",
   "metadata": {},
   "source": [
    "## 생각\n",
    "1. 팩토리얼 함수를 미리 정의하고 식대로 풀기\n",
    "- 식 : $N \\choose K$ = $\\frac{N!}{K!(N-K)!}$"
   ]
  },
  {
   "cell_type": "code",
   "execution_count": 3,
   "id": "dece3fa8",
   "metadata": {},
   "outputs": [
    {
     "name": "stdout",
     "output_type": "stream",
     "text": [
      "5 5\n",
      "1\n"
     ]
    }
   ],
   "source": [
    "# 맞았습니다.\n",
    "def factorial(a):\n",
    "    if a == 1 or a == 0:\n",
    "        return 1\n",
    "    return a * factorial(a-1)\n",
    "\n",
    "a, b = map(int, input().split())\n",
    "numerator = factorial(a)\n",
    "denominator = factorial(b) * factorial(a-b)\n",
    "print(int(numerator / denominator))"
   ]
  },
  {
   "cell_type": "markdown",
   "id": "e2a45f77",
   "metadata": {},
   "source": [
    "주의할 점은 식에서 (N-K)! 에서 N과 K가 같아질 수 있어서 factorical 함수에 0일 때, 1을 return 한다는 코드를 넣어야 한다."
   ]
  }
 ],
 "metadata": {
  "kernelspec": {
   "display_name": "Python 3 (ipykernel)",
   "language": "python",
   "name": "python3"
  },
  "language_info": {
   "codemirror_mode": {
    "name": "ipython",
    "version": 3
   },
   "file_extension": ".py",
   "mimetype": "text/x-python",
   "name": "python",
   "nbconvert_exporter": "python",
   "pygments_lexer": "ipython3",
   "version": "3.9.12"
  }
 },
 "nbformat": 4,
 "nbformat_minor": 5
}
