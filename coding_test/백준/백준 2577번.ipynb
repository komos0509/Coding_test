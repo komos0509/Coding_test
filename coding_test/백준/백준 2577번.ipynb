{
 "cells": [
  {
   "cell_type": "markdown",
   "id": "85c72555",
   "metadata": {},
   "source": [
    "## 문제\n",
    "세 개의 자연수 A, B, C가 주어질 때 A × B × C를 계산한 결과에 0부터 9까지 각각의 숫자가 몇 번씩 쓰였는지를 구하는 프로그램을 작성하시오.\n",
    "\n",
    "예를 들어 A = 150, B = 266, C = 427 이라면 A × B × C = 150 × 266 × 427 = 17037300 이 되고, 계산한 결과 17037300 에는 0이 3번, 1이 1번, 3이 2번, 7이 2번 쓰였다.\n",
    "\n",
    "## 아이디어\n",
    "각 자리 숫자를 알기위해 각 자리를 10의 제곱의 몫을 이용하여 각자리 숫자를 알아보자."
   ]
  },
  {
   "cell_type": "code",
   "execution_count": 19,
   "id": "b26c5f94",
   "metadata": {},
   "outputs": [
    {
     "name": "stdout",
     "output_type": "stream",
     "text": [
      "150\n",
      "266\n",
      "427\n",
      "3\n",
      "1\n",
      "0\n",
      "2\n",
      "0\n",
      "0\n",
      "0\n",
      "2\n",
      "0\n",
      "0\n"
     ]
    }
   ],
   "source": [
    "a = int(input())\n",
    "b = int(input())\n",
    "c = int(input())\n",
    "\n",
    "l = []\n",
    "n = a*b*c\n",
    "for i in range(len(str(n))-1, 0, -1):\n",
    "    l.append(n // (10 ** i))              # n // (10 ** i)을 이용하여 각 자리 숫자를 알아낸다.\n",
    "    n -= n // (10 ** i) * (10 ** i)       # 다음 자리 수를 알기위해 이전 자리 수를 빼준다. \n",
    "l.append(n)\n",
    "for i in range(10):\n",
    "    count = 0\n",
    "    for j in l:\n",
    "        if i == j:\n",
    "            count += 1\n",
    "    print(count)"
   ]
  }
 ],
 "metadata": {
  "kernelspec": {
   "display_name": "Python 3 (ipykernel)",
   "language": "python",
   "name": "python3"
  },
  "language_info": {
   "codemirror_mode": {
    "name": "ipython",
    "version": 3
   },
   "file_extension": ".py",
   "mimetype": "text/x-python",
   "name": "python",
   "nbconvert_exporter": "python",
   "pygments_lexer": "ipython3",
   "version": "3.9.12"
  }
 },
 "nbformat": 4,
 "nbformat_minor": 5
}
