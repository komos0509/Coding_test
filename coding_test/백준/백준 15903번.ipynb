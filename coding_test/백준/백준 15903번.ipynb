{
 "cells": [
  {
   "cell_type": "markdown",
   "id": "59b921de",
   "metadata": {},
   "source": [
    "### 문제\n",
    "석환이는 아기다. 아기 석환이는 자연수가 쓰여져있는 카드를 갖고 다양한 놀이를 하며 노는 것을 좋아한다. 오늘 아기 석환이는 무슨 놀이를 하고 있을까? 바로 카드 합체 놀이이다!  \n",
    "\n",
    "아기 석환이는 자연수가 쓰여진 카드를 n장 갖고 있다. 처음에 i번 카드엔 a$_{i}$가 쓰여있다. 카드 합체 놀이는 이 카드들을 합체하며 노는 놀이이다. 카드 합체는 다음과 같은 과정으로 이루어진다.\n",
    "1. x번 카드와 y번 카드를 골라 그 두 장에 쓰여진 수를 더한 값을 계산한다. (x $\\ne$ y)\n",
    "2. 계산한 값을 x번 카드와 y번 카드 두 장 모두에 덮어 쓴다.\n",
    "\n",
    "이 카드 합체를 총 m번 하면 놀이가 끝난다. m번의 합체를 모두 끝낸 뒤, n장의 카드에 쓰여있는 수를 모두 더한 값이 이 놀이의 점수가 된다. 이 점수를 가장 작게 만드는 것이 놀이의 목표이다.\n",
    "\n",
    "아기 석환이는 수학을 좋아하긴 하지만, 아직 아기이기 때문에 점수를 얼마나 작게 만들 수 있는지는 알 수는 없었다(어른 석환이는 당연히 쉽게 알 수 있다). 그래서 문제 해결 능력이 뛰어난 여러분에게 도움을 요청했다. 만들 수 있는 가장 작은 점수를 계산하는 프로그램을 만들어보자.\n",
    "\n",
    "### 입력\n",
    "첫 번째 줄에 카드의 개수를 나타내는 수 n(2 $\\le$ n $\\le$ 1,000)과 카드 합체를 몇 번 하는지를 나타내는 수 m(0 $\\le$ m $\\le$ 15xn)이 주어진다.  \n",
    "두 번째 줄에 맨 처음 카드의 상태를 나타내는 n개의 자연수 a$_{1}$, a$_{2}$, ..., a$_{n}$이 공백으로 구분되어 주어진다.(1 $\\le$ a$_{i}$ $\\le$ 1,000,000)\n",
    "\n",
    "### 출력\n",
    "첫 번째 줄에 만들 수 있는 가장 작은 점수를 출력한다."
   ]
  },
  {
   "cell_type": "markdown",
   "id": "87a0c956",
   "metadata": {},
   "source": [
    "## 생각\n",
    "1. list를 sort하고 for문을 이용하여 m번 동안 i번째 i+1번째 원소를 더한 후 덮어쓰고 마지막에 모든 원소를 sum한다."
   ]
  },
  {
   "cell_type": "code",
   "execution_count": 7,
   "id": "19add6a4",
   "metadata": {},
   "outputs": [
    {
     "name": "stdout",
     "output_type": "stream",
     "text": [
      "3 4\n",
      "1000 1000 1000\n"
     ]
    },
    {
     "ename": "IndexError",
     "evalue": "list index out of range",
     "output_type": "error",
     "traceback": [
      "\u001b[1;31m---------------------------------------------------------------------------\u001b[0m",
      "\u001b[1;31mIndexError\u001b[0m                                Traceback (most recent call last)",
      "Input \u001b[1;32mIn [7]\u001b[0m, in \u001b[0;36m<cell line: 6>\u001b[1;34m()\u001b[0m\n\u001b[0;32m      7\u001b[0m \u001b[38;5;28;01mif\u001b[39;00m m \u001b[38;5;241m>\u001b[39m \u001b[38;5;241m0\u001b[39m:\n\u001b[0;32m      8\u001b[0m     num_sum \u001b[38;5;241m=\u001b[39m \u001b[38;5;241m0\u001b[39m\n\u001b[1;32m----> 9\u001b[0m     num_sum \u001b[38;5;241m=\u001b[39m score_list[i] \u001b[38;5;241m+\u001b[39m \u001b[43mscore_list\u001b[49m\u001b[43m[\u001b[49m\u001b[43mi\u001b[49m\u001b[38;5;241;43m+\u001b[39;49m\u001b[38;5;241;43m1\u001b[39;49m\u001b[43m]\u001b[49m\n\u001b[0;32m     10\u001b[0m     score_list[i] \u001b[38;5;241m=\u001b[39m num_sum\n\u001b[0;32m     11\u001b[0m     score_list[i\u001b[38;5;241m+\u001b[39m\u001b[38;5;241m1\u001b[39m] \u001b[38;5;241m=\u001b[39m num_sum\n",
      "\u001b[1;31mIndexError\u001b[0m: list index out of range"
     ]
    }
   ],
   "source": [
    "# 틀렸습니다. \n",
    "# m이 리스트 원소 보다 많다는 생각을 하지 못함, while문을 사용하고 계속 sort를 하며 첫 번째와 두 번재 원소만 더하기\n",
    "n, m = map(int, input().split(' '))\n",
    "score_list = list(map(int, input().split(' ')))\n",
    "\n",
    "score_list.sort()\n",
    "\n",
    "for i in range(len(score_list)):\n",
    "    if m > 0:\n",
    "        num_sum = 0\n",
    "        num_sum = score_list[i] + score_list[i+1]\n",
    "        score_list[i] = num_sum\n",
    "        score_list[i+1] = num_sum\n",
    "        m -= 1\n",
    "    else:\n",
    "        break\n",
    "    \n",
    "print(sum(score_list))"
   ]
  },
  {
   "cell_type": "code",
   "execution_count": 8,
   "id": "518309fd",
   "metadata": {},
   "outputs": [
    {
     "name": "stdout",
     "output_type": "stream",
     "text": [
      "3 4\n",
      "1000 1000 1000\n",
      "21000\n"
     ]
    }
   ],
   "source": [
    "# 맞았습니다.\n",
    "n, m = map(int, input().split(' '))\n",
    "score_list = list(map(int, input().split(' ')))\n",
    "\n",
    "while m > 0:\n",
    "    score_list.sort()\n",
    "    num_sum = 0\n",
    "    num_sum = score_list[0] + score_list[1]\n",
    "    score_list[0] = num_sum\n",
    "    score_list[1] = num_sum\n",
    "    m -= 1\n",
    "    \n",
    "print(sum(score_list))"
   ]
  }
 ],
 "metadata": {
  "kernelspec": {
   "display_name": "Python 3 (ipykernel)",
   "language": "python",
   "name": "python3"
  },
  "language_info": {
   "codemirror_mode": {
    "name": "ipython",
    "version": 3
   },
   "file_extension": ".py",
   "mimetype": "text/x-python",
   "name": "python",
   "nbconvert_exporter": "python",
   "pygments_lexer": "ipython3",
   "version": "3.9.12"
  }
 },
 "nbformat": 4,
 "nbformat_minor": 5
}
