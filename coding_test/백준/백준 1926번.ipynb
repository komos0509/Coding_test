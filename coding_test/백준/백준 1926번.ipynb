{
 "cells": [
  {
   "cell_type": "markdown",
   "id": "679f6adc",
   "metadata": {},
   "source": [
    "### 문제\n",
    "어떤 큰 도화지에 그림이 그려져 있을 때, 그 그림의 개수와, 그 그림 중 넓이가 가장 넓은 것의 넓이를 출력하여라. 단, 그림이라는 것은 1로 연결된 것을 한 그림이라고 정의하자. 가로나 세로로 연결된 것은 연결이 된 것이고 대각선으로 연결이 된 것은 떨어진 그림이다. 그림의 넓이란 그림에 포함된 1의 개수이다.\n",
    "\n",
    "### 입력\n",
    "첫째 줄에 도화지의 세로 크기 n(1 ≤ n ≤ 500)과 가로 크기 m(1 ≤ m ≤ 500)이 차례로 주어진다. 두 번째 줄부터 n+1 줄 까지 그림의 정보가 주어진다. (단 그림의 정보는 0과 1이 공백을 두고 주어지며, 0은 색칠이 안된 부분, 1은 색칠이 된 부분을 의미한다)\n",
    "\n",
    "### 출력\n",
    "첫째 줄에는 그림의 개수, 둘째 줄에는 그 중 가장 넓은 그림의 넓이를 출력하여라. 단, 그림이 하나도 없는 경우에는 가장 넓은 그림의 넓이는 0이다."
   ]
  },
  {
   "cell_type": "markdown",
   "id": "9bf14bd7",
   "metadata": {},
   "source": [
    "## 생각\n",
    "1. 상, 하, 좌, 우로 dfs함수를 불러온다. 그림의 크기는 visited으로 해결."
   ]
  },
  {
   "cell_type": "code",
   "execution_count": 28,
   "id": "c79578df",
   "metadata": {},
   "outputs": [
    {
     "name": "stdout",
     "output_type": "stream",
     "text": [
      "4 5\n",
      "1 1 1 0 1\n",
      "1 0 1 0 1\n",
      "1 0 1 0 1\n",
      "1 0 1 1 1\n",
      "1\n",
      "11\n"
     ]
    }
   ],
   "source": [
    "# 틀렸습니다.\n",
    "def dfs(x, y):\n",
    "    if 0 <= x < n and 0 <= y < m:\n",
    "        visited[x][y] += 1\n",
    "        for i in range(4):\n",
    "            nx = x + dx[i]\n",
    "            ny = y + dy[i]\n",
    "            if 0 <= nx < n and 0 <= ny < m and graph[nx][ny] == 1 and visited[nx][ny] == 0:\n",
    "                visited[nx][ny] = visited[x][y]\n",
    "                dfs(nx, ny)\n",
    "n, m = map(int, input().split())\n",
    "graph = []\n",
    "for _ in range(n):\n",
    "    graph.append(list(map(int, input().split())))\n",
    "\n",
    "visited = [[0] * m for _ in range(n)]\n",
    "\n",
    "dx = [0, 0, 1, -1]\n",
    "dy = [1, -1, 0, 0]\n",
    "\n",
    "count = 0\n",
    "for i in range(n):\n",
    "    for j in range(m):\n",
    "        if graph[i][j] == 1 and visited[i][j] == 0:\n",
    "            dfs(i, j)\n",
    "            count += 1\n",
    "            \n",
    "print(count)\n",
    "print(max(map(max, visited)))"
   ]
  },
  {
   "cell_type": "markdown",
   "id": "f74f01ab",
   "metadata": {},
   "source": [
    "시작을 (0, 0)부터 시작하므로 위와 같은 모습의 graph를 실행하면 (0, 0)을 기준으로 오른쪽으로 해서 11까지 간다음에 (2, 1)이 되면 다시 2가 되어 오답이 발생했다.\n",
    "\n",
    "그래서 cnt라는 새로운 변수를 만들어 함수를 다시 호출할 때, cnt += 1을 하여 개수를 계산한다."
   ]
  },
  {
   "cell_type": "code",
   "execution_count": 29,
   "id": "a9811249",
   "metadata": {},
   "outputs": [
    {
     "name": "stdout",
     "output_type": "stream",
     "text": [
      "4 5\n",
      "1 1 1 0 1\n",
      "1 0 1 0 1\n",
      "1 0 1 0 1\n",
      "1 0 1 1 1\n",
      "1\n",
      "14\n"
     ]
    }
   ],
   "source": [
    "# 런타임에러(RecursionError)\n",
    "def dfs(x, y):\n",
    "    global cnt\n",
    "    visited[x][y] = cnt\n",
    "    for i in range(4):\n",
    "        nx = x + dx[i]\n",
    "        ny = y + dy[i]\n",
    "        if 0 <= nx < n and 0 <= ny < m and graph[nx][ny] == 1 and visited[nx][ny] == 0:\n",
    "            cnt += 1\n",
    "            dfs(nx, ny)\n",
    "n, m = map(int, input().split())\n",
    "graph = []\n",
    "for _ in range(n):\n",
    "    graph.append(list(map(int, input().split())))\n",
    "\n",
    "visited = [[0] * m for _ in range(n)]\n",
    "\n",
    "dx = [0, 0, 1, -1]\n",
    "dy = [1, -1, 0, 0]\n",
    "\n",
    "count = 0\n",
    "for i in range(n):\n",
    "    for j in range(m):\n",
    "        if graph[i][j] == 1 and visited[i][j] == 0:\n",
    "            # 여기에 cnt를 초기화해야 1이 떨어져 있으면 다시 초기화가 된다.\n",
    "            cnt = 1\n",
    "            dfs(i, j)\n",
    "            count += 1\n",
    "            \n",
    "print(count)\n",
    "print(max(map(max, visited)))"
   ]
  },
  {
   "cell_type": "markdown",
   "id": "8da99231",
   "metadata": {},
   "source": [
    "아무래도 n과 m이 500까지 가능해서 최대로 깊이를 높이면 500 * 500 = 250000이다. 하지만 백준은 최대 깊이를 1000으로 설정했기 때문에 RecursionError가 발생한 것이다. 그래서 sys의 setrecursionlimit()을 이용하여 최대깊이를 설정할 수 있다."
   ]
  },
  {
   "cell_type": "code",
   "execution_count": 31,
   "id": "daffab7b",
   "metadata": {},
   "outputs": [
    {
     "name": "stdout",
     "output_type": "stream",
     "text": [
      "4 5\n",
      "1 1 1 0 1\n",
      "1 0 1 0 1\n",
      "1 0 1 0 1\n",
      "1 0 1 1 1\n",
      "1\n",
      "14\n"
     ]
    }
   ],
   "source": [
    "# 맞았습니다.\n",
    "import sys\n",
    "# 최대 깊이 설정\n",
    "sys.setrecursionlimit(10**6)\n",
    "\n",
    "def dfs(x, y):\n",
    "    # 크기를 세기 위한 cnt\n",
    "    global cnt\n",
    "    visited[x][y] = cnt\n",
    "    for i in range(4):\n",
    "        nx = x + dx[i]\n",
    "        ny = y + dy[i]\n",
    "        if 0 <= nx < n and 0 <= ny < m and graph[nx][ny] == 1 and visited[nx][ny] == 0:\n",
    "            cnt += 1\n",
    "            dfs(nx, ny)\n",
    "            \n",
    "n, m = map(int, input().split())\n",
    "graph = []\n",
    "for _ in range(n):\n",
    "    graph.append(list(map(int, input().split())))\n",
    "\n",
    "visited = [[0] * m for _ in range(n)]\n",
    "\n",
    "dx = [0, 0, 1, -1]\n",
    "dy = [1, -1, 0, 0]\n",
    "\n",
    "count = 0\n",
    "for i in range(n):\n",
    "    for j in range(m):\n",
    "        if graph[i][j] == 1 and visited[i][j] == 0:\n",
    "            cnt = 1\n",
    "            dfs(i, j)\n",
    "            count += 1\n",
    "            \n",
    "print(count)\n",
    "print(max(map(max, visited)))"
   ]
  },
  {
   "cell_type": "markdown",
   "id": "72fa46bf",
   "metadata": {},
   "source": [
    "최대 깊이를 10$^{6}$으로 설정하여 정답처리가 되었다."
   ]
  },
  {
   "cell_type": "code",
   "execution_count": 49,
   "id": "e7757e7b",
   "metadata": {},
   "outputs": [
    {
     "name": "stdout",
     "output_type": "stream",
     "text": [
      "4 5\n",
      "1 1 1 0 1\n",
      "1 0 1 0 1\n",
      "1 0 1 0 1\n",
      "1 0 1 1 1\n",
      "1\n",
      "14\n"
     ]
    }
   ],
   "source": [
    "from collections import deque\n",
    "\n",
    "def bfs(x, y):\n",
    "    cnt = 1\n",
    "    queue = deque()\n",
    "    queue.append((x, y))\n",
    "    visited[x][y] = cnt\n",
    "    while queue:\n",
    "        x, y = queue.popleft()\n",
    "        for i in range(4):\n",
    "            nx = x + dx[i]\n",
    "            ny = y + dy[i]\n",
    "            if 0 <= nx < n and 0 <= ny < m and visited[nx][ny] == 0 and graph[nx][ny] == 1:\n",
    "                cnt += 1\n",
    "                visited[nx][ny] = cnt\n",
    "                queue.append((nx, ny))\n",
    "                \n",
    "n, m = map(int, input().split())\n",
    "\n",
    "graph = []\n",
    "for _ in range(n):\n",
    "    graph.append(list(map(int, input().split())))\n",
    "    \n",
    "visited = [[0] * m for _ in range(n)]\n",
    "\n",
    "dx = [0, 0, 1, -1]\n",
    "dy = [1, -1, 0, 0]\n",
    "\n",
    "count = 0\n",
    "for i in range(n):\n",
    "    for j in range(m):\n",
    "        if graph[i][j] == 1 and visited[i][j] == 0:\n",
    "            count += 1\n",
    "            bfs(i, j)\n",
    "\n",
    "print(count)\n",
    "print(max(map(max, visited)))"
   ]
  },
  {
   "cell_type": "markdown",
   "id": "e471fa16",
   "metadata": {},
   "source": [
    "BFS 알고리즘을 이용하여 코딩한다면 위 코드와 같다."
   ]
  }
 ],
 "metadata": {
  "kernelspec": {
   "display_name": "Python 3 (ipykernel)",
   "language": "python",
   "name": "python3"
  },
  "language_info": {
   "codemirror_mode": {
    "name": "ipython",
    "version": 3
   },
   "file_extension": ".py",
   "mimetype": "text/x-python",
   "name": "python",
   "nbconvert_exporter": "python",
   "pygments_lexer": "ipython3",
   "version": "3.9.12"
  }
 },
 "nbformat": 4,
 "nbformat_minor": 5
}
