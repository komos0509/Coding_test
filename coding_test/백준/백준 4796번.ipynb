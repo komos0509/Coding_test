{
 "cells": [
  {
   "cell_type": "markdown",
   "id": "e694f029",
   "metadata": {},
   "source": [
    "### 문제\n",
    "등산가 김강산은 가족들과 함께 캠핑을 떠났다. 하지만, 캠핑장에는 다음과 같은 경고문이 쓰여 있었다.\n",
    "캠핑장은 연속하는 20일 중 10일동안만 사용할 수 있습니다.\n",
    "경산이는 이제 막 28일 휴가를 시작했다. 이번 휴가 기간 동안 강산이는 캠핑장을 며칠동안 사용할 수 있을까?\n",
    "강산이는 조금 더 일반화해서 문제를 풀려고 한다.\n",
    "캠핑장을 연속하는 P일 중, L일 동안만 사용할 수 있다. 강산이는 이제 막 V일짜리 휴가를 시작했다. 강산이가 캠핑장을 최대 며칠동안 사용할 수 있을까? (1$\\lt$L$\\lt$P$\\lt$V)\n",
    "\n",
    "### 입력\n",
    "입력은 여러 개의 테스트 케이스로 이루어져 있다. 각 테스트 케이스는 한 줄로 이루어져 있고, L, P, V를 순서대로 포함하고 있다. 모든 입력 정수는 int범위이다. 마지막 줄에는 0이 3개 주어진다.\n",
    "\n",
    "### 출력\n",
    "각 테스트 케이스에 대해서, 강산이가 캠핑장을 최대 며칠동안 사용할 수 있는지 출력한다."
   ]
  },
  {
   "cell_type": "markdown",
   "id": "1348b643",
   "metadata": {},
   "source": [
    "## 생각\n",
    "1. V를 P로 나눈 몫 * L + 나머지"
   ]
  },
  {
   "cell_type": "code",
   "execution_count": 13,
   "id": "62939544",
   "metadata": {},
   "outputs": [
    {
     "name": "stdout",
     "output_type": "stream",
     "text": [
      "1 20 29\n",
      "0 0 0\n",
      "Case 1: 10\n"
     ]
    }
   ],
   "source": [
    "# 틀렸습니다. 반례 (1, 20, 29) output : 10, true : 2\n",
    "result_list = []\n",
    "while True:\n",
    "    a, b, c = map(int, input().split(' '))\n",
    "    if 0 in (a, b, c):\n",
    "        break\n",
    "    result = ((c // b) * a) + (c % b)\n",
    "    result_list.append(result)\n",
    "\n",
    "for i in range(len(result_list)):\n",
    "    print(f'Case {i+1}: {result_list[i]}')"
   ]
  },
  {
   "cell_type": "markdown",
   "id": "225c29d2",
   "metadata": {},
   "source": [
    "- 나머지가 a보다 큰 경우, 나머지를 더하는 대신 a를 더하는걸로 수정"
   ]
  },
  {
   "cell_type": "code",
   "execution_count": 14,
   "id": "efb54d80",
   "metadata": {},
   "outputs": [
    {
     "name": "stdout",
     "output_type": "stream",
     "text": [
      "1 20 29\n",
      "0 0 0\n",
      "Case 1: 2\n"
     ]
    }
   ],
   "source": [
    "# 맞았습니다.\n",
    "result_list = []\n",
    "while True:\n",
    "    a, b, c = map(int, input().split(' '))\n",
    "    if 0 in (a, b, c):\n",
    "        break\n",
    "    if a >= (c % b):\n",
    "        result = (c // b) * a + (c % b)\n",
    "        result_list.append(result)\n",
    "    else:\n",
    "        result = (c // b) * a + a\n",
    "        result_list.append(result)\n",
    "\n",
    "for i in range(len(result_list)):\n",
    "    print(f'Case {i+1}: {result_list[i]}')"
   ]
  }
 ],
 "metadata": {
  "kernelspec": {
   "display_name": "Python 3 (ipykernel)",
   "language": "python",
   "name": "python3"
  },
  "language_info": {
   "codemirror_mode": {
    "name": "ipython",
    "version": 3
   },
   "file_extension": ".py",
   "mimetype": "text/x-python",
   "name": "python",
   "nbconvert_exporter": "python",
   "pygments_lexer": "ipython3",
   "version": "3.9.12"
  }
 },
 "nbformat": 4,
 "nbformat_minor": 5
}
